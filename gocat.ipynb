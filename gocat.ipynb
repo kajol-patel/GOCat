{
 "cells": [
  {
   "cell_type": "code",
   "execution_count": 27,
   "metadata": {},
   "outputs": [],
   "source": [
    "import pandas as pd\n",
    "import os\n",
    "from typing import List\n",
    "from sklearn.feature_extraction.text import CountVectorizer\n",
    "from sklearn.feature_extraction.text import TfidfVectorizer\n",
    "from sklearn.preprocessing import StandardScaler\n",
    "from sklearn.model_selection import train_test_split, GridSearchCV\n",
    "from sklearn.neighbors import KNeighborsClassifier\n",
    "from sklearn.metrics import classification_report\n",
    "from sklearn.metrics import accuracy_score\n",
    "from sklearn.metrics import confusion_matrix\n",
    "import matplotlib.pyplot as plt\n",
    "from sklearn.svm import SVC\n",
    "from sklearn.metrics import classification_report, confusion_matrix"
   ]
  },
  {
   "cell_type": "code",
   "execution_count": 3,
   "metadata": {},
   "outputs": [],
   "source": [
    "go_file = \"/Users/kajolpatel/Desktop/Individual_Project/poc/go-basic.obo\""
   ]
  },
  {
   "cell_type": "markdown",
   "metadata": {},
   "source": [
    "### Parse the Dataset"
   ]
  },
  {
   "cell_type": "code",
   "execution_count": 5,
   "metadata": {},
   "outputs": [],
   "source": [
    "def parse_obo_file(file_path):\n",
    "    \n",
    "    data = []\n",
    "    current_term = {}\n",
    "    in_term_block = False\n",
    "    \n",
    "    with open(file_path, 'r') as file:\n",
    "        for line in file:\n",
    "            line = line.strip()\n",
    "            if line == '[Term]':  #starting a new term block\n",
    "                if current_term:\n",
    "                    data.append(current_term)\n",
    "                current_term = {}\n",
    "                in_term_block = True\n",
    "            elif line == '':\n",
    "                in_term_block = False  #end of a term block\n",
    "            elif in_term_block:\n",
    "                if ': ' in line:\n",
    "                    key, value = line.split(': ', 1)\n",
    "                    if key in current_term:  #handling multiple lines of the same key\n",
    "                        if isinstance(current_term[key], list):\n",
    "                            current_term[key].append(value)\n",
    "                        else:\n",
    "                            current_term[key] = [current_term[key], value]\n",
    "                    else:\n",
    "                        current_term[key] = value\n",
    "\n",
    "    \n",
    "    if current_term: #add the last term if file does not end with a newline\n",
    "        data.append(current_term)\n",
    "\n",
    "    return pd.DataFrame(data)\n",
    "\n",
    "df = parse_obo_file(go_file)\n"
   ]
  },
  {
   "cell_type": "code",
   "execution_count": 6,
   "metadata": {},
   "outputs": [],
   "source": [
    "#ypdating 'def' column to 'definition'\n",
    "df = df.rename(columns={'def': 'definition'}) "
   ]
  },
  {
   "cell_type": "code",
   "execution_count": 7,
   "metadata": {},
   "outputs": [
    {
     "data": {
      "text/html": [
       "<div>\n",
       "<style scoped>\n",
       "    .dataframe tbody tr th:only-of-type {\n",
       "        vertical-align: middle;\n",
       "    }\n",
       "\n",
       "    .dataframe tbody tr th {\n",
       "        vertical-align: top;\n",
       "    }\n",
       "\n",
       "    .dataframe thead th {\n",
       "        text-align: right;\n",
       "    }\n",
       "</style>\n",
       "<table border=\"1\" class=\"dataframe\">\n",
       "  <thead>\n",
       "    <tr style=\"text-align: right;\">\n",
       "      <th></th>\n",
       "      <th>id</th>\n",
       "      <th>name</th>\n",
       "      <th>namespace</th>\n",
       "      <th>definition</th>\n",
       "      <th>synonym</th>\n",
       "      <th>is_a</th>\n",
       "      <th>alt_id</th>\n",
       "      <th>comment</th>\n",
       "      <th>is_obsolete</th>\n",
       "      <th>replaced_by</th>\n",
       "      <th>consider</th>\n",
       "      <th>xref</th>\n",
       "      <th>subset</th>\n",
       "      <th>relationship</th>\n",
       "    </tr>\n",
       "  </thead>\n",
       "  <tbody>\n",
       "    <tr>\n",
       "      <th>0</th>\n",
       "      <td>GO:0000001</td>\n",
       "      <td>mitochondrion inheritance</td>\n",
       "      <td>biological_process</td>\n",
       "      <td>\"The distribution of mitochondria, including t...</td>\n",
       "      <td>\"mitochondrial inheritance\" EXACT []</td>\n",
       "      <td>[GO:0048308 ! organelle inheritance, GO:004831...</td>\n",
       "      <td>NaN</td>\n",
       "      <td>NaN</td>\n",
       "      <td>NaN</td>\n",
       "      <td>NaN</td>\n",
       "      <td>NaN</td>\n",
       "      <td>NaN</td>\n",
       "      <td>NaN</td>\n",
       "      <td>NaN</td>\n",
       "    </tr>\n",
       "    <tr>\n",
       "      <th>1</th>\n",
       "      <td>GO:0000002</td>\n",
       "      <td>mitochondrial genome maintenance</td>\n",
       "      <td>biological_process</td>\n",
       "      <td>\"The maintenance of the structure and integrit...</td>\n",
       "      <td>NaN</td>\n",
       "      <td>GO:0007005 ! mitochondrion organization</td>\n",
       "      <td>NaN</td>\n",
       "      <td>NaN</td>\n",
       "      <td>NaN</td>\n",
       "      <td>NaN</td>\n",
       "      <td>NaN</td>\n",
       "      <td>NaN</td>\n",
       "      <td>NaN</td>\n",
       "      <td>NaN</td>\n",
       "    </tr>\n",
       "    <tr>\n",
       "      <th>2</th>\n",
       "      <td>GO:0000003</td>\n",
       "      <td>obsolete reproduction</td>\n",
       "      <td>biological_process</td>\n",
       "      <td>\"OBSOLETE. The production of new individuals t...</td>\n",
       "      <td>\"reproductive physiological process\" EXACT []</td>\n",
       "      <td>NaN</td>\n",
       "      <td>[GO:0019952, GO:0050876]</td>\n",
       "      <td>The reason for obsoletion is that this term is...</td>\n",
       "      <td>true</td>\n",
       "      <td>GO:0022414</td>\n",
       "      <td>NaN</td>\n",
       "      <td>NaN</td>\n",
       "      <td>NaN</td>\n",
       "      <td>NaN</td>\n",
       "    </tr>\n",
       "    <tr>\n",
       "      <th>3</th>\n",
       "      <td>GO:0000005</td>\n",
       "      <td>obsolete ribosomal chaperone activity</td>\n",
       "      <td>molecular_function</td>\n",
       "      <td>\"OBSOLETE. Assists in the correct assembly of ...</td>\n",
       "      <td>\"ribosomal chaperone activity\" EXACT []</td>\n",
       "      <td>NaN</td>\n",
       "      <td>NaN</td>\n",
       "      <td>This term was made obsolete because it refers ...</td>\n",
       "      <td>true</td>\n",
       "      <td>NaN</td>\n",
       "      <td>[GO:0042254, GO:0044183, GO:0051082]</td>\n",
       "      <td>NaN</td>\n",
       "      <td>NaN</td>\n",
       "      <td>NaN</td>\n",
       "    </tr>\n",
       "  </tbody>\n",
       "</table>\n",
       "</div>"
      ],
      "text/plain": [
       "           id                                   name           namespace  \\\n",
       "0  GO:0000001              mitochondrion inheritance  biological_process   \n",
       "1  GO:0000002       mitochondrial genome maintenance  biological_process   \n",
       "2  GO:0000003                  obsolete reproduction  biological_process   \n",
       "3  GO:0000005  obsolete ribosomal chaperone activity  molecular_function   \n",
       "\n",
       "                                          definition  \\\n",
       "0  \"The distribution of mitochondria, including t...   \n",
       "1  \"The maintenance of the structure and integrit...   \n",
       "2  \"OBSOLETE. The production of new individuals t...   \n",
       "3  \"OBSOLETE. Assists in the correct assembly of ...   \n",
       "\n",
       "                                         synonym  \\\n",
       "0           \"mitochondrial inheritance\" EXACT []   \n",
       "1                                            NaN   \n",
       "2  \"reproductive physiological process\" EXACT []   \n",
       "3        \"ribosomal chaperone activity\" EXACT []   \n",
       "\n",
       "                                                is_a  \\\n",
       "0  [GO:0048308 ! organelle inheritance, GO:004831...   \n",
       "1            GO:0007005 ! mitochondrion organization   \n",
       "2                                                NaN   \n",
       "3                                                NaN   \n",
       "\n",
       "                     alt_id  \\\n",
       "0                       NaN   \n",
       "1                       NaN   \n",
       "2  [GO:0019952, GO:0050876]   \n",
       "3                       NaN   \n",
       "\n",
       "                                             comment is_obsolete replaced_by  \\\n",
       "0                                                NaN         NaN         NaN   \n",
       "1                                                NaN         NaN         NaN   \n",
       "2  The reason for obsoletion is that this term is...        true  GO:0022414   \n",
       "3  This term was made obsolete because it refers ...        true         NaN   \n",
       "\n",
       "                               consider xref subset relationship  \n",
       "0                                   NaN  NaN    NaN          NaN  \n",
       "1                                   NaN  NaN    NaN          NaN  \n",
       "2                                   NaN  NaN    NaN          NaN  \n",
       "3  [GO:0042254, GO:0044183, GO:0051082]  NaN    NaN          NaN  "
      ]
     },
     "execution_count": 7,
     "metadata": {},
     "output_type": "execute_result"
    }
   ],
   "source": [
    "df.head(4)"
   ]
  },
  {
   "cell_type": "code",
   "execution_count": 8,
   "metadata": {},
   "outputs": [
    {
     "data": {
      "text/plain": [
       "47856"
      ]
     },
     "execution_count": 8,
     "metadata": {},
     "output_type": "execute_result"
    }
   ],
   "source": [
    "df['id'].nunique()"
   ]
  },
  {
   "cell_type": "code",
   "execution_count": 9,
   "metadata": {},
   "outputs": [
    {
     "data": {
      "text/plain": [
       "3"
      ]
     },
     "execution_count": 9,
     "metadata": {},
     "output_type": "execute_result"
    }
   ],
   "source": [
    "df.namespace.nunique()"
   ]
  },
  {
   "cell_type": "code",
   "execution_count": 10,
   "metadata": {},
   "outputs": [
    {
     "data": {
      "text/plain": [
       "namespace\n",
       "biological_process    30723\n",
       "molecular_function    12614\n",
       "cellular_component     4519\n",
       "Name: count, dtype: int64"
      ]
     },
     "execution_count": 10,
     "metadata": {},
     "output_type": "execute_result"
    }
   ],
   "source": [
    "df.namespace.value_counts()\n"
   ]
  },
  {
   "cell_type": "code",
   "execution_count": 11,
   "metadata": {},
   "outputs": [
    {
     "data": {
      "text/html": [
       "<div>\n",
       "<style scoped>\n",
       "    .dataframe tbody tr th:only-of-type {\n",
       "        vertical-align: middle;\n",
       "    }\n",
       "\n",
       "    .dataframe tbody tr th {\n",
       "        vertical-align: top;\n",
       "    }\n",
       "\n",
       "    .dataframe thead th {\n",
       "        text-align: right;\n",
       "    }\n",
       "</style>\n",
       "<table border=\"1\" class=\"dataframe\">\n",
       "  <thead>\n",
       "    <tr style=\"text-align: right;\">\n",
       "      <th></th>\n",
       "      <th>id</th>\n",
       "      <th>name</th>\n",
       "      <th>namespace</th>\n",
       "      <th>definition</th>\n",
       "      <th>synonym</th>\n",
       "      <th>is_a</th>\n",
       "      <th>alt_id</th>\n",
       "      <th>comment</th>\n",
       "      <th>is_obsolete</th>\n",
       "      <th>replaced_by</th>\n",
       "      <th>consider</th>\n",
       "      <th>xref</th>\n",
       "      <th>subset</th>\n",
       "      <th>relationship</th>\n",
       "    </tr>\n",
       "  </thead>\n",
       "  <tbody>\n",
       "    <tr>\n",
       "      <th>2</th>\n",
       "      <td>GO:0000003</td>\n",
       "      <td>obsolete reproduction</td>\n",
       "      <td>biological_process</td>\n",
       "      <td>\"OBSOLETE. The production of new individuals t...</td>\n",
       "      <td>\"reproductive physiological process\" EXACT []</td>\n",
       "      <td>NaN</td>\n",
       "      <td>[GO:0019952, GO:0050876]</td>\n",
       "      <td>The reason for obsoletion is that this term is...</td>\n",
       "      <td>true</td>\n",
       "      <td>GO:0022414</td>\n",
       "      <td>NaN</td>\n",
       "      <td>NaN</td>\n",
       "      <td>NaN</td>\n",
       "      <td>NaN</td>\n",
       "    </tr>\n",
       "    <tr>\n",
       "      <th>3</th>\n",
       "      <td>GO:0000005</td>\n",
       "      <td>obsolete ribosomal chaperone activity</td>\n",
       "      <td>molecular_function</td>\n",
       "      <td>\"OBSOLETE. Assists in the correct assembly of ...</td>\n",
       "      <td>\"ribosomal chaperone activity\" EXACT []</td>\n",
       "      <td>NaN</td>\n",
       "      <td>NaN</td>\n",
       "      <td>This term was made obsolete because it refers ...</td>\n",
       "      <td>true</td>\n",
       "      <td>NaN</td>\n",
       "      <td>[GO:0042254, GO:0044183, GO:0051082]</td>\n",
       "      <td>NaN</td>\n",
       "      <td>NaN</td>\n",
       "      <td>NaN</td>\n",
       "    </tr>\n",
       "    <tr>\n",
       "      <th>6</th>\n",
       "      <td>GO:0000008</td>\n",
       "      <td>obsolete thioredoxin</td>\n",
       "      <td>molecular_function</td>\n",
       "      <td>\"OBSOLETE. A small disulfide-containing redox ...</td>\n",
       "      <td>\"thioredoxin\" EXACT []</td>\n",
       "      <td>NaN</td>\n",
       "      <td>GO:0000013</td>\n",
       "      <td>This term was made obsolete because it represe...</td>\n",
       "      <td>true</td>\n",
       "      <td>NaN</td>\n",
       "      <td>[GO:0003756, GO:0015036]</td>\n",
       "      <td>NaN</td>\n",
       "      <td>NaN</td>\n",
       "      <td>NaN</td>\n",
       "    </tr>\n",
       "    <tr>\n",
       "      <th>17</th>\n",
       "      <td>GO:0000020</td>\n",
       "      <td>obsolete negative regulation of recombination ...</td>\n",
       "      <td>biological_process</td>\n",
       "      <td>\"OBSOLETE. Any process that stops, prevents, o...</td>\n",
       "      <td>\"negative regulation of recombination within r...</td>\n",
       "      <td>NaN</td>\n",
       "      <td>NaN</td>\n",
       "      <td>This term was made obsolete because it describ...</td>\n",
       "      <td>true</td>\n",
       "      <td>NaN</td>\n",
       "      <td>GO:0045950</td>\n",
       "      <td>NaN</td>\n",
       "      <td>NaN</td>\n",
       "      <td>NaN</td>\n",
       "    </tr>\n",
       "    <tr>\n",
       "      <th>33</th>\n",
       "      <td>GO:0000039</td>\n",
       "      <td>obsolete plasma membrane long-chain fatty acid...</td>\n",
       "      <td>molecular_function</td>\n",
       "      <td>\"OBSOLETE. (Was not defined before being made ...</td>\n",
       "      <td>\"plasma membrane long-chain fatty acid transpo...</td>\n",
       "      <td>NaN</td>\n",
       "      <td>NaN</td>\n",
       "      <td>This term was made obsolete because it describ...</td>\n",
       "      <td>true</td>\n",
       "      <td>NaN</td>\n",
       "      <td>[GO:0005324, GO:0005886]</td>\n",
       "      <td>NaN</td>\n",
       "      <td>NaN</td>\n",
       "      <td>NaN</td>\n",
       "    </tr>\n",
       "    <tr>\n",
       "      <th>...</th>\n",
       "      <td>...</td>\n",
       "      <td>...</td>\n",
       "      <td>...</td>\n",
       "      <td>...</td>\n",
       "      <td>...</td>\n",
       "      <td>...</td>\n",
       "      <td>...</td>\n",
       "      <td>...</td>\n",
       "      <td>...</td>\n",
       "      <td>...</td>\n",
       "      <td>...</td>\n",
       "      <td>...</td>\n",
       "      <td>...</td>\n",
       "      <td>...</td>\n",
       "    </tr>\n",
       "    <tr>\n",
       "      <th>47792</th>\n",
       "      <td>GO:2001254</td>\n",
       "      <td>obsolete negative regulation of histone H3-K36...</td>\n",
       "      <td>biological_process</td>\n",
       "      <td>\"OBSOLETE. Any process that stops, prevents or...</td>\n",
       "      <td>NaN</td>\n",
       "      <td>NaN</td>\n",
       "      <td>NaN</td>\n",
       "      <td>This term was obsoleted because it represents ...</td>\n",
       "      <td>true</td>\n",
       "      <td>NaN</td>\n",
       "      <td>GO:0006338</td>\n",
       "      <td>NaN</td>\n",
       "      <td>NaN</td>\n",
       "      <td>NaN</td>\n",
       "    </tr>\n",
       "    <tr>\n",
       "      <th>47793</th>\n",
       "      <td>GO:2001255</td>\n",
       "      <td>obsolete positive regulation of histone H3-K36...</td>\n",
       "      <td>biological_process</td>\n",
       "      <td>\"OBSOLETE. Any process that activates or incre...</td>\n",
       "      <td>NaN</td>\n",
       "      <td>NaN</td>\n",
       "      <td>NaN</td>\n",
       "      <td>This term was obsoleted because it represents ...</td>\n",
       "      <td>true</td>\n",
       "      <td>NaN</td>\n",
       "      <td>GO:0140673</td>\n",
       "      <td>NaN</td>\n",
       "      <td>NaN</td>\n",
       "      <td>NaN</td>\n",
       "    </tr>\n",
       "    <tr>\n",
       "      <th>47811</th>\n",
       "      <td>GO:2001273</td>\n",
       "      <td>obsolete regulation of glucose import in respo...</td>\n",
       "      <td>biological_process</td>\n",
       "      <td>\"OBSOLETE. Any process that modulates the freq...</td>\n",
       "      <td>\"regulation of cellular glucose import in resp...</td>\n",
       "      <td>NaN</td>\n",
       "      <td>NaN</td>\n",
       "      <td>This term was obsoleted because it represents ...</td>\n",
       "      <td>true</td>\n",
       "      <td>NaN</td>\n",
       "      <td>NaN</td>\n",
       "      <td>NaN</td>\n",
       "      <td>NaN</td>\n",
       "      <td>NaN</td>\n",
       "    </tr>\n",
       "    <tr>\n",
       "      <th>47812</th>\n",
       "      <td>GO:2001274</td>\n",
       "      <td>obsolete negative regulation of glucose import...</td>\n",
       "      <td>biological_process</td>\n",
       "      <td>\"OBSOLETE. Any process that stops, prevents or...</td>\n",
       "      <td>\"negative regulation of cellular glucose impor...</td>\n",
       "      <td>NaN</td>\n",
       "      <td>NaN</td>\n",
       "      <td>NaN</td>\n",
       "      <td>true</td>\n",
       "      <td>NaN</td>\n",
       "      <td>NaN</td>\n",
       "      <td>NaN</td>\n",
       "      <td>NaN</td>\n",
       "      <td>NaN</td>\n",
       "    </tr>\n",
       "    <tr>\n",
       "      <th>47813</th>\n",
       "      <td>GO:2001275</td>\n",
       "      <td>obsolete positive regulation of glucose import...</td>\n",
       "      <td>biological_process</td>\n",
       "      <td>\"OBSOLETE. Any process that activates or incre...</td>\n",
       "      <td>\"positive regulation of cellular glucose impor...</td>\n",
       "      <td>NaN</td>\n",
       "      <td>NaN</td>\n",
       "      <td>This term was obsoleted because it represents ...</td>\n",
       "      <td>true</td>\n",
       "      <td>NaN</td>\n",
       "      <td>NaN</td>\n",
       "      <td>NaN</td>\n",
       "      <td>NaN</td>\n",
       "      <td>NaN</td>\n",
       "    </tr>\n",
       "  </tbody>\n",
       "</table>\n",
       "<p>5653 rows × 14 columns</p>\n",
       "</div>"
      ],
      "text/plain": [
       "               id                                               name  \\\n",
       "2      GO:0000003                              obsolete reproduction   \n",
       "3      GO:0000005              obsolete ribosomal chaperone activity   \n",
       "6      GO:0000008                               obsolete thioredoxin   \n",
       "17     GO:0000020  obsolete negative regulation of recombination ...   \n",
       "33     GO:0000039  obsolete plasma membrane long-chain fatty acid...   \n",
       "...           ...                                                ...   \n",
       "47792  GO:2001254  obsolete negative regulation of histone H3-K36...   \n",
       "47793  GO:2001255  obsolete positive regulation of histone H3-K36...   \n",
       "47811  GO:2001273  obsolete regulation of glucose import in respo...   \n",
       "47812  GO:2001274  obsolete negative regulation of glucose import...   \n",
       "47813  GO:2001275  obsolete positive regulation of glucose import...   \n",
       "\n",
       "                namespace                                         definition  \\\n",
       "2      biological_process  \"OBSOLETE. The production of new individuals t...   \n",
       "3      molecular_function  \"OBSOLETE. Assists in the correct assembly of ...   \n",
       "6      molecular_function  \"OBSOLETE. A small disulfide-containing redox ...   \n",
       "17     biological_process  \"OBSOLETE. Any process that stops, prevents, o...   \n",
       "33     molecular_function  \"OBSOLETE. (Was not defined before being made ...   \n",
       "...                   ...                                                ...   \n",
       "47792  biological_process  \"OBSOLETE. Any process that stops, prevents or...   \n",
       "47793  biological_process  \"OBSOLETE. Any process that activates or incre...   \n",
       "47811  biological_process  \"OBSOLETE. Any process that modulates the freq...   \n",
       "47812  biological_process  \"OBSOLETE. Any process that stops, prevents or...   \n",
       "47813  biological_process  \"OBSOLETE. Any process that activates or incre...   \n",
       "\n",
       "                                                 synonym is_a  \\\n",
       "2          \"reproductive physiological process\" EXACT []  NaN   \n",
       "3                \"ribosomal chaperone activity\" EXACT []  NaN   \n",
       "6                                 \"thioredoxin\" EXACT []  NaN   \n",
       "17     \"negative regulation of recombination within r...  NaN   \n",
       "33     \"plasma membrane long-chain fatty acid transpo...  NaN   \n",
       "...                                                  ...  ...   \n",
       "47792                                                NaN  NaN   \n",
       "47793                                                NaN  NaN   \n",
       "47811  \"regulation of cellular glucose import in resp...  NaN   \n",
       "47812  \"negative regulation of cellular glucose impor...  NaN   \n",
       "47813  \"positive regulation of cellular glucose impor...  NaN   \n",
       "\n",
       "                         alt_id  \\\n",
       "2      [GO:0019952, GO:0050876]   \n",
       "3                           NaN   \n",
       "6                    GO:0000013   \n",
       "17                          NaN   \n",
       "33                          NaN   \n",
       "...                         ...   \n",
       "47792                       NaN   \n",
       "47793                       NaN   \n",
       "47811                       NaN   \n",
       "47812                       NaN   \n",
       "47813                       NaN   \n",
       "\n",
       "                                                 comment is_obsolete  \\\n",
       "2      The reason for obsoletion is that this term is...        true   \n",
       "3      This term was made obsolete because it refers ...        true   \n",
       "6      This term was made obsolete because it represe...        true   \n",
       "17     This term was made obsolete because it describ...        true   \n",
       "33     This term was made obsolete because it describ...        true   \n",
       "...                                                  ...         ...   \n",
       "47792  This term was obsoleted because it represents ...        true   \n",
       "47793  This term was obsoleted because it represents ...        true   \n",
       "47811  This term was obsoleted because it represents ...        true   \n",
       "47812                                                NaN        true   \n",
       "47813  This term was obsoleted because it represents ...        true   \n",
       "\n",
       "      replaced_by                              consider xref subset  \\\n",
       "2      GO:0022414                                   NaN  NaN    NaN   \n",
       "3             NaN  [GO:0042254, GO:0044183, GO:0051082]  NaN    NaN   \n",
       "6             NaN              [GO:0003756, GO:0015036]  NaN    NaN   \n",
       "17            NaN                            GO:0045950  NaN    NaN   \n",
       "33            NaN              [GO:0005324, GO:0005886]  NaN    NaN   \n",
       "...           ...                                   ...  ...    ...   \n",
       "47792         NaN                            GO:0006338  NaN    NaN   \n",
       "47793         NaN                            GO:0140673  NaN    NaN   \n",
       "47811         NaN                                   NaN  NaN    NaN   \n",
       "47812         NaN                                   NaN  NaN    NaN   \n",
       "47813         NaN                                   NaN  NaN    NaN   \n",
       "\n",
       "      relationship  \n",
       "2              NaN  \n",
       "3              NaN  \n",
       "6              NaN  \n",
       "17             NaN  \n",
       "33             NaN  \n",
       "...            ...  \n",
       "47792          NaN  \n",
       "47793          NaN  \n",
       "47811          NaN  \n",
       "47812          NaN  \n",
       "47813          NaN  \n",
       "\n",
       "[5653 rows x 14 columns]"
      ]
     },
     "execution_count": 11,
     "metadata": {},
     "output_type": "execute_result"
    }
   ],
   "source": [
    "df[df.is_obsolete == 'true']"
   ]
  },
  {
   "cell_type": "code",
   "execution_count": 12,
   "metadata": {},
   "outputs": [
    {
     "data": {
      "text/html": [
       "<div>\n",
       "<style scoped>\n",
       "    .dataframe tbody tr th:only-of-type {\n",
       "        vertical-align: middle;\n",
       "    }\n",
       "\n",
       "    .dataframe tbody tr th {\n",
       "        vertical-align: top;\n",
       "    }\n",
       "\n",
       "    .dataframe thead th {\n",
       "        text-align: right;\n",
       "    }\n",
       "</style>\n",
       "<table border=\"1\" class=\"dataframe\">\n",
       "  <thead>\n",
       "    <tr style=\"text-align: right;\">\n",
       "      <th></th>\n",
       "      <th>id</th>\n",
       "      <th>name</th>\n",
       "      <th>namespace</th>\n",
       "      <th>definition</th>\n",
       "      <th>synonym</th>\n",
       "      <th>is_a</th>\n",
       "      <th>alt_id</th>\n",
       "      <th>comment</th>\n",
       "      <th>is_obsolete</th>\n",
       "      <th>replaced_by</th>\n",
       "      <th>consider</th>\n",
       "      <th>xref</th>\n",
       "      <th>subset</th>\n",
       "      <th>relationship</th>\n",
       "    </tr>\n",
       "  </thead>\n",
       "  <tbody>\n",
       "    <tr>\n",
       "      <th>0</th>\n",
       "      <td>GO:0000001</td>\n",
       "      <td>mitochondrion inheritance</td>\n",
       "      <td>biological_process</td>\n",
       "      <td>\"The distribution of mitochondria, including t...</td>\n",
       "      <td>\"mitochondrial inheritance\" EXACT []</td>\n",
       "      <td>[GO:0048308 ! organelle inheritance, GO:004831...</td>\n",
       "      <td>NaN</td>\n",
       "      <td>NaN</td>\n",
       "      <td>NaN</td>\n",
       "      <td>NaN</td>\n",
       "      <td>NaN</td>\n",
       "      <td>NaN</td>\n",
       "      <td>NaN</td>\n",
       "      <td>NaN</td>\n",
       "    </tr>\n",
       "    <tr>\n",
       "      <th>1</th>\n",
       "      <td>GO:0000002</td>\n",
       "      <td>mitochondrial genome maintenance</td>\n",
       "      <td>biological_process</td>\n",
       "      <td>\"The maintenance of the structure and integrit...</td>\n",
       "      <td>NaN</td>\n",
       "      <td>GO:0007005 ! mitochondrion organization</td>\n",
       "      <td>NaN</td>\n",
       "      <td>NaN</td>\n",
       "      <td>NaN</td>\n",
       "      <td>NaN</td>\n",
       "      <td>NaN</td>\n",
       "      <td>NaN</td>\n",
       "      <td>NaN</td>\n",
       "      <td>NaN</td>\n",
       "    </tr>\n",
       "    <tr>\n",
       "      <th>4</th>\n",
       "      <td>GO:0000006</td>\n",
       "      <td>high-affinity zinc transmembrane transporter a...</td>\n",
       "      <td>molecular_function</td>\n",
       "      <td>\"Enables the transfer of zinc ions (Zn2+) from...</td>\n",
       "      <td>[\"high affinity zinc uptake transmembrane tran...</td>\n",
       "      <td>GO:0005385 ! zinc ion transmembrane transporte...</td>\n",
       "      <td>NaN</td>\n",
       "      <td>NaN</td>\n",
       "      <td>NaN</td>\n",
       "      <td>NaN</td>\n",
       "      <td>NaN</td>\n",
       "      <td>NaN</td>\n",
       "      <td>NaN</td>\n",
       "      <td>NaN</td>\n",
       "    </tr>\n",
       "    <tr>\n",
       "      <th>5</th>\n",
       "      <td>GO:0000007</td>\n",
       "      <td>low-affinity zinc ion transmembrane transporte...</td>\n",
       "      <td>molecular_function</td>\n",
       "      <td>\"Enables the transfer of a solute or solutes f...</td>\n",
       "      <td>NaN</td>\n",
       "      <td>GO:0005385 ! zinc ion transmembrane transporte...</td>\n",
       "      <td>NaN</td>\n",
       "      <td>NaN</td>\n",
       "      <td>NaN</td>\n",
       "      <td>NaN</td>\n",
       "      <td>NaN</td>\n",
       "      <td>NaN</td>\n",
       "      <td>NaN</td>\n",
       "      <td>NaN</td>\n",
       "    </tr>\n",
       "    <tr>\n",
       "      <th>7</th>\n",
       "      <td>GO:0000009</td>\n",
       "      <td>alpha-1,6-mannosyltransferase activity</td>\n",
       "      <td>molecular_function</td>\n",
       "      <td>\"Catalysis of the transfer of a mannose residu...</td>\n",
       "      <td>\"1,6-alpha-mannosyltransferase activity\" EXACT []</td>\n",
       "      <td>GO:0000030 ! mannosyltransferase activity</td>\n",
       "      <td>NaN</td>\n",
       "      <td>NaN</td>\n",
       "      <td>NaN</td>\n",
       "      <td>NaN</td>\n",
       "      <td>NaN</td>\n",
       "      <td>Reactome:R-HSA-449718 \"Addition of a third man...</td>\n",
       "      <td>NaN</td>\n",
       "      <td>NaN</td>\n",
       "    </tr>\n",
       "    <tr>\n",
       "      <th>...</th>\n",
       "      <td>...</td>\n",
       "      <td>...</td>\n",
       "      <td>...</td>\n",
       "      <td>...</td>\n",
       "      <td>...</td>\n",
       "      <td>...</td>\n",
       "      <td>...</td>\n",
       "      <td>...</td>\n",
       "      <td>...</td>\n",
       "      <td>...</td>\n",
       "      <td>...</td>\n",
       "      <td>...</td>\n",
       "      <td>...</td>\n",
       "      <td>...</td>\n",
       "    </tr>\n",
       "    <tr>\n",
       "      <th>47851</th>\n",
       "      <td>GO:2001313</td>\n",
       "      <td>UDP-4-deoxy-4-formamido-beta-L-arabinopyranose...</td>\n",
       "      <td>biological_process</td>\n",
       "      <td>\"The chemical reactions and pathways involving...</td>\n",
       "      <td>\"UDP-4-deoxy-4-formamido-beta-L-arabinopyranos...</td>\n",
       "      <td>[GO:0006040 ! amino sugar metabolic process, G...</td>\n",
       "      <td>NaN</td>\n",
       "      <td>NaN</td>\n",
       "      <td>NaN</td>\n",
       "      <td>NaN</td>\n",
       "      <td>NaN</td>\n",
       "      <td>NaN</td>\n",
       "      <td>NaN</td>\n",
       "      <td>NaN</td>\n",
       "    </tr>\n",
       "    <tr>\n",
       "      <th>47852</th>\n",
       "      <td>GO:2001314</td>\n",
       "      <td>UDP-4-deoxy-4-formamido-beta-L-arabinopyranose...</td>\n",
       "      <td>biological_process</td>\n",
       "      <td>\"The chemical reactions and pathways resulting...</td>\n",
       "      <td>[\"UDP-4-deoxy-4-formamido-beta-L-arabinopyrano...</td>\n",
       "      <td>[GO:0009227 ! nucleotide-sugar catabolic proce...</td>\n",
       "      <td>NaN</td>\n",
       "      <td>NaN</td>\n",
       "      <td>NaN</td>\n",
       "      <td>NaN</td>\n",
       "      <td>NaN</td>\n",
       "      <td>NaN</td>\n",
       "      <td>NaN</td>\n",
       "      <td>NaN</td>\n",
       "    </tr>\n",
       "    <tr>\n",
       "      <th>47853</th>\n",
       "      <td>GO:2001315</td>\n",
       "      <td>UDP-4-deoxy-4-formamido-beta-L-arabinopyranose...</td>\n",
       "      <td>biological_process</td>\n",
       "      <td>\"The chemical reactions and pathways resulting...</td>\n",
       "      <td>[\"UDP-4-deoxy-4-formamido-beta-L-arabinopyrano...</td>\n",
       "      <td>[GO:0009226 ! nucleotide-sugar biosynthetic pr...</td>\n",
       "      <td>NaN</td>\n",
       "      <td>NaN</td>\n",
       "      <td>NaN</td>\n",
       "      <td>NaN</td>\n",
       "      <td>NaN</td>\n",
       "      <td>NaN</td>\n",
       "      <td>NaN</td>\n",
       "      <td>NaN</td>\n",
       "    </tr>\n",
       "    <tr>\n",
       "      <th>47854</th>\n",
       "      <td>GO:2001316</td>\n",
       "      <td>kojic acid metabolic process</td>\n",
       "      <td>biological_process</td>\n",
       "      <td>\"The chemical reactions and pathways involving...</td>\n",
       "      <td>[\"5-hydroxy-2-(hydroxymethyl)-4H-pyran-4-one m...</td>\n",
       "      <td>[GO:0034308 ! primary alcohol metabolic proces...</td>\n",
       "      <td>NaN</td>\n",
       "      <td>NaN</td>\n",
       "      <td>NaN</td>\n",
       "      <td>NaN</td>\n",
       "      <td>NaN</td>\n",
       "      <td>NaN</td>\n",
       "      <td>NaN</td>\n",
       "      <td>NaN</td>\n",
       "    </tr>\n",
       "    <tr>\n",
       "      <th>47855</th>\n",
       "      <td>GO:2001317</td>\n",
       "      <td>kojic acid biosynthetic process</td>\n",
       "      <td>biological_process</td>\n",
       "      <td>\"The chemical reactions and pathways resulting...</td>\n",
       "      <td>[\"5-hydroxy-2-(hydroxymethyl)-4H-pyran-4-one a...</td>\n",
       "      <td>[GO:0034309 ! primary alcohol biosynthetic pro...</td>\n",
       "      <td>NaN</td>\n",
       "      <td>NaN</td>\n",
       "      <td>NaN</td>\n",
       "      <td>NaN</td>\n",
       "      <td>NaN</td>\n",
       "      <td>NaN</td>\n",
       "      <td>NaN</td>\n",
       "      <td>NaN</td>\n",
       "    </tr>\n",
       "  </tbody>\n",
       "</table>\n",
       "<p>42203 rows × 14 columns</p>\n",
       "</div>"
      ],
      "text/plain": [
       "               id                                               name  \\\n",
       "0      GO:0000001                          mitochondrion inheritance   \n",
       "1      GO:0000002                   mitochondrial genome maintenance   \n",
       "4      GO:0000006  high-affinity zinc transmembrane transporter a...   \n",
       "5      GO:0000007  low-affinity zinc ion transmembrane transporte...   \n",
       "7      GO:0000009             alpha-1,6-mannosyltransferase activity   \n",
       "...           ...                                                ...   \n",
       "47851  GO:2001313  UDP-4-deoxy-4-formamido-beta-L-arabinopyranose...   \n",
       "47852  GO:2001314  UDP-4-deoxy-4-formamido-beta-L-arabinopyranose...   \n",
       "47853  GO:2001315  UDP-4-deoxy-4-formamido-beta-L-arabinopyranose...   \n",
       "47854  GO:2001316                       kojic acid metabolic process   \n",
       "47855  GO:2001317                    kojic acid biosynthetic process   \n",
       "\n",
       "                namespace                                         definition  \\\n",
       "0      biological_process  \"The distribution of mitochondria, including t...   \n",
       "1      biological_process  \"The maintenance of the structure and integrit...   \n",
       "4      molecular_function  \"Enables the transfer of zinc ions (Zn2+) from...   \n",
       "5      molecular_function  \"Enables the transfer of a solute or solutes f...   \n",
       "7      molecular_function  \"Catalysis of the transfer of a mannose residu...   \n",
       "...                   ...                                                ...   \n",
       "47851  biological_process  \"The chemical reactions and pathways involving...   \n",
       "47852  biological_process  \"The chemical reactions and pathways resulting...   \n",
       "47853  biological_process  \"The chemical reactions and pathways resulting...   \n",
       "47854  biological_process  \"The chemical reactions and pathways involving...   \n",
       "47855  biological_process  \"The chemical reactions and pathways resulting...   \n",
       "\n",
       "                                                 synonym  \\\n",
       "0                   \"mitochondrial inheritance\" EXACT []   \n",
       "1                                                    NaN   \n",
       "4      [\"high affinity zinc uptake transmembrane tran...   \n",
       "5                                                    NaN   \n",
       "7      \"1,6-alpha-mannosyltransferase activity\" EXACT []   \n",
       "...                                                  ...   \n",
       "47851  \"UDP-4-deoxy-4-formamido-beta-L-arabinopyranos...   \n",
       "47852  [\"UDP-4-deoxy-4-formamido-beta-L-arabinopyrano...   \n",
       "47853  [\"UDP-4-deoxy-4-formamido-beta-L-arabinopyrano...   \n",
       "47854  [\"5-hydroxy-2-(hydroxymethyl)-4H-pyran-4-one m...   \n",
       "47855  [\"5-hydroxy-2-(hydroxymethyl)-4H-pyran-4-one a...   \n",
       "\n",
       "                                                    is_a alt_id comment  \\\n",
       "0      [GO:0048308 ! organelle inheritance, GO:004831...    NaN     NaN   \n",
       "1                GO:0007005 ! mitochondrion organization    NaN     NaN   \n",
       "4      GO:0005385 ! zinc ion transmembrane transporte...    NaN     NaN   \n",
       "5      GO:0005385 ! zinc ion transmembrane transporte...    NaN     NaN   \n",
       "7              GO:0000030 ! mannosyltransferase activity    NaN     NaN   \n",
       "...                                                  ...    ...     ...   \n",
       "47851  [GO:0006040 ! amino sugar metabolic process, G...    NaN     NaN   \n",
       "47852  [GO:0009227 ! nucleotide-sugar catabolic proce...    NaN     NaN   \n",
       "47853  [GO:0009226 ! nucleotide-sugar biosynthetic pr...    NaN     NaN   \n",
       "47854  [GO:0034308 ! primary alcohol metabolic proces...    NaN     NaN   \n",
       "47855  [GO:0034309 ! primary alcohol biosynthetic pro...    NaN     NaN   \n",
       "\n",
       "      is_obsolete replaced_by consider  \\\n",
       "0             NaN         NaN      NaN   \n",
       "1             NaN         NaN      NaN   \n",
       "4             NaN         NaN      NaN   \n",
       "5             NaN         NaN      NaN   \n",
       "7             NaN         NaN      NaN   \n",
       "...           ...         ...      ...   \n",
       "47851         NaN         NaN      NaN   \n",
       "47852         NaN         NaN      NaN   \n",
       "47853         NaN         NaN      NaN   \n",
       "47854         NaN         NaN      NaN   \n",
       "47855         NaN         NaN      NaN   \n",
       "\n",
       "                                                    xref subset relationship  \n",
       "0                                                    NaN    NaN          NaN  \n",
       "1                                                    NaN    NaN          NaN  \n",
       "4                                                    NaN    NaN          NaN  \n",
       "5                                                    NaN    NaN          NaN  \n",
       "7      Reactome:R-HSA-449718 \"Addition of a third man...    NaN          NaN  \n",
       "...                                                  ...    ...          ...  \n",
       "47851                                                NaN    NaN          NaN  \n",
       "47852                                                NaN    NaN          NaN  \n",
       "47853                                                NaN    NaN          NaN  \n",
       "47854                                                NaN    NaN          NaN  \n",
       "47855                                                NaN    NaN          NaN  \n",
       "\n",
       "[42203 rows x 14 columns]"
      ]
     },
     "execution_count": 12,
     "metadata": {},
     "output_type": "execute_result"
    }
   ],
   "source": [
    "df[df.is_obsolete.isna() == True]"
   ]
  },
  {
   "cell_type": "markdown",
   "metadata": {},
   "source": [
    "### Remove obsolete terms"
   ]
  },
  {
   "cell_type": "code",
   "execution_count": 13,
   "metadata": {},
   "outputs": [
    {
     "data": {
      "text/plain": [
       "is_obsolete\n",
       "true    5653\n",
       "Name: count, dtype: int64"
      ]
     },
     "execution_count": 13,
     "metadata": {},
     "output_type": "execute_result"
    }
   ],
   "source": [
    "df.is_obsolete.value_counts()"
   ]
  },
  {
   "cell_type": "code",
   "execution_count": 14,
   "metadata": {},
   "outputs": [],
   "source": [
    "df = df[df.is_obsolete.isna() == True]"
   ]
  },
  {
   "cell_type": "code",
   "execution_count": 15,
   "metadata": {},
   "outputs": [
    {
     "data": {
      "text/plain": [
       "namespace\n",
       "biological_process    27014\n",
       "molecular_function    11132\n",
       "cellular_component     4057\n",
       "Name: count, dtype: int64"
      ]
     },
     "execution_count": 15,
     "metadata": {},
     "output_type": "execute_result"
    }
   ],
   "source": [
    "df.namespace.value_counts()"
   ]
  },
  {
   "cell_type": "markdown",
   "metadata": {},
   "source": [
    "### Remove unnecessary columns"
   ]
  },
  {
   "cell_type": "code",
   "execution_count": 16,
   "metadata": {},
   "outputs": [],
   "source": [
    "df = df[['id','namespace','definition']]"
   ]
  },
  {
   "cell_type": "markdown",
   "metadata": {},
   "source": [
    "### CountVectorizer (removes stop words as well)"
   ]
  },
  {
   "cell_type": "code",
   "execution_count": 17,
   "metadata": {},
   "outputs": [],
   "source": [
    "vectorizer = CountVectorizer(stop_words='english', min_df=0.05)\n",
    "X = vectorizer.fit_transform(df['definition'])\n",
    "dense_X = X.toarray()\n",
    "#creating a df with feature names as columns\n",
    "X_df = pd.DataFrame(dense_X, columns=vectorizer.get_feature_names_out())"
   ]
  },
  {
   "cell_type": "code",
   "execution_count": 18,
   "metadata": {},
   "outputs": [
    {
     "data": {
      "text/html": [
       "<div>\n",
       "<style scoped>\n",
       "    .dataframe tbody tr th:only-of-type {\n",
       "        vertical-align: middle;\n",
       "    }\n",
       "\n",
       "    .dataframe tbody tr th {\n",
       "        vertical-align: top;\n",
       "    }\n",
       "\n",
       "    .dataframe thead th {\n",
       "        text-align: right;\n",
       "    }\n",
       "</style>\n",
       "<table border=\"1\" class=\"dataframe\">\n",
       "  <thead>\n",
       "    <tr style=\"text-align: right;\">\n",
       "      <th></th>\n",
       "      <th>acid</th>\n",
       "      <th>activates</th>\n",
       "      <th>activity</th>\n",
       "      <th>ai</th>\n",
       "      <th>binding</th>\n",
       "      <th>catalysis</th>\n",
       "      <th>cell</th>\n",
       "      <th>cells</th>\n",
       "      <th>chemical</th>\n",
       "      <th>complex</th>\n",
       "      <th>...</th>\n",
       "      <th>process</th>\n",
       "      <th>protein</th>\n",
       "      <th>rate</th>\n",
       "      <th>reaction</th>\n",
       "      <th>reactions</th>\n",
       "      <th>reduces</th>\n",
       "      <th>resulting</th>\n",
       "      <th>rhea</th>\n",
       "      <th>stops</th>\n",
       "      <th>termgenie</th>\n",
       "    </tr>\n",
       "  </thead>\n",
       "  <tbody>\n",
       "    <tr>\n",
       "      <th>0</th>\n",
       "      <td>0</td>\n",
       "      <td>0</td>\n",
       "      <td>0</td>\n",
       "      <td>0</td>\n",
       "      <td>0</td>\n",
       "      <td>0</td>\n",
       "      <td>0</td>\n",
       "      <td>1</td>\n",
       "      <td>0</td>\n",
       "      <td>0</td>\n",
       "      <td>...</td>\n",
       "      <td>0</td>\n",
       "      <td>0</td>\n",
       "      <td>0</td>\n",
       "      <td>0</td>\n",
       "      <td>0</td>\n",
       "      <td>0</td>\n",
       "      <td>0</td>\n",
       "      <td>0</td>\n",
       "      <td>0</td>\n",
       "      <td>0</td>\n",
       "    </tr>\n",
       "    <tr>\n",
       "      <th>1</th>\n",
       "      <td>0</td>\n",
       "      <td>0</td>\n",
       "      <td>0</td>\n",
       "      <td>1</td>\n",
       "      <td>0</td>\n",
       "      <td>0</td>\n",
       "      <td>0</td>\n",
       "      <td>0</td>\n",
       "      <td>0</td>\n",
       "      <td>0</td>\n",
       "      <td>...</td>\n",
       "      <td>0</td>\n",
       "      <td>0</td>\n",
       "      <td>0</td>\n",
       "      <td>0</td>\n",
       "      <td>0</td>\n",
       "      <td>0</td>\n",
       "      <td>0</td>\n",
       "      <td>0</td>\n",
       "      <td>0</td>\n",
       "      <td>0</td>\n",
       "    </tr>\n",
       "    <tr>\n",
       "      <th>2</th>\n",
       "      <td>0</td>\n",
       "      <td>0</td>\n",
       "      <td>0</td>\n",
       "      <td>0</td>\n",
       "      <td>0</td>\n",
       "      <td>0</td>\n",
       "      <td>0</td>\n",
       "      <td>0</td>\n",
       "      <td>0</td>\n",
       "      <td>0</td>\n",
       "      <td>...</td>\n",
       "      <td>0</td>\n",
       "      <td>0</td>\n",
       "      <td>0</td>\n",
       "      <td>0</td>\n",
       "      <td>0</td>\n",
       "      <td>0</td>\n",
       "      <td>0</td>\n",
       "      <td>0</td>\n",
       "      <td>0</td>\n",
       "      <td>0</td>\n",
       "    </tr>\n",
       "  </tbody>\n",
       "</table>\n",
       "<p>3 rows × 37 columns</p>\n",
       "</div>"
      ],
      "text/plain": [
       "   acid  activates  activity  ai  binding  catalysis  cell  cells  chemical  \\\n",
       "0     0          0         0   0        0          0     0      1         0   \n",
       "1     0          0         0   1        0          0     0      0         0   \n",
       "2     0          0         0   0        0          0     0      0         0   \n",
       "\n",
       "   complex  ...  process  protein  rate  reaction  reactions  reduces  \\\n",
       "0        0  ...        0        0     0         0          0        0   \n",
       "1        0  ...        0        0     0         0          0        0   \n",
       "2        0  ...        0        0     0         0          0        0   \n",
       "\n",
       "   resulting  rhea  stops  termgenie  \n",
       "0          0     0      0          0  \n",
       "1          0     0      0          0  \n",
       "2          0     0      0          0  \n",
       "\n",
       "[3 rows x 37 columns]"
      ]
     },
     "execution_count": 18,
     "metadata": {},
     "output_type": "execute_result"
    }
   ],
   "source": [
    "X_df.head(3)  #38093"
   ]
  },
  {
   "cell_type": "code",
   "execution_count": 19,
   "metadata": {},
   "outputs": [
    {
     "data": {
      "text/plain": [
       "Index(['acid', 'activates', 'activity', 'ai', 'binding', 'catalysis', 'cell',\n",
       "       'cells', 'chemical', 'complex', 'dph', 'ec', 'extent', 'formation',\n",
       "       'frequency', 'go_ref', 'goc', 'h2o', 'increases', 'isbn', 'mah',\n",
       "       'membrane', 'modulates', 'movement', 'pathways', 'pmid', 'prevents',\n",
       "       'process', 'protein', 'rate', 'reaction', 'reactions', 'reduces',\n",
       "       'resulting', 'rhea', 'stops', 'termgenie'],\n",
       "      dtype='object')"
      ]
     },
     "execution_count": 19,
     "metadata": {},
     "output_type": "execute_result"
    }
   ],
   "source": [
    "X_df.columns"
   ]
  },
  {
   "cell_type": "markdown",
   "metadata": {},
   "source": [
    "## KNN using Count Vectorizer"
   ]
  },
  {
   "cell_type": "code",
   "execution_count": 13,
   "metadata": {},
   "outputs": [
    {
     "data": {
      "text/html": [
       "<div>\n",
       "<style scoped>\n",
       "    .dataframe tbody tr th:only-of-type {\n",
       "        vertical-align: middle;\n",
       "    }\n",
       "\n",
       "    .dataframe tbody tr th {\n",
       "        vertical-align: top;\n",
       "    }\n",
       "\n",
       "    .dataframe thead th {\n",
       "        text-align: right;\n",
       "    }\n",
       "</style>\n",
       "<table border=\"1\" class=\"dataframe\">\n",
       "  <thead>\n",
       "    <tr style=\"text-align: right;\">\n",
       "      <th></th>\n",
       "      <th>acid</th>\n",
       "      <th>activates</th>\n",
       "      <th>activity</th>\n",
       "      <th>ai</th>\n",
       "      <th>binding</th>\n",
       "      <th>catalysis</th>\n",
       "      <th>cell</th>\n",
       "      <th>cells</th>\n",
       "      <th>chemical</th>\n",
       "      <th>complex</th>\n",
       "      <th>...</th>\n",
       "      <th>process</th>\n",
       "      <th>protein</th>\n",
       "      <th>rate</th>\n",
       "      <th>reaction</th>\n",
       "      <th>reactions</th>\n",
       "      <th>reduces</th>\n",
       "      <th>resulting</th>\n",
       "      <th>rhea</th>\n",
       "      <th>stops</th>\n",
       "      <th>termgenie</th>\n",
       "    </tr>\n",
       "  </thead>\n",
       "  <tbody>\n",
       "    <tr>\n",
       "      <th>0</th>\n",
       "      <td>0</td>\n",
       "      <td>0</td>\n",
       "      <td>0</td>\n",
       "      <td>0</td>\n",
       "      <td>0</td>\n",
       "      <td>0</td>\n",
       "      <td>0</td>\n",
       "      <td>1</td>\n",
       "      <td>0</td>\n",
       "      <td>0</td>\n",
       "      <td>...</td>\n",
       "      <td>0</td>\n",
       "      <td>0</td>\n",
       "      <td>0</td>\n",
       "      <td>0</td>\n",
       "      <td>0</td>\n",
       "      <td>0</td>\n",
       "      <td>0</td>\n",
       "      <td>0</td>\n",
       "      <td>0</td>\n",
       "      <td>0</td>\n",
       "    </tr>\n",
       "    <tr>\n",
       "      <th>1</th>\n",
       "      <td>0</td>\n",
       "      <td>0</td>\n",
       "      <td>0</td>\n",
       "      <td>1</td>\n",
       "      <td>0</td>\n",
       "      <td>0</td>\n",
       "      <td>0</td>\n",
       "      <td>0</td>\n",
       "      <td>0</td>\n",
       "      <td>0</td>\n",
       "      <td>...</td>\n",
       "      <td>0</td>\n",
       "      <td>0</td>\n",
       "      <td>0</td>\n",
       "      <td>0</td>\n",
       "      <td>0</td>\n",
       "      <td>0</td>\n",
       "      <td>0</td>\n",
       "      <td>0</td>\n",
       "      <td>0</td>\n",
       "      <td>0</td>\n",
       "    </tr>\n",
       "    <tr>\n",
       "      <th>2</th>\n",
       "      <td>0</td>\n",
       "      <td>0</td>\n",
       "      <td>0</td>\n",
       "      <td>0</td>\n",
       "      <td>0</td>\n",
       "      <td>0</td>\n",
       "      <td>0</td>\n",
       "      <td>0</td>\n",
       "      <td>0</td>\n",
       "      <td>0</td>\n",
       "      <td>...</td>\n",
       "      <td>0</td>\n",
       "      <td>0</td>\n",
       "      <td>0</td>\n",
       "      <td>0</td>\n",
       "      <td>0</td>\n",
       "      <td>0</td>\n",
       "      <td>0</td>\n",
       "      <td>0</td>\n",
       "      <td>0</td>\n",
       "      <td>0</td>\n",
       "    </tr>\n",
       "  </tbody>\n",
       "</table>\n",
       "<p>3 rows × 37 columns</p>\n",
       "</div>"
      ],
      "text/plain": [
       "   acid  activates  activity  ai  binding  catalysis  cell  cells  chemical  \\\n",
       "0     0          0         0   0        0          0     0      1         0   \n",
       "1     0          0         0   1        0          0     0      0         0   \n",
       "2     0          0         0   0        0          0     0      0         0   \n",
       "\n",
       "   complex  ...  process  protein  rate  reaction  reactions  reduces  \\\n",
       "0        0  ...        0        0     0         0          0        0   \n",
       "1        0  ...        0        0     0         0          0        0   \n",
       "2        0  ...        0        0     0         0          0        0   \n",
       "\n",
       "   resulting  rhea  stops  termgenie  \n",
       "0          0     0      0          0  \n",
       "1          0     0      0          0  \n",
       "2          0     0      0          0  \n",
       "\n",
       "[3 rows x 37 columns]"
      ]
     },
     "execution_count": 13,
     "metadata": {},
     "output_type": "execute_result"
    }
   ],
   "source": [
    "X_df.head(3)"
   ]
  },
  {
   "cell_type": "code",
   "execution_count": 129,
   "metadata": {},
   "outputs": [],
   "source": [
    "y = df['namespace']\n",
    "X_train, X_test, y_train, y_test = train_test_split(X_df, y, test_size=0.2, random_state=42)"
   ]
  },
  {
   "cell_type": "code",
   "execution_count": 130,
   "metadata": {},
   "outputs": [],
   "source": [
    "acc = []\n",
    "for i in range(1,20):\n",
    "    neigh = KNeighborsClassifier(n_neighbors = i).fit(X_train,y_train)\n",
    "    yhat = neigh.predict(X_test)\n",
    "    acc.append(accuracy_score(y_test, yhat))"
   ]
  },
  {
   "cell_type": "code",
   "execution_count": 131,
   "metadata": {},
   "outputs": [
    {
     "name": "stdout",
     "output_type": "stream",
     "text": [
      "Maximum accuracy: 0.9290368439758322 at K = 18\n"
     ]
    },
    {
     "data": {
      "image/png": "[encoded data removed]",
      "text/plain": [
       "<Figure size 1000x600 with 1 Axes>"
      ]
     },
     "metadata": {},
     "output_type": "display_data"
    }
   ],
   "source": [
    "plt.figure(figsize=(10,6))\n",
    "plt.plot(range(1,20),acc,color = 'blue',linestyle='dashed', \n",
    "         marker='o',markerfacecolor='red', markersize=10)\n",
    "plt.title('accuracy vs. K Value')\n",
    "plt.xlabel('K')\n",
    "plt.ylabel('Accuracy')\n",
    "print(\"Maximum accuracy:\",max(acc),\"at K =\",acc.index(max(acc))+1)"
   ]
  },
  {
   "cell_type": "code",
   "execution_count": 132,
   "metadata": {},
   "outputs": [],
   "source": [
    "neigh = KNeighborsClassifier(n_neighbors = 18).fit(X_train,y_train)\n",
    "y_pred = neigh.predict(X_test)"
   ]
  },
  {
   "cell_type": "code",
   "execution_count": 133,
   "metadata": {},
   "outputs": [
    {
     "data": {
      "text/plain": [
       "array([[5229,  104,   39],\n",
       "       [ 258,  540,   22],\n",
       "       [ 104,   72, 2073]])"
      ]
     },
     "execution_count": 133,
     "metadata": {},
     "output_type": "execute_result"
    }
   ],
   "source": [
    "confusion_matrix(y_test,y_pred)"
   ]
  },
  {
   "cell_type": "code",
   "execution_count": 134,
   "metadata": {},
   "outputs": [
    {
     "data": {
      "text/plain": [
       "0.9290368439758322"
      ]
     },
     "execution_count": 134,
     "metadata": {},
     "output_type": "execute_result"
    }
   ],
   "source": [
    "accuracy_score(y_test, y_pred)"
   ]
  },
  {
   "cell_type": "markdown",
   "metadata": {},
   "source": [
    "### KNN using CountVectorizer on Normalized data"
   ]
  },
  {
   "cell_type": "code",
   "execution_count": 135,
   "metadata": {},
   "outputs": [],
   "source": [
    "vectorizer = CountVectorizer(stop_words='english', min_df=0.05)\n",
    "X = vectorizer.fit_transform(df['definition'])\n",
    "dense_X = X.toarray()\n",
    "scaler = StandardScaler()\n",
    "X_normalized = scaler.fit_transform(dense_X)"
   ]
  },
  {
   "cell_type": "code",
   "execution_count": 138,
   "metadata": {},
   "outputs": [],
   "source": [
    "X_normalized = pd.DataFrame(X_normalized, columns=vectorizer.get_feature_names_out())"
   ]
  },
  {
   "cell_type": "code",
   "execution_count": 136,
   "metadata": {},
   "outputs": [],
   "source": [
    "y = df['namespace']\n",
    "X_train, X_test, y_train, y_test = train_test_split(X_normalized, y, test_size=0.2, random_state=42)\n",
    "knn = KNeighborsClassifier(n_neighbors = 11)\n",
    "knn.fit(X_train,y_train)\n",
    "y_pred = knn.predict(X_test)"
   ]
  },
  {
   "cell_type": "code",
   "execution_count": 114,
   "metadata": {},
   "outputs": [
    {
     "data": {
      "text/plain": [
       "array([[5208,   90,   74],\n",
       "       [ 262,  510,   48],\n",
       "       [  83,   48, 2118]])"
      ]
     },
     "execution_count": 114,
     "metadata": {},
     "output_type": "execute_result"
    }
   ],
   "source": [
    "confusion_matrix(y_test,y_pred)"
   ]
  },
  {
   "cell_type": "code",
   "execution_count": 115,
   "metadata": {},
   "outputs": [
    {
     "data": {
      "text/plain": [
       "0.9283260277218339"
      ]
     },
     "execution_count": 115,
     "metadata": {},
     "output_type": "execute_result"
    }
   ],
   "source": [
    "accuracy_score(y_test,y_pred)"
   ]
  },
  {
   "cell_type": "code",
   "execution_count": 144,
   "metadata": {},
   "outputs": [],
   "source": [
    "acc = []\n",
    "for i in range(1,30):\n",
    "    neigh = KNeighborsClassifier(n_neighbors = i).fit(X_train,y_train)\n",
    "    yhat = neigh.predict(X_test)\n",
    "    acc.append(accuracy_score(y_test, yhat))"
   ]
  },
  {
   "cell_type": "code",
   "execution_count": 145,
   "metadata": {},
   "outputs": [
    {
     "name": "stdout",
     "output_type": "stream",
     "text": [
      "Maximum accuracy: 0.9283260277218339 at K = 11\n"
     ]
    },
    {
     "data": {
      "image/png": "[encoded data removed]",
      "text/plain": [
       "<Figure size 1000x600 with 1 Axes>"
      ]
     },
     "metadata": {},
     "output_type": "display_data"
    }
   ],
   "source": [
    "plt.figure(figsize=(10,6))\n",
    "plt.plot(range(1,30),acc,color = 'blue',linestyle='dashed', \n",
    "         marker='o',markerfacecolor='red', markersize=10)\n",
    "plt.title('accuracy vs. K Value')\n",
    "plt.xlabel('K')\n",
    "plt.ylabel('Accuracy')\n",
    "print(\"Maximum accuracy:\",max(acc),\"at K =\",acc.index(max(acc)) +1)"
   ]
  },
  {
   "cell_type": "code",
   "execution_count": 149,
   "metadata": {},
   "outputs": [
    {
     "data": {
      "text/plain": [
       "0.9283260277218339"
      ]
     },
     "execution_count": 149,
     "metadata": {},
     "output_type": "execute_result"
    }
   ],
   "source": [
    "accuracy_score(y_test,y_pred)"
   ]
  },
  {
   "cell_type": "code",
   "execution_count": null,
   "metadata": {},
   "outputs": [],
   "source": []
  },
  {
   "cell_type": "markdown",
   "metadata": {},
   "source": [
    "#### Exp with ignoring words that appear in less than 1 % definitions"
   ]
  },
  {
   "cell_type": "code",
   "execution_count": 118,
   "metadata": {},
   "outputs": [],
   "source": [
    "vectorizer = CountVectorizer(stop_words='english', min_df=0.01)\n",
    "X = vectorizer.fit_transform(df['definition'])\n",
    "dense_X = X.toarray()\n",
    "X_df = pd.DataFrame(dense_X, columns=vectorizer.get_feature_names_out())"
   ]
  },
  {
   "cell_type": "code",
   "execution_count": 119,
   "metadata": {},
   "outputs": [],
   "source": [
    "X_train, X_test, y_train, y_test = train_test_split(X_df, y, test_size=0.2, random_state=42)"
   ]
  },
  {
   "cell_type": "code",
   "execution_count": 120,
   "metadata": {},
   "outputs": [],
   "source": [
    "acc = []\n",
    "for i in range(1,10):\n",
    "    neigh = KNeighborsClassifier(n_neighbors = i).fit(X_train,y_train)\n",
    "    yhat = neigh.predict(X_test)\n",
    "    acc.append(accuracy_score(y_test, yhat))"
   ]
  },
  {
   "cell_type": "code",
   "execution_count": 121,
   "metadata": {},
   "outputs": [
    {
     "name": "stdout",
     "output_type": "stream",
     "text": [
      "Maximum accuracy: 0.953560004738775 at K = 1\n"
     ]
    },
    {
     "data": {
      "image/png": "[encoded data removed]",
      "text/plain": [
       "<Figure size 1000x600 with 1 Axes>"
      ]
     },
     "metadata": {},
     "output_type": "display_data"
    }
   ],
   "source": [
    "plt.figure(figsize=(10,6))\n",
    "plt.plot(range(1,10),acc,color = 'blue',linestyle='dashed', \n",
    "         marker='o',markerfacecolor='red', markersize=10)\n",
    "plt.title('accuracy vs. K Value')\n",
    "plt.xlabel('K')\n",
    "plt.ylabel('Accuracy')\n",
    "print(\"Maximum accuracy:\",max(acc),\"at K =\",acc.index(max(acc))+1)"
   ]
  },
  {
   "cell_type": "code",
   "execution_count": 122,
   "metadata": {},
   "outputs": [
    {
     "data": {
      "text/plain": [
       "0.953560004738775"
      ]
     },
     "execution_count": 122,
     "metadata": {},
     "output_type": "execute_result"
    }
   ],
   "source": [
    "max(acc)"
   ]
  },
  {
   "cell_type": "markdown",
   "metadata": {},
   "source": [
    "### ignoring words that appear in less than 1 % definitions (normalized data)"
   ]
  },
  {
   "cell_type": "code",
   "execution_count": 150,
   "metadata": {},
   "outputs": [],
   "source": [
    "vectorizer = CountVectorizer(stop_words='english', min_df=0.01)\n",
    "X = vectorizer.fit_transform(df['definition'])\n",
    "dense_X = X.toarray()\n"
   ]
  },
  {
   "cell_type": "code",
   "execution_count": 151,
   "metadata": {},
   "outputs": [],
   "source": [
    "scaler = StandardScaler()\n",
    "X_normalized = scaler.fit_transform(dense_X)\n",
    "X_normalized = pd.DataFrame(X_normalized, columns=vectorizer.get_feature_names_out())"
   ]
  },
  {
   "cell_type": "code",
   "execution_count": 152,
   "metadata": {},
   "outputs": [],
   "source": [
    "X_train, X_test, y_train, y_test = train_test_split(X_normalized, y, test_size=0.2, random_state=42)"
   ]
  },
  {
   "cell_type": "code",
   "execution_count": 153,
   "metadata": {},
   "outputs": [],
   "source": [
    "acc = []\n",
    "for i in range(1,10):\n",
    "    neigh = KNeighborsClassifier(n_neighbors = i).fit(X_train,y_train)\n",
    "    yhat = neigh.predict(X_test)\n",
    "    acc.append(accuracy_score(y_test, yhat))"
   ]
  },
  {
   "cell_type": "code",
   "execution_count": 154,
   "metadata": {},
   "outputs": [
    {
     "name": "stdout",
     "output_type": "stream",
     "text": [
      "Maximum accuracy: 0.942305414050468 at K = 1\n"
     ]
    },
    {
     "data": {
      "image/png": "[encoded data removed]",
      "text/plain": [
       "<Figure size 1000x600 with 1 Axes>"
      ]
     },
     "metadata": {},
     "output_type": "display_data"
    }
   ],
   "source": [
    "plt.figure(figsize=(10,6))\n",
    "plt.plot(range(1,10),acc,color = 'blue',linestyle='dashed', \n",
    "         marker='o',markerfacecolor='red', markersize=10)\n",
    "plt.title('accuracy vs. K Value')\n",
    "plt.xlabel('K')\n",
    "plt.ylabel('Accuracy')\n",
    "print(\"Maximum accuracy:\",max(acc),\"at K =\",acc.index(max(acc))+1)"
   ]
  },
  {
   "cell_type": "code",
   "execution_count": null,
   "metadata": {},
   "outputs": [],
   "source": []
  },
  {
   "cell_type": "markdown",
   "metadata": {},
   "source": [
    "- max accuracy with KNN using Count Vectorizer : 0.9290368439758322 (K = 18)\n",
    "- max accuracy with KNN using CountVectorizer on Normalized data: 0.9283260277218339 (K = 11)\n",
    "- max accuracy with KNN using CountVectorizer on ignoring words that do not appear in 1% of definitions: 0.953560004738775 (K = 1)\n",
    "- max accuracy with KNN using CountVectorizer on Normalized data ignoring words that do not appear in 1% of definitions: 0.942305414050468 (K = 1)"
   ]
  },
  {
   "cell_type": "markdown",
   "metadata": {},
   "source": [
    "### Support Vector Machines"
   ]
  },
  {
   "cell_type": "code",
   "execution_count": 28,
   "metadata": {},
   "outputs": [],
   "source": [
    "vectorizer = CountVectorizer(stop_words='english', min_df=0.01)\n",
    "X = vectorizer.fit_transform(df['definition'])\n",
    "dense_X = X.toarray()\n",
    "X_df = pd.DataFrame(dense_X, columns=vectorizer.get_feature_names_out())\n",
    "y = df['namespace']\n",
    "X_train, X_test, y_train, y_test = train_test_split(X_df, y, test_size=0.2, random_state=42)"
   ]
  },
  {
   "cell_type": "code",
   "execution_count": 29,
   "metadata": {},
   "outputs": [],
   "source": [
    "svm = SVC(kernel='linear', class_weight='balanced', random_state=42)\n",
    "svm.fit(X_train, y_train)\n",
    "y_pred = svm.predict(X_test)\n"
   ]
  },
  {
   "cell_type": "code",
   "execution_count": 26,
   "metadata": {},
   "outputs": [
    {
     "data": {
      "text/plain": [
       "0.9463333728231252"
      ]
     },
     "execution_count": 26,
     "metadata": {},
     "output_type": "execute_result"
    }
   ],
   "source": [
    "accuracy_score(y_test, y_pred)"
   ]
  },
  {
   "cell_type": "code",
   "execution_count": 30,
   "metadata": {},
   "outputs": [
    {
     "data": {
      "text/html": [
       "<style>#sk-container-id-1 {color: black;}#sk-container-id-1 pre{padding: 0;}#sk-container-id-1 div.sk-toggleable {background-color: white;}#sk-container-id-1 label.sk-toggleable__label {cursor: pointer;display: block;width: 100%;margin-bottom: 0;padding: 0.3em;box-sizing: border-box;text-align: center;}#sk-container-id-1 label.sk-toggleable__label-arrow:before {content: \"▸\";float: left;margin-right: 0.25em;color: #696969;}#sk-container-id-1 label.sk-toggleable__label-arrow:hover:before {color: black;}#sk-container-id-1 div.sk-estimator:hover label.sk-toggleable__label-arrow:before {color: black;}#sk-container-id-1 div.sk-toggleable__content {max-height: 0;max-width: 0;overflow: hidden;text-align: left;background-color: #f0f8ff;}#sk-container-id-1 div.sk-toggleable__content pre {margin: 0.2em;color: black;border-radius: 0.25em;background-color: #f0f8ff;}#sk-container-id-1 input.sk-toggleable__control:checked~div.sk-toggleable__content {max-height: 200px;max-width: 100%;overflow: auto;}#sk-container-id-1 input.sk-toggleable__control:checked~label.sk-toggleable__label-arrow:before {content: \"▾\";}#sk-container-id-1 div.sk-estimator input.sk-toggleable__control:checked~label.sk-toggleable__label {background-color: #d4ebff;}#sk-container-id-1 div.sk-label input.sk-toggleable__control:checked~label.sk-toggleable__label {background-color: #d4ebff;}#sk-container-id-1 input.sk-hidden--visually {border: 0;clip: rect(1px 1px 1px 1px);clip: rect(1px, 1px, 1px, 1px);height: 1px;margin: -1px;overflow: hidden;padding: 0;position: absolute;width: 1px;}#sk-container-id-1 div.sk-estimator {font-family: monospace;background-color: #f0f8ff;border: 1px dotted black;border-radius: 0.25em;box-sizing: border-box;margin-bottom: 0.5em;}#sk-container-id-1 div.sk-estimator:hover {background-color: #d4ebff;}#sk-container-id-1 div.sk-parallel-item::after {content: \"\";width: 100%;border-bottom: 1px solid gray;flex-grow: 1;}#sk-container-id-1 div.sk-label:hover label.sk-toggleable__label {background-color: #d4ebff;}#sk-container-id-1 div.sk-serial::before {content: \"\";position: absolute;border-left: 1px solid gray;box-sizing: border-box;top: 0;bottom: 0;left: 50%;z-index: 0;}#sk-container-id-1 div.sk-serial {display: flex;flex-direction: column;align-items: center;background-color: white;padding-right: 0.2em;padding-left: 0.2em;position: relative;}#sk-container-id-1 div.sk-item {position: relative;z-index: 1;}#sk-container-id-1 div.sk-parallel {display: flex;align-items: stretch;justify-content: center;background-color: white;position: relative;}#sk-container-id-1 div.sk-item::before, #sk-container-id-1 div.sk-parallel-item::before {content: \"\";position: absolute;border-left: 1px solid gray;box-sizing: border-box;top: 0;bottom: 0;left: 50%;z-index: -1;}#sk-container-id-1 div.sk-parallel-item {display: flex;flex-direction: column;z-index: 1;position: relative;background-color: white;}#sk-container-id-1 div.sk-parallel-item:first-child::after {align-self: flex-end;width: 50%;}#sk-container-id-1 div.sk-parallel-item:last-child::after {align-self: flex-start;width: 50%;}#sk-container-id-1 div.sk-parallel-item:only-child::after {width: 0;}#sk-container-id-1 div.sk-dashed-wrapped {border: 1px dashed gray;margin: 0 0.4em 0.5em 0.4em;box-sizing: border-box;padding-bottom: 0.4em;background-color: white;}#sk-container-id-1 div.sk-label label {font-family: monospace;font-weight: bold;display: inline-block;line-height: 1.2em;}#sk-container-id-1 div.sk-label-container {text-align: center;}#sk-container-id-1 div.sk-container {/* jupyter's `normalize.less` sets `[hidden] { display: none; }` but bootstrap.min.css set `[hidden] { display: none !important; }` so we also need the `!important` here to be able to override the default hidden behavior on the sphinx rendered scikit-learn.org. See: https://github.com/scikit-learn/scikit-learn/issues/21755 */display: inline-block !important;position: relative;}#sk-container-id-1 div.sk-text-repr-fallback {display: none;}</style><div id=\"sk-container-id-1\" class=\"sk-top-container\"><div class=\"sk-text-repr-fallback\"><pre>GridSearchCV(cv=5, estimator=SVC(class_weight=&#x27;balanced&#x27;, random_state=42),\n",
       "             param_grid={&#x27;C&#x27;: [0.1, 1, 10, 100], &#x27;gamma&#x27;: [&#x27;scale&#x27;, &#x27;auto&#x27;],\n",
       "                         &#x27;kernel&#x27;: [&#x27;linear&#x27;, &#x27;rbf&#x27;, &#x27;poly&#x27;, &#x27;sigmoid&#x27;]},\n",
       "             scoring=&#x27;accuracy&#x27;)</pre><b>In a Jupyter environment, please rerun this cell to show the HTML representation or trust the notebook. <br />On GitHub, the HTML representation is unable to render, please try loading this page with nbviewer.org.</b></div><div class=\"sk-container\" hidden><div class=\"sk-item sk-dashed-wrapped\"><div class=\"sk-label-container\"><div class=\"sk-label sk-toggleable\"><input class=\"sk-toggleable__control sk-hidden--visually\" id=\"sk-estimator-id-1\" type=\"checkbox\" ><label for=\"sk-estimator-id-1\" class=\"sk-toggleable__label sk-toggleable__label-arrow\">GridSearchCV</label><div class=\"sk-toggleable__content\"><pre>GridSearchCV(cv=5, estimator=SVC(class_weight=&#x27;balanced&#x27;, random_state=42),\n",
       "             param_grid={&#x27;C&#x27;: [0.1, 1, 10, 100], &#x27;gamma&#x27;: [&#x27;scale&#x27;, &#x27;auto&#x27;],\n",
       "                         &#x27;kernel&#x27;: [&#x27;linear&#x27;, &#x27;rbf&#x27;, &#x27;poly&#x27;, &#x27;sigmoid&#x27;]},\n",
       "             scoring=&#x27;accuracy&#x27;)</pre></div></div></div><div class=\"sk-parallel\"><div class=\"sk-parallel-item\"><div class=\"sk-item\"><div class=\"sk-label-container\"><div class=\"sk-label sk-toggleable\"><input class=\"sk-toggleable__control sk-hidden--visually\" id=\"sk-estimator-id-2\" type=\"checkbox\" ><label for=\"sk-estimator-id-2\" class=\"sk-toggleable__label sk-toggleable__label-arrow\">estimator: SVC</label><div class=\"sk-toggleable__content\"><pre>SVC(class_weight=&#x27;balanced&#x27;, random_state=42)</pre></div></div></div><div class=\"sk-serial\"><div class=\"sk-item\"><div class=\"sk-estimator sk-toggleable\"><input class=\"sk-toggleable__control sk-hidden--visually\" id=\"sk-estimator-id-3\" type=\"checkbox\" ><label for=\"sk-estimator-id-3\" class=\"sk-toggleable__label sk-toggleable__label-arrow\">SVC</label><div class=\"sk-toggleable__content\"><pre>SVC(class_weight=&#x27;balanced&#x27;, random_state=42)</pre></div></div></div></div></div></div></div></div></div></div>"
      ],
      "text/plain": [
       "GridSearchCV(cv=5, estimator=SVC(class_weight='balanced', random_state=42),\n",
       "             param_grid={'C': [0.1, 1, 10, 100], 'gamma': ['scale', 'auto'],\n",
       "                         'kernel': ['linear', 'rbf', 'poly', 'sigmoid']},\n",
       "             scoring='accuracy')"
      ]
     },
     "execution_count": 30,
     "metadata": {},
     "output_type": "execute_result"
    }
   ],
   "source": [
    "param_grid = {\n",
    "    'C': [0.1, 1, 10, 100],\n",
    "    'kernel': ['linear', 'rbf', 'poly', 'sigmoid'],\n",
    "    'gamma': ['scale', 'auto']\n",
    "}\n",
    "\n",
    "grid_search = GridSearchCV(SVC(class_weight='balanced', random_state=42), param_grid, cv=5, scoring='accuracy')\n",
    "grid_search.fit(X_train, y_train)"
   ]
  },
  {
   "cell_type": "code",
   "execution_count": 31,
   "metadata": {},
   "outputs": [
    {
     "data": {
      "text/html": [
       "<style>#sk-container-id-2 {color: black;}#sk-container-id-2 pre{padding: 0;}#sk-container-id-2 div.sk-toggleable {background-color: white;}#sk-container-id-2 label.sk-toggleable__label {cursor: pointer;display: block;width: 100%;margin-bottom: 0;padding: 0.3em;box-sizing: border-box;text-align: center;}#sk-container-id-2 label.sk-toggleable__label-arrow:before {content: \"▸\";float: left;margin-right: 0.25em;color: #696969;}#sk-container-id-2 label.sk-toggleable__label-arrow:hover:before {color: black;}#sk-container-id-2 div.sk-estimator:hover label.sk-toggleable__label-arrow:before {color: black;}#sk-container-id-2 div.sk-toggleable__content {max-height: 0;max-width: 0;overflow: hidden;text-align: left;background-color: #f0f8ff;}#sk-container-id-2 div.sk-toggleable__content pre {margin: 0.2em;color: black;border-radius: 0.25em;background-color: #f0f8ff;}#sk-container-id-2 input.sk-toggleable__control:checked~div.sk-toggleable__content {max-height: 200px;max-width: 100%;overflow: auto;}#sk-container-id-2 input.sk-toggleable__control:checked~label.sk-toggleable__label-arrow:before {content: \"▾\";}#sk-container-id-2 div.sk-estimator input.sk-toggleable__control:checked~label.sk-toggleable__label {background-color: #d4ebff;}#sk-container-id-2 div.sk-label input.sk-toggleable__control:checked~label.sk-toggleable__label {background-color: #d4ebff;}#sk-container-id-2 input.sk-hidden--visually {border: 0;clip: rect(1px 1px 1px 1px);clip: rect(1px, 1px, 1px, 1px);height: 1px;margin: -1px;overflow: hidden;padding: 0;position: absolute;width: 1px;}#sk-container-id-2 div.sk-estimator {font-family: monospace;background-color: #f0f8ff;border: 1px dotted black;border-radius: 0.25em;box-sizing: border-box;margin-bottom: 0.5em;}#sk-container-id-2 div.sk-estimator:hover {background-color: #d4ebff;}#sk-container-id-2 div.sk-parallel-item::after {content: \"\";width: 100%;border-bottom: 1px solid gray;flex-grow: 1;}#sk-container-id-2 div.sk-label:hover label.sk-toggleable__label {background-color: #d4ebff;}#sk-container-id-2 div.sk-serial::before {content: \"\";position: absolute;border-left: 1px solid gray;box-sizing: border-box;top: 0;bottom: 0;left: 50%;z-index: 0;}#sk-container-id-2 div.sk-serial {display: flex;flex-direction: column;align-items: center;background-color: white;padding-right: 0.2em;padding-left: 0.2em;position: relative;}#sk-container-id-2 div.sk-item {position: relative;z-index: 1;}#sk-container-id-2 div.sk-parallel {display: flex;align-items: stretch;justify-content: center;background-color: white;position: relative;}#sk-container-id-2 div.sk-item::before, #sk-container-id-2 div.sk-parallel-item::before {content: \"\";position: absolute;border-left: 1px solid gray;box-sizing: border-box;top: 0;bottom: 0;left: 50%;z-index: -1;}#sk-container-id-2 div.sk-parallel-item {display: flex;flex-direction: column;z-index: 1;position: relative;background-color: white;}#sk-container-id-2 div.sk-parallel-item:first-child::after {align-self: flex-end;width: 50%;}#sk-container-id-2 div.sk-parallel-item:last-child::after {align-self: flex-start;width: 50%;}#sk-container-id-2 div.sk-parallel-item:only-child::after {width: 0;}#sk-container-id-2 div.sk-dashed-wrapped {border: 1px dashed gray;margin: 0 0.4em 0.5em 0.4em;box-sizing: border-box;padding-bottom: 0.4em;background-color: white;}#sk-container-id-2 div.sk-label label {font-family: monospace;font-weight: bold;display: inline-block;line-height: 1.2em;}#sk-container-id-2 div.sk-label-container {text-align: center;}#sk-container-id-2 div.sk-container {/* jupyter's `normalize.less` sets `[hidden] { display: none; }` but bootstrap.min.css set `[hidden] { display: none !important; }` so we also need the `!important` here to be able to override the default hidden behavior on the sphinx rendered scikit-learn.org. See: https://github.com/scikit-learn/scikit-learn/issues/21755 */display: inline-block !important;position: relative;}#sk-container-id-2 div.sk-text-repr-fallback {display: none;}</style><div id=\"sk-container-id-2\" class=\"sk-top-container\"><div class=\"sk-text-repr-fallback\"><pre>SVC(C=10, class_weight=&#x27;balanced&#x27;, random_state=42)</pre><b>In a Jupyter environment, please rerun this cell to show the HTML representation or trust the notebook. <br />On GitHub, the HTML representation is unable to render, please try loading this page with nbviewer.org.</b></div><div class=\"sk-container\" hidden><div class=\"sk-item\"><div class=\"sk-estimator sk-toggleable\"><input class=\"sk-toggleable__control sk-hidden--visually\" id=\"sk-estimator-id-4\" type=\"checkbox\" checked><label for=\"sk-estimator-id-4\" class=\"sk-toggleable__label sk-toggleable__label-arrow\">SVC</label><div class=\"sk-toggleable__content\"><pre>SVC(C=10, class_weight=&#x27;balanced&#x27;, random_state=42)</pre></div></div></div></div></div>"
      ],
      "text/plain": [
       "SVC(C=10, class_weight='balanced', random_state=42)"
      ]
     },
     "execution_count": 31,
     "metadata": {},
     "output_type": "execute_result"
    }
   ],
   "source": [
    "grid_search.best_estimator_"
   ]
  },
  {
   "cell_type": "code",
   "execution_count": 32,
   "metadata": {},
   "outputs": [
    {
     "name": "stdout",
     "output_type": "stream",
     "text": [
      "{'C': 10, 'gamma': 'scale', 'kernel': 'rbf'}\n"
     ]
    }
   ],
   "source": [
    "print(grid_search.best_params_)"
   ]
  },
  {
   "cell_type": "code",
   "execution_count": null,
   "metadata": {},
   "outputs": [],
   "source": []
  },
  {
   "cell_type": "code",
   "execution_count": null,
   "metadata": {},
   "outputs": [],
   "source": []
  },
  {
   "cell_type": "code",
   "execution_count": null,
   "metadata": {},
   "outputs": [],
   "source": []
  },
  {
   "cell_type": "code",
   "execution_count": null,
   "metadata": {},
   "outputs": [],
   "source": []
  },
  {
   "cell_type": "markdown",
   "metadata": {},
   "source": [
    "## KNN using TDIDF Vectorizer"
   ]
  },
  {
   "cell_type": "code",
   "execution_count": 47,
   "metadata": {},
   "outputs": [],
   "source": [
    "tfidf_vectorizer = TfidfVectorizer(stop_words='english', min_df=0.05)"
   ]
  },
  {
   "cell_type": "code",
   "execution_count": 48,
   "metadata": {},
   "outputs": [],
   "source": [
    "X_tfidf = tfidf_vectorizer.fit_transform(df['definition'])\n",
    "dense_X_tfidf = X_tfidf.toarray()\n"
   ]
  },
  {
   "cell_type": "code",
   "execution_count": 49,
   "metadata": {},
   "outputs": [],
   "source": [
    "scaler = StandardScaler()\n",
    "X_normalized_tfidf = scaler.fit_transform(dense_X_tfidf)"
   ]
  },
  {
   "cell_type": "code",
   "execution_count": 50,
   "metadata": {},
   "outputs": [],
   "source": [
    "X_train, X_test, y_train, y_test = train_test_split(X_normalized_tfidf, y, test_size=0.2, random_state=42)"
   ]
  },
  {
   "cell_type": "code",
   "execution_count": 51,
   "metadata": {},
   "outputs": [],
   "source": [
    "knn = KNeighborsClassifier(n_neighbors = 6)\n",
    "knn.fit(X_train,y_train)\n",
    "y_pred = knn.predict(X_test)"
   ]
  },
  {
   "cell_type": "code",
   "execution_count": 52,
   "metadata": {},
   "outputs": [
    {
     "data": {
      "text/plain": [
       "0.9273782727165027"
      ]
     },
     "execution_count": 52,
     "metadata": {},
     "output_type": "execute_result"
    }
   ],
   "source": [
    "accuracy_score(y_test,y_pred)"
   ]
  },
  {
   "cell_type": "code",
   "execution_count": 53,
   "metadata": {},
   "outputs": [
    {
     "data": {
      "text/plain": [
       "array([[5193,  255,   91],\n",
       "       [ 113,  528,   51],\n",
       "       [  66,   37, 2107]])"
      ]
     },
     "execution_count": 53,
     "metadata": {},
     "output_type": "execute_result"
    }
   ],
   "source": [
    "confusion_matrix(y_pred,y_test)"
   ]
  },
  {
   "cell_type": "code",
   "execution_count": 59,
   "metadata": {},
   "outputs": [],
   "source": [
    "acc = []\n",
    "for i in range(1,10):\n",
    "    neigh = KNeighborsClassifier(n_neighbors = i).fit(X_train,y_train)\n",
    "    yhat = neigh.predict(X_test)\n",
    "    acc.append(accuracy_score(y_test, yhat))"
   ]
  },
  {
   "cell_type": "code",
   "execution_count": 60,
   "metadata": {},
   "outputs": [
    {
     "data": {
      "text/plain": [
       "Text(0, 0.5, 'Accuracy')"
      ]
     },
     "execution_count": 60,
     "metadata": {},
     "output_type": "execute_result"
    },
    {
     "data": {
      "image/png": "[encoded data removed]",
      "text/plain": [
       "<Figure size 1000x600 with 1 Axes>"
      ]
     },
     "metadata": {},
     "output_type": "display_data"
    }
   ],
   "source": [
    "plt.figure(figsize=(10,6))\n",
    "plt.plot(range(1,10),acc,color = 'blue',linestyle='dashed', \n",
    "         marker='o',markerfacecolor='red', markersize=10)\n",
    "plt.title('accuracy vs. K Value')\n",
    "plt.xlabel('K')\n",
    "plt.ylabel('Accuracy')"
   ]
  },
  {
   "cell_type": "code",
   "execution_count": 57,
   "metadata": {},
   "outputs": [
    {
     "data": {
      "text/plain": [
       "0.9273782727165027"
      ]
     },
     "execution_count": 57,
     "metadata": {},
     "output_type": "execute_result"
    }
   ],
   "source": [
    "max(acc)"
   ]
  },
  {
   "cell_type": "markdown",
   "metadata": {},
   "source": [
    "KNN using tfidfvectoriuzer on Normalized data"
   ]
  },
  {
   "cell_type": "code",
   "execution_count": null,
   "metadata": {},
   "outputs": [],
   "source": [
    "scaler = StandardScaler()\n",
    "X_normalized = scaler.fit_transform(dense_X_tfidf)"
   ]
  },
  {
   "cell_type": "code",
   "execution_count": null,
   "metadata": {},
   "outputs": [],
   "source": []
  },
  {
   "cell_type": "code",
   "execution_count": null,
   "metadata": {},
   "outputs": [],
   "source": []
  },
  {
   "cell_type": "code",
   "execution_count": null,
   "metadata": {},
   "outputs": [],
   "source": []
  },
  {
   "cell_type": "markdown",
   "metadata": {},
   "source": [
    "### Method\n",
    "\n",
    "1. Breakdown input text into feature set\n",
    "2. Run KNN on definitions using feature set"
   ]
  },
  {
   "cell_type": "markdown",
   "metadata": {},
   "source": []
  },
  {
   "cell_type": "markdown",
   "metadata": {},
   "source": [
    "##### Function to get feature set from an input text\n",
    "\n",
    "\n"
   ]
  },
  {
   "cell_type": "code",
   "execution_count": 76,
   "metadata": {},
   "outputs": [],
   "source": [
    "\"\"\"\n",
    "    Takes a paragraph \n",
    "\"\"\"\n",
    "def get_feature_set_from_text(input_text: str)->List[str]:\n",
    "    return []\n"
   ]
  }
 ],
 "metadata": {
  "kernelspec": {
   "display_name": "Python 3",
   "language": "python",
   "name": "python3"
  },
  "language_info": {
   "codemirror_mode": {
    "name": "ipython",
    "version": 3
   },
   "file_extension": ".py",
   "mimetype": "text/x-python",
   "name": "python",
   "nbconvert_exporter": "python",
   "pygments_lexer": "ipython3",
   "version": "3.11.1"
  },
  "orig_nbformat": 4
 },
 "nbformat": 4,
 "nbformat_minor": 2
}
