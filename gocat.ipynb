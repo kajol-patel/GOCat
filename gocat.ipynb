{
 "cells": [
  {
   "cell_type": "code",
   "execution_count": 76,
   "metadata": {},
   "outputs": [],
   "source": [
    "import pandas as pd\n",
    "import os\n",
    "from typing import List\n",
    "from sklearn.feature_extraction.text import CountVectorizer, TfidfVectorizer\n",
    "from sklearn.preprocessing import StandardScaler\n",
    "from sklearn.model_selection import train_test_split, GridSearchCV, RandomizedSearchCV\n",
    "from sklearn.neighbors import KNeighborsClassifier\n",
    "from sklearn.metrics import accuracy_score, confusion_matrix, classification_report\n",
    "import matplotlib.pyplot as plt\n",
    "from sklearn.svm import SVC\n",
    "from sklearn.ensemble import RandomForestClassifier\n",
    "from sklearn.utils import resample\n",
    "from sklearn.decomposition import PCA\n",
    "import numpy as np\n",
    "from matplotlib.colors import ListedColormap\n",
    "from imblearn.over_sampling import SMOTE\n"
   ]
  },
  {
   "cell_type": "code",
   "execution_count": 3,
   "metadata": {},
   "outputs": [],
   "source": [
    "go_file = \"/Users/kajolpatel/Desktop/Individual_Project/poc/go-basic.obo\""
   ]
  },
  {
   "cell_type": "markdown",
   "metadata": {},
   "source": [
    "### Parse the Dataset"
   ]
  },
  {
   "cell_type": "code",
   "execution_count": 4,
   "metadata": {},
   "outputs": [],
   "source": [
    "def parse_obo_file(file_path):\n",
    "    \n",
    "    data = []\n",
    "    current_term = {}\n",
    "    in_term_block = False\n",
    "    \n",
    "    with open(file_path, 'r') as file:\n",
    "        for line in file:\n",
    "            line = line.strip()\n",
    "            if line == '[Term]':  #starting a new term block\n",
    "                if current_term:\n",
    "                    data.append(current_term)\n",
    "                current_term = {}\n",
    "                in_term_block = True\n",
    "            elif line == '':\n",
    "                in_term_block = False  #end of a term block\n",
    "            elif in_term_block:\n",
    "                if ': ' in line:\n",
    "                    key, value = line.split(': ', 1)\n",
    "                    if key in current_term:  #handling multiple lines of the same key\n",
    "                        if isinstance(current_term[key], list):\n",
    "                            current_term[key].append(value)\n",
    "                        else:\n",
    "                            current_term[key] = [current_term[key], value]\n",
    "                    else:\n",
    "                        current_term[key] = value\n",
    "\n",
    "    \n",
    "    if current_term: #add the last term if file does not end with a newline\n",
    "        data.append(current_term)\n",
    "\n",
    "    return pd.DataFrame(data)\n",
    "\n",
    "df = parse_obo_file(go_file)\n"
   ]
  },
  {
   "cell_type": "code",
   "execution_count": 5,
   "metadata": {},
   "outputs": [],
   "source": [
    "#ypdating 'def' column to 'definition'\n",
    "df = df.rename(columns={'def': 'definition'}) "
   ]
  },
  {
   "cell_type": "code",
   "execution_count": 6,
   "metadata": {},
   "outputs": [
    {
     "data": {
      "text/html": [
       "<div>\n",
       "<style scoped>\n",
       "    .dataframe tbody tr th:only-of-type {\n",
       "        vertical-align: middle;\n",
       "    }\n",
       "\n",
       "    .dataframe tbody tr th {\n",
       "        vertical-align: top;\n",
       "    }\n",
       "\n",
       "    .dataframe thead th {\n",
       "        text-align: right;\n",
       "    }\n",
       "</style>\n",
       "<table border=\"1\" class=\"dataframe\">\n",
       "  <thead>\n",
       "    <tr style=\"text-align: right;\">\n",
       "      <th></th>\n",
       "      <th>id</th>\n",
       "      <th>name</th>\n",
       "      <th>namespace</th>\n",
       "      <th>definition</th>\n",
       "      <th>synonym</th>\n",
       "      <th>is_a</th>\n",
       "      <th>alt_id</th>\n",
       "      <th>comment</th>\n",
       "      <th>is_obsolete</th>\n",
       "      <th>replaced_by</th>\n",
       "      <th>consider</th>\n",
       "      <th>xref</th>\n",
       "      <th>subset</th>\n",
       "      <th>relationship</th>\n",
       "    </tr>\n",
       "  </thead>\n",
       "  <tbody>\n",
       "    <tr>\n",
       "      <th>0</th>\n",
       "      <td>GO:0000001</td>\n",
       "      <td>mitochondrion inheritance</td>\n",
       "      <td>biological_process</td>\n",
       "      <td>\"The distribution of mitochondria, including t...</td>\n",
       "      <td>\"mitochondrial inheritance\" EXACT []</td>\n",
       "      <td>[GO:0048308 ! organelle inheritance, GO:004831...</td>\n",
       "      <td>NaN</td>\n",
       "      <td>NaN</td>\n",
       "      <td>NaN</td>\n",
       "      <td>NaN</td>\n",
       "      <td>NaN</td>\n",
       "      <td>NaN</td>\n",
       "      <td>NaN</td>\n",
       "      <td>NaN</td>\n",
       "    </tr>\n",
       "    <tr>\n",
       "      <th>1</th>\n",
       "      <td>GO:0000002</td>\n",
       "      <td>mitochondrial genome maintenance</td>\n",
       "      <td>biological_process</td>\n",
       "      <td>\"The maintenance of the structure and integrit...</td>\n",
       "      <td>NaN</td>\n",
       "      <td>GO:0007005 ! mitochondrion organization</td>\n",
       "      <td>NaN</td>\n",
       "      <td>NaN</td>\n",
       "      <td>NaN</td>\n",
       "      <td>NaN</td>\n",
       "      <td>NaN</td>\n",
       "      <td>NaN</td>\n",
       "      <td>NaN</td>\n",
       "      <td>NaN</td>\n",
       "    </tr>\n",
       "    <tr>\n",
       "      <th>2</th>\n",
       "      <td>GO:0000003</td>\n",
       "      <td>obsolete reproduction</td>\n",
       "      <td>biological_process</td>\n",
       "      <td>\"OBSOLETE. The production of new individuals t...</td>\n",
       "      <td>\"reproductive physiological process\" EXACT []</td>\n",
       "      <td>NaN</td>\n",
       "      <td>[GO:0019952, GO:0050876]</td>\n",
       "      <td>The reason for obsoletion is that this term is...</td>\n",
       "      <td>true</td>\n",
       "      <td>GO:0022414</td>\n",
       "      <td>NaN</td>\n",
       "      <td>NaN</td>\n",
       "      <td>NaN</td>\n",
       "      <td>NaN</td>\n",
       "    </tr>\n",
       "    <tr>\n",
       "      <th>3</th>\n",
       "      <td>GO:0000005</td>\n",
       "      <td>obsolete ribosomal chaperone activity</td>\n",
       "      <td>molecular_function</td>\n",
       "      <td>\"OBSOLETE. Assists in the correct assembly of ...</td>\n",
       "      <td>\"ribosomal chaperone activity\" EXACT []</td>\n",
       "      <td>NaN</td>\n",
       "      <td>NaN</td>\n",
       "      <td>This term was made obsolete because it refers ...</td>\n",
       "      <td>true</td>\n",
       "      <td>NaN</td>\n",
       "      <td>[GO:0042254, GO:0044183, GO:0051082]</td>\n",
       "      <td>NaN</td>\n",
       "      <td>NaN</td>\n",
       "      <td>NaN</td>\n",
       "    </tr>\n",
       "  </tbody>\n",
       "</table>\n",
       "</div>"
      ],
      "text/plain": [
       "           id                                   name           namespace  \\\n",
       "0  GO:0000001              mitochondrion inheritance  biological_process   \n",
       "1  GO:0000002       mitochondrial genome maintenance  biological_process   \n",
       "2  GO:0000003                  obsolete reproduction  biological_process   \n",
       "3  GO:0000005  obsolete ribosomal chaperone activity  molecular_function   \n",
       "\n",
       "                                          definition  \\\n",
       "0  \"The distribution of mitochondria, including t...   \n",
       "1  \"The maintenance of the structure and integrit...   \n",
       "2  \"OBSOLETE. The production of new individuals t...   \n",
       "3  \"OBSOLETE. Assists in the correct assembly of ...   \n",
       "\n",
       "                                         synonym  \\\n",
       "0           \"mitochondrial inheritance\" EXACT []   \n",
       "1                                            NaN   \n",
       "2  \"reproductive physiological process\" EXACT []   \n",
       "3        \"ribosomal chaperone activity\" EXACT []   \n",
       "\n",
       "                                                is_a  \\\n",
       "0  [GO:0048308 ! organelle inheritance, GO:004831...   \n",
       "1            GO:0007005 ! mitochondrion organization   \n",
       "2                                                NaN   \n",
       "3                                                NaN   \n",
       "\n",
       "                     alt_id  \\\n",
       "0                       NaN   \n",
       "1                       NaN   \n",
       "2  [GO:0019952, GO:0050876]   \n",
       "3                       NaN   \n",
       "\n",
       "                                             comment is_obsolete replaced_by  \\\n",
       "0                                                NaN         NaN         NaN   \n",
       "1                                                NaN         NaN         NaN   \n",
       "2  The reason for obsoletion is that this term is...        true  GO:0022414   \n",
       "3  This term was made obsolete because it refers ...        true         NaN   \n",
       "\n",
       "                               consider xref subset relationship  \n",
       "0                                   NaN  NaN    NaN          NaN  \n",
       "1                                   NaN  NaN    NaN          NaN  \n",
       "2                                   NaN  NaN    NaN          NaN  \n",
       "3  [GO:0042254, GO:0044183, GO:0051082]  NaN    NaN          NaN  "
      ]
     },
     "execution_count": 6,
     "metadata": {},
     "output_type": "execute_result"
    }
   ],
   "source": [
    "df.head(4)"
   ]
  },
  {
   "cell_type": "code",
   "execution_count": 7,
   "metadata": {},
   "outputs": [
    {
     "data": {
      "text/plain": [
       "47856"
      ]
     },
     "execution_count": 7,
     "metadata": {},
     "output_type": "execute_result"
    }
   ],
   "source": [
    "df['id'].nunique()"
   ]
  },
  {
   "cell_type": "code",
   "execution_count": 8,
   "metadata": {},
   "outputs": [
    {
     "data": {
      "text/plain": [
       "3"
      ]
     },
     "execution_count": 8,
     "metadata": {},
     "output_type": "execute_result"
    }
   ],
   "source": [
    "df.namespace.nunique()"
   ]
  },
  {
   "cell_type": "code",
   "execution_count": 9,
   "metadata": {},
   "outputs": [
    {
     "data": {
      "text/plain": [
       "namespace\n",
       "biological_process    30723\n",
       "molecular_function    12614\n",
       "cellular_component     4519\n",
       "Name: count, dtype: int64"
      ]
     },
     "execution_count": 9,
     "metadata": {},
     "output_type": "execute_result"
    }
   ],
   "source": [
    "df.namespace.value_counts()\n"
   ]
  },
  {
   "cell_type": "code",
   "execution_count": 10,
   "metadata": {},
   "outputs": [
    {
     "data": {
      "text/html": [
       "<div>\n",
       "<style scoped>\n",
       "    .dataframe tbody tr th:only-of-type {\n",
       "        vertical-align: middle;\n",
       "    }\n",
       "\n",
       "    .dataframe tbody tr th {\n",
       "        vertical-align: top;\n",
       "    }\n",
       "\n",
       "    .dataframe thead th {\n",
       "        text-align: right;\n",
       "    }\n",
       "</style>\n",
       "<table border=\"1\" class=\"dataframe\">\n",
       "  <thead>\n",
       "    <tr style=\"text-align: right;\">\n",
       "      <th></th>\n",
       "      <th>id</th>\n",
       "      <th>name</th>\n",
       "      <th>namespace</th>\n",
       "      <th>definition</th>\n",
       "      <th>synonym</th>\n",
       "      <th>is_a</th>\n",
       "      <th>alt_id</th>\n",
       "      <th>comment</th>\n",
       "      <th>is_obsolete</th>\n",
       "      <th>replaced_by</th>\n",
       "      <th>consider</th>\n",
       "      <th>xref</th>\n",
       "      <th>subset</th>\n",
       "      <th>relationship</th>\n",
       "    </tr>\n",
       "  </thead>\n",
       "  <tbody>\n",
       "    <tr>\n",
       "      <th>2</th>\n",
       "      <td>GO:0000003</td>\n",
       "      <td>obsolete reproduction</td>\n",
       "      <td>biological_process</td>\n",
       "      <td>\"OBSOLETE. The production of new individuals t...</td>\n",
       "      <td>\"reproductive physiological process\" EXACT []</td>\n",
       "      <td>NaN</td>\n",
       "      <td>[GO:0019952, GO:0050876]</td>\n",
       "      <td>The reason for obsoletion is that this term is...</td>\n",
       "      <td>true</td>\n",
       "      <td>GO:0022414</td>\n",
       "      <td>NaN</td>\n",
       "      <td>NaN</td>\n",
       "      <td>NaN</td>\n",
       "      <td>NaN</td>\n",
       "    </tr>\n",
       "    <tr>\n",
       "      <th>3</th>\n",
       "      <td>GO:0000005</td>\n",
       "      <td>obsolete ribosomal chaperone activity</td>\n",
       "      <td>molecular_function</td>\n",
       "      <td>\"OBSOLETE. Assists in the correct assembly of ...</td>\n",
       "      <td>\"ribosomal chaperone activity\" EXACT []</td>\n",
       "      <td>NaN</td>\n",
       "      <td>NaN</td>\n",
       "      <td>This term was made obsolete because it refers ...</td>\n",
       "      <td>true</td>\n",
       "      <td>NaN</td>\n",
       "      <td>[GO:0042254, GO:0044183, GO:0051082]</td>\n",
       "      <td>NaN</td>\n",
       "      <td>NaN</td>\n",
       "      <td>NaN</td>\n",
       "    </tr>\n",
       "    <tr>\n",
       "      <th>6</th>\n",
       "      <td>GO:0000008</td>\n",
       "      <td>obsolete thioredoxin</td>\n",
       "      <td>molecular_function</td>\n",
       "      <td>\"OBSOLETE. A small disulfide-containing redox ...</td>\n",
       "      <td>\"thioredoxin\" EXACT []</td>\n",
       "      <td>NaN</td>\n",
       "      <td>GO:0000013</td>\n",
       "      <td>This term was made obsolete because it represe...</td>\n",
       "      <td>true</td>\n",
       "      <td>NaN</td>\n",
       "      <td>[GO:0003756, GO:0015036]</td>\n",
       "      <td>NaN</td>\n",
       "      <td>NaN</td>\n",
       "      <td>NaN</td>\n",
       "    </tr>\n",
       "    <tr>\n",
       "      <th>17</th>\n",
       "      <td>GO:0000020</td>\n",
       "      <td>obsolete negative regulation of recombination ...</td>\n",
       "      <td>biological_process</td>\n",
       "      <td>\"OBSOLETE. Any process that stops, prevents, o...</td>\n",
       "      <td>\"negative regulation of recombination within r...</td>\n",
       "      <td>NaN</td>\n",
       "      <td>NaN</td>\n",
       "      <td>This term was made obsolete because it describ...</td>\n",
       "      <td>true</td>\n",
       "      <td>NaN</td>\n",
       "      <td>GO:0045950</td>\n",
       "      <td>NaN</td>\n",
       "      <td>NaN</td>\n",
       "      <td>NaN</td>\n",
       "    </tr>\n",
       "    <tr>\n",
       "      <th>33</th>\n",
       "      <td>GO:0000039</td>\n",
       "      <td>obsolete plasma membrane long-chain fatty acid...</td>\n",
       "      <td>molecular_function</td>\n",
       "      <td>\"OBSOLETE. (Was not defined before being made ...</td>\n",
       "      <td>\"plasma membrane long-chain fatty acid transpo...</td>\n",
       "      <td>NaN</td>\n",
       "      <td>NaN</td>\n",
       "      <td>This term was made obsolete because it describ...</td>\n",
       "      <td>true</td>\n",
       "      <td>NaN</td>\n",
       "      <td>[GO:0005324, GO:0005886]</td>\n",
       "      <td>NaN</td>\n",
       "      <td>NaN</td>\n",
       "      <td>NaN</td>\n",
       "    </tr>\n",
       "    <tr>\n",
       "      <th>...</th>\n",
       "      <td>...</td>\n",
       "      <td>...</td>\n",
       "      <td>...</td>\n",
       "      <td>...</td>\n",
       "      <td>...</td>\n",
       "      <td>...</td>\n",
       "      <td>...</td>\n",
       "      <td>...</td>\n",
       "      <td>...</td>\n",
       "      <td>...</td>\n",
       "      <td>...</td>\n",
       "      <td>...</td>\n",
       "      <td>...</td>\n",
       "      <td>...</td>\n",
       "    </tr>\n",
       "    <tr>\n",
       "      <th>47792</th>\n",
       "      <td>GO:2001254</td>\n",
       "      <td>obsolete negative regulation of histone H3-K36...</td>\n",
       "      <td>biological_process</td>\n",
       "      <td>\"OBSOLETE. Any process that stops, prevents or...</td>\n",
       "      <td>NaN</td>\n",
       "      <td>NaN</td>\n",
       "      <td>NaN</td>\n",
       "      <td>This term was obsoleted because it represents ...</td>\n",
       "      <td>true</td>\n",
       "      <td>NaN</td>\n",
       "      <td>GO:0006338</td>\n",
       "      <td>NaN</td>\n",
       "      <td>NaN</td>\n",
       "      <td>NaN</td>\n",
       "    </tr>\n",
       "    <tr>\n",
       "      <th>47793</th>\n",
       "      <td>GO:2001255</td>\n",
       "      <td>obsolete positive regulation of histone H3-K36...</td>\n",
       "      <td>biological_process</td>\n",
       "      <td>\"OBSOLETE. Any process that activates or incre...</td>\n",
       "      <td>NaN</td>\n",
       "      <td>NaN</td>\n",
       "      <td>NaN</td>\n",
       "      <td>This term was obsoleted because it represents ...</td>\n",
       "      <td>true</td>\n",
       "      <td>NaN</td>\n",
       "      <td>GO:0140673</td>\n",
       "      <td>NaN</td>\n",
       "      <td>NaN</td>\n",
       "      <td>NaN</td>\n",
       "    </tr>\n",
       "    <tr>\n",
       "      <th>47811</th>\n",
       "      <td>GO:2001273</td>\n",
       "      <td>obsolete regulation of glucose import in respo...</td>\n",
       "      <td>biological_process</td>\n",
       "      <td>\"OBSOLETE. Any process that modulates the freq...</td>\n",
       "      <td>\"regulation of cellular glucose import in resp...</td>\n",
       "      <td>NaN</td>\n",
       "      <td>NaN</td>\n",
       "      <td>This term was obsoleted because it represents ...</td>\n",
       "      <td>true</td>\n",
       "      <td>NaN</td>\n",
       "      <td>NaN</td>\n",
       "      <td>NaN</td>\n",
       "      <td>NaN</td>\n",
       "      <td>NaN</td>\n",
       "    </tr>\n",
       "    <tr>\n",
       "      <th>47812</th>\n",
       "      <td>GO:2001274</td>\n",
       "      <td>obsolete negative regulation of glucose import...</td>\n",
       "      <td>biological_process</td>\n",
       "      <td>\"OBSOLETE. Any process that stops, prevents or...</td>\n",
       "      <td>\"negative regulation of cellular glucose impor...</td>\n",
       "      <td>NaN</td>\n",
       "      <td>NaN</td>\n",
       "      <td>NaN</td>\n",
       "      <td>true</td>\n",
       "      <td>NaN</td>\n",
       "      <td>NaN</td>\n",
       "      <td>NaN</td>\n",
       "      <td>NaN</td>\n",
       "      <td>NaN</td>\n",
       "    </tr>\n",
       "    <tr>\n",
       "      <th>47813</th>\n",
       "      <td>GO:2001275</td>\n",
       "      <td>obsolete positive regulation of glucose import...</td>\n",
       "      <td>biological_process</td>\n",
       "      <td>\"OBSOLETE. Any process that activates or incre...</td>\n",
       "      <td>\"positive regulation of cellular glucose impor...</td>\n",
       "      <td>NaN</td>\n",
       "      <td>NaN</td>\n",
       "      <td>This term was obsoleted because it represents ...</td>\n",
       "      <td>true</td>\n",
       "      <td>NaN</td>\n",
       "      <td>NaN</td>\n",
       "      <td>NaN</td>\n",
       "      <td>NaN</td>\n",
       "      <td>NaN</td>\n",
       "    </tr>\n",
       "  </tbody>\n",
       "</table>\n",
       "<p>5653 rows × 14 columns</p>\n",
       "</div>"
      ],
      "text/plain": [
       "               id                                               name  \\\n",
       "2      GO:0000003                              obsolete reproduction   \n",
       "3      GO:0000005              obsolete ribosomal chaperone activity   \n",
       "6      GO:0000008                               obsolete thioredoxin   \n",
       "17     GO:0000020  obsolete negative regulation of recombination ...   \n",
       "33     GO:0000039  obsolete plasma membrane long-chain fatty acid...   \n",
       "...           ...                                                ...   \n",
       "47792  GO:2001254  obsolete negative regulation of histone H3-K36...   \n",
       "47793  GO:2001255  obsolete positive regulation of histone H3-K36...   \n",
       "47811  GO:2001273  obsolete regulation of glucose import in respo...   \n",
       "47812  GO:2001274  obsolete negative regulation of glucose import...   \n",
       "47813  GO:2001275  obsolete positive regulation of glucose import...   \n",
       "\n",
       "                namespace                                         definition  \\\n",
       "2      biological_process  \"OBSOLETE. The production of new individuals t...   \n",
       "3      molecular_function  \"OBSOLETE. Assists in the correct assembly of ...   \n",
       "6      molecular_function  \"OBSOLETE. A small disulfide-containing redox ...   \n",
       "17     biological_process  \"OBSOLETE. Any process that stops, prevents, o...   \n",
       "33     molecular_function  \"OBSOLETE. (Was not defined before being made ...   \n",
       "...                   ...                                                ...   \n",
       "47792  biological_process  \"OBSOLETE. Any process that stops, prevents or...   \n",
       "47793  biological_process  \"OBSOLETE. Any process that activates or incre...   \n",
       "47811  biological_process  \"OBSOLETE. Any process that modulates the freq...   \n",
       "47812  biological_process  \"OBSOLETE. Any process that stops, prevents or...   \n",
       "47813  biological_process  \"OBSOLETE. Any process that activates or incre...   \n",
       "\n",
       "                                                 synonym is_a  \\\n",
       "2          \"reproductive physiological process\" EXACT []  NaN   \n",
       "3                \"ribosomal chaperone activity\" EXACT []  NaN   \n",
       "6                                 \"thioredoxin\" EXACT []  NaN   \n",
       "17     \"negative regulation of recombination within r...  NaN   \n",
       "33     \"plasma membrane long-chain fatty acid transpo...  NaN   \n",
       "...                                                  ...  ...   \n",
       "47792                                                NaN  NaN   \n",
       "47793                                                NaN  NaN   \n",
       "47811  \"regulation of cellular glucose import in resp...  NaN   \n",
       "47812  \"negative regulation of cellular glucose impor...  NaN   \n",
       "47813  \"positive regulation of cellular glucose impor...  NaN   \n",
       "\n",
       "                         alt_id  \\\n",
       "2      [GO:0019952, GO:0050876]   \n",
       "3                           NaN   \n",
       "6                    GO:0000013   \n",
       "17                          NaN   \n",
       "33                          NaN   \n",
       "...                         ...   \n",
       "47792                       NaN   \n",
       "47793                       NaN   \n",
       "47811                       NaN   \n",
       "47812                       NaN   \n",
       "47813                       NaN   \n",
       "\n",
       "                                                 comment is_obsolete  \\\n",
       "2      The reason for obsoletion is that this term is...        true   \n",
       "3      This term was made obsolete because it refers ...        true   \n",
       "6      This term was made obsolete because it represe...        true   \n",
       "17     This term was made obsolete because it describ...        true   \n",
       "33     This term was made obsolete because it describ...        true   \n",
       "...                                                  ...         ...   \n",
       "47792  This term was obsoleted because it represents ...        true   \n",
       "47793  This term was obsoleted because it represents ...        true   \n",
       "47811  This term was obsoleted because it represents ...        true   \n",
       "47812                                                NaN        true   \n",
       "47813  This term was obsoleted because it represents ...        true   \n",
       "\n",
       "      replaced_by                              consider xref subset  \\\n",
       "2      GO:0022414                                   NaN  NaN    NaN   \n",
       "3             NaN  [GO:0042254, GO:0044183, GO:0051082]  NaN    NaN   \n",
       "6             NaN              [GO:0003756, GO:0015036]  NaN    NaN   \n",
       "17            NaN                            GO:0045950  NaN    NaN   \n",
       "33            NaN              [GO:0005324, GO:0005886]  NaN    NaN   \n",
       "...           ...                                   ...  ...    ...   \n",
       "47792         NaN                            GO:0006338  NaN    NaN   \n",
       "47793         NaN                            GO:0140673  NaN    NaN   \n",
       "47811         NaN                                   NaN  NaN    NaN   \n",
       "47812         NaN                                   NaN  NaN    NaN   \n",
       "47813         NaN                                   NaN  NaN    NaN   \n",
       "\n",
       "      relationship  \n",
       "2              NaN  \n",
       "3              NaN  \n",
       "6              NaN  \n",
       "17             NaN  \n",
       "33             NaN  \n",
       "...            ...  \n",
       "47792          NaN  \n",
       "47793          NaN  \n",
       "47811          NaN  \n",
       "47812          NaN  \n",
       "47813          NaN  \n",
       "\n",
       "[5653 rows x 14 columns]"
      ]
     },
     "execution_count": 10,
     "metadata": {},
     "output_type": "execute_result"
    }
   ],
   "source": [
    "df[df.is_obsolete == 'true']"
   ]
  },
  {
   "cell_type": "code",
   "execution_count": 11,
   "metadata": {},
   "outputs": [
    {
     "data": {
      "text/html": [
       "<div>\n",
       "<style scoped>\n",
       "    .dataframe tbody tr th:only-of-type {\n",
       "        vertical-align: middle;\n",
       "    }\n",
       "\n",
       "    .dataframe tbody tr th {\n",
       "        vertical-align: top;\n",
       "    }\n",
       "\n",
       "    .dataframe thead th {\n",
       "        text-align: right;\n",
       "    }\n",
       "</style>\n",
       "<table border=\"1\" class=\"dataframe\">\n",
       "  <thead>\n",
       "    <tr style=\"text-align: right;\">\n",
       "      <th></th>\n",
       "      <th>id</th>\n",
       "      <th>name</th>\n",
       "      <th>namespace</th>\n",
       "      <th>definition</th>\n",
       "      <th>synonym</th>\n",
       "      <th>is_a</th>\n",
       "      <th>alt_id</th>\n",
       "      <th>comment</th>\n",
       "      <th>is_obsolete</th>\n",
       "      <th>replaced_by</th>\n",
       "      <th>consider</th>\n",
       "      <th>xref</th>\n",
       "      <th>subset</th>\n",
       "      <th>relationship</th>\n",
       "    </tr>\n",
       "  </thead>\n",
       "  <tbody>\n",
       "    <tr>\n",
       "      <th>0</th>\n",
       "      <td>GO:0000001</td>\n",
       "      <td>mitochondrion inheritance</td>\n",
       "      <td>biological_process</td>\n",
       "      <td>\"The distribution of mitochondria, including t...</td>\n",
       "      <td>\"mitochondrial inheritance\" EXACT []</td>\n",
       "      <td>[GO:0048308 ! organelle inheritance, GO:004831...</td>\n",
       "      <td>NaN</td>\n",
       "      <td>NaN</td>\n",
       "      <td>NaN</td>\n",
       "      <td>NaN</td>\n",
       "      <td>NaN</td>\n",
       "      <td>NaN</td>\n",
       "      <td>NaN</td>\n",
       "      <td>NaN</td>\n",
       "    </tr>\n",
       "    <tr>\n",
       "      <th>1</th>\n",
       "      <td>GO:0000002</td>\n",
       "      <td>mitochondrial genome maintenance</td>\n",
       "      <td>biological_process</td>\n",
       "      <td>\"The maintenance of the structure and integrit...</td>\n",
       "      <td>NaN</td>\n",
       "      <td>GO:0007005 ! mitochondrion organization</td>\n",
       "      <td>NaN</td>\n",
       "      <td>NaN</td>\n",
       "      <td>NaN</td>\n",
       "      <td>NaN</td>\n",
       "      <td>NaN</td>\n",
       "      <td>NaN</td>\n",
       "      <td>NaN</td>\n",
       "      <td>NaN</td>\n",
       "    </tr>\n",
       "    <tr>\n",
       "      <th>4</th>\n",
       "      <td>GO:0000006</td>\n",
       "      <td>high-affinity zinc transmembrane transporter a...</td>\n",
       "      <td>molecular_function</td>\n",
       "      <td>\"Enables the transfer of zinc ions (Zn2+) from...</td>\n",
       "      <td>[\"high affinity zinc uptake transmembrane tran...</td>\n",
       "      <td>GO:0005385 ! zinc ion transmembrane transporte...</td>\n",
       "      <td>NaN</td>\n",
       "      <td>NaN</td>\n",
       "      <td>NaN</td>\n",
       "      <td>NaN</td>\n",
       "      <td>NaN</td>\n",
       "      <td>NaN</td>\n",
       "      <td>NaN</td>\n",
       "      <td>NaN</td>\n",
       "    </tr>\n",
       "    <tr>\n",
       "      <th>5</th>\n",
       "      <td>GO:0000007</td>\n",
       "      <td>low-affinity zinc ion transmembrane transporte...</td>\n",
       "      <td>molecular_function</td>\n",
       "      <td>\"Enables the transfer of a solute or solutes f...</td>\n",
       "      <td>NaN</td>\n",
       "      <td>GO:0005385 ! zinc ion transmembrane transporte...</td>\n",
       "      <td>NaN</td>\n",
       "      <td>NaN</td>\n",
       "      <td>NaN</td>\n",
       "      <td>NaN</td>\n",
       "      <td>NaN</td>\n",
       "      <td>NaN</td>\n",
       "      <td>NaN</td>\n",
       "      <td>NaN</td>\n",
       "    </tr>\n",
       "    <tr>\n",
       "      <th>7</th>\n",
       "      <td>GO:0000009</td>\n",
       "      <td>alpha-1,6-mannosyltransferase activity</td>\n",
       "      <td>molecular_function</td>\n",
       "      <td>\"Catalysis of the transfer of a mannose residu...</td>\n",
       "      <td>\"1,6-alpha-mannosyltransferase activity\" EXACT []</td>\n",
       "      <td>GO:0000030 ! mannosyltransferase activity</td>\n",
       "      <td>NaN</td>\n",
       "      <td>NaN</td>\n",
       "      <td>NaN</td>\n",
       "      <td>NaN</td>\n",
       "      <td>NaN</td>\n",
       "      <td>Reactome:R-HSA-449718 \"Addition of a third man...</td>\n",
       "      <td>NaN</td>\n",
       "      <td>NaN</td>\n",
       "    </tr>\n",
       "    <tr>\n",
       "      <th>...</th>\n",
       "      <td>...</td>\n",
       "      <td>...</td>\n",
       "      <td>...</td>\n",
       "      <td>...</td>\n",
       "      <td>...</td>\n",
       "      <td>...</td>\n",
       "      <td>...</td>\n",
       "      <td>...</td>\n",
       "      <td>...</td>\n",
       "      <td>...</td>\n",
       "      <td>...</td>\n",
       "      <td>...</td>\n",
       "      <td>...</td>\n",
       "      <td>...</td>\n",
       "    </tr>\n",
       "    <tr>\n",
       "      <th>47851</th>\n",
       "      <td>GO:2001313</td>\n",
       "      <td>UDP-4-deoxy-4-formamido-beta-L-arabinopyranose...</td>\n",
       "      <td>biological_process</td>\n",
       "      <td>\"The chemical reactions and pathways involving...</td>\n",
       "      <td>\"UDP-4-deoxy-4-formamido-beta-L-arabinopyranos...</td>\n",
       "      <td>[GO:0006040 ! amino sugar metabolic process, G...</td>\n",
       "      <td>NaN</td>\n",
       "      <td>NaN</td>\n",
       "      <td>NaN</td>\n",
       "      <td>NaN</td>\n",
       "      <td>NaN</td>\n",
       "      <td>NaN</td>\n",
       "      <td>NaN</td>\n",
       "      <td>NaN</td>\n",
       "    </tr>\n",
       "    <tr>\n",
       "      <th>47852</th>\n",
       "      <td>GO:2001314</td>\n",
       "      <td>UDP-4-deoxy-4-formamido-beta-L-arabinopyranose...</td>\n",
       "      <td>biological_process</td>\n",
       "      <td>\"The chemical reactions and pathways resulting...</td>\n",
       "      <td>[\"UDP-4-deoxy-4-formamido-beta-L-arabinopyrano...</td>\n",
       "      <td>[GO:0009227 ! nucleotide-sugar catabolic proce...</td>\n",
       "      <td>NaN</td>\n",
       "      <td>NaN</td>\n",
       "      <td>NaN</td>\n",
       "      <td>NaN</td>\n",
       "      <td>NaN</td>\n",
       "      <td>NaN</td>\n",
       "      <td>NaN</td>\n",
       "      <td>NaN</td>\n",
       "    </tr>\n",
       "    <tr>\n",
       "      <th>47853</th>\n",
       "      <td>GO:2001315</td>\n",
       "      <td>UDP-4-deoxy-4-formamido-beta-L-arabinopyranose...</td>\n",
       "      <td>biological_process</td>\n",
       "      <td>\"The chemical reactions and pathways resulting...</td>\n",
       "      <td>[\"UDP-4-deoxy-4-formamido-beta-L-arabinopyrano...</td>\n",
       "      <td>[GO:0009226 ! nucleotide-sugar biosynthetic pr...</td>\n",
       "      <td>NaN</td>\n",
       "      <td>NaN</td>\n",
       "      <td>NaN</td>\n",
       "      <td>NaN</td>\n",
       "      <td>NaN</td>\n",
       "      <td>NaN</td>\n",
       "      <td>NaN</td>\n",
       "      <td>NaN</td>\n",
       "    </tr>\n",
       "    <tr>\n",
       "      <th>47854</th>\n",
       "      <td>GO:2001316</td>\n",
       "      <td>kojic acid metabolic process</td>\n",
       "      <td>biological_process</td>\n",
       "      <td>\"The chemical reactions and pathways involving...</td>\n",
       "      <td>[\"5-hydroxy-2-(hydroxymethyl)-4H-pyran-4-one m...</td>\n",
       "      <td>[GO:0034308 ! primary alcohol metabolic proces...</td>\n",
       "      <td>NaN</td>\n",
       "      <td>NaN</td>\n",
       "      <td>NaN</td>\n",
       "      <td>NaN</td>\n",
       "      <td>NaN</td>\n",
       "      <td>NaN</td>\n",
       "      <td>NaN</td>\n",
       "      <td>NaN</td>\n",
       "    </tr>\n",
       "    <tr>\n",
       "      <th>47855</th>\n",
       "      <td>GO:2001317</td>\n",
       "      <td>kojic acid biosynthetic process</td>\n",
       "      <td>biological_process</td>\n",
       "      <td>\"The chemical reactions and pathways resulting...</td>\n",
       "      <td>[\"5-hydroxy-2-(hydroxymethyl)-4H-pyran-4-one a...</td>\n",
       "      <td>[GO:0034309 ! primary alcohol biosynthetic pro...</td>\n",
       "      <td>NaN</td>\n",
       "      <td>NaN</td>\n",
       "      <td>NaN</td>\n",
       "      <td>NaN</td>\n",
       "      <td>NaN</td>\n",
       "      <td>NaN</td>\n",
       "      <td>NaN</td>\n",
       "      <td>NaN</td>\n",
       "    </tr>\n",
       "  </tbody>\n",
       "</table>\n",
       "<p>42203 rows × 14 columns</p>\n",
       "</div>"
      ],
      "text/plain": [
       "               id                                               name  \\\n",
       "0      GO:0000001                          mitochondrion inheritance   \n",
       "1      GO:0000002                   mitochondrial genome maintenance   \n",
       "4      GO:0000006  high-affinity zinc transmembrane transporter a...   \n",
       "5      GO:0000007  low-affinity zinc ion transmembrane transporte...   \n",
       "7      GO:0000009             alpha-1,6-mannosyltransferase activity   \n",
       "...           ...                                                ...   \n",
       "47851  GO:2001313  UDP-4-deoxy-4-formamido-beta-L-arabinopyranose...   \n",
       "47852  GO:2001314  UDP-4-deoxy-4-formamido-beta-L-arabinopyranose...   \n",
       "47853  GO:2001315  UDP-4-deoxy-4-formamido-beta-L-arabinopyranose...   \n",
       "47854  GO:2001316                       kojic acid metabolic process   \n",
       "47855  GO:2001317                    kojic acid biosynthetic process   \n",
       "\n",
       "                namespace                                         definition  \\\n",
       "0      biological_process  \"The distribution of mitochondria, including t...   \n",
       "1      biological_process  \"The maintenance of the structure and integrit...   \n",
       "4      molecular_function  \"Enables the transfer of zinc ions (Zn2+) from...   \n",
       "5      molecular_function  \"Enables the transfer of a solute or solutes f...   \n",
       "7      molecular_function  \"Catalysis of the transfer of a mannose residu...   \n",
       "...                   ...                                                ...   \n",
       "47851  biological_process  \"The chemical reactions and pathways involving...   \n",
       "47852  biological_process  \"The chemical reactions and pathways resulting...   \n",
       "47853  biological_process  \"The chemical reactions and pathways resulting...   \n",
       "47854  biological_process  \"The chemical reactions and pathways involving...   \n",
       "47855  biological_process  \"The chemical reactions and pathways resulting...   \n",
       "\n",
       "                                                 synonym  \\\n",
       "0                   \"mitochondrial inheritance\" EXACT []   \n",
       "1                                                    NaN   \n",
       "4      [\"high affinity zinc uptake transmembrane tran...   \n",
       "5                                                    NaN   \n",
       "7      \"1,6-alpha-mannosyltransferase activity\" EXACT []   \n",
       "...                                                  ...   \n",
       "47851  \"UDP-4-deoxy-4-formamido-beta-L-arabinopyranos...   \n",
       "47852  [\"UDP-4-deoxy-4-formamido-beta-L-arabinopyrano...   \n",
       "47853  [\"UDP-4-deoxy-4-formamido-beta-L-arabinopyrano...   \n",
       "47854  [\"5-hydroxy-2-(hydroxymethyl)-4H-pyran-4-one m...   \n",
       "47855  [\"5-hydroxy-2-(hydroxymethyl)-4H-pyran-4-one a...   \n",
       "\n",
       "                                                    is_a alt_id comment  \\\n",
       "0      [GO:0048308 ! organelle inheritance, GO:004831...    NaN     NaN   \n",
       "1                GO:0007005 ! mitochondrion organization    NaN     NaN   \n",
       "4      GO:0005385 ! zinc ion transmembrane transporte...    NaN     NaN   \n",
       "5      GO:0005385 ! zinc ion transmembrane transporte...    NaN     NaN   \n",
       "7              GO:0000030 ! mannosyltransferase activity    NaN     NaN   \n",
       "...                                                  ...    ...     ...   \n",
       "47851  [GO:0006040 ! amino sugar metabolic process, G...    NaN     NaN   \n",
       "47852  [GO:0009227 ! nucleotide-sugar catabolic proce...    NaN     NaN   \n",
       "47853  [GO:0009226 ! nucleotide-sugar biosynthetic pr...    NaN     NaN   \n",
       "47854  [GO:0034308 ! primary alcohol metabolic proces...    NaN     NaN   \n",
       "47855  [GO:0034309 ! primary alcohol biosynthetic pro...    NaN     NaN   \n",
       "\n",
       "      is_obsolete replaced_by consider  \\\n",
       "0             NaN         NaN      NaN   \n",
       "1             NaN         NaN      NaN   \n",
       "4             NaN         NaN      NaN   \n",
       "5             NaN         NaN      NaN   \n",
       "7             NaN         NaN      NaN   \n",
       "...           ...         ...      ...   \n",
       "47851         NaN         NaN      NaN   \n",
       "47852         NaN         NaN      NaN   \n",
       "47853         NaN         NaN      NaN   \n",
       "47854         NaN         NaN      NaN   \n",
       "47855         NaN         NaN      NaN   \n",
       "\n",
       "                                                    xref subset relationship  \n",
       "0                                                    NaN    NaN          NaN  \n",
       "1                                                    NaN    NaN          NaN  \n",
       "4                                                    NaN    NaN          NaN  \n",
       "5                                                    NaN    NaN          NaN  \n",
       "7      Reactome:R-HSA-449718 \"Addition of a third man...    NaN          NaN  \n",
       "...                                                  ...    ...          ...  \n",
       "47851                                                NaN    NaN          NaN  \n",
       "47852                                                NaN    NaN          NaN  \n",
       "47853                                                NaN    NaN          NaN  \n",
       "47854                                                NaN    NaN          NaN  \n",
       "47855                                                NaN    NaN          NaN  \n",
       "\n",
       "[42203 rows x 14 columns]"
      ]
     },
     "execution_count": 11,
     "metadata": {},
     "output_type": "execute_result"
    }
   ],
   "source": [
    "df[df.is_obsolete.isna() == True]"
   ]
  },
  {
   "cell_type": "markdown",
   "metadata": {},
   "source": [
    "## Data Preprocessing"
   ]
  },
  {
   "cell_type": "markdown",
   "metadata": {},
   "source": [
    "### 1. Remove obsolete terms"
   ]
  },
  {
   "cell_type": "code",
   "execution_count": 12,
   "metadata": {},
   "outputs": [
    {
     "data": {
      "text/plain": [
       "is_obsolete\n",
       "true    5653\n",
       "Name: count, dtype: int64"
      ]
     },
     "execution_count": 12,
     "metadata": {},
     "output_type": "execute_result"
    }
   ],
   "source": [
    "df.is_obsolete.value_counts()"
   ]
  },
  {
   "cell_type": "code",
   "execution_count": 13,
   "metadata": {},
   "outputs": [],
   "source": [
    "df = df[df.is_obsolete.isna() == True]"
   ]
  },
  {
   "cell_type": "code",
   "execution_count": 14,
   "metadata": {},
   "outputs": [
    {
     "data": {
      "text/plain": [
       "namespace\n",
       "biological_process    27014\n",
       "molecular_function    11132\n",
       "cellular_component     4057\n",
       "Name: count, dtype: int64"
      ]
     },
     "execution_count": 14,
     "metadata": {},
     "output_type": "execute_result"
    }
   ],
   "source": [
    "df.namespace.value_counts()"
   ]
  },
  {
   "cell_type": "markdown",
   "metadata": {},
   "source": [
    "### 2. Remove unnecessary columns"
   ]
  },
  {
   "cell_type": "code",
   "execution_count": 15,
   "metadata": {},
   "outputs": [],
   "source": [
    "df = df[['id','namespace','definition']]"
   ]
  },
  {
   "cell_type": "markdown",
   "metadata": {},
   "source": [
    "### 3. Convert the defintions into feature vectors \n",
    "The stop words will be removed in process.\n",
    "\n",
    "Note that when transforming the definitions to feature vectors, there are 38093 columns created which may create issues like overfitting, curse of dimensionality, etc. \n",
    "\n",
    "To handle this we will exclude some words that do not appear in some % of definitions. \n",
    "\n",
    "We will test for words that do not appear in 1% of definitions and 5% of definitions.\n",
    "For this experiment, we create 2 separate datasets.\n",
    "\n",
    "(Where one dataset excludes the words that do not appear in 1% of the defintions and the other dataset that excludes words that do not appear in 5 % of the definitions)"
   ]
  },
  {
   "cell_type": "markdown",
   "metadata": {},
   "source": [
    "#### a. Dataset that excludes words that do not appear in 1% of definitions\n",
    "\n",
    "This gives 202 columns"
   ]
  },
  {
   "cell_type": "code",
   "execution_count": 16,
   "metadata": {},
   "outputs": [],
   "source": [
    "vectorizer1 = CountVectorizer(stop_words='english', min_df=0.01)\n",
    "X1 = vectorizer1.fit_transform(df['definition'])\n",
    "dense_X1 = X1.toarray()\n",
    "#creating a df with feature names as columns\n",
    "X1_df = pd.DataFrame(dense_X1, columns=vectorizer1.get_feature_names_out())"
   ]
  },
  {
   "cell_type": "markdown",
   "metadata": {},
   "source": [
    "#### b. Dataset that excludes words that do not appear in 5% of definitions\n",
    "\n",
    "This gives 37 columns."
   ]
  },
  {
   "cell_type": "code",
   "execution_count": 17,
   "metadata": {},
   "outputs": [],
   "source": [
    "vectorizer5 = CountVectorizer(stop_words='english', min_df=0.05)\n",
    "X5 = vectorizer5.fit_transform(df['definition'])\n",
    "dense_X5 = X5.toarray()\n",
    "#creating a df with feature names as columns\n",
    "X5_df = pd.DataFrame(dense_X5, columns=vectorizer5.get_feature_names_out())"
   ]
  },
  {
   "cell_type": "code",
   "execution_count": 18,
   "metadata": {},
   "outputs": [
    {
     "data": {
      "text/html": [
       "<div>\n",
       "<style scoped>\n",
       "    .dataframe tbody tr th:only-of-type {\n",
       "        vertical-align: middle;\n",
       "    }\n",
       "\n",
       "    .dataframe tbody tr th {\n",
       "        vertical-align: top;\n",
       "    }\n",
       "\n",
       "    .dataframe thead th {\n",
       "        text-align: right;\n",
       "    }\n",
       "</style>\n",
       "<table border=\"1\" class=\"dataframe\">\n",
       "  <thead>\n",
       "    <tr style=\"text-align: right;\">\n",
       "      <th></th>\n",
       "      <th>acid</th>\n",
       "      <th>activates</th>\n",
       "      <th>activity</th>\n",
       "      <th>ai</th>\n",
       "      <th>binding</th>\n",
       "      <th>catalysis</th>\n",
       "      <th>cell</th>\n",
       "      <th>cells</th>\n",
       "      <th>chemical</th>\n",
       "      <th>complex</th>\n",
       "      <th>...</th>\n",
       "      <th>process</th>\n",
       "      <th>protein</th>\n",
       "      <th>rate</th>\n",
       "      <th>reaction</th>\n",
       "      <th>reactions</th>\n",
       "      <th>reduces</th>\n",
       "      <th>resulting</th>\n",
       "      <th>rhea</th>\n",
       "      <th>stops</th>\n",
       "      <th>termgenie</th>\n",
       "    </tr>\n",
       "  </thead>\n",
       "  <tbody>\n",
       "    <tr>\n",
       "      <th>0</th>\n",
       "      <td>0</td>\n",
       "      <td>0</td>\n",
       "      <td>0</td>\n",
       "      <td>0</td>\n",
       "      <td>0</td>\n",
       "      <td>0</td>\n",
       "      <td>0</td>\n",
       "      <td>1</td>\n",
       "      <td>0</td>\n",
       "      <td>0</td>\n",
       "      <td>...</td>\n",
       "      <td>0</td>\n",
       "      <td>0</td>\n",
       "      <td>0</td>\n",
       "      <td>0</td>\n",
       "      <td>0</td>\n",
       "      <td>0</td>\n",
       "      <td>0</td>\n",
       "      <td>0</td>\n",
       "      <td>0</td>\n",
       "      <td>0</td>\n",
       "    </tr>\n",
       "    <tr>\n",
       "      <th>1</th>\n",
       "      <td>0</td>\n",
       "      <td>0</td>\n",
       "      <td>0</td>\n",
       "      <td>1</td>\n",
       "      <td>0</td>\n",
       "      <td>0</td>\n",
       "      <td>0</td>\n",
       "      <td>0</td>\n",
       "      <td>0</td>\n",
       "      <td>0</td>\n",
       "      <td>...</td>\n",
       "      <td>0</td>\n",
       "      <td>0</td>\n",
       "      <td>0</td>\n",
       "      <td>0</td>\n",
       "      <td>0</td>\n",
       "      <td>0</td>\n",
       "      <td>0</td>\n",
       "      <td>0</td>\n",
       "      <td>0</td>\n",
       "      <td>0</td>\n",
       "    </tr>\n",
       "    <tr>\n",
       "      <th>2</th>\n",
       "      <td>0</td>\n",
       "      <td>0</td>\n",
       "      <td>0</td>\n",
       "      <td>0</td>\n",
       "      <td>0</td>\n",
       "      <td>0</td>\n",
       "      <td>0</td>\n",
       "      <td>0</td>\n",
       "      <td>0</td>\n",
       "      <td>0</td>\n",
       "      <td>...</td>\n",
       "      <td>0</td>\n",
       "      <td>0</td>\n",
       "      <td>0</td>\n",
       "      <td>0</td>\n",
       "      <td>0</td>\n",
       "      <td>0</td>\n",
       "      <td>0</td>\n",
       "      <td>0</td>\n",
       "      <td>0</td>\n",
       "      <td>0</td>\n",
       "    </tr>\n",
       "  </tbody>\n",
       "</table>\n",
       "<p>3 rows × 37 columns</p>\n",
       "</div>"
      ],
      "text/plain": [
       "   acid  activates  activity  ai  binding  catalysis  cell  cells  chemical  \\\n",
       "0     0          0         0   0        0          0     0      1         0   \n",
       "1     0          0         0   1        0          0     0      0         0   \n",
       "2     0          0         0   0        0          0     0      0         0   \n",
       "\n",
       "   complex  ...  process  protein  rate  reaction  reactions  reduces  \\\n",
       "0        0  ...        0        0     0         0          0        0   \n",
       "1        0  ...        0        0     0         0          0        0   \n",
       "2        0  ...        0        0     0         0          0        0   \n",
       "\n",
       "   resulting  rhea  stops  termgenie  \n",
       "0          0     0      0          0  \n",
       "1          0     0      0          0  \n",
       "2          0     0      0          0  \n",
       "\n",
       "[3 rows x 37 columns]"
      ]
     },
     "execution_count": 18,
     "metadata": {},
     "output_type": "execute_result"
    }
   ],
   "source": [
    "X5_df.head(3)"
   ]
  },
  {
   "cell_type": "code",
   "execution_count": 19,
   "metadata": {},
   "outputs": [],
   "source": [
    "y = df['namespace']"
   ]
  },
  {
   "cell_type": "markdown",
   "metadata": {},
   "source": [
    "### 4. Normalising both datasets\n"
   ]
  },
  {
   "cell_type": "code",
   "execution_count": 20,
   "metadata": {},
   "outputs": [],
   "source": [
    "scaler = StandardScaler()"
   ]
  },
  {
   "cell_type": "markdown",
   "metadata": {},
   "source": [
    "#### a. Dataset that excludes words that do not appear in 1% of definitions"
   ]
  },
  {
   "cell_type": "code",
   "execution_count": 21,
   "metadata": {},
   "outputs": [],
   "source": [
    "dense_X1 = X1.toarray()\n",
    "X1_normalized = scaler.fit_transform(dense_X1)\n",
    "X1_normalized = pd.DataFrame(X1_normalized, columns=vectorizer1.get_feature_names_out())"
   ]
  },
  {
   "cell_type": "code",
   "execution_count": 22,
   "metadata": {},
   "outputs": [
    {
     "data": {
      "text/html": [
       "<div>\n",
       "<style scoped>\n",
       "    .dataframe tbody tr th:only-of-type {\n",
       "        vertical-align: middle;\n",
       "    }\n",
       "\n",
       "    .dataframe tbody tr th {\n",
       "        vertical-align: top;\n",
       "    }\n",
       "\n",
       "    .dataframe thead th {\n",
       "        text-align: right;\n",
       "    }\n",
       "</style>\n",
       "<table border=\"1\" class=\"dataframe\">\n",
       "  <thead>\n",
       "    <tr style=\"text-align: right;\">\n",
       "      <th></th>\n",
       "      <th>0000021</th>\n",
       "      <th>0000058</th>\n",
       "      <th>0198506732</th>\n",
       "      <th>0781735149</th>\n",
       "      <th>14</th>\n",
       "      <th>acetyl</th>\n",
       "      <th>acid</th>\n",
       "      <th>acids</th>\n",
       "      <th>activates</th>\n",
       "      <th>activation</th>\n",
       "      <th>...</th>\n",
       "      <th>transfer</th>\n",
       "      <th>transport</th>\n",
       "      <th>transported</th>\n",
       "      <th>transporter</th>\n",
       "      <th>type</th>\n",
       "      <th>udp</th>\n",
       "      <th>um</th>\n",
       "      <th>vesicle</th>\n",
       "      <th>vw</th>\n",
       "      <th>yaf</th>\n",
       "    </tr>\n",
       "  </thead>\n",
       "  <tbody>\n",
       "    <tr>\n",
       "      <th>0</th>\n",
       "      <td>-0.111256</td>\n",
       "      <td>-0.209227</td>\n",
       "      <td>-0.173407</td>\n",
       "      <td>-0.109718</td>\n",
       "      <td>-0.09687</td>\n",
       "      <td>-0.101273</td>\n",
       "      <td>-0.21447</td>\n",
       "      <td>-0.090185</td>\n",
       "      <td>-0.26092</td>\n",
       "      <td>-0.102914</td>\n",
       "      <td>...</td>\n",
       "      <td>-0.185723</td>\n",
       "      <td>-0.121534</td>\n",
       "      <td>-0.111373</td>\n",
       "      <td>-0.120197</td>\n",
       "      <td>-0.126776</td>\n",
       "      <td>-0.104918</td>\n",
       "      <td>-0.10876</td>\n",
       "      <td>-0.094247</td>\n",
       "      <td>-0.116278</td>\n",
       "      <td>-0.116905</td>\n",
       "    </tr>\n",
       "    <tr>\n",
       "      <th>1</th>\n",
       "      <td>-0.111256</td>\n",
       "      <td>-0.209227</td>\n",
       "      <td>-0.173407</td>\n",
       "      <td>-0.109718</td>\n",
       "      <td>-0.09687</td>\n",
       "      <td>-0.101273</td>\n",
       "      <td>-0.21447</td>\n",
       "      <td>-0.090185</td>\n",
       "      <td>-0.26092</td>\n",
       "      <td>-0.102914</td>\n",
       "      <td>...</td>\n",
       "      <td>-0.185723</td>\n",
       "      <td>-0.121534</td>\n",
       "      <td>-0.111373</td>\n",
       "      <td>-0.120197</td>\n",
       "      <td>-0.126776</td>\n",
       "      <td>-0.104918</td>\n",
       "      <td>-0.10876</td>\n",
       "      <td>-0.094247</td>\n",
       "      <td>8.600054</td>\n",
       "      <td>-0.116905</td>\n",
       "    </tr>\n",
       "    <tr>\n",
       "      <th>2</th>\n",
       "      <td>-0.111256</td>\n",
       "      <td>-0.209227</td>\n",
       "      <td>-0.173407</td>\n",
       "      <td>-0.109718</td>\n",
       "      <td>-0.09687</td>\n",
       "      <td>-0.101273</td>\n",
       "      <td>-0.21447</td>\n",
       "      <td>-0.090185</td>\n",
       "      <td>-0.26092</td>\n",
       "      <td>-0.102914</td>\n",
       "      <td>...</td>\n",
       "      <td>5.131830</td>\n",
       "      <td>5.387711</td>\n",
       "      <td>-0.111373</td>\n",
       "      <td>7.983116</td>\n",
       "      <td>-0.126776</td>\n",
       "      <td>-0.104918</td>\n",
       "      <td>-0.10876</td>\n",
       "      <td>-0.094247</td>\n",
       "      <td>-0.116278</td>\n",
       "      <td>-0.116905</td>\n",
       "    </tr>\n",
       "    <tr>\n",
       "      <th>3</th>\n",
       "      <td>-0.111256</td>\n",
       "      <td>-0.209227</td>\n",
       "      <td>-0.173407</td>\n",
       "      <td>-0.109718</td>\n",
       "      <td>-0.09687</td>\n",
       "      <td>-0.101273</td>\n",
       "      <td>-0.21447</td>\n",
       "      <td>-0.090185</td>\n",
       "      <td>-0.26092</td>\n",
       "      <td>-0.102914</td>\n",
       "      <td>...</td>\n",
       "      <td>5.131830</td>\n",
       "      <td>5.387711</td>\n",
       "      <td>-0.111373</td>\n",
       "      <td>7.983116</td>\n",
       "      <td>-0.126776</td>\n",
       "      <td>-0.104918</td>\n",
       "      <td>-0.10876</td>\n",
       "      <td>-0.094247</td>\n",
       "      <td>-0.116278</td>\n",
       "      <td>-0.116905</td>\n",
       "    </tr>\n",
       "    <tr>\n",
       "      <th>4</th>\n",
       "      <td>-0.111256</td>\n",
       "      <td>-0.209227</td>\n",
       "      <td>-0.173407</td>\n",
       "      <td>-0.109718</td>\n",
       "      <td>-0.09687</td>\n",
       "      <td>-0.101273</td>\n",
       "      <td>-0.21447</td>\n",
       "      <td>-0.090185</td>\n",
       "      <td>-0.26092</td>\n",
       "      <td>-0.102914</td>\n",
       "      <td>...</td>\n",
       "      <td>5.131830</td>\n",
       "      <td>-0.121534</td>\n",
       "      <td>-0.111373</td>\n",
       "      <td>-0.120197</td>\n",
       "      <td>-0.126776</td>\n",
       "      <td>-0.104918</td>\n",
       "      <td>-0.10876</td>\n",
       "      <td>-0.094247</td>\n",
       "      <td>-0.116278</td>\n",
       "      <td>-0.116905</td>\n",
       "    </tr>\n",
       "  </tbody>\n",
       "</table>\n",
       "<p>5 rows × 202 columns</p>\n",
       "</div>"
      ],
      "text/plain": [
       "    0000021   0000058  0198506732  0781735149       14    acetyl     acid  \\\n",
       "0 -0.111256 -0.209227   -0.173407   -0.109718 -0.09687 -0.101273 -0.21447   \n",
       "1 -0.111256 -0.209227   -0.173407   -0.109718 -0.09687 -0.101273 -0.21447   \n",
       "2 -0.111256 -0.209227   -0.173407   -0.109718 -0.09687 -0.101273 -0.21447   \n",
       "3 -0.111256 -0.209227   -0.173407   -0.109718 -0.09687 -0.101273 -0.21447   \n",
       "4 -0.111256 -0.209227   -0.173407   -0.109718 -0.09687 -0.101273 -0.21447   \n",
       "\n",
       "      acids  activates  activation  ...  transfer  transport  transported  \\\n",
       "0 -0.090185   -0.26092   -0.102914  ... -0.185723  -0.121534    -0.111373   \n",
       "1 -0.090185   -0.26092   -0.102914  ... -0.185723  -0.121534    -0.111373   \n",
       "2 -0.090185   -0.26092   -0.102914  ...  5.131830   5.387711    -0.111373   \n",
       "3 -0.090185   -0.26092   -0.102914  ...  5.131830   5.387711    -0.111373   \n",
       "4 -0.090185   -0.26092   -0.102914  ...  5.131830  -0.121534    -0.111373   \n",
       "\n",
       "   transporter      type       udp       um   vesicle        vw       yaf  \n",
       "0    -0.120197 -0.126776 -0.104918 -0.10876 -0.094247 -0.116278 -0.116905  \n",
       "1    -0.120197 -0.126776 -0.104918 -0.10876 -0.094247  8.600054 -0.116905  \n",
       "2     7.983116 -0.126776 -0.104918 -0.10876 -0.094247 -0.116278 -0.116905  \n",
       "3     7.983116 -0.126776 -0.104918 -0.10876 -0.094247 -0.116278 -0.116905  \n",
       "4    -0.120197 -0.126776 -0.104918 -0.10876 -0.094247 -0.116278 -0.116905  \n",
       "\n",
       "[5 rows x 202 columns]"
      ]
     },
     "execution_count": 22,
     "metadata": {},
     "output_type": "execute_result"
    }
   ],
   "source": [
    "X1_normalized.head()"
   ]
  },
  {
   "cell_type": "markdown",
   "metadata": {},
   "source": [
    "#### b. Dataset that excludes words that do not appear in 5% of definitions"
   ]
  },
  {
   "cell_type": "code",
   "execution_count": 23,
   "metadata": {},
   "outputs": [],
   "source": [
    "dense_X5 = X5.toarray()\n",
    "X5_normalized = scaler.fit_transform(dense_X5)\n",
    "X5_normalized = pd.DataFrame(X5_normalized, columns=vectorizer5.get_feature_names_out())"
   ]
  },
  {
   "cell_type": "code",
   "execution_count": 24,
   "metadata": {},
   "outputs": [
    {
     "data": {
      "text/html": [
       "<div>\n",
       "<style scoped>\n",
       "    .dataframe tbody tr th:only-of-type {\n",
       "        vertical-align: middle;\n",
       "    }\n",
       "\n",
       "    .dataframe tbody tr th {\n",
       "        vertical-align: top;\n",
       "    }\n",
       "\n",
       "    .dataframe thead th {\n",
       "        text-align: right;\n",
       "    }\n",
       "</style>\n",
       "<table border=\"1\" class=\"dataframe\">\n",
       "  <thead>\n",
       "    <tr style=\"text-align: right;\">\n",
       "      <th></th>\n",
       "      <th>acid</th>\n",
       "      <th>activates</th>\n",
       "      <th>activity</th>\n",
       "      <th>ai</th>\n",
       "      <th>binding</th>\n",
       "      <th>catalysis</th>\n",
       "      <th>cell</th>\n",
       "      <th>cells</th>\n",
       "      <th>chemical</th>\n",
       "      <th>complex</th>\n",
       "      <th>...</th>\n",
       "      <th>process</th>\n",
       "      <th>protein</th>\n",
       "      <th>rate</th>\n",
       "      <th>reaction</th>\n",
       "      <th>reactions</th>\n",
       "      <th>reduces</th>\n",
       "      <th>resulting</th>\n",
       "      <th>rhea</th>\n",
       "      <th>stops</th>\n",
       "      <th>termgenie</th>\n",
       "    </tr>\n",
       "  </thead>\n",
       "  <tbody>\n",
       "    <tr>\n",
       "      <th>0</th>\n",
       "      <td>-0.21447</td>\n",
       "      <td>-0.26092</td>\n",
       "      <td>-0.285911</td>\n",
       "      <td>-0.241460</td>\n",
       "      <td>-0.25055</td>\n",
       "      <td>-0.463185</td>\n",
       "      <td>-0.424105</td>\n",
       "      <td>2.595929</td>\n",
       "      <td>-0.348916</td>\n",
       "      <td>-0.242521</td>\n",
       "      <td>...</td>\n",
       "      <td>-0.777484</td>\n",
       "      <td>-0.296179</td>\n",
       "      <td>-0.529708</td>\n",
       "      <td>-0.436345</td>\n",
       "      <td>-0.348356</td>\n",
       "      <td>-0.26891</td>\n",
       "      <td>-0.300916</td>\n",
       "      <td>-0.253061</td>\n",
       "      <td>-0.2635</td>\n",
       "      <td>-0.37017</td>\n",
       "    </tr>\n",
       "    <tr>\n",
       "      <th>1</th>\n",
       "      <td>-0.21447</td>\n",
       "      <td>-0.26092</td>\n",
       "      <td>-0.285911</td>\n",
       "      <td>4.137711</td>\n",
       "      <td>-0.25055</td>\n",
       "      <td>-0.463185</td>\n",
       "      <td>-0.424105</td>\n",
       "      <td>-0.218105</td>\n",
       "      <td>-0.348916</td>\n",
       "      <td>-0.242521</td>\n",
       "      <td>...</td>\n",
       "      <td>-0.777484</td>\n",
       "      <td>-0.296179</td>\n",
       "      <td>-0.529708</td>\n",
       "      <td>-0.436345</td>\n",
       "      <td>-0.348356</td>\n",
       "      <td>-0.26891</td>\n",
       "      <td>-0.300916</td>\n",
       "      <td>-0.253061</td>\n",
       "      <td>-0.2635</td>\n",
       "      <td>-0.37017</td>\n",
       "    </tr>\n",
       "    <tr>\n",
       "      <th>2</th>\n",
       "      <td>-0.21447</td>\n",
       "      <td>-0.26092</td>\n",
       "      <td>-0.285911</td>\n",
       "      <td>-0.241460</td>\n",
       "      <td>-0.25055</td>\n",
       "      <td>-0.463185</td>\n",
       "      <td>-0.424105</td>\n",
       "      <td>-0.218105</td>\n",
       "      <td>-0.348916</td>\n",
       "      <td>-0.242521</td>\n",
       "      <td>...</td>\n",
       "      <td>-0.777484</td>\n",
       "      <td>-0.296179</td>\n",
       "      <td>-0.529708</td>\n",
       "      <td>-0.436345</td>\n",
       "      <td>-0.348356</td>\n",
       "      <td>-0.26891</td>\n",
       "      <td>-0.300916</td>\n",
       "      <td>-0.253061</td>\n",
       "      <td>-0.2635</td>\n",
       "      <td>-0.37017</td>\n",
       "    </tr>\n",
       "    <tr>\n",
       "      <th>3</th>\n",
       "      <td>-0.21447</td>\n",
       "      <td>-0.26092</td>\n",
       "      <td>-0.285911</td>\n",
       "      <td>-0.241460</td>\n",
       "      <td>-0.25055</td>\n",
       "      <td>-0.463185</td>\n",
       "      <td>-0.424105</td>\n",
       "      <td>-0.218105</td>\n",
       "      <td>-0.348916</td>\n",
       "      <td>-0.242521</td>\n",
       "      <td>...</td>\n",
       "      <td>-0.777484</td>\n",
       "      <td>-0.296179</td>\n",
       "      <td>-0.529708</td>\n",
       "      <td>2.110690</td>\n",
       "      <td>-0.348356</td>\n",
       "      <td>-0.26891</td>\n",
       "      <td>-0.300916</td>\n",
       "      <td>-0.253061</td>\n",
       "      <td>-0.2635</td>\n",
       "      <td>-0.37017</td>\n",
       "    </tr>\n",
       "    <tr>\n",
       "      <th>4</th>\n",
       "      <td>-0.21447</td>\n",
       "      <td>-0.26092</td>\n",
       "      <td>-0.285911</td>\n",
       "      <td>-0.241460</td>\n",
       "      <td>-0.25055</td>\n",
       "      <td>2.130738</td>\n",
       "      <td>-0.424105</td>\n",
       "      <td>-0.218105</td>\n",
       "      <td>-0.348916</td>\n",
       "      <td>-0.242521</td>\n",
       "      <td>...</td>\n",
       "      <td>-0.777484</td>\n",
       "      <td>-0.296179</td>\n",
       "      <td>-0.529708</td>\n",
       "      <td>-0.436345</td>\n",
       "      <td>-0.348356</td>\n",
       "      <td>-0.26891</td>\n",
       "      <td>-0.300916</td>\n",
       "      <td>-0.253061</td>\n",
       "      <td>-0.2635</td>\n",
       "      <td>-0.37017</td>\n",
       "    </tr>\n",
       "  </tbody>\n",
       "</table>\n",
       "<p>5 rows × 37 columns</p>\n",
       "</div>"
      ],
      "text/plain": [
       "      acid  activates  activity        ai  binding  catalysis      cell  \\\n",
       "0 -0.21447   -0.26092 -0.285911 -0.241460 -0.25055  -0.463185 -0.424105   \n",
       "1 -0.21447   -0.26092 -0.285911  4.137711 -0.25055  -0.463185 -0.424105   \n",
       "2 -0.21447   -0.26092 -0.285911 -0.241460 -0.25055  -0.463185 -0.424105   \n",
       "3 -0.21447   -0.26092 -0.285911 -0.241460 -0.25055  -0.463185 -0.424105   \n",
       "4 -0.21447   -0.26092 -0.285911 -0.241460 -0.25055   2.130738 -0.424105   \n",
       "\n",
       "      cells  chemical   complex  ...   process   protein      rate  reaction  \\\n",
       "0  2.595929 -0.348916 -0.242521  ... -0.777484 -0.296179 -0.529708 -0.436345   \n",
       "1 -0.218105 -0.348916 -0.242521  ... -0.777484 -0.296179 -0.529708 -0.436345   \n",
       "2 -0.218105 -0.348916 -0.242521  ... -0.777484 -0.296179 -0.529708 -0.436345   \n",
       "3 -0.218105 -0.348916 -0.242521  ... -0.777484 -0.296179 -0.529708  2.110690   \n",
       "4 -0.218105 -0.348916 -0.242521  ... -0.777484 -0.296179 -0.529708 -0.436345   \n",
       "\n",
       "   reactions  reduces  resulting      rhea   stops  termgenie  \n",
       "0  -0.348356 -0.26891  -0.300916 -0.253061 -0.2635   -0.37017  \n",
       "1  -0.348356 -0.26891  -0.300916 -0.253061 -0.2635   -0.37017  \n",
       "2  -0.348356 -0.26891  -0.300916 -0.253061 -0.2635   -0.37017  \n",
       "3  -0.348356 -0.26891  -0.300916 -0.253061 -0.2635   -0.37017  \n",
       "4  -0.348356 -0.26891  -0.300916 -0.253061 -0.2635   -0.37017  \n",
       "\n",
       "[5 rows x 37 columns]"
      ]
     },
     "execution_count": 24,
     "metadata": {},
     "output_type": "execute_result"
    }
   ],
   "source": [
    "X5_normalized.head()"
   ]
  },
  {
   "cell_type": "markdown",
   "metadata": {},
   "source": [
    "## K-Nearest Neighbors"
   ]
  },
  {
   "cell_type": "markdown",
   "metadata": {},
   "source": [
    "### Non-Normalised Dataset"
   ]
  },
  {
   "cell_type": "markdown",
   "metadata": {},
   "source": [
    "### 1. KKN using the dataset that excludes the words that do not appear in 1% of the defintions\n",
    "\n",
    "- The stop words have been removed while transforming the definitions to feature vectors"
   ]
  },
  {
   "cell_type": "code",
   "execution_count": 26,
   "metadata": {},
   "outputs": [],
   "source": [
    "X_train, X_test, y_train, y_test = train_test_split(X1_df, y, test_size=0.2, random_state=42)"
   ]
  },
  {
   "cell_type": "code",
   "execution_count": 59,
   "metadata": {},
   "outputs": [],
   "source": [
    "acc = []\n",
    "for i in range(1,20):\n",
    "    neigh = KNeighborsClassifier(n_neighbors = i).fit(X_train,y_train)\n",
    "    yhat = neigh.predict(X_test)\n",
    "    acc.append(accuracy_score(y_test, yhat))"
   ]
  },
  {
   "cell_type": "code",
   "execution_count": 60,
   "metadata": {},
   "outputs": [
    {
     "name": "stdout",
     "output_type": "stream",
     "text": [
      "Maximum accuracy: 0.953560004738775 at K = 1\n"
     ]
    },
    {
     "data": {
      "image/png": "[encoded data removed]",
      "text/plain": [
       "<Figure size 1000x600 with 1 Axes>"
      ]
     },
     "metadata": {},
     "output_type": "display_data"
    }
   ],
   "source": [
    "plt.figure(figsize=(10,6))\n",
    "plt.plot(range(1,20),acc,color = 'blue',linestyle='dashed', \n",
    "         marker='o',markerfacecolor='red', markersize=10)\n",
    "plt.title('accuracy vs. K Value')\n",
    "plt.xlabel('K')\n",
    "plt.ylabel('Accuracy')\n",
    "print(\"Maximum accuracy:\",max(acc),\"at K =\",acc.index(max(acc))+1)"
   ]
  },
  {
   "cell_type": "markdown",
   "metadata": {},
   "source": [
    "Max accuracy for K = 1 "
   ]
  },
  {
   "cell_type": "code",
   "execution_count": 61,
   "metadata": {},
   "outputs": [],
   "source": [
    "neigh = KNeighborsClassifier(n_neighbors = 1).fit(X_train,y_train)\n",
    "y_pred = neigh.predict(X_test)"
   ]
  },
  {
   "cell_type": "code",
   "execution_count": 62,
   "metadata": {},
   "outputs": [
    {
     "data": {
      "text/plain": [
       "array([[5194,  131,   47],\n",
       "       [ 108,  686,   26],\n",
       "       [  38,   42, 2169]])"
      ]
     },
     "execution_count": 62,
     "metadata": {},
     "output_type": "execute_result"
    }
   ],
   "source": [
    "confusion_matrix(y_test,y_pred)"
   ]
  },
  {
   "cell_type": "code",
   "execution_count": 63,
   "metadata": {},
   "outputs": [
    {
     "data": {
      "text/plain": [
       "0.953560004738775"
      ]
     },
     "execution_count": 63,
     "metadata": {},
     "output_type": "execute_result"
    }
   ],
   "source": [
    "accuracy_score(y_test, y_pred)"
   ]
  },
  {
   "cell_type": "markdown",
   "metadata": {},
   "source": [
    "### 2. KKN using the dataset that excludes the words that do not appear in 5% of the defintions\n"
   ]
  },
  {
   "cell_type": "code",
   "execution_count": 64,
   "metadata": {},
   "outputs": [],
   "source": [
    "X_train, X_test, y_train, y_test = train_test_split(X5_df, y, test_size=0.2, random_state=42)"
   ]
  },
  {
   "cell_type": "code",
   "execution_count": 65,
   "metadata": {},
   "outputs": [],
   "source": [
    "acc = []\n",
    "for i in range(1,20):\n",
    "    neigh = KNeighborsClassifier(n_neighbors = i).fit(X_train,y_train)\n",
    "    yhat = neigh.predict(X_test)\n",
    "    acc.append(accuracy_score(y_test, yhat))"
   ]
  },
  {
   "cell_type": "code",
   "execution_count": 66,
   "metadata": {},
   "outputs": [
    {
     "name": "stdout",
     "output_type": "stream",
     "text": [
      "Maximum accuracy: 0.9290368439758322 at K = 18\n"
     ]
    },
    {
     "data": {
      "image/png": "[encoded data removed]",
      "text/plain": [
       "<Figure size 1000x600 with 1 Axes>"
      ]
     },
     "metadata": {},
     "output_type": "display_data"
    }
   ],
   "source": [
    "plt.figure(figsize=(10,6))\n",
    "plt.plot(range(1,20),acc,color = 'blue',linestyle='dashed', \n",
    "         marker='o',markerfacecolor='red', markersize=10)\n",
    "plt.title('accuracy vs. K Value')\n",
    "plt.xlabel('K')\n",
    "plt.ylabel('Accuracy')\n",
    "print(\"Maximum accuracy:\",max(acc),\"at K =\",acc.index(max(acc))+1)"
   ]
  },
  {
   "cell_type": "markdown",
   "metadata": {},
   "source": [
    "Max accuracy for K = 18"
   ]
  },
  {
   "cell_type": "code",
   "execution_count": 67,
   "metadata": {},
   "outputs": [],
   "source": [
    "neigh = KNeighborsClassifier(n_neighbors = 18).fit(X_train,y_train)\n",
    "y_pred = neigh.predict(X_test)"
   ]
  },
  {
   "cell_type": "code",
   "execution_count": 68,
   "metadata": {},
   "outputs": [
    {
     "data": {
      "text/plain": [
       "0.9290368439758322"
      ]
     },
     "execution_count": 68,
     "metadata": {},
     "output_type": "execute_result"
    }
   ],
   "source": [
    "accuracy_score(y_test, y_pred)"
   ]
  },
  {
   "cell_type": "code",
   "execution_count": 69,
   "metadata": {},
   "outputs": [
    {
     "data": {
      "text/plain": [
       "array([[5229,  104,   39],\n",
       "       [ 258,  540,   22],\n",
       "       [ 104,   72, 2073]])"
      ]
     },
     "execution_count": 69,
     "metadata": {},
     "output_type": "execute_result"
    }
   ],
   "source": [
    "confusion_matrix(y_test,y_pred)"
   ]
  },
  {
   "cell_type": "markdown",
   "metadata": {},
   "source": [
    "### Normalized data"
   ]
  },
  {
   "cell_type": "markdown",
   "metadata": {},
   "source": [
    "### 1. KKN using the dataset that excludes the words that do not appear in 1% of the defintions\n"
   ]
  },
  {
   "cell_type": "code",
   "execution_count": 70,
   "metadata": {},
   "outputs": [],
   "source": [
    "X_train, X_test, y_train, y_test = train_test_split(X1_normalized, y, test_size=0.2, random_state=42)"
   ]
  },
  {
   "cell_type": "code",
   "execution_count": 71,
   "metadata": {},
   "outputs": [],
   "source": [
    "acc = []\n",
    "for i in range(1,20):\n",
    "    neigh = KNeighborsClassifier(n_neighbors = i).fit(X_train,y_train)\n",
    "    yhat = neigh.predict(X_test)\n",
    "    acc.append(accuracy_score(y_test, yhat))"
   ]
  },
  {
   "cell_type": "code",
   "execution_count": 72,
   "metadata": {},
   "outputs": [
    {
     "name": "stdout",
     "output_type": "stream",
     "text": [
      "Maximum accuracy: 0.942305414050468 at K = 1\n"
     ]
    },
    {
     "data": {
      "image/png": "[encoded data removed]",
      "text/plain": [
       "<Figure size 1000x600 with 1 Axes>"
      ]
     },
     "metadata": {},
     "output_type": "display_data"
    }
   ],
   "source": [
    "plt.figure(figsize=(10,6))\n",
    "plt.plot(range(1,20),acc,color = 'blue',linestyle='dashed', \n",
    "         marker='o',markerfacecolor='red', markersize=10)\n",
    "plt.title('accuracy vs. K Value')\n",
    "plt.xlabel('K')\n",
    "plt.ylabel('Accuracy')\n",
    "print(\"Maximum accuracy:\",max(acc),\"at K =\",acc.index(max(acc)) +1)"
   ]
  },
  {
   "cell_type": "markdown",
   "metadata": {},
   "source": [
    "Max accuracy for K = 1"
   ]
  },
  {
   "cell_type": "code",
   "execution_count": 73,
   "metadata": {},
   "outputs": [],
   "source": [
    "neigh = KNeighborsClassifier(n_neighbors = 1).fit(X_train,y_train)\n",
    "y_pred = neigh.predict(X_test)"
   ]
  },
  {
   "cell_type": "code",
   "execution_count": 74,
   "metadata": {},
   "outputs": [
    {
     "data": {
      "text/plain": [
       "0.942305414050468"
      ]
     },
     "execution_count": 74,
     "metadata": {},
     "output_type": "execute_result"
    }
   ],
   "source": [
    "accuracy_score(y_test,y_pred)"
   ]
  },
  {
   "cell_type": "code",
   "execution_count": 75,
   "metadata": {},
   "outputs": [
    {
     "data": {
      "text/plain": [
       "array([[5158,  142,   72],\n",
       "       [ 144,  650,   26],\n",
       "       [  69,   34, 2146]])"
      ]
     },
     "execution_count": 75,
     "metadata": {},
     "output_type": "execute_result"
    }
   ],
   "source": [
    "confusion_matrix(y_test,y_pred)"
   ]
  },
  {
   "cell_type": "markdown",
   "metadata": {},
   "source": [
    "### 2. KKN using the dataset that excludes the words that do not appear in 5% of the defintions\n"
   ]
  },
  {
   "cell_type": "code",
   "execution_count": 76,
   "metadata": {},
   "outputs": [],
   "source": [
    "X_train, X_test, y_train, y_test = train_test_split(X5_normalized, y, test_size=0.2, random_state=42)"
   ]
  },
  {
   "cell_type": "code",
   "execution_count": 77,
   "metadata": {},
   "outputs": [],
   "source": [
    "acc = []\n",
    "for i in range(1,20):\n",
    "    neigh = KNeighborsClassifier(n_neighbors = i).fit(X_train,y_train)\n",
    "    yhat = neigh.predict(X_test)\n",
    "    acc.append(accuracy_score(y_test, yhat))"
   ]
  },
  {
   "cell_type": "code",
   "execution_count": 78,
   "metadata": {},
   "outputs": [
    {
     "name": "stdout",
     "output_type": "stream",
     "text": [
      "Maximum accuracy: 0.9283260277218339 at K = 11\n"
     ]
    },
    {
     "data": {
      "image/png": "[encoded data removed]",
      "text/plain": [
       "<Figure size 1000x600 with 1 Axes>"
      ]
     },
     "metadata": {},
     "output_type": "display_data"
    }
   ],
   "source": [
    "plt.figure(figsize=(10,6))\n",
    "plt.plot(range(1,20),acc,color = 'blue',linestyle='dashed', \n",
    "         marker='o',markerfacecolor='red', markersize=10)\n",
    "plt.title('accuracy vs. K Value')\n",
    "plt.xlabel('K')\n",
    "plt.ylabel('Accuracy')\n",
    "print(\"Maximum accuracy:\",max(acc),\"at K =\",acc.index(max(acc))+1)"
   ]
  },
  {
   "cell_type": "markdown",
   "metadata": {},
   "source": [
    "Max accuracy for K = 11"
   ]
  },
  {
   "cell_type": "code",
   "execution_count": 79,
   "metadata": {},
   "outputs": [],
   "source": [
    "neigh = KNeighborsClassifier(n_neighbors = 11).fit(X_train,y_train)\n",
    "y_pred = neigh.predict(X_test)"
   ]
  },
  {
   "cell_type": "code",
   "execution_count": 80,
   "metadata": {},
   "outputs": [
    {
     "data": {
      "text/plain": [
       "0.9283260277218339"
      ]
     },
     "execution_count": 80,
     "metadata": {},
     "output_type": "execute_result"
    }
   ],
   "source": [
    "accuracy_score(y_test,y_pred)"
   ]
  },
  {
   "cell_type": "code",
   "execution_count": 85,
   "metadata": {},
   "outputs": [
    {
     "name": "stdout",
     "output_type": "stream",
     "text": [
      "[[5208   90   74]\n",
      " [ 262  510   48]\n",
      " [  83   48 2118]]\n"
     ]
    }
   ],
   "source": [
    "print(confusion_matrix(y_test,y_pred))"
   ]
  },
  {
   "cell_type": "code",
   "execution_count": 86,
   "metadata": {},
   "outputs": [
    {
     "name": "stdout",
     "output_type": "stream",
     "text": [
      "                    precision    recall  f1-score   support\n",
      "\n",
      "biological_process       0.94      0.97      0.95      5372\n",
      "cellular_component       0.79      0.62      0.69       820\n",
      "molecular_function       0.95      0.94      0.94      2249\n",
      "\n",
      "          accuracy                           0.93      8441\n",
      "         macro avg       0.89      0.84      0.86      8441\n",
      "      weighted avg       0.93      0.93      0.93      8441\n",
      "\n"
     ]
    }
   ],
   "source": [
    "print(classification_report(y_test,y_pred))"
   ]
  },
  {
   "cell_type": "markdown",
   "metadata": {},
   "source": [
    "### KNN Results\n",
    "- max accuracy with KNN ignoring words that do not appear in 1% of definitions: 0.953560004738775 (K = 1)\n",
    "- max accuracy with KNN ignoring words that do not appear in 5% of definitions : 0.9290368439758322 (K = 18)\n",
    "\n",
    "- max accuracy with KNN on Normalized data ignoring words that do not appear in 1% of definitions: 0.942305414050468 (K = 1)\n",
    "- max accuracy with KNN on Normalized data ignoring words that do not appear in 5% of definitions: 0.9283260277218339 (K = 11)\n"
   ]
  },
  {
   "cell_type": "markdown",
   "metadata": {},
   "source": [
    "### Downsampling (To be used for GridSearch Optimization)"
   ]
  },
  {
   "cell_type": "code",
   "execution_count": 26,
   "metadata": {},
   "outputs": [
    {
     "data": {
      "text/plain": [
       "42203"
      ]
     },
     "execution_count": 26,
     "metadata": {},
     "output_type": "execute_result"
    }
   ],
   "source": [
    "len(df)"
   ]
  },
  {
   "cell_type": "code",
   "execution_count": 27,
   "metadata": {},
   "outputs": [
    {
     "data": {
      "text/plain": [
       "namespace\n",
       "biological_process    27014\n",
       "molecular_function    11132\n",
       "cellular_component     4057\n",
       "Name: count, dtype: int64"
      ]
     },
     "execution_count": 27,
     "metadata": {},
     "output_type": "execute_result"
    }
   ],
   "source": [
    "df['namespace'].value_counts()"
   ]
  },
  {
   "cell_type": "code",
   "execution_count": 28,
   "metadata": {},
   "outputs": [],
   "source": [
    "biological_process_df = df[df['namespace'] == 'biological_process']\n",
    "molecular_function_df = df[df['namespace'] == 'molecular_function']\n",
    "cellular_component_df = df[df['namespace'] == 'cellular_component']"
   ]
  },
  {
   "cell_type": "code",
   "execution_count": 29,
   "metadata": {},
   "outputs": [
    {
     "data": {
      "text/plain": [
       "1000"
      ]
     },
     "execution_count": 29,
     "metadata": {},
     "output_type": "execute_result"
    }
   ],
   "source": [
    "biological_process_downsampled = resample(biological_process_df, replace = False, n_samples = 1000, random_state=42)\n",
    "len(biological_process_downsampled)"
   ]
  },
  {
   "cell_type": "code",
   "execution_count": 30,
   "metadata": {},
   "outputs": [
    {
     "data": {
      "text/plain": [
       "1000"
      ]
     },
     "execution_count": 30,
     "metadata": {},
     "output_type": "execute_result"
    }
   ],
   "source": [
    "molecular_function_downsampled = resample(molecular_function_df, replace = False, n_samples = 1000, random_state=42)\n",
    "len(molecular_function_downsampled)"
   ]
  },
  {
   "cell_type": "code",
   "execution_count": 31,
   "metadata": {},
   "outputs": [
    {
     "data": {
      "text/plain": [
       "1000"
      ]
     },
     "execution_count": 31,
     "metadata": {},
     "output_type": "execute_result"
    }
   ],
   "source": [
    "cellular_component_downsampled = resample(cellular_component_df, replace = False, n_samples = 1000, random_state=42)\n",
    "len(cellular_component_downsampled)"
   ]
  },
  {
   "cell_type": "code",
   "execution_count": 32,
   "metadata": {},
   "outputs": [
    {
     "data": {
      "text/plain": [
       "3000"
      ]
     },
     "execution_count": 32,
     "metadata": {},
     "output_type": "execute_result"
    }
   ],
   "source": [
    "df_downsampled = pd.concat([biological_process_downsampled,molecular_function_downsampled,cellular_component_downsampled])\n",
    "len(df_downsampled)"
   ]
  },
  {
   "cell_type": "markdown",
   "metadata": {},
   "source": [
    "#### Downsampled Labels"
   ]
  },
  {
   "cell_type": "code",
   "execution_count": 33,
   "metadata": {},
   "outputs": [
    {
     "data": {
      "text/plain": [
       "3000"
      ]
     },
     "execution_count": 33,
     "metadata": {},
     "output_type": "execute_result"
    }
   ],
   "source": [
    "y = df_downsampled['namespace']\n",
    "len(y)"
   ]
  },
  {
   "cell_type": "markdown",
   "metadata": {},
   "source": [
    "#### a. Dataset that excludes words that do not appear in 1% of definitions\n",
    "\n",
    "This gives 234 columns"
   ]
  },
  {
   "cell_type": "code",
   "execution_count": 34,
   "metadata": {},
   "outputs": [],
   "source": [
    "vectorizer1 = CountVectorizer(stop_words='english', min_df=0.01)\n",
    "X1 = vectorizer1.fit_transform(df_downsampled['definition'])\n",
    "dense_X1 = X1.toarray()\n",
    "#creating a df with feature names as columns\n",
    "X1_df_downsampled = pd.DataFrame(dense_X1, columns=vectorizer1.get_feature_names_out())"
   ]
  },
  {
   "cell_type": "code",
   "execution_count": 35,
   "metadata": {},
   "outputs": [
    {
     "data": {
      "text/plain": [
       "(3000, 238)"
      ]
     },
     "execution_count": 35,
     "metadata": {},
     "output_type": "execute_result"
    }
   ],
   "source": [
    "X1_df_downsampled.shape"
   ]
  },
  {
   "cell_type": "markdown",
   "metadata": {},
   "source": [
    "#### b. Dataset that excludes words that do not appear in 5% of definitions\n",
    "\n",
    "This gives 27 columns\n"
   ]
  },
  {
   "cell_type": "code",
   "execution_count": 36,
   "metadata": {},
   "outputs": [],
   "source": [
    "vectorizer5 = CountVectorizer(stop_words='english', min_df=0.05)\n",
    "X5 = vectorizer5.fit_transform(df_downsampled['definition'])\n",
    "dense_X5 = X5.toarray()\n",
    "#creating a df with feature names as columns\n",
    "X5_df_downsampled = pd.DataFrame(dense_X5, columns=vectorizer5.get_feature_names_out())"
   ]
  },
  {
   "cell_type": "code",
   "execution_count": 37,
   "metadata": {},
   "outputs": [
    {
     "data": {
      "text/plain": [
       "(3000, 28)"
      ]
     },
     "execution_count": 37,
     "metadata": {},
     "output_type": "execute_result"
    }
   ],
   "source": [
    "X5_df_downsampled.shape"
   ]
  },
  {
   "cell_type": "code",
   "execution_count": 38,
   "metadata": {},
   "outputs": [
    {
     "data": {
      "text/html": [
       "<div>\n",
       "<style scoped>\n",
       "    .dataframe tbody tr th:only-of-type {\n",
       "        vertical-align: middle;\n",
       "    }\n",
       "\n",
       "    .dataframe tbody tr th {\n",
       "        vertical-align: top;\n",
       "    }\n",
       "\n",
       "    .dataframe thead th {\n",
       "        text-align: right;\n",
       "    }\n",
       "</style>\n",
       "<table border=\"1\" class=\"dataframe\">\n",
       "  <thead>\n",
       "    <tr style=\"text-align: right;\">\n",
       "      <th></th>\n",
       "      <th>activity</th>\n",
       "      <th>binding</th>\n",
       "      <th>catalysis</th>\n",
       "      <th>cell</th>\n",
       "      <th>cells</th>\n",
       "      <th>chemical</th>\n",
       "      <th>complex</th>\n",
       "      <th>dph</th>\n",
       "      <th>ec</th>\n",
       "      <th>extent</th>\n",
       "      <th>...</th>\n",
       "      <th>pathways</th>\n",
       "      <th>pmid</th>\n",
       "      <th>process</th>\n",
       "      <th>protein</th>\n",
       "      <th>proteins</th>\n",
       "      <th>rate</th>\n",
       "      <th>reaction</th>\n",
       "      <th>reactions</th>\n",
       "      <th>rhea</th>\n",
       "      <th>termgenie</th>\n",
       "    </tr>\n",
       "  </thead>\n",
       "  <tbody>\n",
       "    <tr>\n",
       "      <th>0</th>\n",
       "      <td>1</td>\n",
       "      <td>0</td>\n",
       "      <td>0</td>\n",
       "      <td>1</td>\n",
       "      <td>0</td>\n",
       "      <td>0</td>\n",
       "      <td>0</td>\n",
       "      <td>0</td>\n",
       "      <td>0</td>\n",
       "      <td>0</td>\n",
       "      <td>...</td>\n",
       "      <td>0</td>\n",
       "      <td>0</td>\n",
       "      <td>1</td>\n",
       "      <td>0</td>\n",
       "      <td>0</td>\n",
       "      <td>0</td>\n",
       "      <td>0</td>\n",
       "      <td>0</td>\n",
       "      <td>0</td>\n",
       "      <td>0</td>\n",
       "    </tr>\n",
       "    <tr>\n",
       "      <th>1</th>\n",
       "      <td>0</td>\n",
       "      <td>0</td>\n",
       "      <td>0</td>\n",
       "      <td>0</td>\n",
       "      <td>0</td>\n",
       "      <td>1</td>\n",
       "      <td>0</td>\n",
       "      <td>0</td>\n",
       "      <td>0</td>\n",
       "      <td>0</td>\n",
       "      <td>...</td>\n",
       "      <td>1</td>\n",
       "      <td>0</td>\n",
       "      <td>0</td>\n",
       "      <td>0</td>\n",
       "      <td>0</td>\n",
       "      <td>0</td>\n",
       "      <td>0</td>\n",
       "      <td>1</td>\n",
       "      <td>0</td>\n",
       "      <td>0</td>\n",
       "    </tr>\n",
       "    <tr>\n",
       "      <th>2</th>\n",
       "      <td>0</td>\n",
       "      <td>0</td>\n",
       "      <td>0</td>\n",
       "      <td>0</td>\n",
       "      <td>0</td>\n",
       "      <td>0</td>\n",
       "      <td>0</td>\n",
       "      <td>0</td>\n",
       "      <td>0</td>\n",
       "      <td>0</td>\n",
       "      <td>...</td>\n",
       "      <td>0</td>\n",
       "      <td>1</td>\n",
       "      <td>1</td>\n",
       "      <td>0</td>\n",
       "      <td>0</td>\n",
       "      <td>0</td>\n",
       "      <td>0</td>\n",
       "      <td>0</td>\n",
       "      <td>0</td>\n",
       "      <td>0</td>\n",
       "    </tr>\n",
       "    <tr>\n",
       "      <th>3</th>\n",
       "      <td>0</td>\n",
       "      <td>0</td>\n",
       "      <td>0</td>\n",
       "      <td>0</td>\n",
       "      <td>0</td>\n",
       "      <td>0</td>\n",
       "      <td>0</td>\n",
       "      <td>0</td>\n",
       "      <td>0</td>\n",
       "      <td>1</td>\n",
       "      <td>...</td>\n",
       "      <td>0</td>\n",
       "      <td>0</td>\n",
       "      <td>2</td>\n",
       "      <td>0</td>\n",
       "      <td>0</td>\n",
       "      <td>1</td>\n",
       "      <td>0</td>\n",
       "      <td>0</td>\n",
       "      <td>0</td>\n",
       "      <td>1</td>\n",
       "    </tr>\n",
       "    <tr>\n",
       "      <th>4</th>\n",
       "      <td>0</td>\n",
       "      <td>0</td>\n",
       "      <td>0</td>\n",
       "      <td>2</td>\n",
       "      <td>3</td>\n",
       "      <td>0</td>\n",
       "      <td>0</td>\n",
       "      <td>0</td>\n",
       "      <td>0</td>\n",
       "      <td>0</td>\n",
       "      <td>...</td>\n",
       "      <td>0</td>\n",
       "      <td>1</td>\n",
       "      <td>1</td>\n",
       "      <td>0</td>\n",
       "      <td>0</td>\n",
       "      <td>0</td>\n",
       "      <td>0</td>\n",
       "      <td>0</td>\n",
       "      <td>0</td>\n",
       "      <td>0</td>\n",
       "    </tr>\n",
       "    <tr>\n",
       "      <th>...</th>\n",
       "      <td>...</td>\n",
       "      <td>...</td>\n",
       "      <td>...</td>\n",
       "      <td>...</td>\n",
       "      <td>...</td>\n",
       "      <td>...</td>\n",
       "      <td>...</td>\n",
       "      <td>...</td>\n",
       "      <td>...</td>\n",
       "      <td>...</td>\n",
       "      <td>...</td>\n",
       "      <td>...</td>\n",
       "      <td>...</td>\n",
       "      <td>...</td>\n",
       "      <td>...</td>\n",
       "      <td>...</td>\n",
       "      <td>...</td>\n",
       "      <td>...</td>\n",
       "      <td>...</td>\n",
       "      <td>...</td>\n",
       "      <td>...</td>\n",
       "    </tr>\n",
       "    <tr>\n",
       "      <th>2995</th>\n",
       "      <td>0</td>\n",
       "      <td>0</td>\n",
       "      <td>0</td>\n",
       "      <td>1</td>\n",
       "      <td>0</td>\n",
       "      <td>0</td>\n",
       "      <td>0</td>\n",
       "      <td>0</td>\n",
       "      <td>0</td>\n",
       "      <td>0</td>\n",
       "      <td>...</td>\n",
       "      <td>0</td>\n",
       "      <td>0</td>\n",
       "      <td>0</td>\n",
       "      <td>0</td>\n",
       "      <td>0</td>\n",
       "      <td>0</td>\n",
       "      <td>0</td>\n",
       "      <td>0</td>\n",
       "      <td>0</td>\n",
       "      <td>0</td>\n",
       "    </tr>\n",
       "    <tr>\n",
       "      <th>2996</th>\n",
       "      <td>0</td>\n",
       "      <td>0</td>\n",
       "      <td>0</td>\n",
       "      <td>0</td>\n",
       "      <td>0</td>\n",
       "      <td>0</td>\n",
       "      <td>0</td>\n",
       "      <td>0</td>\n",
       "      <td>0</td>\n",
       "      <td>0</td>\n",
       "      <td>...</td>\n",
       "      <td>0</td>\n",
       "      <td>0</td>\n",
       "      <td>0</td>\n",
       "      <td>0</td>\n",
       "      <td>0</td>\n",
       "      <td>0</td>\n",
       "      <td>0</td>\n",
       "      <td>0</td>\n",
       "      <td>0</td>\n",
       "      <td>0</td>\n",
       "    </tr>\n",
       "    <tr>\n",
       "      <th>2997</th>\n",
       "      <td>0</td>\n",
       "      <td>0</td>\n",
       "      <td>0</td>\n",
       "      <td>0</td>\n",
       "      <td>0</td>\n",
       "      <td>0</td>\n",
       "      <td>0</td>\n",
       "      <td>0</td>\n",
       "      <td>0</td>\n",
       "      <td>0</td>\n",
       "      <td>...</td>\n",
       "      <td>0</td>\n",
       "      <td>1</td>\n",
       "      <td>0</td>\n",
       "      <td>0</td>\n",
       "      <td>0</td>\n",
       "      <td>0</td>\n",
       "      <td>0</td>\n",
       "      <td>0</td>\n",
       "      <td>0</td>\n",
       "      <td>1</td>\n",
       "    </tr>\n",
       "    <tr>\n",
       "      <th>2998</th>\n",
       "      <td>0</td>\n",
       "      <td>0</td>\n",
       "      <td>0</td>\n",
       "      <td>0</td>\n",
       "      <td>0</td>\n",
       "      <td>0</td>\n",
       "      <td>0</td>\n",
       "      <td>0</td>\n",
       "      <td>0</td>\n",
       "      <td>0</td>\n",
       "      <td>...</td>\n",
       "      <td>0</td>\n",
       "      <td>1</td>\n",
       "      <td>0</td>\n",
       "      <td>0</td>\n",
       "      <td>1</td>\n",
       "      <td>0</td>\n",
       "      <td>0</td>\n",
       "      <td>0</td>\n",
       "      <td>0</td>\n",
       "      <td>0</td>\n",
       "    </tr>\n",
       "    <tr>\n",
       "      <th>2999</th>\n",
       "      <td>0</td>\n",
       "      <td>0</td>\n",
       "      <td>0</td>\n",
       "      <td>0</td>\n",
       "      <td>0</td>\n",
       "      <td>0</td>\n",
       "      <td>0</td>\n",
       "      <td>0</td>\n",
       "      <td>0</td>\n",
       "      <td>0</td>\n",
       "      <td>...</td>\n",
       "      <td>0</td>\n",
       "      <td>0</td>\n",
       "      <td>0</td>\n",
       "      <td>0</td>\n",
       "      <td>0</td>\n",
       "      <td>0</td>\n",
       "      <td>0</td>\n",
       "      <td>0</td>\n",
       "      <td>0</td>\n",
       "      <td>0</td>\n",
       "    </tr>\n",
       "  </tbody>\n",
       "</table>\n",
       "<p>3000 rows × 28 columns</p>\n",
       "</div>"
      ],
      "text/plain": [
       "      activity  binding  catalysis  cell  cells  chemical  complex  dph  ec  \\\n",
       "0            1        0          0     1      0         0        0    0   0   \n",
       "1            0        0          0     0      0         1        0    0   0   \n",
       "2            0        0          0     0      0         0        0    0   0   \n",
       "3            0        0          0     0      0         0        0    0   0   \n",
       "4            0        0          0     2      3         0        0    0   0   \n",
       "...        ...      ...        ...   ...    ...       ...      ...  ...  ..   \n",
       "2995         0        0          0     1      0         0        0    0   0   \n",
       "2996         0        0          0     0      0         0        0    0   0   \n",
       "2997         0        0          0     0      0         0        0    0   0   \n",
       "2998         0        0          0     0      0         0        0    0   0   \n",
       "2999         0        0          0     0      0         0        0    0   0   \n",
       "\n",
       "      extent  ...  pathways  pmid  process  protein  proteins  rate  reaction  \\\n",
       "0          0  ...         0     0        1        0         0     0         0   \n",
       "1          0  ...         1     0        0        0         0     0         0   \n",
       "2          0  ...         0     1        1        0         0     0         0   \n",
       "3          1  ...         0     0        2        0         0     1         0   \n",
       "4          0  ...         0     1        1        0         0     0         0   \n",
       "...      ...  ...       ...   ...      ...      ...       ...   ...       ...   \n",
       "2995       0  ...         0     0        0        0         0     0         0   \n",
       "2996       0  ...         0     0        0        0         0     0         0   \n",
       "2997       0  ...         0     1        0        0         0     0         0   \n",
       "2998       0  ...         0     1        0        0         1     0         0   \n",
       "2999       0  ...         0     0        0        0         0     0         0   \n",
       "\n",
       "      reactions  rhea  termgenie  \n",
       "0             0     0          0  \n",
       "1             1     0          0  \n",
       "2             0     0          0  \n",
       "3             0     0          1  \n",
       "4             0     0          0  \n",
       "...         ...   ...        ...  \n",
       "2995          0     0          0  \n",
       "2996          0     0          0  \n",
       "2997          0     0          1  \n",
       "2998          0     0          0  \n",
       "2999          0     0          0  \n",
       "\n",
       "[3000 rows x 28 columns]"
      ]
     },
     "execution_count": 38,
     "metadata": {},
     "output_type": "execute_result"
    }
   ],
   "source": [
    "X5_df_downsampled"
   ]
  },
  {
   "cell_type": "markdown",
   "metadata": {},
   "source": [
    "#### Normalised Downsampled Data"
   ]
  },
  {
   "cell_type": "code",
   "execution_count": 39,
   "metadata": {},
   "outputs": [],
   "source": [
    "scaler = StandardScaler()"
   ]
  },
  {
   "cell_type": "markdown",
   "metadata": {},
   "source": [
    "1. Ignoring words that do not appear in 1% of definitions"
   ]
  },
  {
   "cell_type": "code",
   "execution_count": 40,
   "metadata": {},
   "outputs": [],
   "source": [
    "dense_X1 = X1.toarray()\n",
    "X1_normalized_downsampled = scaler.fit_transform(dense_X1)\n",
    "X1_normalized_downsampled = pd.DataFrame(X1_normalized_downsampled, columns=vectorizer1.get_feature_names_out())"
   ]
  },
  {
   "cell_type": "code",
   "execution_count": 41,
   "metadata": {},
   "outputs": [
    {
     "data": {
      "text/html": [
       "<div>\n",
       "<style scoped>\n",
       "    .dataframe tbody tr th:only-of-type {\n",
       "        vertical-align: middle;\n",
       "    }\n",
       "\n",
       "    .dataframe tbody tr th {\n",
       "        vertical-align: top;\n",
       "    }\n",
       "\n",
       "    .dataframe thead th {\n",
       "        text-align: right;\n",
       "    }\n",
       "</style>\n",
       "<table border=\"1\" class=\"dataframe\">\n",
       "  <thead>\n",
       "    <tr style=\"text-align: right;\">\n",
       "      <th></th>\n",
       "      <th>0000058</th>\n",
       "      <th>0198506732</th>\n",
       "      <th>11</th>\n",
       "      <th>13</th>\n",
       "      <th>14</th>\n",
       "      <th>acceptor</th>\n",
       "      <th>acetyl</th>\n",
       "      <th>acid</th>\n",
       "      <th>actin</th>\n",
       "      <th>activates</th>\n",
       "      <th>...</th>\n",
       "      <th>transcription</th>\n",
       "      <th>transfer</th>\n",
       "      <th>transport</th>\n",
       "      <th>transporter</th>\n",
       "      <th>type</th>\n",
       "      <th>udp</th>\n",
       "      <th>um</th>\n",
       "      <th>usually</th>\n",
       "      <th>vesicle</th>\n",
       "      <th>vw</th>\n",
       "    </tr>\n",
       "  </thead>\n",
       "  <tbody>\n",
       "    <tr>\n",
       "      <th>0</th>\n",
       "      <td>-0.140408</td>\n",
       "      <td>-0.154566</td>\n",
       "      <td>-0.096929</td>\n",
       "      <td>-0.100703</td>\n",
       "      <td>-0.111468</td>\n",
       "      <td>-0.100882</td>\n",
       "      <td>-0.098208</td>\n",
       "      <td>-0.211908</td>\n",
       "      <td>-0.091337</td>\n",
       "      <td>-0.194173</td>\n",
       "      <td>...</td>\n",
       "      <td>-0.139868</td>\n",
       "      <td>-0.202375</td>\n",
       "      <td>-0.131236</td>\n",
       "      <td>-0.10578</td>\n",
       "      <td>-0.142496</td>\n",
       "      <td>-0.114113</td>\n",
       "      <td>-0.111896</td>\n",
       "      <td>-0.102863</td>\n",
       "      <td>-0.122436</td>\n",
       "      <td>-0.137919</td>\n",
       "    </tr>\n",
       "    <tr>\n",
       "      <th>1</th>\n",
       "      <td>-0.140408</td>\n",
       "      <td>-0.154566</td>\n",
       "      <td>-0.096929</td>\n",
       "      <td>-0.100703</td>\n",
       "      <td>-0.111468</td>\n",
       "      <td>-0.100882</td>\n",
       "      <td>-0.098208</td>\n",
       "      <td>6.971423</td>\n",
       "      <td>-0.091337</td>\n",
       "      <td>-0.194173</td>\n",
       "      <td>...</td>\n",
       "      <td>-0.139868</td>\n",
       "      <td>-0.202375</td>\n",
       "      <td>-0.131236</td>\n",
       "      <td>-0.10578</td>\n",
       "      <td>-0.142496</td>\n",
       "      <td>-0.114113</td>\n",
       "      <td>-0.111896</td>\n",
       "      <td>-0.102863</td>\n",
       "      <td>-0.122436</td>\n",
       "      <td>-0.137919</td>\n",
       "    </tr>\n",
       "    <tr>\n",
       "      <th>2</th>\n",
       "      <td>-0.140408</td>\n",
       "      <td>-0.154566</td>\n",
       "      <td>-0.096929</td>\n",
       "      <td>-0.100703</td>\n",
       "      <td>-0.111468</td>\n",
       "      <td>-0.100882</td>\n",
       "      <td>-0.098208</td>\n",
       "      <td>-0.211908</td>\n",
       "      <td>-0.091337</td>\n",
       "      <td>-0.194173</td>\n",
       "      <td>...</td>\n",
       "      <td>-0.139868</td>\n",
       "      <td>-0.202375</td>\n",
       "      <td>-0.131236</td>\n",
       "      <td>-0.10578</td>\n",
       "      <td>-0.142496</td>\n",
       "      <td>-0.114113</td>\n",
       "      <td>-0.111896</td>\n",
       "      <td>-0.102863</td>\n",
       "      <td>-0.122436</td>\n",
       "      <td>-0.137919</td>\n",
       "    </tr>\n",
       "    <tr>\n",
       "      <th>3</th>\n",
       "      <td>-0.140408</td>\n",
       "      <td>-0.154566</td>\n",
       "      <td>-0.096929</td>\n",
       "      <td>-0.100703</td>\n",
       "      <td>-0.111468</td>\n",
       "      <td>-0.100882</td>\n",
       "      <td>-0.098208</td>\n",
       "      <td>-0.211908</td>\n",
       "      <td>-0.091337</td>\n",
       "      <td>-0.194173</td>\n",
       "      <td>...</td>\n",
       "      <td>-0.139868</td>\n",
       "      <td>-0.202375</td>\n",
       "      <td>-0.131236</td>\n",
       "      <td>-0.10578</td>\n",
       "      <td>-0.142496</td>\n",
       "      <td>-0.114113</td>\n",
       "      <td>-0.111896</td>\n",
       "      <td>-0.102863</td>\n",
       "      <td>-0.122436</td>\n",
       "      <td>-0.137919</td>\n",
       "    </tr>\n",
       "    <tr>\n",
       "      <th>4</th>\n",
       "      <td>-0.140408</td>\n",
       "      <td>-0.154566</td>\n",
       "      <td>-0.096929</td>\n",
       "      <td>-0.100703</td>\n",
       "      <td>-0.111468</td>\n",
       "      <td>-0.100882</td>\n",
       "      <td>-0.098208</td>\n",
       "      <td>-0.211908</td>\n",
       "      <td>-0.091337</td>\n",
       "      <td>-0.194173</td>\n",
       "      <td>...</td>\n",
       "      <td>-0.139868</td>\n",
       "      <td>-0.202375</td>\n",
       "      <td>-0.131236</td>\n",
       "      <td>-0.10578</td>\n",
       "      <td>-0.142496</td>\n",
       "      <td>-0.114113</td>\n",
       "      <td>-0.111896</td>\n",
       "      <td>-0.102863</td>\n",
       "      <td>-0.122436</td>\n",
       "      <td>-0.137919</td>\n",
       "    </tr>\n",
       "    <tr>\n",
       "      <th>...</th>\n",
       "      <td>...</td>\n",
       "      <td>...</td>\n",
       "      <td>...</td>\n",
       "      <td>...</td>\n",
       "      <td>...</td>\n",
       "      <td>...</td>\n",
       "      <td>...</td>\n",
       "      <td>...</td>\n",
       "      <td>...</td>\n",
       "      <td>...</td>\n",
       "      <td>...</td>\n",
       "      <td>...</td>\n",
       "      <td>...</td>\n",
       "      <td>...</td>\n",
       "      <td>...</td>\n",
       "      <td>...</td>\n",
       "      <td>...</td>\n",
       "      <td>...</td>\n",
       "      <td>...</td>\n",
       "      <td>...</td>\n",
       "      <td>...</td>\n",
       "    </tr>\n",
       "    <tr>\n",
       "      <th>2995</th>\n",
       "      <td>-0.140408</td>\n",
       "      <td>-0.154566</td>\n",
       "      <td>-0.096929</td>\n",
       "      <td>-0.100703</td>\n",
       "      <td>-0.111468</td>\n",
       "      <td>-0.100882</td>\n",
       "      <td>-0.098208</td>\n",
       "      <td>-0.211908</td>\n",
       "      <td>-0.091337</td>\n",
       "      <td>-0.194173</td>\n",
       "      <td>...</td>\n",
       "      <td>-0.139868</td>\n",
       "      <td>-0.202375</td>\n",
       "      <td>-0.131236</td>\n",
       "      <td>-0.10578</td>\n",
       "      <td>-0.142496</td>\n",
       "      <td>-0.114113</td>\n",
       "      <td>-0.111896</td>\n",
       "      <td>-0.102863</td>\n",
       "      <td>-0.122436</td>\n",
       "      <td>-0.137919</td>\n",
       "    </tr>\n",
       "    <tr>\n",
       "      <th>2996</th>\n",
       "      <td>-0.140408</td>\n",
       "      <td>-0.154566</td>\n",
       "      <td>-0.096929</td>\n",
       "      <td>-0.100703</td>\n",
       "      <td>-0.111468</td>\n",
       "      <td>-0.100882</td>\n",
       "      <td>-0.098208</td>\n",
       "      <td>-0.211908</td>\n",
       "      <td>-0.091337</td>\n",
       "      <td>-0.194173</td>\n",
       "      <td>...</td>\n",
       "      <td>-0.139868</td>\n",
       "      <td>-0.202375</td>\n",
       "      <td>-0.131236</td>\n",
       "      <td>-0.10578</td>\n",
       "      <td>-0.142496</td>\n",
       "      <td>-0.114113</td>\n",
       "      <td>-0.111896</td>\n",
       "      <td>-0.102863</td>\n",
       "      <td>-0.122436</td>\n",
       "      <td>-0.137919</td>\n",
       "    </tr>\n",
       "    <tr>\n",
       "      <th>2997</th>\n",
       "      <td>-0.140408</td>\n",
       "      <td>-0.154566</td>\n",
       "      <td>-0.096929</td>\n",
       "      <td>-0.100703</td>\n",
       "      <td>-0.111468</td>\n",
       "      <td>-0.100882</td>\n",
       "      <td>-0.098208</td>\n",
       "      <td>-0.211908</td>\n",
       "      <td>-0.091337</td>\n",
       "      <td>-0.194173</td>\n",
       "      <td>...</td>\n",
       "      <td>-0.139868</td>\n",
       "      <td>-0.202375</td>\n",
       "      <td>-0.131236</td>\n",
       "      <td>-0.10578</td>\n",
       "      <td>-0.142496</td>\n",
       "      <td>-0.114113</td>\n",
       "      <td>-0.111896</td>\n",
       "      <td>-0.102863</td>\n",
       "      <td>7.529828</td>\n",
       "      <td>-0.137919</td>\n",
       "    </tr>\n",
       "    <tr>\n",
       "      <th>2998</th>\n",
       "      <td>-0.140408</td>\n",
       "      <td>-0.154566</td>\n",
       "      <td>-0.096929</td>\n",
       "      <td>-0.100703</td>\n",
       "      <td>-0.111468</td>\n",
       "      <td>-0.100882</td>\n",
       "      <td>-0.098208</td>\n",
       "      <td>-0.211908</td>\n",
       "      <td>-0.091337</td>\n",
       "      <td>-0.194173</td>\n",
       "      <td>...</td>\n",
       "      <td>-0.139868</td>\n",
       "      <td>-0.202375</td>\n",
       "      <td>-0.131236</td>\n",
       "      <td>-0.10578</td>\n",
       "      <td>-0.142496</td>\n",
       "      <td>-0.114113</td>\n",
       "      <td>-0.111896</td>\n",
       "      <td>-0.102863</td>\n",
       "      <td>-0.122436</td>\n",
       "      <td>-0.137919</td>\n",
       "    </tr>\n",
       "    <tr>\n",
       "      <th>2999</th>\n",
       "      <td>-0.140408</td>\n",
       "      <td>-0.154566</td>\n",
       "      <td>-0.096929</td>\n",
       "      <td>-0.100703</td>\n",
       "      <td>-0.111468</td>\n",
       "      <td>-0.100882</td>\n",
       "      <td>-0.098208</td>\n",
       "      <td>-0.211908</td>\n",
       "      <td>-0.091337</td>\n",
       "      <td>-0.194173</td>\n",
       "      <td>...</td>\n",
       "      <td>-0.139868</td>\n",
       "      <td>-0.202375</td>\n",
       "      <td>-0.131236</td>\n",
       "      <td>-0.10578</td>\n",
       "      <td>4.405235</td>\n",
       "      <td>-0.114113</td>\n",
       "      <td>-0.111896</td>\n",
       "      <td>-0.102863</td>\n",
       "      <td>-0.122436</td>\n",
       "      <td>-0.137919</td>\n",
       "    </tr>\n",
       "  </tbody>\n",
       "</table>\n",
       "<p>3000 rows × 238 columns</p>\n",
       "</div>"
      ],
      "text/plain": [
       "       0000058  0198506732        11        13        14  acceptor    acetyl  \\\n",
       "0    -0.140408   -0.154566 -0.096929 -0.100703 -0.111468 -0.100882 -0.098208   \n",
       "1    -0.140408   -0.154566 -0.096929 -0.100703 -0.111468 -0.100882 -0.098208   \n",
       "2    -0.140408   -0.154566 -0.096929 -0.100703 -0.111468 -0.100882 -0.098208   \n",
       "3    -0.140408   -0.154566 -0.096929 -0.100703 -0.111468 -0.100882 -0.098208   \n",
       "4    -0.140408   -0.154566 -0.096929 -0.100703 -0.111468 -0.100882 -0.098208   \n",
       "...        ...         ...       ...       ...       ...       ...       ...   \n",
       "2995 -0.140408   -0.154566 -0.096929 -0.100703 -0.111468 -0.100882 -0.098208   \n",
       "2996 -0.140408   -0.154566 -0.096929 -0.100703 -0.111468 -0.100882 -0.098208   \n",
       "2997 -0.140408   -0.154566 -0.096929 -0.100703 -0.111468 -0.100882 -0.098208   \n",
       "2998 -0.140408   -0.154566 -0.096929 -0.100703 -0.111468 -0.100882 -0.098208   \n",
       "2999 -0.140408   -0.154566 -0.096929 -0.100703 -0.111468 -0.100882 -0.098208   \n",
       "\n",
       "          acid     actin  activates  ...  transcription  transfer  transport  \\\n",
       "0    -0.211908 -0.091337  -0.194173  ...      -0.139868 -0.202375  -0.131236   \n",
       "1     6.971423 -0.091337  -0.194173  ...      -0.139868 -0.202375  -0.131236   \n",
       "2    -0.211908 -0.091337  -0.194173  ...      -0.139868 -0.202375  -0.131236   \n",
       "3    -0.211908 -0.091337  -0.194173  ...      -0.139868 -0.202375  -0.131236   \n",
       "4    -0.211908 -0.091337  -0.194173  ...      -0.139868 -0.202375  -0.131236   \n",
       "...        ...       ...        ...  ...            ...       ...        ...   \n",
       "2995 -0.211908 -0.091337  -0.194173  ...      -0.139868 -0.202375  -0.131236   \n",
       "2996 -0.211908 -0.091337  -0.194173  ...      -0.139868 -0.202375  -0.131236   \n",
       "2997 -0.211908 -0.091337  -0.194173  ...      -0.139868 -0.202375  -0.131236   \n",
       "2998 -0.211908 -0.091337  -0.194173  ...      -0.139868 -0.202375  -0.131236   \n",
       "2999 -0.211908 -0.091337  -0.194173  ...      -0.139868 -0.202375  -0.131236   \n",
       "\n",
       "      transporter      type       udp        um   usually   vesicle        vw  \n",
       "0        -0.10578 -0.142496 -0.114113 -0.111896 -0.102863 -0.122436 -0.137919  \n",
       "1        -0.10578 -0.142496 -0.114113 -0.111896 -0.102863 -0.122436 -0.137919  \n",
       "2        -0.10578 -0.142496 -0.114113 -0.111896 -0.102863 -0.122436 -0.137919  \n",
       "3        -0.10578 -0.142496 -0.114113 -0.111896 -0.102863 -0.122436 -0.137919  \n",
       "4        -0.10578 -0.142496 -0.114113 -0.111896 -0.102863 -0.122436 -0.137919  \n",
       "...           ...       ...       ...       ...       ...       ...       ...  \n",
       "2995     -0.10578 -0.142496 -0.114113 -0.111896 -0.102863 -0.122436 -0.137919  \n",
       "2996     -0.10578 -0.142496 -0.114113 -0.111896 -0.102863 -0.122436 -0.137919  \n",
       "2997     -0.10578 -0.142496 -0.114113 -0.111896 -0.102863  7.529828 -0.137919  \n",
       "2998     -0.10578 -0.142496 -0.114113 -0.111896 -0.102863 -0.122436 -0.137919  \n",
       "2999     -0.10578  4.405235 -0.114113 -0.111896 -0.102863 -0.122436 -0.137919  \n",
       "\n",
       "[3000 rows x 238 columns]"
      ]
     },
     "execution_count": 41,
     "metadata": {},
     "output_type": "execute_result"
    }
   ],
   "source": [
    "X1_normalized_downsampled"
   ]
  },
  {
   "cell_type": "markdown",
   "metadata": {},
   "source": [
    "2. Ignoring words that do not appear in 5% of definitions"
   ]
  },
  {
   "cell_type": "code",
   "execution_count": 42,
   "metadata": {},
   "outputs": [],
   "source": [
    "dense_X5 = X5.toarray()\n",
    "X5_normalized_downsampled = scaler.fit_transform(dense_X5)\n",
    "X5_normalized_downsampled = pd.DataFrame(X5_normalized_downsampled, columns=vectorizer5.get_feature_names_out())"
   ]
  },
  {
   "cell_type": "code",
   "execution_count": 43,
   "metadata": {},
   "outputs": [
    {
     "data": {
      "text/html": [
       "<div>\n",
       "<style scoped>\n",
       "    .dataframe tbody tr th:only-of-type {\n",
       "        vertical-align: middle;\n",
       "    }\n",
       "\n",
       "    .dataframe tbody tr th {\n",
       "        vertical-align: top;\n",
       "    }\n",
       "\n",
       "    .dataframe thead th {\n",
       "        text-align: right;\n",
       "    }\n",
       "</style>\n",
       "<table border=\"1\" class=\"dataframe\">\n",
       "  <thead>\n",
       "    <tr style=\"text-align: right;\">\n",
       "      <th></th>\n",
       "      <th>activity</th>\n",
       "      <th>binding</th>\n",
       "      <th>catalysis</th>\n",
       "      <th>cell</th>\n",
       "      <th>cells</th>\n",
       "      <th>chemical</th>\n",
       "      <th>complex</th>\n",
       "      <th>dph</th>\n",
       "      <th>ec</th>\n",
       "      <th>extent</th>\n",
       "      <th>...</th>\n",
       "      <th>pathways</th>\n",
       "      <th>pmid</th>\n",
       "      <th>process</th>\n",
       "      <th>protein</th>\n",
       "      <th>proteins</th>\n",
       "      <th>rate</th>\n",
       "      <th>reaction</th>\n",
       "      <th>reactions</th>\n",
       "      <th>rhea</th>\n",
       "      <th>termgenie</th>\n",
       "    </tr>\n",
       "  </thead>\n",
       "  <tbody>\n",
       "    <tr>\n",
       "      <th>0</th>\n",
       "      <td>3.281971</td>\n",
       "      <td>-0.274089</td>\n",
       "      <td>-0.541417</td>\n",
       "      <td>1.294592</td>\n",
       "      <td>-0.196861</td>\n",
       "      <td>-0.248891</td>\n",
       "      <td>-0.40814</td>\n",
       "      <td>-0.245093</td>\n",
       "      <td>-0.366455</td>\n",
       "      <td>-0.355737</td>\n",
       "      <td>...</td>\n",
       "      <td>-0.243561</td>\n",
       "      <td>-0.645314</td>\n",
       "      <td>1.541374</td>\n",
       "      <td>-0.390041</td>\n",
       "      <td>-0.243323</td>\n",
       "      <td>-0.361656</td>\n",
       "      <td>-0.510785</td>\n",
       "      <td>-0.250398</td>\n",
       "      <td>-0.296883</td>\n",
       "      <td>-0.279237</td>\n",
       "    </tr>\n",
       "    <tr>\n",
       "      <th>1</th>\n",
       "      <td>-0.278938</td>\n",
       "      <td>-0.274089</td>\n",
       "      <td>-0.541417</td>\n",
       "      <td>-0.375849</td>\n",
       "      <td>-0.196861</td>\n",
       "      <td>4.017817</td>\n",
       "      <td>-0.40814</td>\n",
       "      <td>-0.245093</td>\n",
       "      <td>-0.366455</td>\n",
       "      <td>-0.355737</td>\n",
       "      <td>...</td>\n",
       "      <td>4.105745</td>\n",
       "      <td>-0.645314</td>\n",
       "      <td>-0.499280</td>\n",
       "      <td>-0.390041</td>\n",
       "      <td>-0.243323</td>\n",
       "      <td>-0.361656</td>\n",
       "      <td>-0.510785</td>\n",
       "      <td>3.993639</td>\n",
       "      <td>-0.296883</td>\n",
       "      <td>-0.279237</td>\n",
       "    </tr>\n",
       "    <tr>\n",
       "      <th>2</th>\n",
       "      <td>-0.278938</td>\n",
       "      <td>-0.274089</td>\n",
       "      <td>-0.541417</td>\n",
       "      <td>-0.375849</td>\n",
       "      <td>-0.196861</td>\n",
       "      <td>-0.248891</td>\n",
       "      <td>-0.40814</td>\n",
       "      <td>-0.245093</td>\n",
       "      <td>-0.366455</td>\n",
       "      <td>-0.355737</td>\n",
       "      <td>...</td>\n",
       "      <td>-0.243561</td>\n",
       "      <td>0.478927</td>\n",
       "      <td>1.541374</td>\n",
       "      <td>-0.390041</td>\n",
       "      <td>-0.243323</td>\n",
       "      <td>-0.361656</td>\n",
       "      <td>-0.510785</td>\n",
       "      <td>-0.250398</td>\n",
       "      <td>-0.296883</td>\n",
       "      <td>-0.279237</td>\n",
       "    </tr>\n",
       "    <tr>\n",
       "      <th>3</th>\n",
       "      <td>-0.278938</td>\n",
       "      <td>-0.274089</td>\n",
       "      <td>-0.541417</td>\n",
       "      <td>-0.375849</td>\n",
       "      <td>-0.196861</td>\n",
       "      <td>-0.248891</td>\n",
       "      <td>-0.40814</td>\n",
       "      <td>-0.245093</td>\n",
       "      <td>-0.366455</td>\n",
       "      <td>2.811063</td>\n",
       "      <td>...</td>\n",
       "      <td>-0.243561</td>\n",
       "      <td>-0.645314</td>\n",
       "      <td>3.582028</td>\n",
       "      <td>-0.390041</td>\n",
       "      <td>-0.243323</td>\n",
       "      <td>2.765056</td>\n",
       "      <td>-0.510785</td>\n",
       "      <td>-0.250398</td>\n",
       "      <td>-0.296883</td>\n",
       "      <td>3.581185</td>\n",
       "    </tr>\n",
       "    <tr>\n",
       "      <th>4</th>\n",
       "      <td>-0.278938</td>\n",
       "      <td>-0.274089</td>\n",
       "      <td>-0.541417</td>\n",
       "      <td>2.965033</td>\n",
       "      <td>8.043823</td>\n",
       "      <td>-0.248891</td>\n",
       "      <td>-0.40814</td>\n",
       "      <td>-0.245093</td>\n",
       "      <td>-0.366455</td>\n",
       "      <td>-0.355737</td>\n",
       "      <td>...</td>\n",
       "      <td>-0.243561</td>\n",
       "      <td>0.478927</td>\n",
       "      <td>1.541374</td>\n",
       "      <td>-0.390041</td>\n",
       "      <td>-0.243323</td>\n",
       "      <td>-0.361656</td>\n",
       "      <td>-0.510785</td>\n",
       "      <td>-0.250398</td>\n",
       "      <td>-0.296883</td>\n",
       "      <td>-0.279237</td>\n",
       "    </tr>\n",
       "    <tr>\n",
       "      <th>...</th>\n",
       "      <td>...</td>\n",
       "      <td>...</td>\n",
       "      <td>...</td>\n",
       "      <td>...</td>\n",
       "      <td>...</td>\n",
       "      <td>...</td>\n",
       "      <td>...</td>\n",
       "      <td>...</td>\n",
       "      <td>...</td>\n",
       "      <td>...</td>\n",
       "      <td>...</td>\n",
       "      <td>...</td>\n",
       "      <td>...</td>\n",
       "      <td>...</td>\n",
       "      <td>...</td>\n",
       "      <td>...</td>\n",
       "      <td>...</td>\n",
       "      <td>...</td>\n",
       "      <td>...</td>\n",
       "      <td>...</td>\n",
       "      <td>...</td>\n",
       "    </tr>\n",
       "    <tr>\n",
       "      <th>2995</th>\n",
       "      <td>-0.278938</td>\n",
       "      <td>-0.274089</td>\n",
       "      <td>-0.541417</td>\n",
       "      <td>1.294592</td>\n",
       "      <td>-0.196861</td>\n",
       "      <td>-0.248891</td>\n",
       "      <td>-0.40814</td>\n",
       "      <td>-0.245093</td>\n",
       "      <td>-0.366455</td>\n",
       "      <td>-0.355737</td>\n",
       "      <td>...</td>\n",
       "      <td>-0.243561</td>\n",
       "      <td>-0.645314</td>\n",
       "      <td>-0.499280</td>\n",
       "      <td>-0.390041</td>\n",
       "      <td>-0.243323</td>\n",
       "      <td>-0.361656</td>\n",
       "      <td>-0.510785</td>\n",
       "      <td>-0.250398</td>\n",
       "      <td>-0.296883</td>\n",
       "      <td>-0.279237</td>\n",
       "    </tr>\n",
       "    <tr>\n",
       "      <th>2996</th>\n",
       "      <td>-0.278938</td>\n",
       "      <td>-0.274089</td>\n",
       "      <td>-0.541417</td>\n",
       "      <td>-0.375849</td>\n",
       "      <td>-0.196861</td>\n",
       "      <td>-0.248891</td>\n",
       "      <td>-0.40814</td>\n",
       "      <td>-0.245093</td>\n",
       "      <td>-0.366455</td>\n",
       "      <td>-0.355737</td>\n",
       "      <td>...</td>\n",
       "      <td>-0.243561</td>\n",
       "      <td>-0.645314</td>\n",
       "      <td>-0.499280</td>\n",
       "      <td>-0.390041</td>\n",
       "      <td>-0.243323</td>\n",
       "      <td>-0.361656</td>\n",
       "      <td>-0.510785</td>\n",
       "      <td>-0.250398</td>\n",
       "      <td>-0.296883</td>\n",
       "      <td>-0.279237</td>\n",
       "    </tr>\n",
       "    <tr>\n",
       "      <th>2997</th>\n",
       "      <td>-0.278938</td>\n",
       "      <td>-0.274089</td>\n",
       "      <td>-0.541417</td>\n",
       "      <td>-0.375849</td>\n",
       "      <td>-0.196861</td>\n",
       "      <td>-0.248891</td>\n",
       "      <td>-0.40814</td>\n",
       "      <td>-0.245093</td>\n",
       "      <td>-0.366455</td>\n",
       "      <td>-0.355737</td>\n",
       "      <td>...</td>\n",
       "      <td>-0.243561</td>\n",
       "      <td>0.478927</td>\n",
       "      <td>-0.499280</td>\n",
       "      <td>-0.390041</td>\n",
       "      <td>-0.243323</td>\n",
       "      <td>-0.361656</td>\n",
       "      <td>-0.510785</td>\n",
       "      <td>-0.250398</td>\n",
       "      <td>-0.296883</td>\n",
       "      <td>3.581185</td>\n",
       "    </tr>\n",
       "    <tr>\n",
       "      <th>2998</th>\n",
       "      <td>-0.278938</td>\n",
       "      <td>-0.274089</td>\n",
       "      <td>-0.541417</td>\n",
       "      <td>-0.375849</td>\n",
       "      <td>-0.196861</td>\n",
       "      <td>-0.248891</td>\n",
       "      <td>-0.40814</td>\n",
       "      <td>-0.245093</td>\n",
       "      <td>-0.366455</td>\n",
       "      <td>-0.355737</td>\n",
       "      <td>...</td>\n",
       "      <td>-0.243561</td>\n",
       "      <td>0.478927</td>\n",
       "      <td>-0.499280</td>\n",
       "      <td>-0.390041</td>\n",
       "      <td>2.958299</td>\n",
       "      <td>-0.361656</td>\n",
       "      <td>-0.510785</td>\n",
       "      <td>-0.250398</td>\n",
       "      <td>-0.296883</td>\n",
       "      <td>-0.279237</td>\n",
       "    </tr>\n",
       "    <tr>\n",
       "      <th>2999</th>\n",
       "      <td>-0.278938</td>\n",
       "      <td>-0.274089</td>\n",
       "      <td>-0.541417</td>\n",
       "      <td>-0.375849</td>\n",
       "      <td>-0.196861</td>\n",
       "      <td>-0.248891</td>\n",
       "      <td>-0.40814</td>\n",
       "      <td>-0.245093</td>\n",
       "      <td>-0.366455</td>\n",
       "      <td>-0.355737</td>\n",
       "      <td>...</td>\n",
       "      <td>-0.243561</td>\n",
       "      <td>-0.645314</td>\n",
       "      <td>-0.499280</td>\n",
       "      <td>-0.390041</td>\n",
       "      <td>-0.243323</td>\n",
       "      <td>-0.361656</td>\n",
       "      <td>-0.510785</td>\n",
       "      <td>-0.250398</td>\n",
       "      <td>-0.296883</td>\n",
       "      <td>-0.279237</td>\n",
       "    </tr>\n",
       "  </tbody>\n",
       "</table>\n",
       "<p>3000 rows × 28 columns</p>\n",
       "</div>"
      ],
      "text/plain": [
       "      activity   binding  catalysis      cell     cells  chemical  complex  \\\n",
       "0     3.281971 -0.274089  -0.541417  1.294592 -0.196861 -0.248891 -0.40814   \n",
       "1    -0.278938 -0.274089  -0.541417 -0.375849 -0.196861  4.017817 -0.40814   \n",
       "2    -0.278938 -0.274089  -0.541417 -0.375849 -0.196861 -0.248891 -0.40814   \n",
       "3    -0.278938 -0.274089  -0.541417 -0.375849 -0.196861 -0.248891 -0.40814   \n",
       "4    -0.278938 -0.274089  -0.541417  2.965033  8.043823 -0.248891 -0.40814   \n",
       "...        ...       ...        ...       ...       ...       ...      ...   \n",
       "2995 -0.278938 -0.274089  -0.541417  1.294592 -0.196861 -0.248891 -0.40814   \n",
       "2996 -0.278938 -0.274089  -0.541417 -0.375849 -0.196861 -0.248891 -0.40814   \n",
       "2997 -0.278938 -0.274089  -0.541417 -0.375849 -0.196861 -0.248891 -0.40814   \n",
       "2998 -0.278938 -0.274089  -0.541417 -0.375849 -0.196861 -0.248891 -0.40814   \n",
       "2999 -0.278938 -0.274089  -0.541417 -0.375849 -0.196861 -0.248891 -0.40814   \n",
       "\n",
       "           dph        ec    extent  ...  pathways      pmid   process  \\\n",
       "0    -0.245093 -0.366455 -0.355737  ... -0.243561 -0.645314  1.541374   \n",
       "1    -0.245093 -0.366455 -0.355737  ...  4.105745 -0.645314 -0.499280   \n",
       "2    -0.245093 -0.366455 -0.355737  ... -0.243561  0.478927  1.541374   \n",
       "3    -0.245093 -0.366455  2.811063  ... -0.243561 -0.645314  3.582028   \n",
       "4    -0.245093 -0.366455 -0.355737  ... -0.243561  0.478927  1.541374   \n",
       "...        ...       ...       ...  ...       ...       ...       ...   \n",
       "2995 -0.245093 -0.366455 -0.355737  ... -0.243561 -0.645314 -0.499280   \n",
       "2996 -0.245093 -0.366455 -0.355737  ... -0.243561 -0.645314 -0.499280   \n",
       "2997 -0.245093 -0.366455 -0.355737  ... -0.243561  0.478927 -0.499280   \n",
       "2998 -0.245093 -0.366455 -0.355737  ... -0.243561  0.478927 -0.499280   \n",
       "2999 -0.245093 -0.366455 -0.355737  ... -0.243561 -0.645314 -0.499280   \n",
       "\n",
       "       protein  proteins      rate  reaction  reactions      rhea  termgenie  \n",
       "0    -0.390041 -0.243323 -0.361656 -0.510785  -0.250398 -0.296883  -0.279237  \n",
       "1    -0.390041 -0.243323 -0.361656 -0.510785   3.993639 -0.296883  -0.279237  \n",
       "2    -0.390041 -0.243323 -0.361656 -0.510785  -0.250398 -0.296883  -0.279237  \n",
       "3    -0.390041 -0.243323  2.765056 -0.510785  -0.250398 -0.296883   3.581185  \n",
       "4    -0.390041 -0.243323 -0.361656 -0.510785  -0.250398 -0.296883  -0.279237  \n",
       "...        ...       ...       ...       ...        ...       ...        ...  \n",
       "2995 -0.390041 -0.243323 -0.361656 -0.510785  -0.250398 -0.296883  -0.279237  \n",
       "2996 -0.390041 -0.243323 -0.361656 -0.510785  -0.250398 -0.296883  -0.279237  \n",
       "2997 -0.390041 -0.243323 -0.361656 -0.510785  -0.250398 -0.296883   3.581185  \n",
       "2998 -0.390041  2.958299 -0.361656 -0.510785  -0.250398 -0.296883  -0.279237  \n",
       "2999 -0.390041 -0.243323 -0.361656 -0.510785  -0.250398 -0.296883  -0.279237  \n",
       "\n",
       "[3000 rows x 28 columns]"
      ]
     },
     "execution_count": 43,
     "metadata": {},
     "output_type": "execute_result"
    }
   ],
   "source": [
    "X5_normalized_downsampled"
   ]
  },
  {
   "cell_type": "markdown",
   "metadata": {},
   "source": [
    "### Support Vector Machines"
   ]
  },
  {
   "cell_type": "markdown",
   "metadata": {},
   "source": [
    "### Non-Normalised Dataset"
   ]
  },
  {
   "cell_type": "markdown",
   "metadata": {},
   "source": [
    "#### 1. Ignoring the words that do not appear in 1% of definitions"
   ]
  },
  {
   "cell_type": "markdown",
   "metadata": {},
   "source": [
    "##### Optimizing using downsampled data\n"
   ]
  },
  {
   "cell_type": "code",
   "execution_count": 53,
   "metadata": {},
   "outputs": [],
   "source": [
    "y = df_downsampled['namespace']\n",
    "X_train, X_test, y_train, y_test = train_test_split(X1_df_downsampled, y, test_size=0.2, random_state=42)\n",
    "svm = SVC()\n",
    "svm.fit(X_train, y_train)\n",
    "y_pred = svm.predict(X_test)"
   ]
  },
  {
   "cell_type": "code",
   "execution_count": 77,
   "metadata": {},
   "outputs": [
    {
     "data": {
      "text/plain": [
       "0.9579166666666666"
      ]
     },
     "execution_count": 77,
     "metadata": {},
     "output_type": "execute_result"
    }
   ],
   "source": [
    "accuracy_score(y_test, y_pred)\n",
    "#0.9702641867077361"
   ]
  },
  {
   "cell_type": "code",
   "execution_count": 39,
   "metadata": {},
   "outputs": [
    {
     "data": {
      "text/html": [
       "<style>#sk-container-id-1 {color: black;}#sk-container-id-1 pre{padding: 0;}#sk-container-id-1 div.sk-toggleable {background-color: white;}#sk-container-id-1 label.sk-toggleable__label {cursor: pointer;display: block;width: 100%;margin-bottom: 0;padding: 0.3em;box-sizing: border-box;text-align: center;}#sk-container-id-1 label.sk-toggleable__label-arrow:before {content: \"▸\";float: left;margin-right: 0.25em;color: #696969;}#sk-container-id-1 label.sk-toggleable__label-arrow:hover:before {color: black;}#sk-container-id-1 div.sk-estimator:hover label.sk-toggleable__label-arrow:before {color: black;}#sk-container-id-1 div.sk-toggleable__content {max-height: 0;max-width: 0;overflow: hidden;text-align: left;background-color: #f0f8ff;}#sk-container-id-1 div.sk-toggleable__content pre {margin: 0.2em;color: black;border-radius: 0.25em;background-color: #f0f8ff;}#sk-container-id-1 input.sk-toggleable__control:checked~div.sk-toggleable__content {max-height: 200px;max-width: 100%;overflow: auto;}#sk-container-id-1 input.sk-toggleable__control:checked~label.sk-toggleable__label-arrow:before {content: \"▾\";}#sk-container-id-1 div.sk-estimator input.sk-toggleable__control:checked~label.sk-toggleable__label {background-color: #d4ebff;}#sk-container-id-1 div.sk-label input.sk-toggleable__control:checked~label.sk-toggleable__label {background-color: #d4ebff;}#sk-container-id-1 input.sk-hidden--visually {border: 0;clip: rect(1px 1px 1px 1px);clip: rect(1px, 1px, 1px, 1px);height: 1px;margin: -1px;overflow: hidden;padding: 0;position: absolute;width: 1px;}#sk-container-id-1 div.sk-estimator {font-family: monospace;background-color: #f0f8ff;border: 1px dotted black;border-radius: 0.25em;box-sizing: border-box;margin-bottom: 0.5em;}#sk-container-id-1 div.sk-estimator:hover {background-color: #d4ebff;}#sk-container-id-1 div.sk-parallel-item::after {content: \"\";width: 100%;border-bottom: 1px solid gray;flex-grow: 1;}#sk-container-id-1 div.sk-label:hover label.sk-toggleable__label {background-color: #d4ebff;}#sk-container-id-1 div.sk-serial::before {content: \"\";position: absolute;border-left: 1px solid gray;box-sizing: border-box;top: 0;bottom: 0;left: 50%;z-index: 0;}#sk-container-id-1 div.sk-serial {display: flex;flex-direction: column;align-items: center;background-color: white;padding-right: 0.2em;padding-left: 0.2em;position: relative;}#sk-container-id-1 div.sk-item {position: relative;z-index: 1;}#sk-container-id-1 div.sk-parallel {display: flex;align-items: stretch;justify-content: center;background-color: white;position: relative;}#sk-container-id-1 div.sk-item::before, #sk-container-id-1 div.sk-parallel-item::before {content: \"\";position: absolute;border-left: 1px solid gray;box-sizing: border-box;top: 0;bottom: 0;left: 50%;z-index: -1;}#sk-container-id-1 div.sk-parallel-item {display: flex;flex-direction: column;z-index: 1;position: relative;background-color: white;}#sk-container-id-1 div.sk-parallel-item:first-child::after {align-self: flex-end;width: 50%;}#sk-container-id-1 div.sk-parallel-item:last-child::after {align-self: flex-start;width: 50%;}#sk-container-id-1 div.sk-parallel-item:only-child::after {width: 0;}#sk-container-id-1 div.sk-dashed-wrapped {border: 1px dashed gray;margin: 0 0.4em 0.5em 0.4em;box-sizing: border-box;padding-bottom: 0.4em;background-color: white;}#sk-container-id-1 div.sk-label label {font-family: monospace;font-weight: bold;display: inline-block;line-height: 1.2em;}#sk-container-id-1 div.sk-label-container {text-align: center;}#sk-container-id-1 div.sk-container {/* jupyter's `normalize.less` sets `[hidden] { display: none; }` but bootstrap.min.css set `[hidden] { display: none !important; }` so we also need the `!important` here to be able to override the default hidden behavior on the sphinx rendered scikit-learn.org. See: https://github.com/scikit-learn/scikit-learn/issues/21755 */display: inline-block !important;position: relative;}#sk-container-id-1 div.sk-text-repr-fallback {display: none;}</style><div id=\"sk-container-id-1\" class=\"sk-top-container\"><div class=\"sk-text-repr-fallback\"><pre>GridSearchCV(cv=5, estimator=SVC(),\n",
       "             param_grid={&#x27;C&#x27;: [0.1, 1, 10, 100],\n",
       "                         &#x27;gamma&#x27;: [&#x27;scale&#x27;, &#x27;auto&#x27;, 0.001, 0.01, 0.1],\n",
       "                         &#x27;kernel&#x27;: [&#x27;linear&#x27;, &#x27;rbf&#x27;, &#x27;poly&#x27;, &#x27;sigmoid&#x27;]},\n",
       "             scoring=&#x27;accuracy&#x27;)</pre><b>In a Jupyter environment, please rerun this cell to show the HTML representation or trust the notebook. <br />On GitHub, the HTML representation is unable to render, please try loading this page with nbviewer.org.</b></div><div class=\"sk-container\" hidden><div class=\"sk-item sk-dashed-wrapped\"><div class=\"sk-label-container\"><div class=\"sk-label sk-toggleable\"><input class=\"sk-toggleable__control sk-hidden--visually\" id=\"sk-estimator-id-1\" type=\"checkbox\" ><label for=\"sk-estimator-id-1\" class=\"sk-toggleable__label sk-toggleable__label-arrow\">GridSearchCV</label><div class=\"sk-toggleable__content\"><pre>GridSearchCV(cv=5, estimator=SVC(),\n",
       "             param_grid={&#x27;C&#x27;: [0.1, 1, 10, 100],\n",
       "                         &#x27;gamma&#x27;: [&#x27;scale&#x27;, &#x27;auto&#x27;, 0.001, 0.01, 0.1],\n",
       "                         &#x27;kernel&#x27;: [&#x27;linear&#x27;, &#x27;rbf&#x27;, &#x27;poly&#x27;, &#x27;sigmoid&#x27;]},\n",
       "             scoring=&#x27;accuracy&#x27;)</pre></div></div></div><div class=\"sk-parallel\"><div class=\"sk-parallel-item\"><div class=\"sk-item\"><div class=\"sk-label-container\"><div class=\"sk-label sk-toggleable\"><input class=\"sk-toggleable__control sk-hidden--visually\" id=\"sk-estimator-id-2\" type=\"checkbox\" ><label for=\"sk-estimator-id-2\" class=\"sk-toggleable__label sk-toggleable__label-arrow\">estimator: SVC</label><div class=\"sk-toggleable__content\"><pre>SVC()</pre></div></div></div><div class=\"sk-serial\"><div class=\"sk-item\"><div class=\"sk-estimator sk-toggleable\"><input class=\"sk-toggleable__control sk-hidden--visually\" id=\"sk-estimator-id-3\" type=\"checkbox\" ><label for=\"sk-estimator-id-3\" class=\"sk-toggleable__label sk-toggleable__label-arrow\">SVC</label><div class=\"sk-toggleable__content\"><pre>SVC()</pre></div></div></div></div></div></div></div></div></div></div>"
      ],
      "text/plain": [
       "GridSearchCV(cv=5, estimator=SVC(),\n",
       "             param_grid={'C': [0.1, 1, 10, 100],\n",
       "                         'gamma': ['scale', 'auto', 0.001, 0.01, 0.1],\n",
       "                         'kernel': ['linear', 'rbf', 'poly', 'sigmoid']},\n",
       "             scoring='accuracy')"
      ]
     },
     "execution_count": 39,
     "metadata": {},
     "output_type": "execute_result"
    }
   ],
   "source": [
    "param_grid = {\n",
    "    'C': [0.1, 1, 10, 100],\n",
    "    'kernel': ['linear', 'rbf', 'poly', 'sigmoid'],\n",
    "    'gamma': ['scale', 'auto', 0.001, 0.01, 0.1]\n",
    "}\n",
    "\n",
    "grid_search = GridSearchCV(SVC(), param_grid, cv=5, scoring='accuracy')\n",
    "grid_search.fit(X_train, y_train)\n",
    "#runnning"
   ]
  },
  {
   "cell_type": "code",
   "execution_count": 40,
   "metadata": {},
   "outputs": [
    {
     "data": {
      "text/html": [
       "<style>#sk-container-id-2 {color: black;}#sk-container-id-2 pre{padding: 0;}#sk-container-id-2 div.sk-toggleable {background-color: white;}#sk-container-id-2 label.sk-toggleable__label {cursor: pointer;display: block;width: 100%;margin-bottom: 0;padding: 0.3em;box-sizing: border-box;text-align: center;}#sk-container-id-2 label.sk-toggleable__label-arrow:before {content: \"▸\";float: left;margin-right: 0.25em;color: #696969;}#sk-container-id-2 label.sk-toggleable__label-arrow:hover:before {color: black;}#sk-container-id-2 div.sk-estimator:hover label.sk-toggleable__label-arrow:before {color: black;}#sk-container-id-2 div.sk-toggleable__content {max-height: 0;max-width: 0;overflow: hidden;text-align: left;background-color: #f0f8ff;}#sk-container-id-2 div.sk-toggleable__content pre {margin: 0.2em;color: black;border-radius: 0.25em;background-color: #f0f8ff;}#sk-container-id-2 input.sk-toggleable__control:checked~div.sk-toggleable__content {max-height: 200px;max-width: 100%;overflow: auto;}#sk-container-id-2 input.sk-toggleable__control:checked~label.sk-toggleable__label-arrow:before {content: \"▾\";}#sk-container-id-2 div.sk-estimator input.sk-toggleable__control:checked~label.sk-toggleable__label {background-color: #d4ebff;}#sk-container-id-2 div.sk-label input.sk-toggleable__control:checked~label.sk-toggleable__label {background-color: #d4ebff;}#sk-container-id-2 input.sk-hidden--visually {border: 0;clip: rect(1px 1px 1px 1px);clip: rect(1px, 1px, 1px, 1px);height: 1px;margin: -1px;overflow: hidden;padding: 0;position: absolute;width: 1px;}#sk-container-id-2 div.sk-estimator {font-family: monospace;background-color: #f0f8ff;border: 1px dotted black;border-radius: 0.25em;box-sizing: border-box;margin-bottom: 0.5em;}#sk-container-id-2 div.sk-estimator:hover {background-color: #d4ebff;}#sk-container-id-2 div.sk-parallel-item::after {content: \"\";width: 100%;border-bottom: 1px solid gray;flex-grow: 1;}#sk-container-id-2 div.sk-label:hover label.sk-toggleable__label {background-color: #d4ebff;}#sk-container-id-2 div.sk-serial::before {content: \"\";position: absolute;border-left: 1px solid gray;box-sizing: border-box;top: 0;bottom: 0;left: 50%;z-index: 0;}#sk-container-id-2 div.sk-serial {display: flex;flex-direction: column;align-items: center;background-color: white;padding-right: 0.2em;padding-left: 0.2em;position: relative;}#sk-container-id-2 div.sk-item {position: relative;z-index: 1;}#sk-container-id-2 div.sk-parallel {display: flex;align-items: stretch;justify-content: center;background-color: white;position: relative;}#sk-container-id-2 div.sk-item::before, #sk-container-id-2 div.sk-parallel-item::before {content: \"\";position: absolute;border-left: 1px solid gray;box-sizing: border-box;top: 0;bottom: 0;left: 50%;z-index: -1;}#sk-container-id-2 div.sk-parallel-item {display: flex;flex-direction: column;z-index: 1;position: relative;background-color: white;}#sk-container-id-2 div.sk-parallel-item:first-child::after {align-self: flex-end;width: 50%;}#sk-container-id-2 div.sk-parallel-item:last-child::after {align-self: flex-start;width: 50%;}#sk-container-id-2 div.sk-parallel-item:only-child::after {width: 0;}#sk-container-id-2 div.sk-dashed-wrapped {border: 1px dashed gray;margin: 0 0.4em 0.5em 0.4em;box-sizing: border-box;padding-bottom: 0.4em;background-color: white;}#sk-container-id-2 div.sk-label label {font-family: monospace;font-weight: bold;display: inline-block;line-height: 1.2em;}#sk-container-id-2 div.sk-label-container {text-align: center;}#sk-container-id-2 div.sk-container {/* jupyter's `normalize.less` sets `[hidden] { display: none; }` but bootstrap.min.css set `[hidden] { display: none !important; }` so we also need the `!important` here to be able to override the default hidden behavior on the sphinx rendered scikit-learn.org. See: https://github.com/scikit-learn/scikit-learn/issues/21755 */display: inline-block !important;position: relative;}#sk-container-id-2 div.sk-text-repr-fallback {display: none;}</style><div id=\"sk-container-id-2\" class=\"sk-top-container\"><div class=\"sk-text-repr-fallback\"><pre>SVC(C=10)</pre><b>In a Jupyter environment, please rerun this cell to show the HTML representation or trust the notebook. <br />On GitHub, the HTML representation is unable to render, please try loading this page with nbviewer.org.</b></div><div class=\"sk-container\" hidden><div class=\"sk-item\"><div class=\"sk-estimator sk-toggleable\"><input class=\"sk-toggleable__control sk-hidden--visually\" id=\"sk-estimator-id-4\" type=\"checkbox\" checked><label for=\"sk-estimator-id-4\" class=\"sk-toggleable__label sk-toggleable__label-arrow\">SVC</label><div class=\"sk-toggleable__content\"><pre>SVC(C=10)</pre></div></div></div></div></div>"
      ],
      "text/plain": [
       "SVC(C=10)"
      ]
     },
     "execution_count": 40,
     "metadata": {},
     "output_type": "execute_result"
    }
   ],
   "source": [
    "grid_search.best_estimator_"
   ]
  },
  {
   "cell_type": "code",
   "execution_count": 41,
   "metadata": {},
   "outputs": [
    {
     "name": "stdout",
     "output_type": "stream",
     "text": [
      "{'C': 10, 'gamma': 'scale', 'kernel': 'rbf'}\n"
     ]
    }
   ],
   "source": [
    "print(grid_search.best_params_)"
   ]
  },
  {
   "cell_type": "markdown",
   "metadata": {},
   "source": [
    "#### Testing on full dataset "
   ]
  },
  {
   "cell_type": "code",
   "execution_count": 54,
   "metadata": {},
   "outputs": [],
   "source": [
    "y = df['namespace']\n",
    "X_train, X_test, y_train, y_test = train_test_split(X1_df, y, test_size=0.2, random_state=42)\n",
    "clf_svm = SVC(C=10)\n",
    "clf_svm.fit(X_train, y_train)\n",
    "y_pred = clf_svm.predict(X_test)"
   ]
  },
  {
   "cell_type": "code",
   "execution_count": 55,
   "metadata": {},
   "outputs": [
    {
     "data": {
      "text/plain": [
       "array([[5299,   60,   13],\n",
       "       [  95,  710,   15],\n",
       "       [  26,   20, 2203]])"
      ]
     },
     "execution_count": 55,
     "metadata": {},
     "output_type": "execute_result"
    }
   ],
   "source": [
    "confusion_matrix(y_test, y_pred)"
   ]
  },
  {
   "cell_type": "code",
   "execution_count": 56,
   "metadata": {},
   "outputs": [
    {
     "data": {
      "text/plain": [
       "0.9728705129723967"
      ]
     },
     "execution_count": 56,
     "metadata": {},
     "output_type": "execute_result"
    }
   ],
   "source": [
    "accuracy_score(y_test, y_pred)"
   ]
  },
  {
   "cell_type": "code",
   "execution_count": 57,
   "metadata": {},
   "outputs": [
    {
     "data": {
      "text/plain": [
       "namespace\n",
       "biological_process    5372\n",
       "molecular_function    2249\n",
       "cellular_component     820\n",
       "Name: count, dtype: int64"
      ]
     },
     "execution_count": 57,
     "metadata": {},
     "output_type": "execute_result"
    }
   ],
   "source": [
    "y_test.value_counts()"
   ]
  },
  {
   "cell_type": "markdown",
   "metadata": {},
   "source": [
    "#### Use PCA to plot graph"
   ]
  },
  {
   "cell_type": "code",
   "execution_count": 29,
   "metadata": {},
   "outputs": [],
   "source": [
    "pca = PCA()\n",
    "X_pca = pca.fit_transform(X1_df)"
   ]
  },
  {
   "cell_type": "code",
   "execution_count": 30,
   "metadata": {},
   "outputs": [],
   "source": [
    "per_var = np.round(pca.explained_variance_ratio_*100, decimals = 1)\n",
    "labels = [str(x) for x in range(1, len(per_var) + 1)]"
   ]
  },
  {
   "cell_type": "code",
   "execution_count": 31,
   "metadata": {},
   "outputs": [
    {
     "data": {
      "image/png": "[encoded data removed]",
      "text/plain": [
       "<Figure size 640x480 with 1 Axes>"
      ]
     },
     "metadata": {},
     "output_type": "display_data"
    }
   ],
   "source": [
    "plt.bar(x=range(1,len(per_var) + 1), height = per_var)\n",
    "plt.tick_params(\n",
    "    axis = 'x',\n",
    "    which = 'both',\n",
    "    bottom = False,\n",
    "    top = False,\n",
    "    labelbottom = False)\n",
    "plt.ylabel('% of explained variance')\n",
    "plt.xlabel('Principal Components')\n",
    "plt.title('Scree Plot')\n",
    "plt.show()"
   ]
  },
  {
   "cell_type": "code",
   "execution_count": 36,
   "metadata": {},
   "outputs": [],
   "source": [
    "train_pc1_coords = X_pca[:,0]\n",
    "train_pc2_coords = X_pca[:,1]"
   ]
  },
  {
   "cell_type": "code",
   "execution_count": 43,
   "metadata": {},
   "outputs": [],
   "source": [
    "pca_train_scaled = scaler.fit_transform(np.column_stack((train_pc1_coords,train_pc2_coords)))"
   ]
  },
  {
   "cell_type": "code",
   "execution_count": 45,
   "metadata": {},
   "outputs": [
    {
     "name": "stdout",
     "output_type": "stream",
     "text": [
      "Fitting 5 folds for each of 120 candidates, totalling 600 fits\n",
      "[CV] END ..................C=0.1, gamma=scale, kernel=linear; total time=   5.8s\n",
      "[CV] END ..................C=0.1, gamma=scale, kernel=linear; total time=   5.6s\n",
      "[CV] END ..................C=0.1, gamma=scale, kernel=linear; total time=   6.2s\n",
      "[CV] END ..................C=0.1, gamma=scale, kernel=linear; total time=   6.4s\n",
      "[CV] END ..................C=0.1, gamma=scale, kernel=linear; total time=   5.8s\n",
      "[CV] END .....................C=0.1, gamma=scale, kernel=rbf; total time=  11.5s\n",
      "[CV] END .....................C=0.1, gamma=scale, kernel=rbf; total time=  11.4s\n",
      "[CV] END .....................C=0.1, gamma=scale, kernel=rbf; total time=  12.0s\n",
      "[CV] END .....................C=0.1, gamma=scale, kernel=rbf; total time=  12.5s\n",
      "[CV] END .....................C=0.1, gamma=scale, kernel=rbf; total time=  12.9s\n",
      "[CV] END ....................C=0.1, gamma=scale, kernel=poly; total time=   7.8s\n",
      "[CV] END ....................C=0.1, gamma=scale, kernel=poly; total time=   7.5s\n",
      "[CV] END ....................C=0.1, gamma=scale, kernel=poly; total time=   8.3s\n",
      "[CV] END ....................C=0.1, gamma=scale, kernel=poly; total time=   7.6s\n",
      "[CV] END ....................C=0.1, gamma=scale, kernel=poly; total time=   8.6s\n",
      "[CV] END .................C=0.1, gamma=scale, kernel=sigmoid; total time=  11.3s\n",
      "[CV] END .................C=0.1, gamma=scale, kernel=sigmoid; total time=  11.0s\n",
      "[CV] END .................C=0.1, gamma=scale, kernel=sigmoid; total time=  11.3s\n",
      "[CV] END .................C=0.1, gamma=scale, kernel=sigmoid; total time=  12.2s\n",
      "[CV] END .................C=0.1, gamma=scale, kernel=sigmoid; total time=  13.9s\n",
      "[CV] END .................C=0.1, gamma=0.0001, kernel=linear; total time=   5.9s\n",
      "[CV] END .................C=0.1, gamma=0.0001, kernel=linear; total time=   5.6s\n",
      "[CV] END .................C=0.1, gamma=0.0001, kernel=linear; total time=   6.1s\n",
      "[CV] END .................C=0.1, gamma=0.0001, kernel=linear; total time=   6.6s\n",
      "[CV] END .................C=0.1, gamma=0.0001, kernel=linear; total time=   6.0s\n",
      "[CV] END ....................C=0.1, gamma=0.0001, kernel=rbf; total time=  15.1s\n",
      "[CV] END ....................C=0.1, gamma=0.0001, kernel=rbf; total time=  15.2s\n",
      "[CV] END ....................C=0.1, gamma=0.0001, kernel=rbf; total time=  15.0s\n",
      "[CV] END ....................C=0.1, gamma=0.0001, kernel=rbf; total time=  15.5s\n",
      "[CV] END ....................C=0.1, gamma=0.0001, kernel=rbf; total time=  16.4s\n",
      "[CV] END ...................C=0.1, gamma=0.0001, kernel=poly; total time=   8.1s\n",
      "[CV] END ...................C=0.1, gamma=0.0001, kernel=poly; total time=   8.0s\n",
      "[CV] END ...................C=0.1, gamma=0.0001, kernel=poly; total time=   8.0s\n",
      "[CV] END ...................C=0.1, gamma=0.0001, kernel=poly; total time=   8.4s\n",
      "[CV] END ...................C=0.1, gamma=0.0001, kernel=poly; total time=   8.1s\n",
      "[CV] END ................C=0.1, gamma=0.0001, kernel=sigmoid; total time=  10.0s\n",
      "[CV] END ................C=0.1, gamma=0.0001, kernel=sigmoid; total time=  10.1s\n",
      "[CV] END ................C=0.1, gamma=0.0001, kernel=sigmoid; total time=  10.3s\n",
      "[CV] END ................C=0.1, gamma=0.0001, kernel=sigmoid; total time=  10.5s\n",
      "[CV] END ................C=0.1, gamma=0.0001, kernel=sigmoid; total time=  10.5s\n",
      "[CV] END ..................C=0.1, gamma=0.001, kernel=linear; total time=   5.8s\n",
      "[CV] END ..................C=0.1, gamma=0.001, kernel=linear; total time=   5.7s\n",
      "[CV] END ..................C=0.1, gamma=0.001, kernel=linear; total time=   6.3s\n",
      "[CV] END ..................C=0.1, gamma=0.001, kernel=linear; total time=   6.5s\n",
      "[CV] END ..................C=0.1, gamma=0.001, kernel=linear; total time=   6.0s\n",
      "[CV] END .....................C=0.1, gamma=0.001, kernel=rbf; total time=  14.9s\n",
      "[CV] END .....................C=0.1, gamma=0.001, kernel=rbf; total time=  15.0s\n",
      "[CV] END .....................C=0.1, gamma=0.001, kernel=rbf; total time=  15.4s\n",
      "[CV] END .....................C=0.1, gamma=0.001, kernel=rbf; total time=  15.6s\n",
      "[CV] END .....................C=0.1, gamma=0.001, kernel=rbf; total time=  15.2s\n",
      "[CV] END ....................C=0.1, gamma=0.001, kernel=poly; total time=   7.9s\n",
      "[CV] END ....................C=0.1, gamma=0.001, kernel=poly; total time=   8.0s\n",
      "[CV] END ....................C=0.1, gamma=0.001, kernel=poly; total time=   8.0s\n",
      "[CV] END ....................C=0.1, gamma=0.001, kernel=poly; total time=   8.0s\n",
      "[CV] END ....................C=0.1, gamma=0.001, kernel=poly; total time=   8.0s\n",
      "[CV] END .................C=0.1, gamma=0.001, kernel=sigmoid; total time=  10.3s\n",
      "[CV] END .................C=0.1, gamma=0.001, kernel=sigmoid; total time=  10.4s\n",
      "[CV] END .................C=0.1, gamma=0.001, kernel=sigmoid; total time=  10.4s\n",
      "[CV] END .................C=0.1, gamma=0.001, kernel=sigmoid; total time=  10.6s\n",
      "[CV] END .................C=0.1, gamma=0.001, kernel=sigmoid; total time=  10.6s\n",
      "[CV] END ...................C=0.1, gamma=0.01, kernel=linear; total time=   5.8s\n",
      "[CV] END ...................C=0.1, gamma=0.01, kernel=linear; total time=   5.7s\n",
      "[CV] END ...................C=0.1, gamma=0.01, kernel=linear; total time=   6.3s\n",
      "[CV] END ...................C=0.1, gamma=0.01, kernel=linear; total time=   6.6s\n",
      "[CV] END ...................C=0.1, gamma=0.01, kernel=linear; total time=   5.8s\n",
      "[CV] END ......................C=0.1, gamma=0.01, kernel=rbf; total time=  12.0s\n",
      "[CV] END ......................C=0.1, gamma=0.01, kernel=rbf; total time=  11.8s\n",
      "[CV] END ......................C=0.1, gamma=0.01, kernel=rbf; total time=  13.7s\n",
      "[CV] END ......................C=0.1, gamma=0.01, kernel=rbf; total time=  13.1s\n",
      "[CV] END ......................C=0.1, gamma=0.01, kernel=rbf; total time=  13.4s\n",
      "[CV] END .....................C=0.1, gamma=0.01, kernel=poly; total time=   9.2s\n",
      "[CV] END .....................C=0.1, gamma=0.01, kernel=poly; total time=   9.3s\n",
      "[CV] END .....................C=0.1, gamma=0.01, kernel=poly; total time=   9.4s\n",
      "[CV] END .....................C=0.1, gamma=0.01, kernel=poly; total time=   9.4s\n",
      "[CV] END .....................C=0.1, gamma=0.01, kernel=poly; total time=   9.3s\n",
      "[CV] END ..................C=0.1, gamma=0.01, kernel=sigmoid; total time=   9.6s\n",
      "[CV] END ..................C=0.1, gamma=0.01, kernel=sigmoid; total time=   9.4s\n",
      "[CV] END ..................C=0.1, gamma=0.01, kernel=sigmoid; total time=  10.0s\n",
      "[CV] END ..................C=0.1, gamma=0.01, kernel=sigmoid; total time=  10.1s\n",
      "[CV] END ..................C=0.1, gamma=0.01, kernel=sigmoid; total time=   9.6s\n",
      "[CV] END ....................C=0.1, gamma=0.1, kernel=linear; total time=   6.2s\n",
      "[CV] END ....................C=0.1, gamma=0.1, kernel=linear; total time=   6.1s\n",
      "[CV] END ....................C=0.1, gamma=0.1, kernel=linear; total time=   6.8s\n",
      "[CV] END ....................C=0.1, gamma=0.1, kernel=linear; total time=   7.0s\n",
      "[CV] END ....................C=0.1, gamma=0.1, kernel=linear; total time=   6.4s\n",
      "[CV] END .......................C=0.1, gamma=0.1, kernel=rbf; total time=  12.6s\n",
      "[CV] END .......................C=0.1, gamma=0.1, kernel=rbf; total time=  12.1s\n",
      "[CV] END .......................C=0.1, gamma=0.1, kernel=rbf; total time=  13.3s\n",
      "[CV] END .......................C=0.1, gamma=0.1, kernel=rbf; total time=  13.7s\n",
      "[CV] END .......................C=0.1, gamma=0.1, kernel=rbf; total time=  13.4s\n",
      "[CV] END ......................C=0.1, gamma=0.1, kernel=poly; total time=   8.1s\n",
      "[CV] END ......................C=0.1, gamma=0.1, kernel=poly; total time=   8.0s\n",
      "[CV] END ......................C=0.1, gamma=0.1, kernel=poly; total time=   8.3s\n",
      "[CV] END ......................C=0.1, gamma=0.1, kernel=poly; total time=   8.4s\n",
      "[CV] END ......................C=0.1, gamma=0.1, kernel=poly; total time=   8.6s\n",
      "[CV] END ...................C=0.1, gamma=0.1, kernel=sigmoid; total time=  12.1s\n",
      "[CV] END ...................C=0.1, gamma=0.1, kernel=sigmoid; total time=  11.9s\n",
      "[CV] END ...................C=0.1, gamma=0.1, kernel=sigmoid; total time=  10.9s\n",
      "[CV] END ...................C=0.1, gamma=0.1, kernel=sigmoid; total time=  12.3s\n",
      "[CV] END ...................C=0.1, gamma=0.1, kernel=sigmoid; total time=  10.7s\n",
      "[CV] END ......................C=0.1, gamma=1, kernel=linear; total time=   6.3s\n",
      "[CV] END ......................C=0.1, gamma=1, kernel=linear; total time=   6.2s\n",
      "[CV] END ......................C=0.1, gamma=1, kernel=linear; total time=   6.8s\n",
      "[CV] END ......................C=0.1, gamma=1, kernel=linear; total time=   7.1s\n",
      "[CV] END ......................C=0.1, gamma=1, kernel=linear; total time=   6.6s\n",
      "[CV] END .........................C=0.1, gamma=1, kernel=rbf; total time=  12.6s\n",
      "[CV] END .........................C=0.1, gamma=1, kernel=rbf; total time=  12.2s\n",
      "[CV] END .........................C=0.1, gamma=1, kernel=rbf; total time=  12.9s\n",
      "[CV] END .........................C=0.1, gamma=1, kernel=rbf; total time=  13.5s\n",
      "[CV] END .........................C=0.1, gamma=1, kernel=rbf; total time=  13.4s\n",
      "[CV] END ........................C=0.1, gamma=1, kernel=poly; total time=  12.6s\n",
      "[CV] END ........................C=0.1, gamma=1, kernel=poly; total time=  12.6s\n",
      "[CV] END ........................C=0.1, gamma=1, kernel=poly; total time=  13.3s\n",
      "[CV] END ........................C=0.1, gamma=1, kernel=poly; total time=  12.0s\n",
      "[CV] END ........................C=0.1, gamma=1, kernel=poly; total time=  15.9s\n",
      "[CV] END .....................C=0.1, gamma=1, kernel=sigmoid; total time=  11.7s\n",
      "[CV] END .....................C=0.1, gamma=1, kernel=sigmoid; total time=  11.3s\n",
      "[CV] END .....................C=0.1, gamma=1, kernel=sigmoid; total time=  10.3s\n",
      "[CV] END .....................C=0.1, gamma=1, kernel=sigmoid; total time=  12.9s\n",
      "[CV] END .....................C=0.1, gamma=1, kernel=sigmoid; total time=  16.1s\n",
      "[CV] END ....................C=1, gamma=scale, kernel=linear; total time=   8.1s\n",
      "[CV] END ....................C=1, gamma=scale, kernel=linear; total time=   7.7s\n",
      "[CV] END ....................C=1, gamma=scale, kernel=linear; total time=   8.6s\n",
      "[CV] END ....................C=1, gamma=scale, kernel=linear; total time=   8.7s\n",
      "[CV] END ....................C=1, gamma=scale, kernel=linear; total time=   8.8s\n",
      "[CV] END .......................C=1, gamma=scale, kernel=rbf; total time=  13.0s\n",
      "[CV] END .......................C=1, gamma=scale, kernel=rbf; total time=  12.6s\n",
      "[CV] END .......................C=1, gamma=scale, kernel=rbf; total time=  13.7s\n",
      "[CV] END .......................C=1, gamma=scale, kernel=rbf; total time=  13.6s\n",
      "[CV] END .......................C=1, gamma=scale, kernel=rbf; total time=  14.3s\n",
      "[CV] END ......................C=1, gamma=scale, kernel=poly; total time=  13.5s\n",
      "[CV] END ......................C=1, gamma=scale, kernel=poly; total time=  13.8s\n",
      "[CV] END ......................C=1, gamma=scale, kernel=poly; total time=  13.9s\n",
      "[CV] END ......................C=1, gamma=scale, kernel=poly; total time=  12.2s\n",
      "[CV] END ......................C=1, gamma=scale, kernel=poly; total time=  19.6s\n",
      "[CV] END ...................C=1, gamma=scale, kernel=sigmoid; total time=  13.5s\n",
      "[CV] END ...................C=1, gamma=scale, kernel=sigmoid; total time=  11.1s\n",
      "[CV] END ...................C=1, gamma=scale, kernel=sigmoid; total time=  11.5s\n",
      "[CV] END ...................C=1, gamma=scale, kernel=sigmoid; total time=  12.4s\n",
      "[CV] END ...................C=1, gamma=scale, kernel=sigmoid; total time=  10.1s\n",
      "[CV] END ...................C=1, gamma=0.0001, kernel=linear; total time=   8.0s\n",
      "[CV] END ...................C=1, gamma=0.0001, kernel=linear; total time=   7.7s\n",
      "[CV] END ...................C=1, gamma=0.0001, kernel=linear; total time=   8.6s\n",
      "[CV] END ...................C=1, gamma=0.0001, kernel=linear; total time=   8.7s\n",
      "[CV] END ...................C=1, gamma=0.0001, kernel=linear; total time=   8.7s\n",
      "[CV] END ......................C=1, gamma=0.0001, kernel=rbf; total time=  16.6s\n",
      "[CV] END ......................C=1, gamma=0.0001, kernel=rbf; total time=  15.7s\n",
      "[CV] END ......................C=1, gamma=0.0001, kernel=rbf; total time=  16.3s\n",
      "[CV] END ......................C=1, gamma=0.0001, kernel=rbf; total time=  16.4s\n",
      "[CV] END ......................C=1, gamma=0.0001, kernel=rbf; total time=  16.4s\n",
      "[CV] END .....................C=1, gamma=0.0001, kernel=poly; total time=   8.3s\n",
      "[CV] END .....................C=1, gamma=0.0001, kernel=poly; total time=   8.3s\n",
      "[CV] END .....................C=1, gamma=0.0001, kernel=poly; total time=   8.4s\n",
      "[CV] END .....................C=1, gamma=0.0001, kernel=poly; total time=   8.5s\n",
      "[CV] END .....................C=1, gamma=0.0001, kernel=poly; total time=   8.6s\n",
      "[CV] END ..................C=1, gamma=0.0001, kernel=sigmoid; total time=  11.1s\n",
      "[CV] END ..................C=1, gamma=0.0001, kernel=sigmoid; total time=  11.1s\n",
      "[CV] END ..................C=1, gamma=0.0001, kernel=sigmoid; total time=  11.6s\n",
      "[CV] END ..................C=1, gamma=0.0001, kernel=sigmoid; total time=  11.8s\n",
      "[CV] END ..................C=1, gamma=0.0001, kernel=sigmoid; total time=  11.9s\n",
      "[CV] END ....................C=1, gamma=0.001, kernel=linear; total time=   8.2s\n",
      "[CV] END ....................C=1, gamma=0.001, kernel=linear; total time=   7.8s\n",
      "[CV] END ....................C=1, gamma=0.001, kernel=linear; total time=   8.7s\n",
      "[CV] END ....................C=1, gamma=0.001, kernel=linear; total time=   8.9s\n",
      "[CV] END ....................C=1, gamma=0.001, kernel=linear; total time=   8.8s\n",
      "[CV] END .......................C=1, gamma=0.001, kernel=rbf; total time=  13.3s\n",
      "[CV] END .......................C=1, gamma=0.001, kernel=rbf; total time=  13.2s\n",
      "[CV] END .......................C=1, gamma=0.001, kernel=rbf; total time=  14.2s\n",
      "[CV] END .......................C=1, gamma=0.001, kernel=rbf; total time=  14.7s\n",
      "[CV] END .......................C=1, gamma=0.001, kernel=rbf; total time=  14.1s\n",
      "[CV] END ......................C=1, gamma=0.001, kernel=poly; total time=   9.1s\n",
      "[CV] END ......................C=1, gamma=0.001, kernel=poly; total time=   9.1s\n",
      "[CV] END ......................C=1, gamma=0.001, kernel=poly; total time=   9.1s\n",
      "[CV] END ......................C=1, gamma=0.001, kernel=poly; total time=   9.2s\n",
      "[CV] END ......................C=1, gamma=0.001, kernel=poly; total time=   9.3s\n",
      "[CV] END ...................C=1, gamma=0.001, kernel=sigmoid; total time=   9.5s\n",
      "[CV] END ...................C=1, gamma=0.001, kernel=sigmoid; total time=   9.5s\n",
      "[CV] END ...................C=1, gamma=0.001, kernel=sigmoid; total time=  10.4s\n",
      "[CV] END ...................C=1, gamma=0.001, kernel=sigmoid; total time=  10.8s\n",
      "[CV] END ...................C=1, gamma=0.001, kernel=sigmoid; total time=  10.2s\n",
      "[CV] END .....................C=1, gamma=0.01, kernel=linear; total time=   8.4s\n",
      "[CV] END .....................C=1, gamma=0.01, kernel=linear; total time=   8.1s\n",
      "[CV] END .....................C=1, gamma=0.01, kernel=linear; total time=   9.0s\n",
      "[CV] END .....................C=1, gamma=0.01, kernel=linear; total time=   9.2s\n",
      "[CV] END .....................C=1, gamma=0.01, kernel=linear; total time=   9.1s\n",
      "[CV] END ........................C=1, gamma=0.01, kernel=rbf; total time=  13.8s\n",
      "[CV] END ........................C=1, gamma=0.01, kernel=rbf; total time=  13.3s\n",
      "[CV] END ........................C=1, gamma=0.01, kernel=rbf; total time=  15.5s\n",
      "[CV] END ........................C=1, gamma=0.01, kernel=rbf; total time=  14.6s\n",
      "[CV] END ........................C=1, gamma=0.01, kernel=rbf; total time=  14.8s\n",
      "[CV] END .......................C=1, gamma=0.01, kernel=poly; total time=   9.9s\n",
      "[CV] END .......................C=1, gamma=0.01, kernel=poly; total time=   9.9s\n",
      "[CV] END .......................C=1, gamma=0.01, kernel=poly; total time=  10.1s\n",
      "[CV] END .......................C=1, gamma=0.01, kernel=poly; total time=   9.9s\n",
      "[CV] END .......................C=1, gamma=0.01, kernel=poly; total time=  10.2s\n",
      "[CV] END ....................C=1, gamma=0.01, kernel=sigmoid; total time=   9.2s\n",
      "[CV] END ....................C=1, gamma=0.01, kernel=sigmoid; total time=   8.8s\n",
      "[CV] END ....................C=1, gamma=0.01, kernel=sigmoid; total time=   9.8s\n",
      "[CV] END ....................C=1, gamma=0.01, kernel=sigmoid; total time=   9.9s\n",
      "[CV] END ....................C=1, gamma=0.01, kernel=sigmoid; total time=   9.6s\n",
      "[CV] END ......................C=1, gamma=0.1, kernel=linear; total time=   8.4s\n",
      "[CV] END ......................C=1, gamma=0.1, kernel=linear; total time=   7.9s\n",
      "[CV] END ......................C=1, gamma=0.1, kernel=linear; total time=   8.8s\n",
      "[CV] END ......................C=1, gamma=0.1, kernel=linear; total time=   9.1s\n",
      "[CV] END ......................C=1, gamma=0.1, kernel=linear; total time=   9.0s\n",
      "[CV] END .........................C=1, gamma=0.1, kernel=rbf; total time=  13.6s\n",
      "[CV] END .........................C=1, gamma=0.1, kernel=rbf; total time=  13.2s\n",
      "[CV] END .........................C=1, gamma=0.1, kernel=rbf; total time=  14.3s\n",
      "[CV] END .........................C=1, gamma=0.1, kernel=rbf; total time=  14.5s\n",
      "[CV] END .........................C=1, gamma=0.1, kernel=rbf; total time=  14.9s\n",
      "[CV] END ........................C=1, gamma=0.1, kernel=poly; total time=   7.6s\n",
      "[CV] END ........................C=1, gamma=0.1, kernel=poly; total time=   7.6s\n",
      "[CV] END ........................C=1, gamma=0.1, kernel=poly; total time=   8.1s\n",
      "[CV] END ........................C=1, gamma=0.1, kernel=poly; total time=   8.0s\n",
      "[CV] END ........................C=1, gamma=0.1, kernel=poly; total time=   8.4s\n",
      "[CV] END .....................C=1, gamma=0.1, kernel=sigmoid; total time=   7.6s\n",
      "[CV] END .....................C=1, gamma=0.1, kernel=sigmoid; total time=   8.7s\n",
      "[CV] END .....................C=1, gamma=0.1, kernel=sigmoid; total time=   8.4s\n",
      "[CV] END .....................C=1, gamma=0.1, kernel=sigmoid; total time=   9.2s\n",
      "[CV] END .....................C=1, gamma=0.1, kernel=sigmoid; total time=   8.9s\n",
      "[CV] END ........................C=1, gamma=1, kernel=linear; total time=   8.5s\n",
      "[CV] END ........................C=1, gamma=1, kernel=linear; total time=   8.1s\n",
      "[CV] END ........................C=1, gamma=1, kernel=linear; total time=   9.1s\n",
      "[CV] END ........................C=1, gamma=1, kernel=linear; total time=   9.3s\n",
      "[CV] END ........................C=1, gamma=1, kernel=linear; total time=   9.2s\n",
      "[CV] END ...........................C=1, gamma=1, kernel=rbf; total time=  13.9s\n",
      "[CV] END ...........................C=1, gamma=1, kernel=rbf; total time=  13.7s\n",
      "[CV] END ...........................C=1, gamma=1, kernel=rbf; total time=  14.2s\n",
      "[CV] END ...........................C=1, gamma=1, kernel=rbf; total time=  14.4s\n",
      "[CV] END ...........................C=1, gamma=1, kernel=rbf; total time=  15.4s\n",
      "[CV] END ..........................C=1, gamma=1, kernel=poly; total time= 1.6min\n",
      "[CV] END ..........................C=1, gamma=1, kernel=poly; total time= 2.0min\n",
      "[CV] END ..........................C=1, gamma=1, kernel=poly; total time= 4.5min\n",
      "[CV] END ..........................C=1, gamma=1, kernel=poly; total time=  26.6s\n",
      "[CV] END ..........................C=1, gamma=1, kernel=poly; total time= 5.3min\n",
      "[CV] END .......................C=1, gamma=1, kernel=sigmoid; total time=  11.4s\n",
      "[CV] END .......................C=1, gamma=1, kernel=sigmoid; total time=  11.9s\n",
      "[CV] END .......................C=1, gamma=1, kernel=sigmoid; total time=  11.0s\n",
      "[CV] END .......................C=1, gamma=1, kernel=sigmoid; total time=  14.7s\n",
      "[CV] END .......................C=1, gamma=1, kernel=sigmoid; total time=  15.6s\n",
      "[CV] END ...................C=10, gamma=scale, kernel=linear; total time=  15.3s\n",
      "[CV] END ...................C=10, gamma=scale, kernel=linear; total time=  14.1s\n",
      "[CV] END ...................C=10, gamma=scale, kernel=linear; total time=  16.8s\n",
      "[CV] END ...................C=10, gamma=scale, kernel=linear; total time=  15.4s\n",
      "[CV] END ...................C=10, gamma=scale, kernel=linear; total time=  16.2s\n",
      "[CV] END ......................C=10, gamma=scale, kernel=rbf; total time=  14.7s\n",
      "[CV] END ......................C=10, gamma=scale, kernel=rbf; total time=  14.9s\n",
      "[CV] END ......................C=10, gamma=scale, kernel=rbf; total time=  16.5s\n",
      "[CV] END ......................C=10, gamma=scale, kernel=rbf; total time=  16.6s\n",
      "[CV] END ......................C=10, gamma=scale, kernel=rbf; total time=  19.1s\n",
      "[CV] END .....................C=10, gamma=scale, kernel=poly; total time= 2.2min\n",
      "[CV] END .....................C=10, gamma=scale, kernel=poly; total time= 2.5min\n",
      "[CV] END .....................C=10, gamma=scale, kernel=poly; total time= 5.4min\n",
      "[CV] END .....................C=10, gamma=scale, kernel=poly; total time= 2.0min\n",
      "[CV] END .....................C=10, gamma=scale, kernel=poly; total time=21.2min\n",
      "[CV] END ..................C=10, gamma=scale, kernel=sigmoid; total time=  12.3s\n",
      "[CV] END ..................C=10, gamma=scale, kernel=sigmoid; total time=  10.1s\n",
      "[CV] END ..................C=10, gamma=scale, kernel=sigmoid; total time=  10.4s\n",
      "[CV] END ..................C=10, gamma=scale, kernel=sigmoid; total time=  11.2s\n",
      "[CV] END ..................C=10, gamma=scale, kernel=sigmoid; total time=   9.4s\n",
      "[CV] END ..................C=10, gamma=0.0001, kernel=linear; total time=  13.8s\n",
      "[CV] END ..................C=10, gamma=0.0001, kernel=linear; total time=  12.4s\n",
      "[CV] END ..................C=10, gamma=0.0001, kernel=linear; total time=  14.8s\n",
      "[CV] END ..................C=10, gamma=0.0001, kernel=linear; total time=  13.5s\n",
      "[CV] END ..................C=10, gamma=0.0001, kernel=linear; total time=  14.6s\n",
      "[CV] END .....................C=10, gamma=0.0001, kernel=rbf; total time=  11.7s\n",
      "[CV] END .....................C=10, gamma=0.0001, kernel=rbf; total time=  11.4s\n",
      "[CV] END .....................C=10, gamma=0.0001, kernel=rbf; total time=  12.5s\n",
      "[CV] END .....................C=10, gamma=0.0001, kernel=rbf; total time=  12.8s\n",
      "[CV] END .....................C=10, gamma=0.0001, kernel=rbf; total time=  13.2s\n",
      "[CV] END ....................C=10, gamma=0.0001, kernel=poly; total time=   8.0s\n",
      "[CV] END ....................C=10, gamma=0.0001, kernel=poly; total time=   7.7s\n",
      "[CV] END ....................C=10, gamma=0.0001, kernel=poly; total time=   7.8s\n",
      "[CV] END ....................C=10, gamma=0.0001, kernel=poly; total time=   7.7s\n",
      "[CV] END ....................C=10, gamma=0.0001, kernel=poly; total time=   7.8s\n",
      "[CV] END .................C=10, gamma=0.0001, kernel=sigmoid; total time=   8.3s\n",
      "[CV] END .................C=10, gamma=0.0001, kernel=sigmoid; total time=   8.0s\n",
      "[CV] END .................C=10, gamma=0.0001, kernel=sigmoid; total time=   8.7s\n",
      "[CV] END .................C=10, gamma=0.0001, kernel=sigmoid; total time=   8.9s\n",
      "[CV] END .................C=10, gamma=0.0001, kernel=sigmoid; total time=   8.6s\n",
      "[CV] END ...................C=10, gamma=0.001, kernel=linear; total time=  13.5s\n",
      "[CV] END ...................C=10, gamma=0.001, kernel=linear; total time=  12.5s\n",
      "[CV] END ...................C=10, gamma=0.001, kernel=linear; total time=  15.2s\n",
      "[CV] END ...................C=10, gamma=0.001, kernel=linear; total time=  13.6s\n",
      "[CV] END ...................C=10, gamma=0.001, kernel=linear; total time=  14.4s\n",
      "[CV] END ......................C=10, gamma=0.001, kernel=rbf; total time=  11.4s\n",
      "[CV] END ......................C=10, gamma=0.001, kernel=rbf; total time=  11.2s\n",
      "[CV] END ......................C=10, gamma=0.001, kernel=rbf; total time=  12.1s\n",
      "[CV] END ......................C=10, gamma=0.001, kernel=rbf; total time=  12.3s\n",
      "[CV] END ......................C=10, gamma=0.001, kernel=rbf; total time=  12.0s\n",
      "[CV] END .....................C=10, gamma=0.001, kernel=poly; total time=   7.7s\n",
      "[CV] END .....................C=10, gamma=0.001, kernel=poly; total time=   7.8s\n",
      "[CV] END .....................C=10, gamma=0.001, kernel=poly; total time=   7.8s\n",
      "[CV] END .....................C=10, gamma=0.001, kernel=poly; total time=   8.0s\n",
      "[CV] END .....................C=10, gamma=0.001, kernel=poly; total time=   7.9s\n",
      "[CV] END ..................C=10, gamma=0.001, kernel=sigmoid; total time=   7.6s\n",
      "[CV] END ..................C=10, gamma=0.001, kernel=sigmoid; total time=   7.5s\n",
      "[CV] END ..................C=10, gamma=0.001, kernel=sigmoid; total time=   8.1s\n",
      "[CV] END ..................C=10, gamma=0.001, kernel=sigmoid; total time=   8.2s\n",
      "[CV] END ..................C=10, gamma=0.001, kernel=sigmoid; total time=   8.1s\n",
      "[CV] END ....................C=10, gamma=0.01, kernel=linear; total time=  13.5s\n",
      "[CV] END ....................C=10, gamma=0.01, kernel=linear; total time=  12.6s\n",
      "[CV] END ....................C=10, gamma=0.01, kernel=linear; total time=  15.2s\n",
      "[CV] END ....................C=10, gamma=0.01, kernel=linear; total time=  13.9s\n",
      "[CV] END ....................C=10, gamma=0.01, kernel=linear; total time=  14.5s\n",
      "[CV] END .......................C=10, gamma=0.01, kernel=rbf; total time=  12.2s\n",
      "[CV] END .......................C=10, gamma=0.01, kernel=rbf; total time=  11.3s\n",
      "[CV] END .......................C=10, gamma=0.01, kernel=rbf; total time=  12.7s\n",
      "[CV] END .......................C=10, gamma=0.01, kernel=rbf; total time=  12.6s\n",
      "[CV] END .......................C=10, gamma=0.01, kernel=rbf; total time=  13.9s\n",
      "[CV] END ......................C=10, gamma=0.01, kernel=poly; total time=   8.5s\n",
      "[CV] END ......................C=10, gamma=0.01, kernel=poly; total time=   8.5s\n",
      "[CV] END ......................C=10, gamma=0.01, kernel=poly; total time=   8.5s\n",
      "[CV] END ......................C=10, gamma=0.01, kernel=poly; total time=   8.2s\n",
      "[CV] END ......................C=10, gamma=0.01, kernel=poly; total time=   8.6s\n",
      "[CV] END ...................C=10, gamma=0.01, kernel=sigmoid; total time=   8.4s\n",
      "[CV] END ...................C=10, gamma=0.01, kernel=sigmoid; total time=   8.3s\n",
      "[CV] END ...................C=10, gamma=0.01, kernel=sigmoid; total time=   9.2s\n",
      "[CV] END ...................C=10, gamma=0.01, kernel=sigmoid; total time=   9.0s\n",
      "[CV] END ...................C=10, gamma=0.01, kernel=sigmoid; total time=   9.2s\n",
      "[CV] END .....................C=10, gamma=0.1, kernel=linear; total time=  13.8s\n",
      "[CV] END .....................C=10, gamma=0.1, kernel=linear; total time=  12.7s\n",
      "[CV] END .....................C=10, gamma=0.1, kernel=linear; total time=  14.8s\n",
      "[CV] END .....................C=10, gamma=0.1, kernel=linear; total time=  13.5s\n",
      "[CV] END .....................C=10, gamma=0.1, kernel=linear; total time=  14.4s\n",
      "[CV] END ........................C=10, gamma=0.1, kernel=rbf; total time=  12.9s\n",
      "[CV] END ........................C=10, gamma=0.1, kernel=rbf; total time=  12.7s\n",
      "[CV] END ........................C=10, gamma=0.1, kernel=rbf; total time=  13.5s\n",
      "[CV] END ........................C=10, gamma=0.1, kernel=rbf; total time=  14.6s\n",
      "[CV] END ........................C=10, gamma=0.1, kernel=rbf; total time=  15.0s\n",
      "[CV] END .......................C=10, gamma=0.1, kernel=poly; total time=   7.2s\n",
      "[CV] END .......................C=10, gamma=0.1, kernel=poly; total time=   7.0s\n",
      "[CV] END .......................C=10, gamma=0.1, kernel=poly; total time=   7.6s\n",
      "[CV] END .......................C=10, gamma=0.1, kernel=poly; total time=   6.9s\n",
      "[CV] END .......................C=10, gamma=0.1, kernel=poly; total time=   7.8s\n",
      "[CV] END ....................C=10, gamma=0.1, kernel=sigmoid; total time=   5.7s\n",
      "[CV] END ....................C=10, gamma=0.1, kernel=sigmoid; total time=   6.4s\n",
      "[CV] END ....................C=10, gamma=0.1, kernel=sigmoid; total time=   6.1s\n",
      "[CV] END ....................C=10, gamma=0.1, kernel=sigmoid; total time=   6.6s\n",
      "[CV] END ....................C=10, gamma=0.1, kernel=sigmoid; total time=   6.6s\n",
      "[CV] END .......................C=10, gamma=1, kernel=linear; total time=  13.5s\n",
      "[CV] END .......................C=10, gamma=1, kernel=linear; total time=  12.3s\n",
      "[CV] END .......................C=10, gamma=1, kernel=linear; total time=  14.8s\n",
      "[CV] END .......................C=10, gamma=1, kernel=linear; total time=  13.8s\n",
      "[CV] END .......................C=10, gamma=1, kernel=linear; total time=  15.9s\n",
      "[CV] END ..........................C=10, gamma=1, kernel=rbf; total time=  15.0s\n",
      "[CV] END ..........................C=10, gamma=1, kernel=rbf; total time=  14.0s\n",
      "[CV] END ..........................C=10, gamma=1, kernel=rbf; total time=  17.0s\n",
      "[CV] END ..........................C=10, gamma=1, kernel=rbf; total time=  15.4s\n",
      "[CV] END ..........................C=10, gamma=1, kernel=rbf; total time=  18.9s\n",
      "[CV] END .........................C=10, gamma=1, kernel=poly; total time=32.7min\n",
      "[CV] END .........................C=10, gamma=1, kernel=poly; total time=21.1min\n",
      "[CV] END .........................C=10, gamma=1, kernel=poly; total time=22.8min\n",
      "[CV] END .........................C=10, gamma=1, kernel=poly; total time=15.5min\n"
     ]
    }
   ],
   "source": [
    "param_grid = {\n",
    "    'C': [0.1, 1, 10, 100, 1000],\n",
    "    'kernel': ['linear', 'rbf', 'poly', 'sigmoid'],\n",
    "    'gamma': ['scale', 0.0001, 0.001, 0.01, 0.1, 1]\n",
    "}\n",
    "\n",
    "grid_search = GridSearchCV(SVC(), param_grid, cv=5, scoring='accuracy', verbose = 2)\n",
    "grid_search.fit(pca_train_scaled, y)"
   ]
  },
  {
   "cell_type": "code",
   "execution_count": 61,
   "metadata": {},
   "outputs": [],
   "source": [
    "clf_svm = SVC(C=10)\n",
    "clf_svm.fit(X_train, y_train)\n",
    "y_pred = clf_svm.predict(X_test)"
   ]
  },
  {
   "cell_type": "code",
   "execution_count": 62,
   "metadata": {},
   "outputs": [
    {
     "data": {
      "text/plain": [
       "0.7970619594834735"
      ]
     },
     "execution_count": 62,
     "metadata": {},
     "output_type": "execute_result"
    }
   ],
   "source": [
    "accuracy_score(y_test, y_pred)"
   ]
  },
  {
   "cell_type": "code",
   "execution_count": null,
   "metadata": {},
   "outputs": [],
   "source": []
  },
  {
   "cell_type": "code",
   "execution_count": null,
   "metadata": {},
   "outputs": [],
   "source": []
  },
  {
   "cell_type": "code",
   "execution_count": null,
   "metadata": {},
   "outputs": [],
   "source": []
  },
  {
   "cell_type": "markdown",
   "metadata": {},
   "source": [
    "##### Accuracy score using SVM and ignoring words that do not appear in 1% of  definitions: 0.9728705129723967"
   ]
  },
  {
   "cell_type": "markdown",
   "metadata": {},
   "source": [
    "#### 2. Ignoring the words that do not appear in 5% of definitions"
   ]
  },
  {
   "cell_type": "code",
   "execution_count": 100,
   "metadata": {},
   "outputs": [],
   "source": [
    "y = df_downsampled['namespace']\n",
    "X_train, X_test, y_train, y_test = train_test_split(X5_df_downsampled, y, test_size=0.2, random_state=42)\n",
    "svm = SVC()\n",
    "svm.fit(X_train, y_train)\n",
    "y_pred = svm.predict(X_test)"
   ]
  },
  {
   "cell_type": "code",
   "execution_count": 101,
   "metadata": {},
   "outputs": [
    {
     "data": {
      "text/plain": [
       "0.8970833333333333"
      ]
     },
     "execution_count": 101,
     "metadata": {},
     "output_type": "execute_result"
    }
   ],
   "source": [
    "accuracy_score(y_test, y_pred)"
   ]
  },
  {
   "cell_type": "code",
   "execution_count": 102,
   "metadata": {},
   "outputs": [
    {
     "data": {
      "text/html": [
       "<style>#sk-container-id-3 {color: black;}#sk-container-id-3 pre{padding: 0;}#sk-container-id-3 div.sk-toggleable {background-color: white;}#sk-container-id-3 label.sk-toggleable__label {cursor: pointer;display: block;width: 100%;margin-bottom: 0;padding: 0.3em;box-sizing: border-box;text-align: center;}#sk-container-id-3 label.sk-toggleable__label-arrow:before {content: \"▸\";float: left;margin-right: 0.25em;color: #696969;}#sk-container-id-3 label.sk-toggleable__label-arrow:hover:before {color: black;}#sk-container-id-3 div.sk-estimator:hover label.sk-toggleable__label-arrow:before {color: black;}#sk-container-id-3 div.sk-toggleable__content {max-height: 0;max-width: 0;overflow: hidden;text-align: left;background-color: #f0f8ff;}#sk-container-id-3 div.sk-toggleable__content pre {margin: 0.2em;color: black;border-radius: 0.25em;background-color: #f0f8ff;}#sk-container-id-3 input.sk-toggleable__control:checked~div.sk-toggleable__content {max-height: 200px;max-width: 100%;overflow: auto;}#sk-container-id-3 input.sk-toggleable__control:checked~label.sk-toggleable__label-arrow:before {content: \"▾\";}#sk-container-id-3 div.sk-estimator input.sk-toggleable__control:checked~label.sk-toggleable__label {background-color: #d4ebff;}#sk-container-id-3 div.sk-label input.sk-toggleable__control:checked~label.sk-toggleable__label {background-color: #d4ebff;}#sk-container-id-3 input.sk-hidden--visually {border: 0;clip: rect(1px 1px 1px 1px);clip: rect(1px, 1px, 1px, 1px);height: 1px;margin: -1px;overflow: hidden;padding: 0;position: absolute;width: 1px;}#sk-container-id-3 div.sk-estimator {font-family: monospace;background-color: #f0f8ff;border: 1px dotted black;border-radius: 0.25em;box-sizing: border-box;margin-bottom: 0.5em;}#sk-container-id-3 div.sk-estimator:hover {background-color: #d4ebff;}#sk-container-id-3 div.sk-parallel-item::after {content: \"\";width: 100%;border-bottom: 1px solid gray;flex-grow: 1;}#sk-container-id-3 div.sk-label:hover label.sk-toggleable__label {background-color: #d4ebff;}#sk-container-id-3 div.sk-serial::before {content: \"\";position: absolute;border-left: 1px solid gray;box-sizing: border-box;top: 0;bottom: 0;left: 50%;z-index: 0;}#sk-container-id-3 div.sk-serial {display: flex;flex-direction: column;align-items: center;background-color: white;padding-right: 0.2em;padding-left: 0.2em;position: relative;}#sk-container-id-3 div.sk-item {position: relative;z-index: 1;}#sk-container-id-3 div.sk-parallel {display: flex;align-items: stretch;justify-content: center;background-color: white;position: relative;}#sk-container-id-3 div.sk-item::before, #sk-container-id-3 div.sk-parallel-item::before {content: \"\";position: absolute;border-left: 1px solid gray;box-sizing: border-box;top: 0;bottom: 0;left: 50%;z-index: -1;}#sk-container-id-3 div.sk-parallel-item {display: flex;flex-direction: column;z-index: 1;position: relative;background-color: white;}#sk-container-id-3 div.sk-parallel-item:first-child::after {align-self: flex-end;width: 50%;}#sk-container-id-3 div.sk-parallel-item:last-child::after {align-self: flex-start;width: 50%;}#sk-container-id-3 div.sk-parallel-item:only-child::after {width: 0;}#sk-container-id-3 div.sk-dashed-wrapped {border: 1px dashed gray;margin: 0 0.4em 0.5em 0.4em;box-sizing: border-box;padding-bottom: 0.4em;background-color: white;}#sk-container-id-3 div.sk-label label {font-family: monospace;font-weight: bold;display: inline-block;line-height: 1.2em;}#sk-container-id-3 div.sk-label-container {text-align: center;}#sk-container-id-3 div.sk-container {/* jupyter's `normalize.less` sets `[hidden] { display: none; }` but bootstrap.min.css set `[hidden] { display: none !important; }` so we also need the `!important` here to be able to override the default hidden behavior on the sphinx rendered scikit-learn.org. See: https://github.com/scikit-learn/scikit-learn/issues/21755 */display: inline-block !important;position: relative;}#sk-container-id-3 div.sk-text-repr-fallback {display: none;}</style><div id=\"sk-container-id-3\" class=\"sk-top-container\"><div class=\"sk-text-repr-fallback\"><pre>GridSearchCV(cv=5, estimator=SVC(),\n",
       "             param_grid={&#x27;C&#x27;: [0.1, 1, 10, 100],\n",
       "                         &#x27;gamma&#x27;: [&#x27;scale&#x27;, &#x27;auto&#x27;, 0.001, 0.01, 0.1],\n",
       "                         &#x27;kernel&#x27;: [&#x27;linear&#x27;, &#x27;rbf&#x27;, &#x27;poly&#x27;, &#x27;sigmoid&#x27;]},\n",
       "             scoring=&#x27;accuracy&#x27;)</pre><b>In a Jupyter environment, please rerun this cell to show the HTML representation or trust the notebook. <br />On GitHub, the HTML representation is unable to render, please try loading this page with nbviewer.org.</b></div><div class=\"sk-container\" hidden><div class=\"sk-item sk-dashed-wrapped\"><div class=\"sk-label-container\"><div class=\"sk-label sk-toggleable\"><input class=\"sk-toggleable__control sk-hidden--visually\" id=\"sk-estimator-id-5\" type=\"checkbox\" ><label for=\"sk-estimator-id-5\" class=\"sk-toggleable__label sk-toggleable__label-arrow\">GridSearchCV</label><div class=\"sk-toggleable__content\"><pre>GridSearchCV(cv=5, estimator=SVC(),\n",
       "             param_grid={&#x27;C&#x27;: [0.1, 1, 10, 100],\n",
       "                         &#x27;gamma&#x27;: [&#x27;scale&#x27;, &#x27;auto&#x27;, 0.001, 0.01, 0.1],\n",
       "                         &#x27;kernel&#x27;: [&#x27;linear&#x27;, &#x27;rbf&#x27;, &#x27;poly&#x27;, &#x27;sigmoid&#x27;]},\n",
       "             scoring=&#x27;accuracy&#x27;)</pre></div></div></div><div class=\"sk-parallel\"><div class=\"sk-parallel-item\"><div class=\"sk-item\"><div class=\"sk-label-container\"><div class=\"sk-label sk-toggleable\"><input class=\"sk-toggleable__control sk-hidden--visually\" id=\"sk-estimator-id-6\" type=\"checkbox\" ><label for=\"sk-estimator-id-6\" class=\"sk-toggleable__label sk-toggleable__label-arrow\">estimator: SVC</label><div class=\"sk-toggleable__content\"><pre>SVC()</pre></div></div></div><div class=\"sk-serial\"><div class=\"sk-item\"><div class=\"sk-estimator sk-toggleable\"><input class=\"sk-toggleable__control sk-hidden--visually\" id=\"sk-estimator-id-7\" type=\"checkbox\" ><label for=\"sk-estimator-id-7\" class=\"sk-toggleable__label sk-toggleable__label-arrow\">SVC</label><div class=\"sk-toggleable__content\"><pre>SVC()</pre></div></div></div></div></div></div></div></div></div></div>"
      ],
      "text/plain": [
       "GridSearchCV(cv=5, estimator=SVC(),\n",
       "             param_grid={'C': [0.1, 1, 10, 100],\n",
       "                         'gamma': ['scale', 'auto', 0.001, 0.01, 0.1],\n",
       "                         'kernel': ['linear', 'rbf', 'poly', 'sigmoid']},\n",
       "             scoring='accuracy')"
      ]
     },
     "execution_count": 102,
     "metadata": {},
     "output_type": "execute_result"
    }
   ],
   "source": [
    "param_grid = {\n",
    "    'C': [0.1, 1, 10, 100],\n",
    "    'kernel': ['linear', 'rbf', 'poly', 'sigmoid'],\n",
    "    'gamma': ['scale', 'auto', 0.001, 0.01, 0.1]\n",
    "}\n",
    "\n",
    "grid_search = GridSearchCV(SVC(), param_grid, cv=5, scoring='accuracy')\n",
    "grid_search.fit(X_train, y_train)"
   ]
  },
  {
   "cell_type": "code",
   "execution_count": 103,
   "metadata": {},
   "outputs": [
    {
     "data": {
      "text/html": [
       "<style>#sk-container-id-4 {color: black;}#sk-container-id-4 pre{padding: 0;}#sk-container-id-4 div.sk-toggleable {background-color: white;}#sk-container-id-4 label.sk-toggleable__label {cursor: pointer;display: block;width: 100%;margin-bottom: 0;padding: 0.3em;box-sizing: border-box;text-align: center;}#sk-container-id-4 label.sk-toggleable__label-arrow:before {content: \"▸\";float: left;margin-right: 0.25em;color: #696969;}#sk-container-id-4 label.sk-toggleable__label-arrow:hover:before {color: black;}#sk-container-id-4 div.sk-estimator:hover label.sk-toggleable__label-arrow:before {color: black;}#sk-container-id-4 div.sk-toggleable__content {max-height: 0;max-width: 0;overflow: hidden;text-align: left;background-color: #f0f8ff;}#sk-container-id-4 div.sk-toggleable__content pre {margin: 0.2em;color: black;border-radius: 0.25em;background-color: #f0f8ff;}#sk-container-id-4 input.sk-toggleable__control:checked~div.sk-toggleable__content {max-height: 200px;max-width: 100%;overflow: auto;}#sk-container-id-4 input.sk-toggleable__control:checked~label.sk-toggleable__label-arrow:before {content: \"▾\";}#sk-container-id-4 div.sk-estimator input.sk-toggleable__control:checked~label.sk-toggleable__label {background-color: #d4ebff;}#sk-container-id-4 div.sk-label input.sk-toggleable__control:checked~label.sk-toggleable__label {background-color: #d4ebff;}#sk-container-id-4 input.sk-hidden--visually {border: 0;clip: rect(1px 1px 1px 1px);clip: rect(1px, 1px, 1px, 1px);height: 1px;margin: -1px;overflow: hidden;padding: 0;position: absolute;width: 1px;}#sk-container-id-4 div.sk-estimator {font-family: monospace;background-color: #f0f8ff;border: 1px dotted black;border-radius: 0.25em;box-sizing: border-box;margin-bottom: 0.5em;}#sk-container-id-4 div.sk-estimator:hover {background-color: #d4ebff;}#sk-container-id-4 div.sk-parallel-item::after {content: \"\";width: 100%;border-bottom: 1px solid gray;flex-grow: 1;}#sk-container-id-4 div.sk-label:hover label.sk-toggleable__label {background-color: #d4ebff;}#sk-container-id-4 div.sk-serial::before {content: \"\";position: absolute;border-left: 1px solid gray;box-sizing: border-box;top: 0;bottom: 0;left: 50%;z-index: 0;}#sk-container-id-4 div.sk-serial {display: flex;flex-direction: column;align-items: center;background-color: white;padding-right: 0.2em;padding-left: 0.2em;position: relative;}#sk-container-id-4 div.sk-item {position: relative;z-index: 1;}#sk-container-id-4 div.sk-parallel {display: flex;align-items: stretch;justify-content: center;background-color: white;position: relative;}#sk-container-id-4 div.sk-item::before, #sk-container-id-4 div.sk-parallel-item::before {content: \"\";position: absolute;border-left: 1px solid gray;box-sizing: border-box;top: 0;bottom: 0;left: 50%;z-index: -1;}#sk-container-id-4 div.sk-parallel-item {display: flex;flex-direction: column;z-index: 1;position: relative;background-color: white;}#sk-container-id-4 div.sk-parallel-item:first-child::after {align-self: flex-end;width: 50%;}#sk-container-id-4 div.sk-parallel-item:last-child::after {align-self: flex-start;width: 50%;}#sk-container-id-4 div.sk-parallel-item:only-child::after {width: 0;}#sk-container-id-4 div.sk-dashed-wrapped {border: 1px dashed gray;margin: 0 0.4em 0.5em 0.4em;box-sizing: border-box;padding-bottom: 0.4em;background-color: white;}#sk-container-id-4 div.sk-label label {font-family: monospace;font-weight: bold;display: inline-block;line-height: 1.2em;}#sk-container-id-4 div.sk-label-container {text-align: center;}#sk-container-id-4 div.sk-container {/* jupyter's `normalize.less` sets `[hidden] { display: none; }` but bootstrap.min.css set `[hidden] { display: none !important; }` so we also need the `!important` here to be able to override the default hidden behavior on the sphinx rendered scikit-learn.org. See: https://github.com/scikit-learn/scikit-learn/issues/21755 */display: inline-block !important;position: relative;}#sk-container-id-4 div.sk-text-repr-fallback {display: none;}</style><div id=\"sk-container-id-4\" class=\"sk-top-container\"><div class=\"sk-text-repr-fallback\"><pre>SVC(C=10, gamma=0.1)</pre><b>In a Jupyter environment, please rerun this cell to show the HTML representation or trust the notebook. <br />On GitHub, the HTML representation is unable to render, please try loading this page with nbviewer.org.</b></div><div class=\"sk-container\" hidden><div class=\"sk-item\"><div class=\"sk-estimator sk-toggleable\"><input class=\"sk-toggleable__control sk-hidden--visually\" id=\"sk-estimator-id-8\" type=\"checkbox\" checked><label for=\"sk-estimator-id-8\" class=\"sk-toggleable__label sk-toggleable__label-arrow\">SVC</label><div class=\"sk-toggleable__content\"><pre>SVC(C=10, gamma=0.1)</pre></div></div></div></div></div>"
      ],
      "text/plain": [
       "SVC(C=10, gamma=0.1)"
      ]
     },
     "execution_count": 103,
     "metadata": {},
     "output_type": "execute_result"
    }
   ],
   "source": [
    "grid_search.best_estimator_"
   ]
  },
  {
   "cell_type": "code",
   "execution_count": 104,
   "metadata": {},
   "outputs": [
    {
     "name": "stdout",
     "output_type": "stream",
     "text": [
      "{'C': 10, 'gamma': 0.1, 'kernel': 'rbf'}\n"
     ]
    }
   ],
   "source": [
    "print(grid_search.best_params_)"
   ]
  },
  {
   "cell_type": "markdown",
   "metadata": {},
   "source": [
    "#### Testing on full dataset "
   ]
  },
  {
   "cell_type": "code",
   "execution_count": 105,
   "metadata": {},
   "outputs": [],
   "source": [
    "y = df['namespace']\n",
    "X_train, X_test, y_train, y_test = train_test_split(X5_df, y, test_size=0.2, random_state=42)\n",
    "clf_svm = SVC(C=10, gamma = 0.1)\n",
    "clf_svm.fit(X_train, y_train)\n",
    "y_pred = clf_svm.predict(X_test)"
   ]
  },
  {
   "cell_type": "code",
   "execution_count": 106,
   "metadata": {},
   "outputs": [
    {
     "data": {
      "text/plain": [
       "array([[5270,   69,   33],\n",
       "       [ 281,  517,   22],\n",
       "       [  77,   68, 2104]])"
      ]
     },
     "execution_count": 106,
     "metadata": {},
     "output_type": "execute_result"
    }
   ],
   "source": [
    "confusion_matrix(y_test, y_pred)"
   ]
  },
  {
   "cell_type": "code",
   "execution_count": 107,
   "metadata": {},
   "outputs": [
    {
     "data": {
      "text/plain": [
       "0.9348418433834854"
      ]
     },
     "execution_count": 107,
     "metadata": {},
     "output_type": "execute_result"
    }
   ],
   "source": [
    "accuracy_score(y_test, y_pred)"
   ]
  },
  {
   "cell_type": "markdown",
   "metadata": {},
   "source": [
    "### Normalised Dataset"
   ]
  },
  {
   "cell_type": "markdown",
   "metadata": {},
   "source": [
    "#### 1. Ignoring the words that do not appear in 1% of definitions"
   ]
  },
  {
   "cell_type": "code",
   "execution_count": 114,
   "metadata": {},
   "outputs": [],
   "source": [
    "y = df_downsampled['namespace']\n",
    "X_train, X_test, y_train, y_test = train_test_split(X1_normalized_downsampled, y, test_size=0.2, random_state=42)"
   ]
  },
  {
   "cell_type": "code",
   "execution_count": 117,
   "metadata": {},
   "outputs": [],
   "source": [
    "svm = SVC()\n",
    "svm.fit(X_train, y_train)\n",
    "y_pred = svm.predict(X_test)"
   ]
  },
  {
   "cell_type": "code",
   "execution_count": 118,
   "metadata": {},
   "outputs": [
    {
     "data": {
      "text/plain": [
       "0.9491666666666667"
      ]
     },
     "execution_count": 118,
     "metadata": {},
     "output_type": "execute_result"
    }
   ],
   "source": [
    "accuracy_score(y_test, y_pred)"
   ]
  },
  {
   "cell_type": "code",
   "execution_count": 119,
   "metadata": {},
   "outputs": [
    {
     "data": {
      "text/plain": [
       "array([[750,  69,   9],\n",
       "       [ 14, 767,   2],\n",
       "       [  6,  22, 761]])"
      ]
     },
     "execution_count": 119,
     "metadata": {},
     "output_type": "execute_result"
    }
   ],
   "source": [
    "confusion_matrix(y_test, y_pred)"
   ]
  },
  {
   "cell_type": "code",
   "execution_count": 120,
   "metadata": {},
   "outputs": [
    {
     "data": {
      "text/html": [
       "<style>#sk-container-id-5 {color: black;}#sk-container-id-5 pre{padding: 0;}#sk-container-id-5 div.sk-toggleable {background-color: white;}#sk-container-id-5 label.sk-toggleable__label {cursor: pointer;display: block;width: 100%;margin-bottom: 0;padding: 0.3em;box-sizing: border-box;text-align: center;}#sk-container-id-5 label.sk-toggleable__label-arrow:before {content: \"▸\";float: left;margin-right: 0.25em;color: #696969;}#sk-container-id-5 label.sk-toggleable__label-arrow:hover:before {color: black;}#sk-container-id-5 div.sk-estimator:hover label.sk-toggleable__label-arrow:before {color: black;}#sk-container-id-5 div.sk-toggleable__content {max-height: 0;max-width: 0;overflow: hidden;text-align: left;background-color: #f0f8ff;}#sk-container-id-5 div.sk-toggleable__content pre {margin: 0.2em;color: black;border-radius: 0.25em;background-color: #f0f8ff;}#sk-container-id-5 input.sk-toggleable__control:checked~div.sk-toggleable__content {max-height: 200px;max-width: 100%;overflow: auto;}#sk-container-id-5 input.sk-toggleable__control:checked~label.sk-toggleable__label-arrow:before {content: \"▾\";}#sk-container-id-5 div.sk-estimator input.sk-toggleable__control:checked~label.sk-toggleable__label {background-color: #d4ebff;}#sk-container-id-5 div.sk-label input.sk-toggleable__control:checked~label.sk-toggleable__label {background-color: #d4ebff;}#sk-container-id-5 input.sk-hidden--visually {border: 0;clip: rect(1px 1px 1px 1px);clip: rect(1px, 1px, 1px, 1px);height: 1px;margin: -1px;overflow: hidden;padding: 0;position: absolute;width: 1px;}#sk-container-id-5 div.sk-estimator {font-family: monospace;background-color: #f0f8ff;border: 1px dotted black;border-radius: 0.25em;box-sizing: border-box;margin-bottom: 0.5em;}#sk-container-id-5 div.sk-estimator:hover {background-color: #d4ebff;}#sk-container-id-5 div.sk-parallel-item::after {content: \"\";width: 100%;border-bottom: 1px solid gray;flex-grow: 1;}#sk-container-id-5 div.sk-label:hover label.sk-toggleable__label {background-color: #d4ebff;}#sk-container-id-5 div.sk-serial::before {content: \"\";position: absolute;border-left: 1px solid gray;box-sizing: border-box;top: 0;bottom: 0;left: 50%;z-index: 0;}#sk-container-id-5 div.sk-serial {display: flex;flex-direction: column;align-items: center;background-color: white;padding-right: 0.2em;padding-left: 0.2em;position: relative;}#sk-container-id-5 div.sk-item {position: relative;z-index: 1;}#sk-container-id-5 div.sk-parallel {display: flex;align-items: stretch;justify-content: center;background-color: white;position: relative;}#sk-container-id-5 div.sk-item::before, #sk-container-id-5 div.sk-parallel-item::before {content: \"\";position: absolute;border-left: 1px solid gray;box-sizing: border-box;top: 0;bottom: 0;left: 50%;z-index: -1;}#sk-container-id-5 div.sk-parallel-item {display: flex;flex-direction: column;z-index: 1;position: relative;background-color: white;}#sk-container-id-5 div.sk-parallel-item:first-child::after {align-self: flex-end;width: 50%;}#sk-container-id-5 div.sk-parallel-item:last-child::after {align-self: flex-start;width: 50%;}#sk-container-id-5 div.sk-parallel-item:only-child::after {width: 0;}#sk-container-id-5 div.sk-dashed-wrapped {border: 1px dashed gray;margin: 0 0.4em 0.5em 0.4em;box-sizing: border-box;padding-bottom: 0.4em;background-color: white;}#sk-container-id-5 div.sk-label label {font-family: monospace;font-weight: bold;display: inline-block;line-height: 1.2em;}#sk-container-id-5 div.sk-label-container {text-align: center;}#sk-container-id-5 div.sk-container {/* jupyter's `normalize.less` sets `[hidden] { display: none; }` but bootstrap.min.css set `[hidden] { display: none !important; }` so we also need the `!important` here to be able to override the default hidden behavior on the sphinx rendered scikit-learn.org. See: https://github.com/scikit-learn/scikit-learn/issues/21755 */display: inline-block !important;position: relative;}#sk-container-id-5 div.sk-text-repr-fallback {display: none;}</style><div id=\"sk-container-id-5\" class=\"sk-top-container\"><div class=\"sk-text-repr-fallback\"><pre>GridSearchCV(cv=5, estimator=SVC(),\n",
       "             param_grid={&#x27;C&#x27;: [0.1, 1, 10, 100],\n",
       "                         &#x27;gamma&#x27;: [&#x27;scale&#x27;, &#x27;auto&#x27;, 0.001, 0.01, 0.1],\n",
       "                         &#x27;kernel&#x27;: [&#x27;linear&#x27;, &#x27;rbf&#x27;, &#x27;poly&#x27;, &#x27;sigmoid&#x27;]},\n",
       "             scoring=&#x27;accuracy&#x27;)</pre><b>In a Jupyter environment, please rerun this cell to show the HTML representation or trust the notebook. <br />On GitHub, the HTML representation is unable to render, please try loading this page with nbviewer.org.</b></div><div class=\"sk-container\" hidden><div class=\"sk-item sk-dashed-wrapped\"><div class=\"sk-label-container\"><div class=\"sk-label sk-toggleable\"><input class=\"sk-toggleable__control sk-hidden--visually\" id=\"sk-estimator-id-9\" type=\"checkbox\" ><label for=\"sk-estimator-id-9\" class=\"sk-toggleable__label sk-toggleable__label-arrow\">GridSearchCV</label><div class=\"sk-toggleable__content\"><pre>GridSearchCV(cv=5, estimator=SVC(),\n",
       "             param_grid={&#x27;C&#x27;: [0.1, 1, 10, 100],\n",
       "                         &#x27;gamma&#x27;: [&#x27;scale&#x27;, &#x27;auto&#x27;, 0.001, 0.01, 0.1],\n",
       "                         &#x27;kernel&#x27;: [&#x27;linear&#x27;, &#x27;rbf&#x27;, &#x27;poly&#x27;, &#x27;sigmoid&#x27;]},\n",
       "             scoring=&#x27;accuracy&#x27;)</pre></div></div></div><div class=\"sk-parallel\"><div class=\"sk-parallel-item\"><div class=\"sk-item\"><div class=\"sk-label-container\"><div class=\"sk-label sk-toggleable\"><input class=\"sk-toggleable__control sk-hidden--visually\" id=\"sk-estimator-id-10\" type=\"checkbox\" ><label for=\"sk-estimator-id-10\" class=\"sk-toggleable__label sk-toggleable__label-arrow\">estimator: SVC</label><div class=\"sk-toggleable__content\"><pre>SVC()</pre></div></div></div><div class=\"sk-serial\"><div class=\"sk-item\"><div class=\"sk-estimator sk-toggleable\"><input class=\"sk-toggleable__control sk-hidden--visually\" id=\"sk-estimator-id-11\" type=\"checkbox\" ><label for=\"sk-estimator-id-11\" class=\"sk-toggleable__label sk-toggleable__label-arrow\">SVC</label><div class=\"sk-toggleable__content\"><pre>SVC()</pre></div></div></div></div></div></div></div></div></div></div>"
      ],
      "text/plain": [
       "GridSearchCV(cv=5, estimator=SVC(),\n",
       "             param_grid={'C': [0.1, 1, 10, 100],\n",
       "                         'gamma': ['scale', 'auto', 0.001, 0.01, 0.1],\n",
       "                         'kernel': ['linear', 'rbf', 'poly', 'sigmoid']},\n",
       "             scoring='accuracy')"
      ]
     },
     "execution_count": 120,
     "metadata": {},
     "output_type": "execute_result"
    }
   ],
   "source": [
    "param_grid = {\n",
    "    'C': [0.1, 1, 10, 100],\n",
    "    'kernel': ['linear', 'rbf', 'poly', 'sigmoid'],\n",
    "    'gamma': ['scale', 'auto', 0.001, 0.01, 0.1]\n",
    "}\n",
    "\n",
    "grid_search = GridSearchCV(SVC(), param_grid, cv=5, scoring='accuracy')\n",
    "grid_search.fit(X_train, y_train)"
   ]
  },
  {
   "cell_type": "code",
   "execution_count": 121,
   "metadata": {},
   "outputs": [
    {
     "data": {
      "text/html": [
       "<style>#sk-container-id-6 {color: black;}#sk-container-id-6 pre{padding: 0;}#sk-container-id-6 div.sk-toggleable {background-color: white;}#sk-container-id-6 label.sk-toggleable__label {cursor: pointer;display: block;width: 100%;margin-bottom: 0;padding: 0.3em;box-sizing: border-box;text-align: center;}#sk-container-id-6 label.sk-toggleable__label-arrow:before {content: \"▸\";float: left;margin-right: 0.25em;color: #696969;}#sk-container-id-6 label.sk-toggleable__label-arrow:hover:before {color: black;}#sk-container-id-6 div.sk-estimator:hover label.sk-toggleable__label-arrow:before {color: black;}#sk-container-id-6 div.sk-toggleable__content {max-height: 0;max-width: 0;overflow: hidden;text-align: left;background-color: #f0f8ff;}#sk-container-id-6 div.sk-toggleable__content pre {margin: 0.2em;color: black;border-radius: 0.25em;background-color: #f0f8ff;}#sk-container-id-6 input.sk-toggleable__control:checked~div.sk-toggleable__content {max-height: 200px;max-width: 100%;overflow: auto;}#sk-container-id-6 input.sk-toggleable__control:checked~label.sk-toggleable__label-arrow:before {content: \"▾\";}#sk-container-id-6 div.sk-estimator input.sk-toggleable__control:checked~label.sk-toggleable__label {background-color: #d4ebff;}#sk-container-id-6 div.sk-label input.sk-toggleable__control:checked~label.sk-toggleable__label {background-color: #d4ebff;}#sk-container-id-6 input.sk-hidden--visually {border: 0;clip: rect(1px 1px 1px 1px);clip: rect(1px, 1px, 1px, 1px);height: 1px;margin: -1px;overflow: hidden;padding: 0;position: absolute;width: 1px;}#sk-container-id-6 div.sk-estimator {font-family: monospace;background-color: #f0f8ff;border: 1px dotted black;border-radius: 0.25em;box-sizing: border-box;margin-bottom: 0.5em;}#sk-container-id-6 div.sk-estimator:hover {background-color: #d4ebff;}#sk-container-id-6 div.sk-parallel-item::after {content: \"\";width: 100%;border-bottom: 1px solid gray;flex-grow: 1;}#sk-container-id-6 div.sk-label:hover label.sk-toggleable__label {background-color: #d4ebff;}#sk-container-id-6 div.sk-serial::before {content: \"\";position: absolute;border-left: 1px solid gray;box-sizing: border-box;top: 0;bottom: 0;left: 50%;z-index: 0;}#sk-container-id-6 div.sk-serial {display: flex;flex-direction: column;align-items: center;background-color: white;padding-right: 0.2em;padding-left: 0.2em;position: relative;}#sk-container-id-6 div.sk-item {position: relative;z-index: 1;}#sk-container-id-6 div.sk-parallel {display: flex;align-items: stretch;justify-content: center;background-color: white;position: relative;}#sk-container-id-6 div.sk-item::before, #sk-container-id-6 div.sk-parallel-item::before {content: \"\";position: absolute;border-left: 1px solid gray;box-sizing: border-box;top: 0;bottom: 0;left: 50%;z-index: -1;}#sk-container-id-6 div.sk-parallel-item {display: flex;flex-direction: column;z-index: 1;position: relative;background-color: white;}#sk-container-id-6 div.sk-parallel-item:first-child::after {align-self: flex-end;width: 50%;}#sk-container-id-6 div.sk-parallel-item:last-child::after {align-self: flex-start;width: 50%;}#sk-container-id-6 div.sk-parallel-item:only-child::after {width: 0;}#sk-container-id-6 div.sk-dashed-wrapped {border: 1px dashed gray;margin: 0 0.4em 0.5em 0.4em;box-sizing: border-box;padding-bottom: 0.4em;background-color: white;}#sk-container-id-6 div.sk-label label {font-family: monospace;font-weight: bold;display: inline-block;line-height: 1.2em;}#sk-container-id-6 div.sk-label-container {text-align: center;}#sk-container-id-6 div.sk-container {/* jupyter's `normalize.less` sets `[hidden] { display: none; }` but bootstrap.min.css set `[hidden] { display: none !important; }` so we also need the `!important` here to be able to override the default hidden behavior on the sphinx rendered scikit-learn.org. See: https://github.com/scikit-learn/scikit-learn/issues/21755 */display: inline-block !important;position: relative;}#sk-container-id-6 div.sk-text-repr-fallback {display: none;}</style><div id=\"sk-container-id-6\" class=\"sk-top-container\"><div class=\"sk-text-repr-fallback\"><pre>SVC(C=10, gamma=0.001)</pre><b>In a Jupyter environment, please rerun this cell to show the HTML representation or trust the notebook. <br />On GitHub, the HTML representation is unable to render, please try loading this page with nbviewer.org.</b></div><div class=\"sk-container\" hidden><div class=\"sk-item\"><div class=\"sk-estimator sk-toggleable\"><input class=\"sk-toggleable__control sk-hidden--visually\" id=\"sk-estimator-id-12\" type=\"checkbox\" checked><label for=\"sk-estimator-id-12\" class=\"sk-toggleable__label sk-toggleable__label-arrow\">SVC</label><div class=\"sk-toggleable__content\"><pre>SVC(C=10, gamma=0.001)</pre></div></div></div></div></div>"
      ],
      "text/plain": [
       "SVC(C=10, gamma=0.001)"
      ]
     },
     "execution_count": 121,
     "metadata": {},
     "output_type": "execute_result"
    }
   ],
   "source": [
    "grid_search.best_estimator_"
   ]
  },
  {
   "cell_type": "code",
   "execution_count": 122,
   "metadata": {},
   "outputs": [
    {
     "name": "stdout",
     "output_type": "stream",
     "text": [
      "{'C': 10, 'gamma': 0.001, 'kernel': 'rbf'}\n"
     ]
    }
   ],
   "source": [
    "print(grid_search.best_params_)"
   ]
  },
  {
   "cell_type": "code",
   "execution_count": 123,
   "metadata": {},
   "outputs": [],
   "source": [
    "y = df['namespace']\n",
    "X_train, X_test, y_train, y_test = train_test_split(X1_normalized, y, test_size=0.2, random_state=42)\n",
    "clf_svm = SVC(C=10, gamma = 0.1)\n",
    "clf_svm.fit(X_train, y_train)\n",
    "y_pred = clf_svm.predict(X_test)"
   ]
  },
  {
   "cell_type": "code",
   "execution_count": 124,
   "metadata": {},
   "outputs": [
    {
     "data": {
      "text/plain": [
       "array([[5337,   30,    5],\n",
       "       [ 533,  286,    1],\n",
       "       [ 695,    1, 1553]])"
      ]
     },
     "execution_count": 124,
     "metadata": {},
     "output_type": "execute_result"
    }
   ],
   "source": [
    "confusion_matrix(y_test, y_pred)"
   ]
  },
  {
   "cell_type": "code",
   "execution_count": 125,
   "metadata": {},
   "outputs": [
    {
     "data": {
      "text/plain": [
       "0.8501362397820164"
      ]
     },
     "execution_count": 125,
     "metadata": {},
     "output_type": "execute_result"
    }
   ],
   "source": [
    "accuracy_score(y_test, y_pred)"
   ]
  },
  {
   "cell_type": "markdown",
   "metadata": {},
   "source": [
    "#### 2. Ignoring the words that do not appear in 5% of definitions"
   ]
  },
  {
   "cell_type": "code",
   "execution_count": 44,
   "metadata": {},
   "outputs": [],
   "source": [
    "y = df_downsampled['namespace']\n",
    "X_train, X_test, y_train, y_test = train_test_split(X5_normalized_downsampled, y, test_size=0.2, random_state=42)\n",
    "svm = SVC()\n",
    "svm.fit(X_train, y_train)\n",
    "y_pred = svm.predict(X_test)"
   ]
  },
  {
   "cell_type": "code",
   "execution_count": 45,
   "metadata": {},
   "outputs": [
    {
     "data": {
      "text/plain": [
       "0.8916666666666667"
      ]
     },
     "execution_count": 45,
     "metadata": {},
     "output_type": "execute_result"
    }
   ],
   "source": [
    "accuracy_score(y_test, y_pred)"
   ]
  },
  {
   "cell_type": "code",
   "execution_count": 46,
   "metadata": {},
   "outputs": [
    {
     "data": {
      "text/plain": [
       "array([[171,  45,   1],\n",
       "       [  3, 178,   5],\n",
       "       [  1,  10, 186]])"
      ]
     },
     "execution_count": 46,
     "metadata": {},
     "output_type": "execute_result"
    }
   ],
   "source": [
    "confusion_matrix(y_test, y_pred)"
   ]
  },
  {
   "cell_type": "code",
   "execution_count": 47,
   "metadata": {},
   "outputs": [
    {
     "data": {
      "text/html": [
       "<style>#sk-container-id-1 {color: black;}#sk-container-id-1 pre{padding: 0;}#sk-container-id-1 div.sk-toggleable {background-color: white;}#sk-container-id-1 label.sk-toggleable__label {cursor: pointer;display: block;width: 100%;margin-bottom: 0;padding: 0.3em;box-sizing: border-box;text-align: center;}#sk-container-id-1 label.sk-toggleable__label-arrow:before {content: \"▸\";float: left;margin-right: 0.25em;color: #696969;}#sk-container-id-1 label.sk-toggleable__label-arrow:hover:before {color: black;}#sk-container-id-1 div.sk-estimator:hover label.sk-toggleable__label-arrow:before {color: black;}#sk-container-id-1 div.sk-toggleable__content {max-height: 0;max-width: 0;overflow: hidden;text-align: left;background-color: #f0f8ff;}#sk-container-id-1 div.sk-toggleable__content pre {margin: 0.2em;color: black;border-radius: 0.25em;background-color: #f0f8ff;}#sk-container-id-1 input.sk-toggleable__control:checked~div.sk-toggleable__content {max-height: 200px;max-width: 100%;overflow: auto;}#sk-container-id-1 input.sk-toggleable__control:checked~label.sk-toggleable__label-arrow:before {content: \"▾\";}#sk-container-id-1 div.sk-estimator input.sk-toggleable__control:checked~label.sk-toggleable__label {background-color: #d4ebff;}#sk-container-id-1 div.sk-label input.sk-toggleable__control:checked~label.sk-toggleable__label {background-color: #d4ebff;}#sk-container-id-1 input.sk-hidden--visually {border: 0;clip: rect(1px 1px 1px 1px);clip: rect(1px, 1px, 1px, 1px);height: 1px;margin: -1px;overflow: hidden;padding: 0;position: absolute;width: 1px;}#sk-container-id-1 div.sk-estimator {font-family: monospace;background-color: #f0f8ff;border: 1px dotted black;border-radius: 0.25em;box-sizing: border-box;margin-bottom: 0.5em;}#sk-container-id-1 div.sk-estimator:hover {background-color: #d4ebff;}#sk-container-id-1 div.sk-parallel-item::after {content: \"\";width: 100%;border-bottom: 1px solid gray;flex-grow: 1;}#sk-container-id-1 div.sk-label:hover label.sk-toggleable__label {background-color: #d4ebff;}#sk-container-id-1 div.sk-serial::before {content: \"\";position: absolute;border-left: 1px solid gray;box-sizing: border-box;top: 0;bottom: 0;left: 50%;z-index: 0;}#sk-container-id-1 div.sk-serial {display: flex;flex-direction: column;align-items: center;background-color: white;padding-right: 0.2em;padding-left: 0.2em;position: relative;}#sk-container-id-1 div.sk-item {position: relative;z-index: 1;}#sk-container-id-1 div.sk-parallel {display: flex;align-items: stretch;justify-content: center;background-color: white;position: relative;}#sk-container-id-1 div.sk-item::before, #sk-container-id-1 div.sk-parallel-item::before {content: \"\";position: absolute;border-left: 1px solid gray;box-sizing: border-box;top: 0;bottom: 0;left: 50%;z-index: -1;}#sk-container-id-1 div.sk-parallel-item {display: flex;flex-direction: column;z-index: 1;position: relative;background-color: white;}#sk-container-id-1 div.sk-parallel-item:first-child::after {align-self: flex-end;width: 50%;}#sk-container-id-1 div.sk-parallel-item:last-child::after {align-self: flex-start;width: 50%;}#sk-container-id-1 div.sk-parallel-item:only-child::after {width: 0;}#sk-container-id-1 div.sk-dashed-wrapped {border: 1px dashed gray;margin: 0 0.4em 0.5em 0.4em;box-sizing: border-box;padding-bottom: 0.4em;background-color: white;}#sk-container-id-1 div.sk-label label {font-family: monospace;font-weight: bold;display: inline-block;line-height: 1.2em;}#sk-container-id-1 div.sk-label-container {text-align: center;}#sk-container-id-1 div.sk-container {/* jupyter's `normalize.less` sets `[hidden] { display: none; }` but bootstrap.min.css set `[hidden] { display: none !important; }` so we also need the `!important` here to be able to override the default hidden behavior on the sphinx rendered scikit-learn.org. See: https://github.com/scikit-learn/scikit-learn/issues/21755 */display: inline-block !important;position: relative;}#sk-container-id-1 div.sk-text-repr-fallback {display: none;}</style><div id=\"sk-container-id-1\" class=\"sk-top-container\"><div class=\"sk-text-repr-fallback\"><pre>GridSearchCV(cv=5, estimator=SVC(),\n",
       "             param_grid={&#x27;C&#x27;: [0.1, 1, 10, 100],\n",
       "                         &#x27;gamma&#x27;: [&#x27;scale&#x27;, &#x27;auto&#x27;, 0.001, 0.01, 0.1],\n",
       "                         &#x27;kernel&#x27;: [&#x27;linear&#x27;, &#x27;rbf&#x27;, &#x27;poly&#x27;, &#x27;sigmoid&#x27;]},\n",
       "             scoring=&#x27;accuracy&#x27;)</pre><b>In a Jupyter environment, please rerun this cell to show the HTML representation or trust the notebook. <br />On GitHub, the HTML representation is unable to render, please try loading this page with nbviewer.org.</b></div><div class=\"sk-container\" hidden><div class=\"sk-item sk-dashed-wrapped\"><div class=\"sk-label-container\"><div class=\"sk-label sk-toggleable\"><input class=\"sk-toggleable__control sk-hidden--visually\" id=\"sk-estimator-id-1\" type=\"checkbox\" ><label for=\"sk-estimator-id-1\" class=\"sk-toggleable__label sk-toggleable__label-arrow\">GridSearchCV</label><div class=\"sk-toggleable__content\"><pre>GridSearchCV(cv=5, estimator=SVC(),\n",
       "             param_grid={&#x27;C&#x27;: [0.1, 1, 10, 100],\n",
       "                         &#x27;gamma&#x27;: [&#x27;scale&#x27;, &#x27;auto&#x27;, 0.001, 0.01, 0.1],\n",
       "                         &#x27;kernel&#x27;: [&#x27;linear&#x27;, &#x27;rbf&#x27;, &#x27;poly&#x27;, &#x27;sigmoid&#x27;]},\n",
       "             scoring=&#x27;accuracy&#x27;)</pre></div></div></div><div class=\"sk-parallel\"><div class=\"sk-parallel-item\"><div class=\"sk-item\"><div class=\"sk-label-container\"><div class=\"sk-label sk-toggleable\"><input class=\"sk-toggleable__control sk-hidden--visually\" id=\"sk-estimator-id-2\" type=\"checkbox\" ><label for=\"sk-estimator-id-2\" class=\"sk-toggleable__label sk-toggleable__label-arrow\">estimator: SVC</label><div class=\"sk-toggleable__content\"><pre>SVC()</pre></div></div></div><div class=\"sk-serial\"><div class=\"sk-item\"><div class=\"sk-estimator sk-toggleable\"><input class=\"sk-toggleable__control sk-hidden--visually\" id=\"sk-estimator-id-3\" type=\"checkbox\" ><label for=\"sk-estimator-id-3\" class=\"sk-toggleable__label sk-toggleable__label-arrow\">SVC</label><div class=\"sk-toggleable__content\"><pre>SVC()</pre></div></div></div></div></div></div></div></div></div></div>"
      ],
      "text/plain": [
       "GridSearchCV(cv=5, estimator=SVC(),\n",
       "             param_grid={'C': [0.1, 1, 10, 100],\n",
       "                         'gamma': ['scale', 'auto', 0.001, 0.01, 0.1],\n",
       "                         'kernel': ['linear', 'rbf', 'poly', 'sigmoid']},\n",
       "             scoring='accuracy')"
      ]
     },
     "execution_count": 47,
     "metadata": {},
     "output_type": "execute_result"
    }
   ],
   "source": [
    "param_grid = {\n",
    "    'C': [0.1, 1, 10, 100],\n",
    "    'kernel': ['linear', 'rbf', 'poly', 'sigmoid'],\n",
    "    'gamma': ['scale', 'auto', 0.001, 0.01, 0.1]\n",
    "}\n",
    "\n",
    "grid_search = GridSearchCV(SVC(), param_grid, cv=5, scoring='accuracy')\n",
    "grid_search.fit(X_train, y_train)\n",
    "##Downsample changed to 1000 per namespace"
   ]
  },
  {
   "cell_type": "code",
   "execution_count": 50,
   "metadata": {},
   "outputs": [
    {
     "data": {
      "text/plain": [
       "{'C': 10, 'gamma': 0.01, 'kernel': 'rbf'}"
      ]
     },
     "execution_count": 50,
     "metadata": {},
     "output_type": "execute_result"
    }
   ],
   "source": [
    "grid_search.best_params_"
   ]
  },
  {
   "cell_type": "code",
   "execution_count": 69,
   "metadata": {},
   "outputs": [],
   "source": [
    "y = df['namespace']\n",
    "X_train, X_test, y_train, y_test = train_test_split(X5_normalized, y, test_size=0.2, random_state=42)\n",
    "clf_svm = SVC(C =10)\n",
    "clf_svm.fit(X_train, y_train)\n",
    "y_pred = clf_svm.predict(X_test)"
   ]
  },
  {
   "cell_type": "code",
   "execution_count": 70,
   "metadata": {},
   "outputs": [
    {
     "data": {
      "text/plain": [
       "array([[5266,   66,   40],\n",
       "       [ 286,  511,   23],\n",
       "       [  77,   61, 2111]])"
      ]
     },
     "execution_count": 70,
     "metadata": {},
     "output_type": "execute_result"
    }
   ],
   "source": [
    "confusion_matrix(y_test, y_pred)"
   ]
  },
  {
   "cell_type": "code",
   "execution_count": 71,
   "metadata": {},
   "outputs": [
    {
     "data": {
      "text/plain": [
       "0.9344864352564862"
      ]
     },
     "execution_count": 71,
     "metadata": {},
     "output_type": "execute_result"
    }
   ],
   "source": [
    "accuracy_score(y_test, y_pred)"
   ]
  },
  {
   "cell_type": "markdown",
   "metadata": {},
   "source": [
    "### Random Forests"
   ]
  },
  {
   "cell_type": "markdown",
   "metadata": {},
   "source": [
    "#### Non Normalised Dataset"
   ]
  },
  {
   "cell_type": "markdown",
   "metadata": {},
   "source": [
    "### ignoring words not appearing in 1% defs\n"
   ]
  },
  {
   "cell_type": "code",
   "execution_count": 79,
   "metadata": {},
   "outputs": [],
   "source": [
    "X_train, X_test, y_train, y_test = train_test_split(X1_df, y, test_size=0.2, random_state=42)"
   ]
  },
  {
   "cell_type": "code",
   "execution_count": 86,
   "metadata": {},
   "outputs": [
    {
     "data": {
      "text/html": [
       "<style>#sk-container-id-5 {color: black;}#sk-container-id-5 pre{padding: 0;}#sk-container-id-5 div.sk-toggleable {background-color: white;}#sk-container-id-5 label.sk-toggleable__label {cursor: pointer;display: block;width: 100%;margin-bottom: 0;padding: 0.3em;box-sizing: border-box;text-align: center;}#sk-container-id-5 label.sk-toggleable__label-arrow:before {content: \"▸\";float: left;margin-right: 0.25em;color: #696969;}#sk-container-id-5 label.sk-toggleable__label-arrow:hover:before {color: black;}#sk-container-id-5 div.sk-estimator:hover label.sk-toggleable__label-arrow:before {color: black;}#sk-container-id-5 div.sk-toggleable__content {max-height: 0;max-width: 0;overflow: hidden;text-align: left;background-color: #f0f8ff;}#sk-container-id-5 div.sk-toggleable__content pre {margin: 0.2em;color: black;border-radius: 0.25em;background-color: #f0f8ff;}#sk-container-id-5 input.sk-toggleable__control:checked~div.sk-toggleable__content {max-height: 200px;max-width: 100%;overflow: auto;}#sk-container-id-5 input.sk-toggleable__control:checked~label.sk-toggleable__label-arrow:before {content: \"▾\";}#sk-container-id-5 div.sk-estimator input.sk-toggleable__control:checked~label.sk-toggleable__label {background-color: #d4ebff;}#sk-container-id-5 div.sk-label input.sk-toggleable__control:checked~label.sk-toggleable__label {background-color: #d4ebff;}#sk-container-id-5 input.sk-hidden--visually {border: 0;clip: rect(1px 1px 1px 1px);clip: rect(1px, 1px, 1px, 1px);height: 1px;margin: -1px;overflow: hidden;padding: 0;position: absolute;width: 1px;}#sk-container-id-5 div.sk-estimator {font-family: monospace;background-color: #f0f8ff;border: 1px dotted black;border-radius: 0.25em;box-sizing: border-box;margin-bottom: 0.5em;}#sk-container-id-5 div.sk-estimator:hover {background-color: #d4ebff;}#sk-container-id-5 div.sk-parallel-item::after {content: \"\";width: 100%;border-bottom: 1px solid gray;flex-grow: 1;}#sk-container-id-5 div.sk-label:hover label.sk-toggleable__label {background-color: #d4ebff;}#sk-container-id-5 div.sk-serial::before {content: \"\";position: absolute;border-left: 1px solid gray;box-sizing: border-box;top: 0;bottom: 0;left: 50%;z-index: 0;}#sk-container-id-5 div.sk-serial {display: flex;flex-direction: column;align-items: center;background-color: white;padding-right: 0.2em;padding-left: 0.2em;position: relative;}#sk-container-id-5 div.sk-item {position: relative;z-index: 1;}#sk-container-id-5 div.sk-parallel {display: flex;align-items: stretch;justify-content: center;background-color: white;position: relative;}#sk-container-id-5 div.sk-item::before, #sk-container-id-5 div.sk-parallel-item::before {content: \"\";position: absolute;border-left: 1px solid gray;box-sizing: border-box;top: 0;bottom: 0;left: 50%;z-index: -1;}#sk-container-id-5 div.sk-parallel-item {display: flex;flex-direction: column;z-index: 1;position: relative;background-color: white;}#sk-container-id-5 div.sk-parallel-item:first-child::after {align-self: flex-end;width: 50%;}#sk-container-id-5 div.sk-parallel-item:last-child::after {align-self: flex-start;width: 50%;}#sk-container-id-5 div.sk-parallel-item:only-child::after {width: 0;}#sk-container-id-5 div.sk-dashed-wrapped {border: 1px dashed gray;margin: 0 0.4em 0.5em 0.4em;box-sizing: border-box;padding-bottom: 0.4em;background-color: white;}#sk-container-id-5 div.sk-label label {font-family: monospace;font-weight: bold;display: inline-block;line-height: 1.2em;}#sk-container-id-5 div.sk-label-container {text-align: center;}#sk-container-id-5 div.sk-container {/* jupyter's `normalize.less` sets `[hidden] { display: none; }` but bootstrap.min.css set `[hidden] { display: none !important; }` so we also need the `!important` here to be able to override the default hidden behavior on the sphinx rendered scikit-learn.org. See: https://github.com/scikit-learn/scikit-learn/issues/21755 */display: inline-block !important;position: relative;}#sk-container-id-5 div.sk-text-repr-fallback {display: none;}</style><div id=\"sk-container-id-5\" class=\"sk-top-container\"><div class=\"sk-text-repr-fallback\"><pre>RandomizedSearchCV(cv=5, estimator=RandomForestClassifier(), n_jobs=-1,\n",
       "                   param_distributions={&#x27;bootstrap&#x27;: [True, False],\n",
       "                                        &#x27;max_depth&#x27;: [10, 20, 30, None],\n",
       "                                        &#x27;min_samples_leaf&#x27;: [1, 2, 4],\n",
       "                                        &#x27;min_samples_split&#x27;: [2, 5, 10],\n",
       "                                        &#x27;n_estimators&#x27;: [100, 200, 300]},\n",
       "                   scoring=&#x27;accuracy&#x27;)</pre><b>In a Jupyter environment, please rerun this cell to show the HTML representation or trust the notebook. <br />On GitHub, the HTML representation is unable to render, please try loading this page with nbviewer.org.</b></div><div class=\"sk-container\" hidden><div class=\"sk-item sk-dashed-wrapped\"><div class=\"sk-label-container\"><div class=\"sk-label sk-toggleable\"><input class=\"sk-toggleable__control sk-hidden--visually\" id=\"sk-estimator-id-9\" type=\"checkbox\" ><label for=\"sk-estimator-id-9\" class=\"sk-toggleable__label sk-toggleable__label-arrow\">RandomizedSearchCV</label><div class=\"sk-toggleable__content\"><pre>RandomizedSearchCV(cv=5, estimator=RandomForestClassifier(), n_jobs=-1,\n",
       "                   param_distributions={&#x27;bootstrap&#x27;: [True, False],\n",
       "                                        &#x27;max_depth&#x27;: [10, 20, 30, None],\n",
       "                                        &#x27;min_samples_leaf&#x27;: [1, 2, 4],\n",
       "                                        &#x27;min_samples_split&#x27;: [2, 5, 10],\n",
       "                                        &#x27;n_estimators&#x27;: [100, 200, 300]},\n",
       "                   scoring=&#x27;accuracy&#x27;)</pre></div></div></div><div class=\"sk-parallel\"><div class=\"sk-parallel-item\"><div class=\"sk-item\"><div class=\"sk-label-container\"><div class=\"sk-label sk-toggleable\"><input class=\"sk-toggleable__control sk-hidden--visually\" id=\"sk-estimator-id-10\" type=\"checkbox\" ><label for=\"sk-estimator-id-10\" class=\"sk-toggleable__label sk-toggleable__label-arrow\">estimator: RandomForestClassifier</label><div class=\"sk-toggleable__content\"><pre>RandomForestClassifier()</pre></div></div></div><div class=\"sk-serial\"><div class=\"sk-item\"><div class=\"sk-estimator sk-toggleable\"><input class=\"sk-toggleable__control sk-hidden--visually\" id=\"sk-estimator-id-11\" type=\"checkbox\" ><label for=\"sk-estimator-id-11\" class=\"sk-toggleable__label sk-toggleable__label-arrow\">RandomForestClassifier</label><div class=\"sk-toggleable__content\"><pre>RandomForestClassifier()</pre></div></div></div></div></div></div></div></div></div></div>"
      ],
      "text/plain": [
       "RandomizedSearchCV(cv=5, estimator=RandomForestClassifier(), n_jobs=-1,\n",
       "                   param_distributions={'bootstrap': [True, False],\n",
       "                                        'max_depth': [10, 20, 30, None],\n",
       "                                        'min_samples_leaf': [1, 2, 4],\n",
       "                                        'min_samples_split': [2, 5, 10],\n",
       "                                        'n_estimators': [100, 200, 300]},\n",
       "                   scoring='accuracy')"
      ]
     },
     "execution_count": 86,
     "metadata": {},
     "output_type": "execute_result"
    }
   ],
   "source": [
    "param_distributions = {\n",
    "    'n_estimators': [100, 200, 300],\n",
    "    'max_depth': [10, 20, 30, None],\n",
    "    'min_samples_split': [2, 5, 10],\n",
    "    'min_samples_leaf': [1, 2, 4],\n",
    "    'bootstrap': [True, False]\n",
    "}\n",
    "\n",
    "random_search = RandomizedSearchCV(RandomForestClassifier(), param_distributions, cv=5, scoring='accuracy', n_jobs=-1, random_state=42)\n",
    "random_search.fit(X_train, y_train)"
   ]
  },
  {
   "cell_type": "code",
   "execution_count": 88,
   "metadata": {},
   "outputs": [
    {
     "data": {
      "text/plain": [
       "{'n_estimators': 300,\n",
       " 'min_samples_split': 2,\n",
       " 'min_samples_leaf': 1,\n",
       " 'max_depth': None,\n",
       " 'bootstrap': False}"
      ]
     },
     "execution_count": 88,
     "metadata": {},
     "output_type": "execute_result"
    }
   ],
   "source": [
    " random_search.best_params_"
   ]
  },
  {
   "cell_type": "code",
   "execution_count": 87,
   "metadata": {},
   "outputs": [],
   "source": [
    "best_rf = random_search.best_estimator_\n",
    "# Train the best model on the entire training set\n",
    "best_rf.fit(X_train, y_train)\n",
    "# Predict on the test set\n",
    "y_pred = best_rf.predict(X_test)\n"
   ]
  },
  {
   "cell_type": "code",
   "execution_count": 89,
   "metadata": {},
   "outputs": [
    {
     "data": {
      "text/plain": [
       "0.9748844923587253"
      ]
     },
     "execution_count": 89,
     "metadata": {},
     "output_type": "execute_result"
    }
   ],
   "source": [
    "accuracy_score(y_test, y_pred)"
   ]
  },
  {
   "cell_type": "code",
   "execution_count": 118,
   "metadata": {},
   "outputs": [],
   "source": [
    "rf = RandomForestClassifier(n_estimators = 300)\n",
    "rf.fit(X_train, y_train)\n",
    "y_pred = rf.predict(X_test)"
   ]
  },
  {
   "cell_type": "code",
   "execution_count": 119,
   "metadata": {},
   "outputs": [
    {
     "data": {
      "text/plain": [
       "0.9761876554910556"
      ]
     },
     "execution_count": 119,
     "metadata": {},
     "output_type": "execute_result"
    }
   ],
   "source": [
    "accuracy_score(y_test, y_pred)"
   ]
  },
  {
   "cell_type": "markdown",
   "metadata": {},
   "source": [
    "#### Normalised Dataset"
   ]
  },
  {
   "cell_type": "code",
   "execution_count": 42,
   "metadata": {},
   "outputs": [],
   "source": [
    "#ignoring words not appearing in 5% defs\n",
    "vectorizer = CountVectorizer(stop_words='english', min_df=0.05)\n",
    "X = vectorizer.fit_transform(df['definition'])\n",
    "dense_X = X.toarray()\n",
    "y = df['namespace']\n",
    "scaler = StandardScaler()\n",
    "X_normalized = scaler.fit_transform(dense_X)\n",
    "X_normalized = pd.DataFrame(X_normalized, columns=vectorizer.get_feature_names_out())\n",
    "X_train, X_test, y_train, y_test = train_test_split(X_normalized, y, test_size=0.2, random_state=42)"
   ]
  },
  {
   "cell_type": "code",
   "execution_count": 46,
   "metadata": {},
   "outputs": [],
   "source": [
    "rf = RandomForestClassifier()"
   ]
  },
  {
   "cell_type": "code",
   "execution_count": 47,
   "metadata": {},
   "outputs": [],
   "source": [
    "rf.fit(X_train, y_train)\n",
    "y_pred = rf.predict(X_test)"
   ]
  },
  {
   "cell_type": "code",
   "execution_count": 48,
   "metadata": {},
   "outputs": [
    {
     "data": {
      "text/plain": [
       "0.9360265371401493"
      ]
     },
     "execution_count": 48,
     "metadata": {},
     "output_type": "execute_result"
    }
   ],
   "source": [
    "accuracy_score(y_test, y_pred)"
   ]
  },
  {
   "cell_type": "code",
   "execution_count": 49,
   "metadata": {},
   "outputs": [],
   "source": [
    "#ignoring words not appearing in 1% defs\n",
    "vectorizer = CountVectorizer(stop_words='english', min_df=0.01)\n",
    "X = vectorizer.fit_transform(df['definition'])\n",
    "dense_X = X.toarray()\n",
    "y = df['namespace']\n",
    "scaler = StandardScaler()\n",
    "X_normalized = scaler.fit_transform(dense_X)\n",
    "X_normalized = pd.DataFrame(X_normalized, columns=vectorizer.get_feature_names_out())\n",
    "X_train, X_test, y_train, y_test = train_test_split(X_normalized, y, test_size=0.2, random_state=42)"
   ]
  },
  {
   "cell_type": "code",
   "execution_count": 50,
   "metadata": {},
   "outputs": [
    {
     "data": {
      "text/plain": [
       "0.9748844923587253"
      ]
     },
     "execution_count": 50,
     "metadata": {},
     "output_type": "execute_result"
    }
   ],
   "source": [
    "rf.fit(X_train, y_train)\n",
    "y_pred = rf.predict(X_test)\n",
    "accuracy_score(y_test, y_pred)"
   ]
  },
  {
   "cell_type": "code",
   "execution_count": null,
   "metadata": {},
   "outputs": [],
   "source": []
  },
  {
   "cell_type": "code",
   "execution_count": null,
   "metadata": {},
   "outputs": [],
   "source": [
    "\n",
    "\n"
   ]
  },
  {
   "cell_type": "code",
   "execution_count": null,
   "metadata": {},
   "outputs": [],
   "source": []
  },
  {
   "cell_type": "markdown",
   "metadata": {},
   "source": [
    "### Normalised Dataset"
   ]
  },
  {
   "cell_type": "code",
   "execution_count": null,
   "metadata": {},
   "outputs": [],
   "source": []
  },
  {
   "cell_type": "code",
   "execution_count": null,
   "metadata": {},
   "outputs": [],
   "source": []
  },
  {
   "cell_type": "code",
   "execution_count": null,
   "metadata": {},
   "outputs": [],
   "source": []
  },
  {
   "cell_type": "code",
   "execution_count": null,
   "metadata": {},
   "outputs": [],
   "source": []
  },
  {
   "cell_type": "code",
   "execution_count": null,
   "metadata": {},
   "outputs": [],
   "source": []
  },
  {
   "cell_type": "code",
   "execution_count": null,
   "metadata": {},
   "outputs": [],
   "source": []
  },
  {
   "cell_type": "code",
   "execution_count": null,
   "metadata": {},
   "outputs": [],
   "source": []
  },
  {
   "cell_type": "code",
   "execution_count": null,
   "metadata": {},
   "outputs": [],
   "source": []
  },
  {
   "cell_type": "code",
   "execution_count": null,
   "metadata": {},
   "outputs": [],
   "source": []
  },
  {
   "cell_type": "code",
   "execution_count": null,
   "metadata": {},
   "outputs": [],
   "source": []
  },
  {
   "cell_type": "code",
   "execution_count": null,
   "metadata": {},
   "outputs": [],
   "source": []
  },
  {
   "cell_type": "code",
   "execution_count": null,
   "metadata": {},
   "outputs": [],
   "source": []
  },
  {
   "cell_type": "code",
   "execution_count": null,
   "metadata": {},
   "outputs": [],
   "source": []
  },
  {
   "cell_type": "code",
   "execution_count": null,
   "metadata": {},
   "outputs": [],
   "source": []
  },
  {
   "cell_type": "code",
   "execution_count": null,
   "metadata": {},
   "outputs": [],
   "source": []
  },
  {
   "cell_type": "markdown",
   "metadata": {},
   "source": [
    "### Method\n",
    "\n",
    "1. Breakdown input text into feature set\n",
    "2. Run KNN on definitions using feature set"
   ]
  },
  {
   "cell_type": "markdown",
   "metadata": {},
   "source": []
  },
  {
   "cell_type": "markdown",
   "metadata": {},
   "source": [
    "##### Function to get feature set from an input text\n",
    "\n",
    "\n"
   ]
  },
  {
   "cell_type": "code",
   "execution_count": 76,
   "metadata": {},
   "outputs": [],
   "source": [
    "\"\"\"\n",
    "    Takes a paragraph \n",
    "\"\"\"\n",
    "def get_feature_set_from_text(input_text: str)->List[str]:\n",
    "    return []\n"
   ]
  }
 ],
 "metadata": {
  "kernelspec": {
   "display_name": "Python 3",
   "language": "python",
   "name": "python3"
  },
  "language_info": {
   "codemirror_mode": {
    "name": "ipython",
    "version": 3
   },
   "file_extension": ".py",
   "mimetype": "text/x-python",
   "name": "python",
   "nbconvert_exporter": "python",
   "pygments_lexer": "ipython3",
   "version": "3.11.1"
  },
  "orig_nbformat": 4
 },
 "nbformat": 4,
 "nbformat_minor": 2
}
