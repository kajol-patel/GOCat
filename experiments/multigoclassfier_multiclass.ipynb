{
 "cells": [
  {
   "cell_type": "markdown",
   "metadata": {},
   "source": [
    "## Multi-class Classification Experiments\n",
    "\n",
    "#### Predicting 'namespace'"
   ]
  },
  {
   "cell_type": "code",
   "execution_count": 1,
   "metadata": {},
   "outputs": [],
   "source": [
    "import pandas as pd\n",
    "from sklearn.feature_extraction.text import CountVectorizer\n",
    "from sklearn.preprocessing import StandardScaler\n",
    "from sklearn.model_selection import train_test_split, GridSearchCV\n",
    "from sklearn.neighbors import KNeighborsClassifier\n",
    "from sklearn.metrics import accuracy_score, confusion_matrix\n",
    "import matplotlib.pyplot as plt\n",
    "from sklearn.svm import SVC\n",
    "from sklearn.ensemble import RandomForestClassifier\n",
    "from sklearn.utils import resample\n",
    "import seaborn as sns"
   ]
  },
  {
   "cell_type": "markdown",
   "metadata": {},
   "source": [
    "### Parse the Dataset"
   ]
  },
  {
   "cell_type": "code",
   "execution_count": 3,
   "metadata": {},
   "outputs": [],
   "source": [
    "def parse_obo_file(file_path):\n",
    "    data = []\n",
    "    current_term = {}\n",
    "    in_term_block = False\n",
    "    \n",
    "    with open(file_path, 'r') as file:\n",
    "        for line in file:\n",
    "            line = line.strip()\n",
    "            if line == '[Term]':  #starting a new term block\n",
    "                if current_term:\n",
    "                    data.append(current_term)\n",
    "                current_term = {}\n",
    "                in_term_block = True\n",
    "            elif line == '':\n",
    "                in_term_block = False  #end of a term block\n",
    "            elif in_term_block:\n",
    "                if ': ' in line:\n",
    "                    key, value = line.split(': ', 1)\n",
    "                    if key in current_term:  #handling multiple lines of the same key\n",
    "                        if isinstance(current_term[key], list):\n",
    "                            current_term[key].append(value)\n",
    "                        else:\n",
    "                            current_term[key] = [current_term[key], value]\n",
    "                    else:\n",
    "                        current_term[key] = value\n",
    "\n",
    "    \n",
    "    if current_term: #add the last term if file does not end with a newline\n",
    "        data.append(current_term)\n",
    "\n",
    "    return pd.DataFrame(data)\n",
    "\n",
    "df = parse_obo_file(go_file)\n"
   ]
  },
  {
   "cell_type": "code",
   "execution_count": 4,
   "metadata": {},
   "outputs": [],
   "source": [
    "#updating 'def' column to 'definition'\n",
    "df = df.rename(columns={'def': 'definition'}) "
   ]
  },
  {
   "cell_type": "code",
   "execution_count": 5,
   "metadata": {},
   "outputs": [
    {
     "data": {
      "text/html": [
       "<div>\n",
       "<style scoped>\n",
       "    .dataframe tbody tr th:only-of-type {\n",
       "        vertical-align: middle;\n",
       "    }\n",
       "\n",
       "    .dataframe tbody tr th {\n",
       "        vertical-align: top;\n",
       "    }\n",
       "\n",
       "    .dataframe thead th {\n",
       "        text-align: right;\n",
       "    }\n",
       "</style>\n",
       "<table border=\"1\" class=\"dataframe\">\n",
       "  <thead>\n",
       "    <tr style=\"text-align: right;\">\n",
       "      <th></th>\n",
       "      <th>id</th>\n",
       "      <th>name</th>\n",
       "      <th>namespace</th>\n",
       "      <th>definition</th>\n",
       "      <th>synonym</th>\n",
       "      <th>is_a</th>\n",
       "      <th>alt_id</th>\n",
       "      <th>comment</th>\n",
       "      <th>is_obsolete</th>\n",
       "      <th>replaced_by</th>\n",
       "      <th>consider</th>\n",
       "      <th>xref</th>\n",
       "      <th>subset</th>\n",
       "      <th>relationship</th>\n",
       "    </tr>\n",
       "  </thead>\n",
       "  <tbody>\n",
       "    <tr>\n",
       "      <th>0</th>\n",
       "      <td>GO:0000001</td>\n",
       "      <td>mitochondrion inheritance</td>\n",
       "      <td>biological_process</td>\n",
       "      <td>\"The distribution of mitochondria, including t...</td>\n",
       "      <td>\"mitochondrial inheritance\" EXACT []</td>\n",
       "      <td>[GO:0048308 ! organelle inheritance, GO:004831...</td>\n",
       "      <td>NaN</td>\n",
       "      <td>NaN</td>\n",
       "      <td>NaN</td>\n",
       "      <td>NaN</td>\n",
       "      <td>NaN</td>\n",
       "      <td>NaN</td>\n",
       "      <td>NaN</td>\n",
       "      <td>NaN</td>\n",
       "    </tr>\n",
       "    <tr>\n",
       "      <th>1</th>\n",
       "      <td>GO:0000002</td>\n",
       "      <td>mitochondrial genome maintenance</td>\n",
       "      <td>biological_process</td>\n",
       "      <td>\"The maintenance of the structure and integrit...</td>\n",
       "      <td>NaN</td>\n",
       "      <td>GO:0007005 ! mitochondrion organization</td>\n",
       "      <td>NaN</td>\n",
       "      <td>NaN</td>\n",
       "      <td>NaN</td>\n",
       "      <td>NaN</td>\n",
       "      <td>NaN</td>\n",
       "      <td>NaN</td>\n",
       "      <td>NaN</td>\n",
       "      <td>NaN</td>\n",
       "    </tr>\n",
       "    <tr>\n",
       "      <th>2</th>\n",
       "      <td>GO:0000003</td>\n",
       "      <td>obsolete reproduction</td>\n",
       "      <td>biological_process</td>\n",
       "      <td>\"OBSOLETE. The production of new individuals t...</td>\n",
       "      <td>\"reproductive physiological process\" EXACT []</td>\n",
       "      <td>NaN</td>\n",
       "      <td>[GO:0019952, GO:0050876]</td>\n",
       "      <td>The reason for obsoletion is that this term is...</td>\n",
       "      <td>true</td>\n",
       "      <td>GO:0022414</td>\n",
       "      <td>NaN</td>\n",
       "      <td>NaN</td>\n",
       "      <td>NaN</td>\n",
       "      <td>NaN</td>\n",
       "    </tr>\n",
       "    <tr>\n",
       "      <th>3</th>\n",
       "      <td>GO:0000005</td>\n",
       "      <td>obsolete ribosomal chaperone activity</td>\n",
       "      <td>molecular_function</td>\n",
       "      <td>\"OBSOLETE. Assists in the correct assembly of ...</td>\n",
       "      <td>\"ribosomal chaperone activity\" EXACT []</td>\n",
       "      <td>NaN</td>\n",
       "      <td>NaN</td>\n",
       "      <td>This term was made obsolete because it refers ...</td>\n",
       "      <td>true</td>\n",
       "      <td>NaN</td>\n",
       "      <td>[GO:0042254, GO:0044183, GO:0051082]</td>\n",
       "      <td>NaN</td>\n",
       "      <td>NaN</td>\n",
       "      <td>NaN</td>\n",
       "    </tr>\n",
       "  </tbody>\n",
       "</table>\n",
       "</div>"
      ],
      "text/plain": [
       "           id                                   name           namespace  \\\n",
       "0  GO:0000001              mitochondrion inheritance  biological_process   \n",
       "1  GO:0000002       mitochondrial genome maintenance  biological_process   \n",
       "2  GO:0000003                  obsolete reproduction  biological_process   \n",
       "3  GO:0000005  obsolete ribosomal chaperone activity  molecular_function   \n",
       "\n",
       "                                          definition  \\\n",
       "0  \"The distribution of mitochondria, including t...   \n",
       "1  \"The maintenance of the structure and integrit...   \n",
       "2  \"OBSOLETE. The production of new individuals t...   \n",
       "3  \"OBSOLETE. Assists in the correct assembly of ...   \n",
       "\n",
       "                                         synonym  \\\n",
       "0           \"mitochondrial inheritance\" EXACT []   \n",
       "1                                            NaN   \n",
       "2  \"reproductive physiological process\" EXACT []   \n",
       "3        \"ribosomal chaperone activity\" EXACT []   \n",
       "\n",
       "                                                is_a  \\\n",
       "0  [GO:0048308 ! organelle inheritance, GO:004831...   \n",
       "1            GO:0007005 ! mitochondrion organization   \n",
       "2                                                NaN   \n",
       "3                                                NaN   \n",
       "\n",
       "                     alt_id  \\\n",
       "0                       NaN   \n",
       "1                       NaN   \n",
       "2  [GO:0019952, GO:0050876]   \n",
       "3                       NaN   \n",
       "\n",
       "                                             comment is_obsolete replaced_by  \\\n",
       "0                                                NaN         NaN         NaN   \n",
       "1                                                NaN         NaN         NaN   \n",
       "2  The reason for obsoletion is that this term is...        true  GO:0022414   \n",
       "3  This term was made obsolete because it refers ...        true         NaN   \n",
       "\n",
       "                               consider xref subset relationship  \n",
       "0                                   NaN  NaN    NaN          NaN  \n",
       "1                                   NaN  NaN    NaN          NaN  \n",
       "2                                   NaN  NaN    NaN          NaN  \n",
       "3  [GO:0042254, GO:0044183, GO:0051082]  NaN    NaN          NaN  "
      ]
     },
     "execution_count": 5,
     "metadata": {},
     "output_type": "execute_result"
    }
   ],
   "source": [
    "df.head(4)"
   ]
  },
  {
   "cell_type": "code",
   "execution_count": 6,
   "metadata": {},
   "outputs": [
    {
     "data": {
      "text/plain": [
       "47856"
      ]
     },
     "execution_count": 6,
     "metadata": {},
     "output_type": "execute_result"
    }
   ],
   "source": [
    "df['id'].nunique()"
   ]
  },
  {
   "cell_type": "code",
   "execution_count": 7,
   "metadata": {},
   "outputs": [
    {
     "data": {
      "text/plain": [
       "3"
      ]
     },
     "execution_count": 7,
     "metadata": {},
     "output_type": "execute_result"
    }
   ],
   "source": [
    "df.namespace.nunique()"
   ]
  },
  {
   "cell_type": "code",
   "execution_count": 8,
   "metadata": {},
   "outputs": [
    {
     "data": {
      "text/plain": [
       "namespace\n",
       "biological_process    30723\n",
       "molecular_function    12614\n",
       "cellular_component     4519\n",
       "Name: count, dtype: int64"
      ]
     },
     "execution_count": 8,
     "metadata": {},
     "output_type": "execute_result"
    }
   ],
   "source": [
    "df.namespace.value_counts()\n"
   ]
  },
  {
   "cell_type": "code",
   "execution_count": 9,
   "metadata": {},
   "outputs": [
    {
     "data": {
      "text/plain": [
       "array(['biological_process', 'molecular_function', 'cellular_component'],\n",
       "      dtype=object)"
      ]
     },
     "execution_count": 9,
     "metadata": {},
     "output_type": "execute_result"
    }
   ],
   "source": [
    "df[\"namespace\"].unique()"
   ]
  },
  {
   "cell_type": "code",
   "execution_count": 10,
   "metadata": {},
   "outputs": [
    {
     "data": {
      "text/html": [
       "<div>\n",
       "<style scoped>\n",
       "    .dataframe tbody tr th:only-of-type {\n",
       "        vertical-align: middle;\n",
       "    }\n",
       "\n",
       "    .dataframe tbody tr th {\n",
       "        vertical-align: top;\n",
       "    }\n",
       "\n",
       "    .dataframe thead th {\n",
       "        text-align: right;\n",
       "    }\n",
       "</style>\n",
       "<table border=\"1\" class=\"dataframe\">\n",
       "  <thead>\n",
       "    <tr style=\"text-align: right;\">\n",
       "      <th></th>\n",
       "      <th>id</th>\n",
       "      <th>name</th>\n",
       "      <th>namespace</th>\n",
       "      <th>definition</th>\n",
       "      <th>synonym</th>\n",
       "      <th>is_a</th>\n",
       "      <th>alt_id</th>\n",
       "      <th>comment</th>\n",
       "      <th>is_obsolete</th>\n",
       "      <th>replaced_by</th>\n",
       "      <th>consider</th>\n",
       "      <th>xref</th>\n",
       "      <th>subset</th>\n",
       "      <th>relationship</th>\n",
       "    </tr>\n",
       "  </thead>\n",
       "  <tbody>\n",
       "    <tr>\n",
       "      <th>2</th>\n",
       "      <td>GO:0000003</td>\n",
       "      <td>obsolete reproduction</td>\n",
       "      <td>biological_process</td>\n",
       "      <td>\"OBSOLETE. The production of new individuals t...</td>\n",
       "      <td>\"reproductive physiological process\" EXACT []</td>\n",
       "      <td>NaN</td>\n",
       "      <td>[GO:0019952, GO:0050876]</td>\n",
       "      <td>The reason for obsoletion is that this term is...</td>\n",
       "      <td>true</td>\n",
       "      <td>GO:0022414</td>\n",
       "      <td>NaN</td>\n",
       "      <td>NaN</td>\n",
       "      <td>NaN</td>\n",
       "      <td>NaN</td>\n",
       "    </tr>\n",
       "    <tr>\n",
       "      <th>3</th>\n",
       "      <td>GO:0000005</td>\n",
       "      <td>obsolete ribosomal chaperone activity</td>\n",
       "      <td>molecular_function</td>\n",
       "      <td>\"OBSOLETE. Assists in the correct assembly of ...</td>\n",
       "      <td>\"ribosomal chaperone activity\" EXACT []</td>\n",
       "      <td>NaN</td>\n",
       "      <td>NaN</td>\n",
       "      <td>This term was made obsolete because it refers ...</td>\n",
       "      <td>true</td>\n",
       "      <td>NaN</td>\n",
       "      <td>[GO:0042254, GO:0044183, GO:0051082]</td>\n",
       "      <td>NaN</td>\n",
       "      <td>NaN</td>\n",
       "      <td>NaN</td>\n",
       "    </tr>\n",
       "    <tr>\n",
       "      <th>6</th>\n",
       "      <td>GO:0000008</td>\n",
       "      <td>obsolete thioredoxin</td>\n",
       "      <td>molecular_function</td>\n",
       "      <td>\"OBSOLETE. A small disulfide-containing redox ...</td>\n",
       "      <td>\"thioredoxin\" EXACT []</td>\n",
       "      <td>NaN</td>\n",
       "      <td>GO:0000013</td>\n",
       "      <td>This term was made obsolete because it represe...</td>\n",
       "      <td>true</td>\n",
       "      <td>NaN</td>\n",
       "      <td>[GO:0003756, GO:0015036]</td>\n",
       "      <td>NaN</td>\n",
       "      <td>NaN</td>\n",
       "      <td>NaN</td>\n",
       "    </tr>\n",
       "    <tr>\n",
       "      <th>17</th>\n",
       "      <td>GO:0000020</td>\n",
       "      <td>obsolete negative regulation of recombination ...</td>\n",
       "      <td>biological_process</td>\n",
       "      <td>\"OBSOLETE. Any process that stops, prevents, o...</td>\n",
       "      <td>\"negative regulation of recombination within r...</td>\n",
       "      <td>NaN</td>\n",
       "      <td>NaN</td>\n",
       "      <td>This term was made obsolete because it describ...</td>\n",
       "      <td>true</td>\n",
       "      <td>NaN</td>\n",
       "      <td>GO:0045950</td>\n",
       "      <td>NaN</td>\n",
       "      <td>NaN</td>\n",
       "      <td>NaN</td>\n",
       "    </tr>\n",
       "    <tr>\n",
       "      <th>33</th>\n",
       "      <td>GO:0000039</td>\n",
       "      <td>obsolete plasma membrane long-chain fatty acid...</td>\n",
       "      <td>molecular_function</td>\n",
       "      <td>\"OBSOLETE. (Was not defined before being made ...</td>\n",
       "      <td>\"plasma membrane long-chain fatty acid transpo...</td>\n",
       "      <td>NaN</td>\n",
       "      <td>NaN</td>\n",
       "      <td>This term was made obsolete because it describ...</td>\n",
       "      <td>true</td>\n",
       "      <td>NaN</td>\n",
       "      <td>[GO:0005324, GO:0005886]</td>\n",
       "      <td>NaN</td>\n",
       "      <td>NaN</td>\n",
       "      <td>NaN</td>\n",
       "    </tr>\n",
       "    <tr>\n",
       "      <th>...</th>\n",
       "      <td>...</td>\n",
       "      <td>...</td>\n",
       "      <td>...</td>\n",
       "      <td>...</td>\n",
       "      <td>...</td>\n",
       "      <td>...</td>\n",
       "      <td>...</td>\n",
       "      <td>...</td>\n",
       "      <td>...</td>\n",
       "      <td>...</td>\n",
       "      <td>...</td>\n",
       "      <td>...</td>\n",
       "      <td>...</td>\n",
       "      <td>...</td>\n",
       "    </tr>\n",
       "    <tr>\n",
       "      <th>47792</th>\n",
       "      <td>GO:2001254</td>\n",
       "      <td>obsolete negative regulation of histone H3-K36...</td>\n",
       "      <td>biological_process</td>\n",
       "      <td>\"OBSOLETE. Any process that stops, prevents or...</td>\n",
       "      <td>NaN</td>\n",
       "      <td>NaN</td>\n",
       "      <td>NaN</td>\n",
       "      <td>This term was obsoleted because it represents ...</td>\n",
       "      <td>true</td>\n",
       "      <td>NaN</td>\n",
       "      <td>GO:0006338</td>\n",
       "      <td>NaN</td>\n",
       "      <td>NaN</td>\n",
       "      <td>NaN</td>\n",
       "    </tr>\n",
       "    <tr>\n",
       "      <th>47793</th>\n",
       "      <td>GO:2001255</td>\n",
       "      <td>obsolete positive regulation of histone H3-K36...</td>\n",
       "      <td>biological_process</td>\n",
       "      <td>\"OBSOLETE. Any process that activates or incre...</td>\n",
       "      <td>NaN</td>\n",
       "      <td>NaN</td>\n",
       "      <td>NaN</td>\n",
       "      <td>This term was obsoleted because it represents ...</td>\n",
       "      <td>true</td>\n",
       "      <td>NaN</td>\n",
       "      <td>GO:0140673</td>\n",
       "      <td>NaN</td>\n",
       "      <td>NaN</td>\n",
       "      <td>NaN</td>\n",
       "    </tr>\n",
       "    <tr>\n",
       "      <th>47811</th>\n",
       "      <td>GO:2001273</td>\n",
       "      <td>obsolete regulation of glucose import in respo...</td>\n",
       "      <td>biological_process</td>\n",
       "      <td>\"OBSOLETE. Any process that modulates the freq...</td>\n",
       "      <td>\"regulation of cellular glucose import in resp...</td>\n",
       "      <td>NaN</td>\n",
       "      <td>NaN</td>\n",
       "      <td>This term was obsoleted because it represents ...</td>\n",
       "      <td>true</td>\n",
       "      <td>NaN</td>\n",
       "      <td>NaN</td>\n",
       "      <td>NaN</td>\n",
       "      <td>NaN</td>\n",
       "      <td>NaN</td>\n",
       "    </tr>\n",
       "    <tr>\n",
       "      <th>47812</th>\n",
       "      <td>GO:2001274</td>\n",
       "      <td>obsolete negative regulation of glucose import...</td>\n",
       "      <td>biological_process</td>\n",
       "      <td>\"OBSOLETE. Any process that stops, prevents or...</td>\n",
       "      <td>\"negative regulation of cellular glucose impor...</td>\n",
       "      <td>NaN</td>\n",
       "      <td>NaN</td>\n",
       "      <td>NaN</td>\n",
       "      <td>true</td>\n",
       "      <td>NaN</td>\n",
       "      <td>NaN</td>\n",
       "      <td>NaN</td>\n",
       "      <td>NaN</td>\n",
       "      <td>NaN</td>\n",
       "    </tr>\n",
       "    <tr>\n",
       "      <th>47813</th>\n",
       "      <td>GO:2001275</td>\n",
       "      <td>obsolete positive regulation of glucose import...</td>\n",
       "      <td>biological_process</td>\n",
       "      <td>\"OBSOLETE. Any process that activates or incre...</td>\n",
       "      <td>\"positive regulation of cellular glucose impor...</td>\n",
       "      <td>NaN</td>\n",
       "      <td>NaN</td>\n",
       "      <td>This term was obsoleted because it represents ...</td>\n",
       "      <td>true</td>\n",
       "      <td>NaN</td>\n",
       "      <td>NaN</td>\n",
       "      <td>NaN</td>\n",
       "      <td>NaN</td>\n",
       "      <td>NaN</td>\n",
       "    </tr>\n",
       "  </tbody>\n",
       "</table>\n",
       "<p>5653 rows × 14 columns</p>\n",
       "</div>"
      ],
      "text/plain": [
       "               id                                               name  \\\n",
       "2      GO:0000003                              obsolete reproduction   \n",
       "3      GO:0000005              obsolete ribosomal chaperone activity   \n",
       "6      GO:0000008                               obsolete thioredoxin   \n",
       "17     GO:0000020  obsolete negative regulation of recombination ...   \n",
       "33     GO:0000039  obsolete plasma membrane long-chain fatty acid...   \n",
       "...           ...                                                ...   \n",
       "47792  GO:2001254  obsolete negative regulation of histone H3-K36...   \n",
       "47793  GO:2001255  obsolete positive regulation of histone H3-K36...   \n",
       "47811  GO:2001273  obsolete regulation of glucose import in respo...   \n",
       "47812  GO:2001274  obsolete negative regulation of glucose import...   \n",
       "47813  GO:2001275  obsolete positive regulation of glucose import...   \n",
       "\n",
       "                namespace                                         definition  \\\n",
       "2      biological_process  \"OBSOLETE. The production of new individuals t...   \n",
       "3      molecular_function  \"OBSOLETE. Assists in the correct assembly of ...   \n",
       "6      molecular_function  \"OBSOLETE. A small disulfide-containing redox ...   \n",
       "17     biological_process  \"OBSOLETE. Any process that stops, prevents, o...   \n",
       "33     molecular_function  \"OBSOLETE. (Was not defined before being made ...   \n",
       "...                   ...                                                ...   \n",
       "47792  biological_process  \"OBSOLETE. Any process that stops, prevents or...   \n",
       "47793  biological_process  \"OBSOLETE. Any process that activates or incre...   \n",
       "47811  biological_process  \"OBSOLETE. Any process that modulates the freq...   \n",
       "47812  biological_process  \"OBSOLETE. Any process that stops, prevents or...   \n",
       "47813  biological_process  \"OBSOLETE. Any process that activates or incre...   \n",
       "\n",
       "                                                 synonym is_a  \\\n",
       "2          \"reproductive physiological process\" EXACT []  NaN   \n",
       "3                \"ribosomal chaperone activity\" EXACT []  NaN   \n",
       "6                                 \"thioredoxin\" EXACT []  NaN   \n",
       "17     \"negative regulation of recombination within r...  NaN   \n",
       "33     \"plasma membrane long-chain fatty acid transpo...  NaN   \n",
       "...                                                  ...  ...   \n",
       "47792                                                NaN  NaN   \n",
       "47793                                                NaN  NaN   \n",
       "47811  \"regulation of cellular glucose import in resp...  NaN   \n",
       "47812  \"negative regulation of cellular glucose impor...  NaN   \n",
       "47813  \"positive regulation of cellular glucose impor...  NaN   \n",
       "\n",
       "                         alt_id  \\\n",
       "2      [GO:0019952, GO:0050876]   \n",
       "3                           NaN   \n",
       "6                    GO:0000013   \n",
       "17                          NaN   \n",
       "33                          NaN   \n",
       "...                         ...   \n",
       "47792                       NaN   \n",
       "47793                       NaN   \n",
       "47811                       NaN   \n",
       "47812                       NaN   \n",
       "47813                       NaN   \n",
       "\n",
       "                                                 comment is_obsolete  \\\n",
       "2      The reason for obsoletion is that this term is...        true   \n",
       "3      This term was made obsolete because it refers ...        true   \n",
       "6      This term was made obsolete because it represe...        true   \n",
       "17     This term was made obsolete because it describ...        true   \n",
       "33     This term was made obsolete because it describ...        true   \n",
       "...                                                  ...         ...   \n",
       "47792  This term was obsoleted because it represents ...        true   \n",
       "47793  This term was obsoleted because it represents ...        true   \n",
       "47811  This term was obsoleted because it represents ...        true   \n",
       "47812                                                NaN        true   \n",
       "47813  This term was obsoleted because it represents ...        true   \n",
       "\n",
       "      replaced_by                              consider xref subset  \\\n",
       "2      GO:0022414                                   NaN  NaN    NaN   \n",
       "3             NaN  [GO:0042254, GO:0044183, GO:0051082]  NaN    NaN   \n",
       "6             NaN              [GO:0003756, GO:0015036]  NaN    NaN   \n",
       "17            NaN                            GO:0045950  NaN    NaN   \n",
       "33            NaN              [GO:0005324, GO:0005886]  NaN    NaN   \n",
       "...           ...                                   ...  ...    ...   \n",
       "47792         NaN                            GO:0006338  NaN    NaN   \n",
       "47793         NaN                            GO:0140673  NaN    NaN   \n",
       "47811         NaN                                   NaN  NaN    NaN   \n",
       "47812         NaN                                   NaN  NaN    NaN   \n",
       "47813         NaN                                   NaN  NaN    NaN   \n",
       "\n",
       "      relationship  \n",
       "2              NaN  \n",
       "3              NaN  \n",
       "6              NaN  \n",
       "17             NaN  \n",
       "33             NaN  \n",
       "...            ...  \n",
       "47792          NaN  \n",
       "47793          NaN  \n",
       "47811          NaN  \n",
       "47812          NaN  \n",
       "47813          NaN  \n",
       "\n",
       "[5653 rows x 14 columns]"
      ]
     },
     "execution_count": 10,
     "metadata": {},
     "output_type": "execute_result"
    }
   ],
   "source": [
    "df[df.is_obsolete == 'true']"
   ]
  },
  {
   "cell_type": "code",
   "execution_count": 11,
   "metadata": {},
   "outputs": [
    {
     "data": {
      "text/html": [
       "<div>\n",
       "<style scoped>\n",
       "    .dataframe tbody tr th:only-of-type {\n",
       "        vertical-align: middle;\n",
       "    }\n",
       "\n",
       "    .dataframe tbody tr th {\n",
       "        vertical-align: top;\n",
       "    }\n",
       "\n",
       "    .dataframe thead th {\n",
       "        text-align: right;\n",
       "    }\n",
       "</style>\n",
       "<table border=\"1\" class=\"dataframe\">\n",
       "  <thead>\n",
       "    <tr style=\"text-align: right;\">\n",
       "      <th></th>\n",
       "      <th>id</th>\n",
       "      <th>name</th>\n",
       "      <th>namespace</th>\n",
       "      <th>definition</th>\n",
       "      <th>synonym</th>\n",
       "      <th>is_a</th>\n",
       "      <th>alt_id</th>\n",
       "      <th>comment</th>\n",
       "      <th>is_obsolete</th>\n",
       "      <th>replaced_by</th>\n",
       "      <th>consider</th>\n",
       "      <th>xref</th>\n",
       "      <th>subset</th>\n",
       "      <th>relationship</th>\n",
       "    </tr>\n",
       "  </thead>\n",
       "  <tbody>\n",
       "    <tr>\n",
       "      <th>0</th>\n",
       "      <td>GO:0000001</td>\n",
       "      <td>mitochondrion inheritance</td>\n",
       "      <td>biological_process</td>\n",
       "      <td>\"The distribution of mitochondria, including t...</td>\n",
       "      <td>\"mitochondrial inheritance\" EXACT []</td>\n",
       "      <td>[GO:0048308 ! organelle inheritance, GO:004831...</td>\n",
       "      <td>NaN</td>\n",
       "      <td>NaN</td>\n",
       "      <td>NaN</td>\n",
       "      <td>NaN</td>\n",
       "      <td>NaN</td>\n",
       "      <td>NaN</td>\n",
       "      <td>NaN</td>\n",
       "      <td>NaN</td>\n",
       "    </tr>\n",
       "    <tr>\n",
       "      <th>1</th>\n",
       "      <td>GO:0000002</td>\n",
       "      <td>mitochondrial genome maintenance</td>\n",
       "      <td>biological_process</td>\n",
       "      <td>\"The maintenance of the structure and integrit...</td>\n",
       "      <td>NaN</td>\n",
       "      <td>GO:0007005 ! mitochondrion organization</td>\n",
       "      <td>NaN</td>\n",
       "      <td>NaN</td>\n",
       "      <td>NaN</td>\n",
       "      <td>NaN</td>\n",
       "      <td>NaN</td>\n",
       "      <td>NaN</td>\n",
       "      <td>NaN</td>\n",
       "      <td>NaN</td>\n",
       "    </tr>\n",
       "    <tr>\n",
       "      <th>4</th>\n",
       "      <td>GO:0000006</td>\n",
       "      <td>high-affinity zinc transmembrane transporter a...</td>\n",
       "      <td>molecular_function</td>\n",
       "      <td>\"Enables the transfer of zinc ions (Zn2+) from...</td>\n",
       "      <td>[\"high affinity zinc uptake transmembrane tran...</td>\n",
       "      <td>GO:0005385 ! zinc ion transmembrane transporte...</td>\n",
       "      <td>NaN</td>\n",
       "      <td>NaN</td>\n",
       "      <td>NaN</td>\n",
       "      <td>NaN</td>\n",
       "      <td>NaN</td>\n",
       "      <td>NaN</td>\n",
       "      <td>NaN</td>\n",
       "      <td>NaN</td>\n",
       "    </tr>\n",
       "    <tr>\n",
       "      <th>5</th>\n",
       "      <td>GO:0000007</td>\n",
       "      <td>low-affinity zinc ion transmembrane transporte...</td>\n",
       "      <td>molecular_function</td>\n",
       "      <td>\"Enables the transfer of a solute or solutes f...</td>\n",
       "      <td>NaN</td>\n",
       "      <td>GO:0005385 ! zinc ion transmembrane transporte...</td>\n",
       "      <td>NaN</td>\n",
       "      <td>NaN</td>\n",
       "      <td>NaN</td>\n",
       "      <td>NaN</td>\n",
       "      <td>NaN</td>\n",
       "      <td>NaN</td>\n",
       "      <td>NaN</td>\n",
       "      <td>NaN</td>\n",
       "    </tr>\n",
       "    <tr>\n",
       "      <th>7</th>\n",
       "      <td>GO:0000009</td>\n",
       "      <td>alpha-1,6-mannosyltransferase activity</td>\n",
       "      <td>molecular_function</td>\n",
       "      <td>\"Catalysis of the transfer of a mannose residu...</td>\n",
       "      <td>\"1,6-alpha-mannosyltransferase activity\" EXACT []</td>\n",
       "      <td>GO:0000030 ! mannosyltransferase activity</td>\n",
       "      <td>NaN</td>\n",
       "      <td>NaN</td>\n",
       "      <td>NaN</td>\n",
       "      <td>NaN</td>\n",
       "      <td>NaN</td>\n",
       "      <td>Reactome:R-HSA-449718 \"Addition of a third man...</td>\n",
       "      <td>NaN</td>\n",
       "      <td>NaN</td>\n",
       "    </tr>\n",
       "    <tr>\n",
       "      <th>...</th>\n",
       "      <td>...</td>\n",
       "      <td>...</td>\n",
       "      <td>...</td>\n",
       "      <td>...</td>\n",
       "      <td>...</td>\n",
       "      <td>...</td>\n",
       "      <td>...</td>\n",
       "      <td>...</td>\n",
       "      <td>...</td>\n",
       "      <td>...</td>\n",
       "      <td>...</td>\n",
       "      <td>...</td>\n",
       "      <td>...</td>\n",
       "      <td>...</td>\n",
       "    </tr>\n",
       "    <tr>\n",
       "      <th>47851</th>\n",
       "      <td>GO:2001313</td>\n",
       "      <td>UDP-4-deoxy-4-formamido-beta-L-arabinopyranose...</td>\n",
       "      <td>biological_process</td>\n",
       "      <td>\"The chemical reactions and pathways involving...</td>\n",
       "      <td>\"UDP-4-deoxy-4-formamido-beta-L-arabinopyranos...</td>\n",
       "      <td>[GO:0006040 ! amino sugar metabolic process, G...</td>\n",
       "      <td>NaN</td>\n",
       "      <td>NaN</td>\n",
       "      <td>NaN</td>\n",
       "      <td>NaN</td>\n",
       "      <td>NaN</td>\n",
       "      <td>NaN</td>\n",
       "      <td>NaN</td>\n",
       "      <td>NaN</td>\n",
       "    </tr>\n",
       "    <tr>\n",
       "      <th>47852</th>\n",
       "      <td>GO:2001314</td>\n",
       "      <td>UDP-4-deoxy-4-formamido-beta-L-arabinopyranose...</td>\n",
       "      <td>biological_process</td>\n",
       "      <td>\"The chemical reactions and pathways resulting...</td>\n",
       "      <td>[\"UDP-4-deoxy-4-formamido-beta-L-arabinopyrano...</td>\n",
       "      <td>[GO:0009227 ! nucleotide-sugar catabolic proce...</td>\n",
       "      <td>NaN</td>\n",
       "      <td>NaN</td>\n",
       "      <td>NaN</td>\n",
       "      <td>NaN</td>\n",
       "      <td>NaN</td>\n",
       "      <td>NaN</td>\n",
       "      <td>NaN</td>\n",
       "      <td>NaN</td>\n",
       "    </tr>\n",
       "    <tr>\n",
       "      <th>47853</th>\n",
       "      <td>GO:2001315</td>\n",
       "      <td>UDP-4-deoxy-4-formamido-beta-L-arabinopyranose...</td>\n",
       "      <td>biological_process</td>\n",
       "      <td>\"The chemical reactions and pathways resulting...</td>\n",
       "      <td>[\"UDP-4-deoxy-4-formamido-beta-L-arabinopyrano...</td>\n",
       "      <td>[GO:0009226 ! nucleotide-sugar biosynthetic pr...</td>\n",
       "      <td>NaN</td>\n",
       "      <td>NaN</td>\n",
       "      <td>NaN</td>\n",
       "      <td>NaN</td>\n",
       "      <td>NaN</td>\n",
       "      <td>NaN</td>\n",
       "      <td>NaN</td>\n",
       "      <td>NaN</td>\n",
       "    </tr>\n",
       "    <tr>\n",
       "      <th>47854</th>\n",
       "      <td>GO:2001316</td>\n",
       "      <td>kojic acid metabolic process</td>\n",
       "      <td>biological_process</td>\n",
       "      <td>\"The chemical reactions and pathways involving...</td>\n",
       "      <td>[\"5-hydroxy-2-(hydroxymethyl)-4H-pyran-4-one m...</td>\n",
       "      <td>[GO:0034308 ! primary alcohol metabolic proces...</td>\n",
       "      <td>NaN</td>\n",
       "      <td>NaN</td>\n",
       "      <td>NaN</td>\n",
       "      <td>NaN</td>\n",
       "      <td>NaN</td>\n",
       "      <td>NaN</td>\n",
       "      <td>NaN</td>\n",
       "      <td>NaN</td>\n",
       "    </tr>\n",
       "    <tr>\n",
       "      <th>47855</th>\n",
       "      <td>GO:2001317</td>\n",
       "      <td>kojic acid biosynthetic process</td>\n",
       "      <td>biological_process</td>\n",
       "      <td>\"The chemical reactions and pathways resulting...</td>\n",
       "      <td>[\"5-hydroxy-2-(hydroxymethyl)-4H-pyran-4-one a...</td>\n",
       "      <td>[GO:0034309 ! primary alcohol biosynthetic pro...</td>\n",
       "      <td>NaN</td>\n",
       "      <td>NaN</td>\n",
       "      <td>NaN</td>\n",
       "      <td>NaN</td>\n",
       "      <td>NaN</td>\n",
       "      <td>NaN</td>\n",
       "      <td>NaN</td>\n",
       "      <td>NaN</td>\n",
       "    </tr>\n",
       "  </tbody>\n",
       "</table>\n",
       "<p>42203 rows × 14 columns</p>\n",
       "</div>"
      ],
      "text/plain": [
       "               id                                               name  \\\n",
       "0      GO:0000001                          mitochondrion inheritance   \n",
       "1      GO:0000002                   mitochondrial genome maintenance   \n",
       "4      GO:0000006  high-affinity zinc transmembrane transporter a...   \n",
       "5      GO:0000007  low-affinity zinc ion transmembrane transporte...   \n",
       "7      GO:0000009             alpha-1,6-mannosyltransferase activity   \n",
       "...           ...                                                ...   \n",
       "47851  GO:2001313  UDP-4-deoxy-4-formamido-beta-L-arabinopyranose...   \n",
       "47852  GO:2001314  UDP-4-deoxy-4-formamido-beta-L-arabinopyranose...   \n",
       "47853  GO:2001315  UDP-4-deoxy-4-formamido-beta-L-arabinopyranose...   \n",
       "47854  GO:2001316                       kojic acid metabolic process   \n",
       "47855  GO:2001317                    kojic acid biosynthetic process   \n",
       "\n",
       "                namespace                                         definition  \\\n",
       "0      biological_process  \"The distribution of mitochondria, including t...   \n",
       "1      biological_process  \"The maintenance of the structure and integrit...   \n",
       "4      molecular_function  \"Enables the transfer of zinc ions (Zn2+) from...   \n",
       "5      molecular_function  \"Enables the transfer of a solute or solutes f...   \n",
       "7      molecular_function  \"Catalysis of the transfer of a mannose residu...   \n",
       "...                   ...                                                ...   \n",
       "47851  biological_process  \"The chemical reactions and pathways involving...   \n",
       "47852  biological_process  \"The chemical reactions and pathways resulting...   \n",
       "47853  biological_process  \"The chemical reactions and pathways resulting...   \n",
       "47854  biological_process  \"The chemical reactions and pathways involving...   \n",
       "47855  biological_process  \"The chemical reactions and pathways resulting...   \n",
       "\n",
       "                                                 synonym  \\\n",
       "0                   \"mitochondrial inheritance\" EXACT []   \n",
       "1                                                    NaN   \n",
       "4      [\"high affinity zinc uptake transmembrane tran...   \n",
       "5                                                    NaN   \n",
       "7      \"1,6-alpha-mannosyltransferase activity\" EXACT []   \n",
       "...                                                  ...   \n",
       "47851  \"UDP-4-deoxy-4-formamido-beta-L-arabinopyranos...   \n",
       "47852  [\"UDP-4-deoxy-4-formamido-beta-L-arabinopyrano...   \n",
       "47853  [\"UDP-4-deoxy-4-formamido-beta-L-arabinopyrano...   \n",
       "47854  [\"5-hydroxy-2-(hydroxymethyl)-4H-pyran-4-one m...   \n",
       "47855  [\"5-hydroxy-2-(hydroxymethyl)-4H-pyran-4-one a...   \n",
       "\n",
       "                                                    is_a alt_id comment  \\\n",
       "0      [GO:0048308 ! organelle inheritance, GO:004831...    NaN     NaN   \n",
       "1                GO:0007005 ! mitochondrion organization    NaN     NaN   \n",
       "4      GO:0005385 ! zinc ion transmembrane transporte...    NaN     NaN   \n",
       "5      GO:0005385 ! zinc ion transmembrane transporte...    NaN     NaN   \n",
       "7              GO:0000030 ! mannosyltransferase activity    NaN     NaN   \n",
       "...                                                  ...    ...     ...   \n",
       "47851  [GO:0006040 ! amino sugar metabolic process, G...    NaN     NaN   \n",
       "47852  [GO:0009227 ! nucleotide-sugar catabolic proce...    NaN     NaN   \n",
       "47853  [GO:0009226 ! nucleotide-sugar biosynthetic pr...    NaN     NaN   \n",
       "47854  [GO:0034308 ! primary alcohol metabolic proces...    NaN     NaN   \n",
       "47855  [GO:0034309 ! primary alcohol biosynthetic pro...    NaN     NaN   \n",
       "\n",
       "      is_obsolete replaced_by consider  \\\n",
       "0             NaN         NaN      NaN   \n",
       "1             NaN         NaN      NaN   \n",
       "4             NaN         NaN      NaN   \n",
       "5             NaN         NaN      NaN   \n",
       "7             NaN         NaN      NaN   \n",
       "...           ...         ...      ...   \n",
       "47851         NaN         NaN      NaN   \n",
       "47852         NaN         NaN      NaN   \n",
       "47853         NaN         NaN      NaN   \n",
       "47854         NaN         NaN      NaN   \n",
       "47855         NaN         NaN      NaN   \n",
       "\n",
       "                                                    xref subset relationship  \n",
       "0                                                    NaN    NaN          NaN  \n",
       "1                                                    NaN    NaN          NaN  \n",
       "4                                                    NaN    NaN          NaN  \n",
       "5                                                    NaN    NaN          NaN  \n",
       "7      Reactome:R-HSA-449718 \"Addition of a third man...    NaN          NaN  \n",
       "...                                                  ...    ...          ...  \n",
       "47851                                                NaN    NaN          NaN  \n",
       "47852                                                NaN    NaN          NaN  \n",
       "47853                                                NaN    NaN          NaN  \n",
       "47854                                                NaN    NaN          NaN  \n",
       "47855                                                NaN    NaN          NaN  \n",
       "\n",
       "[42203 rows x 14 columns]"
      ]
     },
     "execution_count": 11,
     "metadata": {},
     "output_type": "execute_result"
    }
   ],
   "source": [
    "df[df.is_obsolete.isna() == True]"
   ]
  },
  {
   "cell_type": "markdown",
   "metadata": {},
   "source": [
    "## Data Preprocessing"
   ]
  },
  {
   "cell_type": "markdown",
   "metadata": {},
   "source": [
    "### 1. Remove obsolete terms"
   ]
  },
  {
   "cell_type": "code",
   "execution_count": 12,
   "metadata": {},
   "outputs": [
    {
     "data": {
      "text/plain": [
       "is_obsolete\n",
       "true    5653\n",
       "Name: count, dtype: int64"
      ]
     },
     "execution_count": 12,
     "metadata": {},
     "output_type": "execute_result"
    }
   ],
   "source": [
    "df.is_obsolete.value_counts()"
   ]
  },
  {
   "cell_type": "code",
   "execution_count": 13,
   "metadata": {},
   "outputs": [],
   "source": [
    "df = df[df.is_obsolete.isna() == True]"
   ]
  },
  {
   "cell_type": "code",
   "execution_count": 14,
   "metadata": {},
   "outputs": [
    {
     "data": {
      "text/plain": [
       "namespace\n",
       "biological_process    27014\n",
       "molecular_function    11132\n",
       "cellular_component     4057\n",
       "Name: count, dtype: int64"
      ]
     },
     "execution_count": 14,
     "metadata": {},
     "output_type": "execute_result"
    }
   ],
   "source": [
    "df.namespace.value_counts()"
   ]
  },
  {
   "cell_type": "code",
   "execution_count": 38,
   "metadata": {},
   "outputs": [
    {
     "data": {
      "image/png": "[encoded data removed]",
      "text/plain": [
       "<Figure size 800x800 with 1 Axes>"
      ]
     },
     "metadata": {},
     "output_type": "display_data"
    }
   ],
   "source": [
    "namespace_counts = df.namespace.value_counts().copy()\n",
    "labels = ['Biological Process', 'Molecular Function', 'Cellular Component']\n",
    "\n",
    "plt.figure(figsize=(8, 8))\n",
    "plt.pie(namespace_counts, labels=labels, autopct='%1.1f%%', colors=['#ff9999','#66b3ff','#99ff99'], textprops={'fontsize': 14})\n",
    "plt.title('GO Terms Distribution by Namespace')\n",
    "plt.tight_layout()\n",
    "\n",
    "plt.savefig('../images/piechart.png')\n",
    "plt.show()"
   ]
  },
  {
   "cell_type": "markdown",
   "metadata": {},
   "source": [
    "### 2. Remove unnecessary columns"
   ]
  },
  {
   "cell_type": "code",
   "execution_count": 16,
   "metadata": {},
   "outputs": [],
   "source": [
    "df = df[['id','namespace','definition']]"
   ]
  },
  {
   "cell_type": "markdown",
   "metadata": {},
   "source": [
    "### 3. Remove the content in [] at the end of definitions"
   ]
  },
  {
   "cell_type": "code",
   "execution_count": 17,
   "metadata": {},
   "outputs": [
    {
     "data": {
      "text/plain": [
       "'\"Any process that stops, prevents, or reduces the frequency, rate or extent of transcription mediated by RNA polymerase II.\" [GOC:go_curators, GOC:txnOH]'"
      ]
     },
     "execution_count": 17,
     "metadata": {},
     "output_type": "execute_result"
    }
   ],
   "source": [
    "df['definition'][100]"
   ]
  },
  {
   "cell_type": "code",
   "execution_count": 18,
   "metadata": {},
   "outputs": [
    {
     "data": {
      "text/plain": [
       "'\"Any process that stops, prevents, or reduces the frequency, rate or extent of transcription mediated by RNA polymerase II.\"'"
      ]
     },
     "execution_count": 18,
     "metadata": {},
     "output_type": "execute_result"
    }
   ],
   "source": [
    "df['definition'].str.replace(r' \\[.*?\\]$', '', regex=True)[100]"
   ]
  },
  {
   "cell_type": "code",
   "execution_count": 19,
   "metadata": {},
   "outputs": [],
   "source": [
    "df['definition'] = df['definition'].str.replace(r' \\[.*?\\]$', '', regex=True)"
   ]
  },
  {
   "cell_type": "markdown",
   "metadata": {},
   "source": [
    "### 4. Convert the defintions into feature vectors \n",
    "The stop words will be removed in process.\n",
    "\n",
    "Note that when transforming the definitions to feature vectors, there are 38093 columns created which may create issues like overfitting, curse of dimensionality, etc. \n",
    "\n",
    "To handle this we will exclude some words that do not appear in some % of definitions. \n",
    "\n",
    "We will test for words that do not appear in 1% of definitions and 5% of definitions.\n",
    "For this experiment, we create 2 separate datasets.\n",
    "\n",
    "(Where one dataset excludes the words that do not appear in 1% of the defintions and the other dataset that excludes words that do not appear in 5 % of the definitions)"
   ]
  },
  {
   "cell_type": "markdown",
   "metadata": {},
   "source": [
    "#### a. Dataset that excludes words that do not appear in 1% of definitions\n",
    "\n",
    "This gives 165 columns."
   ]
  },
  {
   "cell_type": "code",
   "execution_count": 20,
   "metadata": {},
   "outputs": [],
   "source": [
    "vectorizer1 = CountVectorizer(stop_words='english', min_df=0.01)\n",
    "X1 = vectorizer1.fit_transform(df['definition'])\n",
    "dense_X1 = X1.toarray()\n",
    "#creating a df with feature names as columns\n",
    "X1_df = pd.DataFrame(dense_X1, columns=vectorizer1.get_feature_names_out())"
   ]
  },
  {
   "cell_type": "code",
   "execution_count": 21,
   "metadata": {},
   "outputs": [
    {
     "data": {
      "text/html": [
       "<div>\n",
       "<style scoped>\n",
       "    .dataframe tbody tr th:only-of-type {\n",
       "        vertical-align: middle;\n",
       "    }\n",
       "\n",
       "    .dataframe tbody tr th {\n",
       "        vertical-align: top;\n",
       "    }\n",
       "\n",
       "    .dataframe thead th {\n",
       "        text-align: right;\n",
       "    }\n",
       "</style>\n",
       "<table border=\"1\" class=\"dataframe\">\n",
       "  <thead>\n",
       "    <tr style=\"text-align: right;\">\n",
       "      <th></th>\n",
       "      <th>acetyl</th>\n",
       "      <th>acid</th>\n",
       "      <th>acids</th>\n",
       "      <th>activates</th>\n",
       "      <th>activation</th>\n",
       "      <th>activity</th>\n",
       "      <th>adenosyl</th>\n",
       "      <th>adp</th>\n",
       "      <th>agent</th>\n",
       "      <th>alpha</th>\n",
       "      <th>...</th>\n",
       "      <th>time</th>\n",
       "      <th>tissue</th>\n",
       "      <th>transcription</th>\n",
       "      <th>transfer</th>\n",
       "      <th>transport</th>\n",
       "      <th>transported</th>\n",
       "      <th>transporter</th>\n",
       "      <th>type</th>\n",
       "      <th>udp</th>\n",
       "      <th>vesicle</th>\n",
       "    </tr>\n",
       "  </thead>\n",
       "  <tbody>\n",
       "    <tr>\n",
       "      <th>0</th>\n",
       "      <td>0</td>\n",
       "      <td>0</td>\n",
       "      <td>0</td>\n",
       "      <td>0</td>\n",
       "      <td>0</td>\n",
       "      <td>0</td>\n",
       "      <td>0</td>\n",
       "      <td>0</td>\n",
       "      <td>0</td>\n",
       "      <td>0</td>\n",
       "      <td>...</td>\n",
       "      <td>0</td>\n",
       "      <td>0</td>\n",
       "      <td>0</td>\n",
       "      <td>0</td>\n",
       "      <td>0</td>\n",
       "      <td>0</td>\n",
       "      <td>0</td>\n",
       "      <td>0</td>\n",
       "      <td>0</td>\n",
       "      <td>0</td>\n",
       "    </tr>\n",
       "    <tr>\n",
       "      <th>1</th>\n",
       "      <td>0</td>\n",
       "      <td>0</td>\n",
       "      <td>0</td>\n",
       "      <td>0</td>\n",
       "      <td>0</td>\n",
       "      <td>0</td>\n",
       "      <td>0</td>\n",
       "      <td>0</td>\n",
       "      <td>0</td>\n",
       "      <td>0</td>\n",
       "      <td>...</td>\n",
       "      <td>0</td>\n",
       "      <td>0</td>\n",
       "      <td>0</td>\n",
       "      <td>0</td>\n",
       "      <td>0</td>\n",
       "      <td>0</td>\n",
       "      <td>0</td>\n",
       "      <td>0</td>\n",
       "      <td>0</td>\n",
       "      <td>0</td>\n",
       "    </tr>\n",
       "    <tr>\n",
       "      <th>2</th>\n",
       "      <td>0</td>\n",
       "      <td>0</td>\n",
       "      <td>0</td>\n",
       "      <td>0</td>\n",
       "      <td>0</td>\n",
       "      <td>0</td>\n",
       "      <td>0</td>\n",
       "      <td>0</td>\n",
       "      <td>0</td>\n",
       "      <td>0</td>\n",
       "      <td>...</td>\n",
       "      <td>0</td>\n",
       "      <td>0</td>\n",
       "      <td>0</td>\n",
       "      <td>1</td>\n",
       "      <td>1</td>\n",
       "      <td>0</td>\n",
       "      <td>1</td>\n",
       "      <td>0</td>\n",
       "      <td>0</td>\n",
       "      <td>0</td>\n",
       "    </tr>\n",
       "    <tr>\n",
       "      <th>3</th>\n",
       "      <td>0</td>\n",
       "      <td>0</td>\n",
       "      <td>0</td>\n",
       "      <td>0</td>\n",
       "      <td>0</td>\n",
       "      <td>0</td>\n",
       "      <td>0</td>\n",
       "      <td>0</td>\n",
       "      <td>0</td>\n",
       "      <td>0</td>\n",
       "      <td>...</td>\n",
       "      <td>0</td>\n",
       "      <td>0</td>\n",
       "      <td>0</td>\n",
       "      <td>1</td>\n",
       "      <td>1</td>\n",
       "      <td>0</td>\n",
       "      <td>1</td>\n",
       "      <td>0</td>\n",
       "      <td>0</td>\n",
       "      <td>0</td>\n",
       "    </tr>\n",
       "    <tr>\n",
       "      <th>4</th>\n",
       "      <td>0</td>\n",
       "      <td>0</td>\n",
       "      <td>0</td>\n",
       "      <td>0</td>\n",
       "      <td>0</td>\n",
       "      <td>0</td>\n",
       "      <td>0</td>\n",
       "      <td>0</td>\n",
       "      <td>0</td>\n",
       "      <td>1</td>\n",
       "      <td>...</td>\n",
       "      <td>0</td>\n",
       "      <td>0</td>\n",
       "      <td>0</td>\n",
       "      <td>1</td>\n",
       "      <td>0</td>\n",
       "      <td>0</td>\n",
       "      <td>0</td>\n",
       "      <td>0</td>\n",
       "      <td>0</td>\n",
       "      <td>0</td>\n",
       "    </tr>\n",
       "    <tr>\n",
       "      <th>...</th>\n",
       "      <td>...</td>\n",
       "      <td>...</td>\n",
       "      <td>...</td>\n",
       "      <td>...</td>\n",
       "      <td>...</td>\n",
       "      <td>...</td>\n",
       "      <td>...</td>\n",
       "      <td>...</td>\n",
       "      <td>...</td>\n",
       "      <td>...</td>\n",
       "      <td>...</td>\n",
       "      <td>...</td>\n",
       "      <td>...</td>\n",
       "      <td>...</td>\n",
       "      <td>...</td>\n",
       "      <td>...</td>\n",
       "      <td>...</td>\n",
       "      <td>...</td>\n",
       "      <td>...</td>\n",
       "      <td>...</td>\n",
       "      <td>...</td>\n",
       "    </tr>\n",
       "    <tr>\n",
       "      <th>42198</th>\n",
       "      <td>0</td>\n",
       "      <td>0</td>\n",
       "      <td>0</td>\n",
       "      <td>0</td>\n",
       "      <td>0</td>\n",
       "      <td>0</td>\n",
       "      <td>0</td>\n",
       "      <td>0</td>\n",
       "      <td>0</td>\n",
       "      <td>0</td>\n",
       "      <td>...</td>\n",
       "      <td>0</td>\n",
       "      <td>0</td>\n",
       "      <td>0</td>\n",
       "      <td>0</td>\n",
       "      <td>0</td>\n",
       "      <td>0</td>\n",
       "      <td>0</td>\n",
       "      <td>0</td>\n",
       "      <td>1</td>\n",
       "      <td>0</td>\n",
       "    </tr>\n",
       "    <tr>\n",
       "      <th>42199</th>\n",
       "      <td>0</td>\n",
       "      <td>0</td>\n",
       "      <td>0</td>\n",
       "      <td>0</td>\n",
       "      <td>0</td>\n",
       "      <td>0</td>\n",
       "      <td>0</td>\n",
       "      <td>0</td>\n",
       "      <td>0</td>\n",
       "      <td>0</td>\n",
       "      <td>...</td>\n",
       "      <td>0</td>\n",
       "      <td>0</td>\n",
       "      <td>0</td>\n",
       "      <td>0</td>\n",
       "      <td>0</td>\n",
       "      <td>0</td>\n",
       "      <td>0</td>\n",
       "      <td>0</td>\n",
       "      <td>1</td>\n",
       "      <td>0</td>\n",
       "    </tr>\n",
       "    <tr>\n",
       "      <th>42200</th>\n",
       "      <td>0</td>\n",
       "      <td>0</td>\n",
       "      <td>0</td>\n",
       "      <td>0</td>\n",
       "      <td>0</td>\n",
       "      <td>0</td>\n",
       "      <td>0</td>\n",
       "      <td>0</td>\n",
       "      <td>0</td>\n",
       "      <td>0</td>\n",
       "      <td>...</td>\n",
       "      <td>0</td>\n",
       "      <td>0</td>\n",
       "      <td>0</td>\n",
       "      <td>0</td>\n",
       "      <td>0</td>\n",
       "      <td>0</td>\n",
       "      <td>0</td>\n",
       "      <td>0</td>\n",
       "      <td>1</td>\n",
       "      <td>0</td>\n",
       "    </tr>\n",
       "    <tr>\n",
       "      <th>42201</th>\n",
       "      <td>0</td>\n",
       "      <td>1</td>\n",
       "      <td>0</td>\n",
       "      <td>0</td>\n",
       "      <td>0</td>\n",
       "      <td>0</td>\n",
       "      <td>0</td>\n",
       "      <td>0</td>\n",
       "      <td>0</td>\n",
       "      <td>0</td>\n",
       "      <td>...</td>\n",
       "      <td>0</td>\n",
       "      <td>0</td>\n",
       "      <td>0</td>\n",
       "      <td>0</td>\n",
       "      <td>0</td>\n",
       "      <td>0</td>\n",
       "      <td>0</td>\n",
       "      <td>0</td>\n",
       "      <td>0</td>\n",
       "      <td>0</td>\n",
       "    </tr>\n",
       "    <tr>\n",
       "      <th>42202</th>\n",
       "      <td>0</td>\n",
       "      <td>1</td>\n",
       "      <td>0</td>\n",
       "      <td>0</td>\n",
       "      <td>0</td>\n",
       "      <td>0</td>\n",
       "      <td>0</td>\n",
       "      <td>0</td>\n",
       "      <td>0</td>\n",
       "      <td>0</td>\n",
       "      <td>...</td>\n",
       "      <td>0</td>\n",
       "      <td>0</td>\n",
       "      <td>0</td>\n",
       "      <td>0</td>\n",
       "      <td>0</td>\n",
       "      <td>0</td>\n",
       "      <td>0</td>\n",
       "      <td>0</td>\n",
       "      <td>0</td>\n",
       "      <td>0</td>\n",
       "    </tr>\n",
       "  </tbody>\n",
       "</table>\n",
       "<p>42203 rows × 165 columns</p>\n",
       "</div>"
      ],
      "text/plain": [
       "       acetyl  acid  acids  activates  activation  activity  adenosyl  adp  \\\n",
       "0           0     0      0          0           0         0         0    0   \n",
       "1           0     0      0          0           0         0         0    0   \n",
       "2           0     0      0          0           0         0         0    0   \n",
       "3           0     0      0          0           0         0         0    0   \n",
       "4           0     0      0          0           0         0         0    0   \n",
       "...       ...   ...    ...        ...         ...       ...       ...  ...   \n",
       "42198       0     0      0          0           0         0         0    0   \n",
       "42199       0     0      0          0           0         0         0    0   \n",
       "42200       0     0      0          0           0         0         0    0   \n",
       "42201       0     1      0          0           0         0         0    0   \n",
       "42202       0     1      0          0           0         0         0    0   \n",
       "\n",
       "       agent  alpha  ...  time  tissue  transcription  transfer  transport  \\\n",
       "0          0      0  ...     0       0              0         0          0   \n",
       "1          0      0  ...     0       0              0         0          0   \n",
       "2          0      0  ...     0       0              0         1          1   \n",
       "3          0      0  ...     0       0              0         1          1   \n",
       "4          0      1  ...     0       0              0         1          0   \n",
       "...      ...    ...  ...   ...     ...            ...       ...        ...   \n",
       "42198      0      0  ...     0       0              0         0          0   \n",
       "42199      0      0  ...     0       0              0         0          0   \n",
       "42200      0      0  ...     0       0              0         0          0   \n",
       "42201      0      0  ...     0       0              0         0          0   \n",
       "42202      0      0  ...     0       0              0         0          0   \n",
       "\n",
       "       transported  transporter  type  udp  vesicle  \n",
       "0                0            0     0    0        0  \n",
       "1                0            0     0    0        0  \n",
       "2                0            1     0    0        0  \n",
       "3                0            1     0    0        0  \n",
       "4                0            0     0    0        0  \n",
       "...            ...          ...   ...  ...      ...  \n",
       "42198            0            0     0    1        0  \n",
       "42199            0            0     0    1        0  \n",
       "42200            0            0     0    1        0  \n",
       "42201            0            0     0    0        0  \n",
       "42202            0            0     0    0        0  \n",
       "\n",
       "[42203 rows x 165 columns]"
      ]
     },
     "execution_count": 21,
     "metadata": {},
     "output_type": "execute_result"
    }
   ],
   "source": [
    "X1_df"
   ]
  },
  {
   "cell_type": "markdown",
   "metadata": {},
   "source": [
    "#### b. Dataset that excludes words that do not appear in 5% of definitions\n",
    "\n",
    "This gives 27 columns."
   ]
  },
  {
   "cell_type": "code",
   "execution_count": 22,
   "metadata": {},
   "outputs": [],
   "source": [
    "vectorizer5 = CountVectorizer(stop_words='english', min_df=0.05)\n",
    "X5 = vectorizer5.fit_transform(df['definition'])\n",
    "dense_X5 = X5.toarray()\n",
    "#creating a df with feature names as columns\n",
    "X5_df = pd.DataFrame(dense_X5, columns=vectorizer5.get_feature_names_out())"
   ]
  },
  {
   "cell_type": "code",
   "execution_count": 23,
   "metadata": {},
   "outputs": [
    {
     "data": {
      "text/html": [
       "<div>\n",
       "<style scoped>\n",
       "    .dataframe tbody tr th:only-of-type {\n",
       "        vertical-align: middle;\n",
       "    }\n",
       "\n",
       "    .dataframe tbody tr th {\n",
       "        vertical-align: top;\n",
       "    }\n",
       "\n",
       "    .dataframe thead th {\n",
       "        text-align: right;\n",
       "    }\n",
       "</style>\n",
       "<table border=\"1\" class=\"dataframe\">\n",
       "  <thead>\n",
       "    <tr style=\"text-align: right;\">\n",
       "      <th></th>\n",
       "      <th>acid</th>\n",
       "      <th>activates</th>\n",
       "      <th>activity</th>\n",
       "      <th>binding</th>\n",
       "      <th>catalysis</th>\n",
       "      <th>cell</th>\n",
       "      <th>cells</th>\n",
       "      <th>chemical</th>\n",
       "      <th>complex</th>\n",
       "      <th>extent</th>\n",
       "      <th>...</th>\n",
       "      <th>pathways</th>\n",
       "      <th>prevents</th>\n",
       "      <th>process</th>\n",
       "      <th>protein</th>\n",
       "      <th>rate</th>\n",
       "      <th>reaction</th>\n",
       "      <th>reactions</th>\n",
       "      <th>reduces</th>\n",
       "      <th>resulting</th>\n",
       "      <th>stops</th>\n",
       "    </tr>\n",
       "  </thead>\n",
       "  <tbody>\n",
       "    <tr>\n",
       "      <th>0</th>\n",
       "      <td>0</td>\n",
       "      <td>0</td>\n",
       "      <td>0</td>\n",
       "      <td>0</td>\n",
       "      <td>0</td>\n",
       "      <td>0</td>\n",
       "      <td>1</td>\n",
       "      <td>0</td>\n",
       "      <td>0</td>\n",
       "      <td>0</td>\n",
       "      <td>...</td>\n",
       "      <td>0</td>\n",
       "      <td>0</td>\n",
       "      <td>0</td>\n",
       "      <td>0</td>\n",
       "      <td>0</td>\n",
       "      <td>0</td>\n",
       "      <td>0</td>\n",
       "      <td>0</td>\n",
       "      <td>0</td>\n",
       "      <td>0</td>\n",
       "    </tr>\n",
       "    <tr>\n",
       "      <th>1</th>\n",
       "      <td>0</td>\n",
       "      <td>0</td>\n",
       "      <td>0</td>\n",
       "      <td>0</td>\n",
       "      <td>0</td>\n",
       "      <td>0</td>\n",
       "      <td>0</td>\n",
       "      <td>0</td>\n",
       "      <td>0</td>\n",
       "      <td>0</td>\n",
       "      <td>...</td>\n",
       "      <td>0</td>\n",
       "      <td>0</td>\n",
       "      <td>0</td>\n",
       "      <td>0</td>\n",
       "      <td>0</td>\n",
       "      <td>0</td>\n",
       "      <td>0</td>\n",
       "      <td>0</td>\n",
       "      <td>0</td>\n",
       "      <td>0</td>\n",
       "    </tr>\n",
       "    <tr>\n",
       "      <th>2</th>\n",
       "      <td>0</td>\n",
       "      <td>0</td>\n",
       "      <td>0</td>\n",
       "      <td>0</td>\n",
       "      <td>0</td>\n",
       "      <td>0</td>\n",
       "      <td>0</td>\n",
       "      <td>0</td>\n",
       "      <td>0</td>\n",
       "      <td>0</td>\n",
       "      <td>...</td>\n",
       "      <td>0</td>\n",
       "      <td>0</td>\n",
       "      <td>0</td>\n",
       "      <td>0</td>\n",
       "      <td>0</td>\n",
       "      <td>0</td>\n",
       "      <td>0</td>\n",
       "      <td>0</td>\n",
       "      <td>0</td>\n",
       "      <td>0</td>\n",
       "    </tr>\n",
       "  </tbody>\n",
       "</table>\n",
       "<p>3 rows × 27 columns</p>\n",
       "</div>"
      ],
      "text/plain": [
       "   acid  activates  activity  binding  catalysis  cell  cells  chemical  \\\n",
       "0     0          0         0        0          0     0      1         0   \n",
       "1     0          0         0        0          0     0      0         0   \n",
       "2     0          0         0        0          0     0      0         0   \n",
       "\n",
       "   complex  extent  ...  pathways  prevents  process  protein  rate  reaction  \\\n",
       "0        0       0  ...         0         0        0        0     0         0   \n",
       "1        0       0  ...         0         0        0        0     0         0   \n",
       "2        0       0  ...         0         0        0        0     0         0   \n",
       "\n",
       "   reactions  reduces  resulting  stops  \n",
       "0          0        0          0      0  \n",
       "1          0        0          0      0  \n",
       "2          0        0          0      0  \n",
       "\n",
       "[3 rows x 27 columns]"
      ]
     },
     "execution_count": 23,
     "metadata": {},
     "output_type": "execute_result"
    }
   ],
   "source": [
    "X5_df.head(3)"
   ]
  },
  {
   "cell_type": "markdown",
   "metadata": {},
   "source": [
    "Label dataframe"
   ]
  },
  {
   "cell_type": "code",
   "execution_count": 24,
   "metadata": {},
   "outputs": [],
   "source": [
    "y = df['namespace']"
   ]
  },
  {
   "cell_type": "markdown",
   "metadata": {},
   "source": [
    "### 4. Normalising both datasets\n"
   ]
  },
  {
   "cell_type": "code",
   "execution_count": 25,
   "metadata": {},
   "outputs": [],
   "source": [
    "scaler = StandardScaler()"
   ]
  },
  {
   "cell_type": "markdown",
   "metadata": {},
   "source": [
    "#### a. Dataset that excludes words that do not appear in 1% of definitions"
   ]
  },
  {
   "cell_type": "code",
   "execution_count": 26,
   "metadata": {},
   "outputs": [],
   "source": [
    "dense_X1 = X1.toarray()\n",
    "X1_normalized = scaler.fit_transform(dense_X1)\n",
    "X1_normalized = pd.DataFrame(X1_normalized, columns=vectorizer1.get_feature_names_out())"
   ]
  },
  {
   "cell_type": "code",
   "execution_count": 27,
   "metadata": {},
   "outputs": [
    {
     "data": {
      "text/html": [
       "<div>\n",
       "<style scoped>\n",
       "    .dataframe tbody tr th:only-of-type {\n",
       "        vertical-align: middle;\n",
       "    }\n",
       "\n",
       "    .dataframe tbody tr th {\n",
       "        vertical-align: top;\n",
       "    }\n",
       "\n",
       "    .dataframe thead th {\n",
       "        text-align: right;\n",
       "    }\n",
       "</style>\n",
       "<table border=\"1\" class=\"dataframe\">\n",
       "  <thead>\n",
       "    <tr style=\"text-align: right;\">\n",
       "      <th></th>\n",
       "      <th>acetyl</th>\n",
       "      <th>acid</th>\n",
       "      <th>acids</th>\n",
       "      <th>activates</th>\n",
       "      <th>activation</th>\n",
       "      <th>activity</th>\n",
       "      <th>adenosyl</th>\n",
       "      <th>adp</th>\n",
       "      <th>agent</th>\n",
       "      <th>alpha</th>\n",
       "      <th>...</th>\n",
       "      <th>time</th>\n",
       "      <th>tissue</th>\n",
       "      <th>transcription</th>\n",
       "      <th>transfer</th>\n",
       "      <th>transport</th>\n",
       "      <th>transported</th>\n",
       "      <th>transporter</th>\n",
       "      <th>type</th>\n",
       "      <th>udp</th>\n",
       "      <th>vesicle</th>\n",
       "    </tr>\n",
       "  </thead>\n",
       "  <tbody>\n",
       "    <tr>\n",
       "      <th>0</th>\n",
       "      <td>-0.100664</td>\n",
       "      <td>-0.214694</td>\n",
       "      <td>-0.09007</td>\n",
       "      <td>-0.26092</td>\n",
       "      <td>-0.102914</td>\n",
       "      <td>-0.285862</td>\n",
       "      <td>-0.098302</td>\n",
       "      <td>-0.116371</td>\n",
       "      <td>-0.110491</td>\n",
       "      <td>-0.143652</td>\n",
       "      <td>...</td>\n",
       "      <td>-0.162311</td>\n",
       "      <td>-0.106314</td>\n",
       "      <td>-0.110159</td>\n",
       "      <td>-0.185535</td>\n",
       "      <td>-0.121534</td>\n",
       "      <td>-0.111373</td>\n",
       "      <td>-0.120197</td>\n",
       "      <td>-0.126945</td>\n",
       "      <td>-0.104698</td>\n",
       "      <td>-0.094248</td>\n",
       "    </tr>\n",
       "    <tr>\n",
       "      <th>1</th>\n",
       "      <td>-0.100664</td>\n",
       "      <td>-0.214694</td>\n",
       "      <td>-0.09007</td>\n",
       "      <td>-0.26092</td>\n",
       "      <td>-0.102914</td>\n",
       "      <td>-0.285862</td>\n",
       "      <td>-0.098302</td>\n",
       "      <td>-0.116371</td>\n",
       "      <td>-0.110491</td>\n",
       "      <td>-0.143652</td>\n",
       "      <td>...</td>\n",
       "      <td>-0.162311</td>\n",
       "      <td>-0.106314</td>\n",
       "      <td>-0.110159</td>\n",
       "      <td>-0.185535</td>\n",
       "      <td>-0.121534</td>\n",
       "      <td>-0.111373</td>\n",
       "      <td>-0.120197</td>\n",
       "      <td>-0.126945</td>\n",
       "      <td>-0.104698</td>\n",
       "      <td>-0.094248</td>\n",
       "    </tr>\n",
       "    <tr>\n",
       "      <th>2</th>\n",
       "      <td>-0.100664</td>\n",
       "      <td>-0.214694</td>\n",
       "      <td>-0.09007</td>\n",
       "      <td>-0.26092</td>\n",
       "      <td>-0.102914</td>\n",
       "      <td>-0.285862</td>\n",
       "      <td>-0.098302</td>\n",
       "      <td>-0.116371</td>\n",
       "      <td>-0.110491</td>\n",
       "      <td>-0.143652</td>\n",
       "      <td>...</td>\n",
       "      <td>-0.162311</td>\n",
       "      <td>-0.106314</td>\n",
       "      <td>-0.110159</td>\n",
       "      <td>5.218277</td>\n",
       "      <td>5.387711</td>\n",
       "      <td>-0.111373</td>\n",
       "      <td>7.983116</td>\n",
       "      <td>-0.126945</td>\n",
       "      <td>-0.104698</td>\n",
       "      <td>-0.094248</td>\n",
       "    </tr>\n",
       "    <tr>\n",
       "      <th>3</th>\n",
       "      <td>-0.100664</td>\n",
       "      <td>-0.214694</td>\n",
       "      <td>-0.09007</td>\n",
       "      <td>-0.26092</td>\n",
       "      <td>-0.102914</td>\n",
       "      <td>-0.285862</td>\n",
       "      <td>-0.098302</td>\n",
       "      <td>-0.116371</td>\n",
       "      <td>-0.110491</td>\n",
       "      <td>-0.143652</td>\n",
       "      <td>...</td>\n",
       "      <td>-0.162311</td>\n",
       "      <td>-0.106314</td>\n",
       "      <td>-0.110159</td>\n",
       "      <td>5.218277</td>\n",
       "      <td>5.387711</td>\n",
       "      <td>-0.111373</td>\n",
       "      <td>7.983116</td>\n",
       "      <td>-0.126945</td>\n",
       "      <td>-0.104698</td>\n",
       "      <td>-0.094248</td>\n",
       "    </tr>\n",
       "    <tr>\n",
       "      <th>4</th>\n",
       "      <td>-0.100664</td>\n",
       "      <td>-0.214694</td>\n",
       "      <td>-0.09007</td>\n",
       "      <td>-0.26092</td>\n",
       "      <td>-0.102914</td>\n",
       "      <td>-0.285862</td>\n",
       "      <td>-0.098302</td>\n",
       "      <td>-0.116371</td>\n",
       "      <td>-0.110491</td>\n",
       "      <td>3.167401</td>\n",
       "      <td>...</td>\n",
       "      <td>-0.162311</td>\n",
       "      <td>-0.106314</td>\n",
       "      <td>-0.110159</td>\n",
       "      <td>5.218277</td>\n",
       "      <td>-0.121534</td>\n",
       "      <td>-0.111373</td>\n",
       "      <td>-0.120197</td>\n",
       "      <td>-0.126945</td>\n",
       "      <td>-0.104698</td>\n",
       "      <td>-0.094248</td>\n",
       "    </tr>\n",
       "  </tbody>\n",
       "</table>\n",
       "<p>5 rows × 165 columns</p>\n",
       "</div>"
      ],
      "text/plain": [
       "     acetyl      acid    acids  activates  activation  activity  adenosyl  \\\n",
       "0 -0.100664 -0.214694 -0.09007   -0.26092   -0.102914 -0.285862 -0.098302   \n",
       "1 -0.100664 -0.214694 -0.09007   -0.26092   -0.102914 -0.285862 -0.098302   \n",
       "2 -0.100664 -0.214694 -0.09007   -0.26092   -0.102914 -0.285862 -0.098302   \n",
       "3 -0.100664 -0.214694 -0.09007   -0.26092   -0.102914 -0.285862 -0.098302   \n",
       "4 -0.100664 -0.214694 -0.09007   -0.26092   -0.102914 -0.285862 -0.098302   \n",
       "\n",
       "        adp     agent     alpha  ...      time    tissue  transcription  \\\n",
       "0 -0.116371 -0.110491 -0.143652  ... -0.162311 -0.106314      -0.110159   \n",
       "1 -0.116371 -0.110491 -0.143652  ... -0.162311 -0.106314      -0.110159   \n",
       "2 -0.116371 -0.110491 -0.143652  ... -0.162311 -0.106314      -0.110159   \n",
       "3 -0.116371 -0.110491 -0.143652  ... -0.162311 -0.106314      -0.110159   \n",
       "4 -0.116371 -0.110491  3.167401  ... -0.162311 -0.106314      -0.110159   \n",
       "\n",
       "   transfer  transport  transported  transporter      type       udp   vesicle  \n",
       "0 -0.185535  -0.121534    -0.111373    -0.120197 -0.126945 -0.104698 -0.094248  \n",
       "1 -0.185535  -0.121534    -0.111373    -0.120197 -0.126945 -0.104698 -0.094248  \n",
       "2  5.218277   5.387711    -0.111373     7.983116 -0.126945 -0.104698 -0.094248  \n",
       "3  5.218277   5.387711    -0.111373     7.983116 -0.126945 -0.104698 -0.094248  \n",
       "4  5.218277  -0.121534    -0.111373    -0.120197 -0.126945 -0.104698 -0.094248  \n",
       "\n",
       "[5 rows x 165 columns]"
      ]
     },
     "execution_count": 27,
     "metadata": {},
     "output_type": "execute_result"
    }
   ],
   "source": [
    "X1_normalized.head()"
   ]
  },
  {
   "cell_type": "markdown",
   "metadata": {},
   "source": [
    "#### b. Dataset that excludes words that do not appear in 5% of definitions"
   ]
  },
  {
   "cell_type": "code",
   "execution_count": 28,
   "metadata": {},
   "outputs": [],
   "source": [
    "dense_X5 = X5.toarray()\n",
    "X5_normalized = scaler.fit_transform(dense_X5)\n",
    "X5_normalized = pd.DataFrame(X5_normalized, columns=vectorizer5.get_feature_names_out())"
   ]
  },
  {
   "cell_type": "code",
   "execution_count": 29,
   "metadata": {},
   "outputs": [
    {
     "data": {
      "text/html": [
       "<div>\n",
       "<style scoped>\n",
       "    .dataframe tbody tr th:only-of-type {\n",
       "        vertical-align: middle;\n",
       "    }\n",
       "\n",
       "    .dataframe tbody tr th {\n",
       "        vertical-align: top;\n",
       "    }\n",
       "\n",
       "    .dataframe thead th {\n",
       "        text-align: right;\n",
       "    }\n",
       "</style>\n",
       "<table border=\"1\" class=\"dataframe\">\n",
       "  <thead>\n",
       "    <tr style=\"text-align: right;\">\n",
       "      <th></th>\n",
       "      <th>acid</th>\n",
       "      <th>activates</th>\n",
       "      <th>activity</th>\n",
       "      <th>binding</th>\n",
       "      <th>catalysis</th>\n",
       "      <th>cell</th>\n",
       "      <th>cells</th>\n",
       "      <th>chemical</th>\n",
       "      <th>complex</th>\n",
       "      <th>extent</th>\n",
       "      <th>...</th>\n",
       "      <th>pathways</th>\n",
       "      <th>prevents</th>\n",
       "      <th>process</th>\n",
       "      <th>protein</th>\n",
       "      <th>rate</th>\n",
       "      <th>reaction</th>\n",
       "      <th>reactions</th>\n",
       "      <th>reduces</th>\n",
       "      <th>resulting</th>\n",
       "      <th>stops</th>\n",
       "    </tr>\n",
       "  </thead>\n",
       "  <tbody>\n",
       "    <tr>\n",
       "      <th>0</th>\n",
       "      <td>-0.214694</td>\n",
       "      <td>-0.26092</td>\n",
       "      <td>-0.285862</td>\n",
       "      <td>-0.25055</td>\n",
       "      <td>-0.463185</td>\n",
       "      <td>-0.424066</td>\n",
       "      <td>2.595929</td>\n",
       "      <td>-0.348916</td>\n",
       "      <td>-0.242521</td>\n",
       "      <td>-0.522805</td>\n",
       "      <td>...</td>\n",
       "      <td>-0.345781</td>\n",
       "      <td>-0.263808</td>\n",
       "      <td>-0.777484</td>\n",
       "      <td>-0.295469</td>\n",
       "      <td>-0.529708</td>\n",
       "      <td>-0.436470</td>\n",
       "      <td>-0.348313</td>\n",
       "      <td>-0.26891</td>\n",
       "      <td>-0.300775</td>\n",
       "      <td>-0.2635</td>\n",
       "    </tr>\n",
       "    <tr>\n",
       "      <th>1</th>\n",
       "      <td>-0.214694</td>\n",
       "      <td>-0.26092</td>\n",
       "      <td>-0.285862</td>\n",
       "      <td>-0.25055</td>\n",
       "      <td>-0.463185</td>\n",
       "      <td>-0.424066</td>\n",
       "      <td>-0.218105</td>\n",
       "      <td>-0.348916</td>\n",
       "      <td>-0.242521</td>\n",
       "      <td>-0.522805</td>\n",
       "      <td>...</td>\n",
       "      <td>-0.345781</td>\n",
       "      <td>-0.263808</td>\n",
       "      <td>-0.777484</td>\n",
       "      <td>-0.295469</td>\n",
       "      <td>-0.529708</td>\n",
       "      <td>-0.436470</td>\n",
       "      <td>-0.348313</td>\n",
       "      <td>-0.26891</td>\n",
       "      <td>-0.300775</td>\n",
       "      <td>-0.2635</td>\n",
       "    </tr>\n",
       "    <tr>\n",
       "      <th>2</th>\n",
       "      <td>-0.214694</td>\n",
       "      <td>-0.26092</td>\n",
       "      <td>-0.285862</td>\n",
       "      <td>-0.25055</td>\n",
       "      <td>-0.463185</td>\n",
       "      <td>-0.424066</td>\n",
       "      <td>-0.218105</td>\n",
       "      <td>-0.348916</td>\n",
       "      <td>-0.242521</td>\n",
       "      <td>-0.522805</td>\n",
       "      <td>...</td>\n",
       "      <td>-0.345781</td>\n",
       "      <td>-0.263808</td>\n",
       "      <td>-0.777484</td>\n",
       "      <td>-0.295469</td>\n",
       "      <td>-0.529708</td>\n",
       "      <td>-0.436470</td>\n",
       "      <td>-0.348313</td>\n",
       "      <td>-0.26891</td>\n",
       "      <td>-0.300775</td>\n",
       "      <td>-0.2635</td>\n",
       "    </tr>\n",
       "    <tr>\n",
       "      <th>3</th>\n",
       "      <td>-0.214694</td>\n",
       "      <td>-0.26092</td>\n",
       "      <td>-0.285862</td>\n",
       "      <td>-0.25055</td>\n",
       "      <td>-0.463185</td>\n",
       "      <td>-0.424066</td>\n",
       "      <td>-0.218105</td>\n",
       "      <td>-0.348916</td>\n",
       "      <td>-0.242521</td>\n",
       "      <td>-0.522805</td>\n",
       "      <td>...</td>\n",
       "      <td>-0.345781</td>\n",
       "      <td>-0.263808</td>\n",
       "      <td>-0.777484</td>\n",
       "      <td>-0.295469</td>\n",
       "      <td>-0.529708</td>\n",
       "      <td>2.114473</td>\n",
       "      <td>-0.348313</td>\n",
       "      <td>-0.26891</td>\n",
       "      <td>-0.300775</td>\n",
       "      <td>-0.2635</td>\n",
       "    </tr>\n",
       "    <tr>\n",
       "      <th>4</th>\n",
       "      <td>-0.214694</td>\n",
       "      <td>-0.26092</td>\n",
       "      <td>-0.285862</td>\n",
       "      <td>-0.25055</td>\n",
       "      <td>2.130738</td>\n",
       "      <td>-0.424066</td>\n",
       "      <td>-0.218105</td>\n",
       "      <td>-0.348916</td>\n",
       "      <td>-0.242521</td>\n",
       "      <td>-0.522805</td>\n",
       "      <td>...</td>\n",
       "      <td>-0.345781</td>\n",
       "      <td>-0.263808</td>\n",
       "      <td>-0.777484</td>\n",
       "      <td>-0.295469</td>\n",
       "      <td>-0.529708</td>\n",
       "      <td>-0.436470</td>\n",
       "      <td>-0.348313</td>\n",
       "      <td>-0.26891</td>\n",
       "      <td>-0.300775</td>\n",
       "      <td>-0.2635</td>\n",
       "    </tr>\n",
       "  </tbody>\n",
       "</table>\n",
       "<p>5 rows × 27 columns</p>\n",
       "</div>"
      ],
      "text/plain": [
       "       acid  activates  activity  binding  catalysis      cell     cells  \\\n",
       "0 -0.214694   -0.26092 -0.285862 -0.25055  -0.463185 -0.424066  2.595929   \n",
       "1 -0.214694   -0.26092 -0.285862 -0.25055  -0.463185 -0.424066 -0.218105   \n",
       "2 -0.214694   -0.26092 -0.285862 -0.25055  -0.463185 -0.424066 -0.218105   \n",
       "3 -0.214694   -0.26092 -0.285862 -0.25055  -0.463185 -0.424066 -0.218105   \n",
       "4 -0.214694   -0.26092 -0.285862 -0.25055   2.130738 -0.424066 -0.218105   \n",
       "\n",
       "   chemical   complex    extent  ...  pathways  prevents   process   protein  \\\n",
       "0 -0.348916 -0.242521 -0.522805  ... -0.345781 -0.263808 -0.777484 -0.295469   \n",
       "1 -0.348916 -0.242521 -0.522805  ... -0.345781 -0.263808 -0.777484 -0.295469   \n",
       "2 -0.348916 -0.242521 -0.522805  ... -0.345781 -0.263808 -0.777484 -0.295469   \n",
       "3 -0.348916 -0.242521 -0.522805  ... -0.345781 -0.263808 -0.777484 -0.295469   \n",
       "4 -0.348916 -0.242521 -0.522805  ... -0.345781 -0.263808 -0.777484 -0.295469   \n",
       "\n",
       "       rate  reaction  reactions  reduces  resulting   stops  \n",
       "0 -0.529708 -0.436470  -0.348313 -0.26891  -0.300775 -0.2635  \n",
       "1 -0.529708 -0.436470  -0.348313 -0.26891  -0.300775 -0.2635  \n",
       "2 -0.529708 -0.436470  -0.348313 -0.26891  -0.300775 -0.2635  \n",
       "3 -0.529708  2.114473  -0.348313 -0.26891  -0.300775 -0.2635  \n",
       "4 -0.529708 -0.436470  -0.348313 -0.26891  -0.300775 -0.2635  \n",
       "\n",
       "[5 rows x 27 columns]"
      ]
     },
     "execution_count": 29,
     "metadata": {},
     "output_type": "execute_result"
    }
   ],
   "source": [
    "X5_normalized.head()"
   ]
  },
  {
   "cell_type": "markdown",
   "metadata": {},
   "source": [
    "## K-Nearest Neighbors"
   ]
  },
  {
   "cell_type": "markdown",
   "metadata": {},
   "source": [
    "### Non-Normalised Dataset"
   ]
  },
  {
   "cell_type": "markdown",
   "metadata": {},
   "source": [
    "### 1. KKN using the dataset that excludes the words that appear in less than 1% of the defintions\n",
    "\n",
    "- The stop words have been removed while transforming the definitions to feature vectors"
   ]
  },
  {
   "cell_type": "code",
   "execution_count": 30,
   "metadata": {},
   "outputs": [],
   "source": [
    "X_train, X_test, y_train, y_test = train_test_split(X1_df, y, test_size=0.2, random_state=42)"
   ]
  },
  {
   "cell_type": "code",
   "execution_count": 31,
   "metadata": {},
   "outputs": [],
   "source": [
    "acc = []\n",
    "for i in range(1,20):\n",
    "    neigh = KNeighborsClassifier(n_neighbors = i).fit(X_train,y_train)\n",
    "    yhat = neigh.predict(X_test)\n",
    "    acc.append(accuracy_score(y_test, yhat))"
   ]
  },
  {
   "cell_type": "code",
   "execution_count": 32,
   "metadata": {},
   "outputs": [
    {
     "name": "stdout",
     "output_type": "stream",
     "text": [
      "Maximum accuracy: 0.954744698495439 at K = 5\n"
     ]
    },
    {
     "data": {
      "image/png": "[encoded data removed]",
      "text/plain": [
       "<Figure size 1000x600 with 1 Axes>"
      ]
     },
     "metadata": {},
     "output_type": "display_data"
    }
   ],
   "source": [
    "plt.figure(figsize=(10, 6))\n",
    "plt.plot(range(1,20), acc, color='darkblue', linestyle='-', marker='o', markerfacecolor='red', markersize=5)\n",
    "plt.title('Accuracy vs. K Value', fontsize=11)\n",
    "plt.xlabel('K', fontsize=12)\n",
    "plt.ylabel('Accuracy', fontsize=12)\n",
    "plt.grid(True, linestyle='--', linewidth=0.5)\n",
    "plt.xticks(fontsize=10)\n",
    "plt.yticks(fontsize=10)\n",
    "print(\"Maximum accuracy:\",max(acc),\"at K =\",acc.index(max(acc))+1)\n",
    "plt.savefig('../images/KNN1.png')\n",
    "plt.show()"
   ]
  },
  {
   "cell_type": "markdown",
   "metadata": {},
   "source": [
    "Max accuracy for K = 5"
   ]
  },
  {
   "cell_type": "code",
   "execution_count": 33,
   "metadata": {},
   "outputs": [],
   "source": [
    "neigh = KNeighborsClassifier(n_neighbors = 5).fit(X_train,y_train)\n",
    "y_pred = neigh.predict(X_test)"
   ]
  },
  {
   "cell_type": "code",
   "execution_count": 40,
   "metadata": {},
   "outputs": [
    {
     "data": {
      "text/plain": [
       "array([[5256,   91,   25],\n",
       "       [ 170,  629,   21],\n",
       "       [  55,   20, 2174]])"
      ]
     },
     "execution_count": 40,
     "metadata": {},
     "output_type": "execute_result"
    }
   ],
   "source": [
    "confusion_matrix(y_test,y_pred)"
   ]
  },
  {
   "cell_type": "code",
   "execution_count": 41,
   "metadata": {},
   "outputs": [
    {
     "data": {
      "text/plain": [
       "0.954744698495439"
      ]
     },
     "execution_count": 41,
     "metadata": {},
     "output_type": "execute_result"
    }
   ],
   "source": [
    "accuracy_score(y_test, y_pred)"
   ]
  },
  {
   "cell_type": "markdown",
   "metadata": {},
   "source": [
    "### 2. KKN using the dataset that excludes the words that appear in less than 5% of the defintions\n"
   ]
  },
  {
   "cell_type": "code",
   "execution_count": 42,
   "metadata": {},
   "outputs": [],
   "source": [
    "X_train, X_test, y_train, y_test = train_test_split(X5_df, y, test_size=0.2, random_state=42)"
   ]
  },
  {
   "cell_type": "code",
   "execution_count": 43,
   "metadata": {},
   "outputs": [],
   "source": [
    "acc = []\n",
    "for i in range(1,20):\n",
    "    neigh = KNeighborsClassifier(n_neighbors = i).fit(X_train,y_train)\n",
    "    yhat = neigh.predict(X_test)\n",
    "    acc.append(accuracy_score(y_test, yhat))"
   ]
  },
  {
   "cell_type": "code",
   "execution_count": 44,
   "metadata": {},
   "outputs": [
    {
     "name": "stdout",
     "output_type": "stream",
     "text": [
      "Maximum accuracy: 0.9261935789598389 at K = 6\n"
     ]
    },
    {
     "data": {
      "image/png": "[encoded data removed]",
      "text/plain": [
       "<Figure size 1000x600 with 1 Axes>"
      ]
     },
     "metadata": {},
     "output_type": "display_data"
    }
   ],
   "source": [
    "plt.figure(figsize=(10, 6))\n",
    "plt.plot(range(1,20), acc, color='darkblue', linestyle='-', marker='o', markerfacecolor='red', markersize=5)\n",
    "plt.title('Accuracy vs. K Value', fontsize=11)\n",
    "plt.xlabel('K', fontsize=12)\n",
    "plt.ylabel('Accuracy', fontsize=12)\n",
    "plt.grid(True, linestyle='--', linewidth=0.5)\n",
    "plt.xticks(fontsize=10)\n",
    "plt.yticks(fontsize=10)\n",
    "print(\"Maximum accuracy:\",max(acc),\"at K =\",acc.index(max(acc))+1)\n",
    "#plt.savefig('KNN2')\n",
    "plt.show()"
   ]
  },
  {
   "cell_type": "markdown",
   "metadata": {},
   "source": [
    "Max accuracy for K = 6"
   ]
  },
  {
   "cell_type": "code",
   "execution_count": 45,
   "metadata": {},
   "outputs": [],
   "source": [
    "neigh = KNeighborsClassifier(n_neighbors = 6).fit(X_train,y_train)\n",
    "y_pred = neigh.predict(X_test)"
   ]
  },
  {
   "cell_type": "code",
   "execution_count": 46,
   "metadata": {},
   "outputs": [
    {
     "data": {
      "text/plain": [
       "0.9261935789598389"
      ]
     },
     "execution_count": 46,
     "metadata": {},
     "output_type": "execute_result"
    }
   ],
   "source": [
    "accuracy_score(y_test, y_pred)"
   ]
  },
  {
   "cell_type": "code",
   "execution_count": 47,
   "metadata": {},
   "outputs": [
    {
     "data": {
      "text/plain": [
       "array([[5262,   75,   35],\n",
       "       [ 307,  497,   16],\n",
       "       [  80,  110, 2059]])"
      ]
     },
     "execution_count": 47,
     "metadata": {},
     "output_type": "execute_result"
    }
   ],
   "source": [
    "confusion_matrix(y_test,y_pred)"
   ]
  },
  {
   "cell_type": "markdown",
   "metadata": {},
   "source": [
    "### Normalized data"
   ]
  },
  {
   "cell_type": "markdown",
   "metadata": {},
   "source": [
    "### 1. KKN using the dataset that excludes the words that do not appear in 1% of the defintions\n"
   ]
  },
  {
   "cell_type": "code",
   "execution_count": 48,
   "metadata": {},
   "outputs": [],
   "source": [
    "X_train, X_test, y_train, y_test = train_test_split(X1_normalized, y, test_size=0.2, random_state=42)"
   ]
  },
  {
   "cell_type": "code",
   "execution_count": 49,
   "metadata": {},
   "outputs": [],
   "source": [
    "acc = []\n",
    "for i in range(1,20):\n",
    "    neigh = KNeighborsClassifier(n_neighbors = i).fit(X_train,y_train)\n",
    "    yhat = neigh.predict(X_test)\n",
    "    acc.append(accuracy_score(y_test, yhat))"
   ]
  },
  {
   "cell_type": "code",
   "execution_count": 50,
   "metadata": {},
   "outputs": [
    {
     "name": "stdout",
     "output_type": "stream",
     "text": [
      "Maximum accuracy: 0.9436085771827982 at K = 1\n"
     ]
    },
    {
     "data": {
      "image/png": "[encoded data removed]",
      "text/plain": [
       "<Figure size 1000x600 with 1 Axes>"
      ]
     },
     "metadata": {},
     "output_type": "display_data"
    }
   ],
   "source": [
    "plt.figure(figsize=(10, 6))\n",
    "plt.plot(range(1,20), acc, color='darkblue', linestyle='-', marker='o', markerfacecolor='red', markersize=5)\n",
    "plt.title('Accuracy vs. K Value', fontsize=11)\n",
    "plt.xlabel('K', fontsize=12)\n",
    "plt.ylabel('Accuracy', fontsize=12)\n",
    "plt.grid(True, linestyle='--', linewidth=0.5)\n",
    "plt.xticks(fontsize=10)\n",
    "plt.yticks(fontsize=10)\n",
    "print(\"Maximum accuracy:\",max(acc),\"at K =\",acc.index(max(acc))+1)\n",
    "#plt.savefig('KNN3')\n",
    "plt.show()"
   ]
  },
  {
   "cell_type": "markdown",
   "metadata": {},
   "source": [
    "Max accuracy for K = 1"
   ]
  },
  {
   "cell_type": "code",
   "execution_count": 51,
   "metadata": {},
   "outputs": [],
   "source": [
    "neigh = KNeighborsClassifier(n_neighbors = 1).fit(X_train,y_train)\n",
    "y_pred = neigh.predict(X_test)"
   ]
  },
  {
   "cell_type": "code",
   "execution_count": 52,
   "metadata": {},
   "outputs": [
    {
     "data": {
      "text/plain": [
       "0.9436085771827982"
      ]
     },
     "execution_count": 52,
     "metadata": {},
     "output_type": "execute_result"
    }
   ],
   "source": [
    "accuracy_score(y_test,y_pred)"
   ]
  },
  {
   "cell_type": "code",
   "execution_count": 53,
   "metadata": {},
   "outputs": [
    {
     "data": {
      "text/plain": [
       "array([[5199,  113,   60],\n",
       "       [ 168,  616,   36],\n",
       "       [  68,   31, 2150]])"
      ]
     },
     "execution_count": 53,
     "metadata": {},
     "output_type": "execute_result"
    }
   ],
   "source": [
    "confusion_matrix(y_test,y_pred)"
   ]
  },
  {
   "cell_type": "markdown",
   "metadata": {},
   "source": [
    "### 2. KKN using the dataset that excludes the words that do not appear in 5% of the defintions\n"
   ]
  },
  {
   "cell_type": "code",
   "execution_count": 54,
   "metadata": {},
   "outputs": [],
   "source": [
    "X_train, X_test, y_train, y_test = train_test_split(X5_normalized, y, test_size=0.2, random_state=42)"
   ]
  },
  {
   "cell_type": "code",
   "execution_count": 55,
   "metadata": {},
   "outputs": [],
   "source": [
    "acc = []\n",
    "for i in range(1,20):\n",
    "    neigh = KNeighborsClassifier(n_neighbors = i).fit(X_train,y_train)\n",
    "    yhat = neigh.predict(X_test)\n",
    "    acc.append(accuracy_score(y_test, yhat))"
   ]
  },
  {
   "cell_type": "code",
   "execution_count": 56,
   "metadata": {},
   "outputs": [
    {
     "name": "stdout",
     "output_type": "stream",
     "text": [
      "Maximum accuracy: 0.9245350077005094 at K = 16\n"
     ]
    },
    {
     "data": {
      "image/png": "[encoded data removed]",
      "text/plain": [
       "<Figure size 1000x600 with 1 Axes>"
      ]
     },
     "metadata": {},
     "output_type": "display_data"
    }
   ],
   "source": [
    "plt.figure(figsize=(10, 6))\n",
    "plt.plot(range(1,20), acc, color='darkblue', linestyle='-', marker='o', markerfacecolor='red', markersize=5)\n",
    "plt.title('Accuracy vs. K Value', fontsize=11)\n",
    "plt.xlabel('K', fontsize=12)\n",
    "plt.ylabel('Accuracy', fontsize=12)\n",
    "plt.grid(True, linestyle='--', linewidth=0.5)\n",
    "plt.xticks(fontsize=10)\n",
    "plt.yticks(fontsize=10)\n",
    "print(\"Maximum accuracy:\",max(acc),\"at K =\",acc.index(max(acc))+1)\n",
    "#plt.savefig('KNN4')\n",
    "plt.show()"
   ]
  },
  {
   "cell_type": "markdown",
   "metadata": {},
   "source": [
    "Max accuracy for K = 16"
   ]
  },
  {
   "cell_type": "code",
   "execution_count": 57,
   "metadata": {},
   "outputs": [],
   "source": [
    "neigh = KNeighborsClassifier(n_neighbors = 16).fit(X_train,y_train)\n",
    "y_pred = neigh.predict(X_test)"
   ]
  },
  {
   "cell_type": "code",
   "execution_count": 58,
   "metadata": {},
   "outputs": [
    {
     "data": {
      "text/plain": [
       "0.9245350077005094"
      ]
     },
     "execution_count": 58,
     "metadata": {},
     "output_type": "execute_result"
    }
   ],
   "source": [
    "accuracy_score(y_test,y_pred)"
   ]
  },
  {
   "cell_type": "code",
   "execution_count": 59,
   "metadata": {},
   "outputs": [
    {
     "name": "stdout",
     "output_type": "stream",
     "text": [
      "[[5234   73   65]\n",
      " [ 298  439   83]\n",
      " [  88   30 2131]]\n"
     ]
    }
   ],
   "source": [
    "print(confusion_matrix(y_test,y_pred))"
   ]
  },
  {
   "cell_type": "markdown",
   "metadata": {},
   "source": [
    "### KNN Results\n",
    "- max accuracy with KNN ignoring words that appear in less than 1% of definitions: 0.954744698495439 (K = 5)\n",
    "- max accuracy with KNN ignoring words that appear in less than 5% of definitions : 0.9261935789598389 (K = 6)\n",
    "\n",
    "- max accuracy with KNN on Normalized data ignoring words appear in less than 1% of definitions: 0.9436085771827982 (K = 1)\n",
    "- max accuracy with KNN on Normalized data ignoring words appear in less than 5% of definitions: 0.9245350077005094 (K = 16)\n"
   ]
  },
  {
   "cell_type": "markdown",
   "metadata": {},
   "source": [
    "### Downsampling (To be used for GridSearch Optimization)"
   ]
  },
  {
   "cell_type": "markdown",
   "metadata": {},
   "source": [
    "#### a. Dataset that excludes words that do not appear in 1% of definitions"
   ]
  },
  {
   "cell_type": "code",
   "execution_count": 34,
   "metadata": {},
   "outputs": [
    {
     "data": {
      "text/plain": [
       "42203"
      ]
     },
     "execution_count": 34,
     "metadata": {},
     "output_type": "execute_result"
    }
   ],
   "source": [
    "len(X1_df)"
   ]
  },
  {
   "cell_type": "code",
   "execution_count": 35,
   "metadata": {},
   "outputs": [
    {
     "data": {
      "text/html": [
       "<div>\n",
       "<style scoped>\n",
       "    .dataframe tbody tr th:only-of-type {\n",
       "        vertical-align: middle;\n",
       "    }\n",
       "\n",
       "    .dataframe tbody tr th {\n",
       "        vertical-align: top;\n",
       "    }\n",
       "\n",
       "    .dataframe thead th {\n",
       "        text-align: right;\n",
       "    }\n",
       "</style>\n",
       "<table border=\"1\" class=\"dataframe\">\n",
       "  <thead>\n",
       "    <tr style=\"text-align: right;\">\n",
       "      <th></th>\n",
       "      <th>acetyl</th>\n",
       "      <th>acid</th>\n",
       "      <th>acids</th>\n",
       "      <th>activates</th>\n",
       "      <th>activation</th>\n",
       "      <th>activity</th>\n",
       "      <th>adenosyl</th>\n",
       "      <th>adp</th>\n",
       "      <th>agent</th>\n",
       "      <th>alpha</th>\n",
       "      <th>...</th>\n",
       "      <th>time</th>\n",
       "      <th>tissue</th>\n",
       "      <th>transcription</th>\n",
       "      <th>transfer</th>\n",
       "      <th>transport</th>\n",
       "      <th>transported</th>\n",
       "      <th>transporter</th>\n",
       "      <th>type</th>\n",
       "      <th>udp</th>\n",
       "      <th>vesicle</th>\n",
       "    </tr>\n",
       "  </thead>\n",
       "  <tbody>\n",
       "    <tr>\n",
       "      <th>0</th>\n",
       "      <td>0</td>\n",
       "      <td>0</td>\n",
       "      <td>0</td>\n",
       "      <td>0</td>\n",
       "      <td>0</td>\n",
       "      <td>0</td>\n",
       "      <td>0</td>\n",
       "      <td>0</td>\n",
       "      <td>0</td>\n",
       "      <td>0</td>\n",
       "      <td>...</td>\n",
       "      <td>0</td>\n",
       "      <td>0</td>\n",
       "      <td>0</td>\n",
       "      <td>0</td>\n",
       "      <td>0</td>\n",
       "      <td>0</td>\n",
       "      <td>0</td>\n",
       "      <td>0</td>\n",
       "      <td>0</td>\n",
       "      <td>0</td>\n",
       "    </tr>\n",
       "    <tr>\n",
       "      <th>1</th>\n",
       "      <td>0</td>\n",
       "      <td>0</td>\n",
       "      <td>0</td>\n",
       "      <td>0</td>\n",
       "      <td>0</td>\n",
       "      <td>0</td>\n",
       "      <td>0</td>\n",
       "      <td>0</td>\n",
       "      <td>0</td>\n",
       "      <td>0</td>\n",
       "      <td>...</td>\n",
       "      <td>0</td>\n",
       "      <td>0</td>\n",
       "      <td>0</td>\n",
       "      <td>0</td>\n",
       "      <td>0</td>\n",
       "      <td>0</td>\n",
       "      <td>0</td>\n",
       "      <td>0</td>\n",
       "      <td>0</td>\n",
       "      <td>0</td>\n",
       "    </tr>\n",
       "    <tr>\n",
       "      <th>2</th>\n",
       "      <td>0</td>\n",
       "      <td>0</td>\n",
       "      <td>0</td>\n",
       "      <td>0</td>\n",
       "      <td>0</td>\n",
       "      <td>0</td>\n",
       "      <td>0</td>\n",
       "      <td>0</td>\n",
       "      <td>0</td>\n",
       "      <td>0</td>\n",
       "      <td>...</td>\n",
       "      <td>0</td>\n",
       "      <td>0</td>\n",
       "      <td>0</td>\n",
       "      <td>1</td>\n",
       "      <td>1</td>\n",
       "      <td>0</td>\n",
       "      <td>1</td>\n",
       "      <td>0</td>\n",
       "      <td>0</td>\n",
       "      <td>0</td>\n",
       "    </tr>\n",
       "    <tr>\n",
       "      <th>3</th>\n",
       "      <td>0</td>\n",
       "      <td>0</td>\n",
       "      <td>0</td>\n",
       "      <td>0</td>\n",
       "      <td>0</td>\n",
       "      <td>0</td>\n",
       "      <td>0</td>\n",
       "      <td>0</td>\n",
       "      <td>0</td>\n",
       "      <td>0</td>\n",
       "      <td>...</td>\n",
       "      <td>0</td>\n",
       "      <td>0</td>\n",
       "      <td>0</td>\n",
       "      <td>1</td>\n",
       "      <td>1</td>\n",
       "      <td>0</td>\n",
       "      <td>1</td>\n",
       "      <td>0</td>\n",
       "      <td>0</td>\n",
       "      <td>0</td>\n",
       "    </tr>\n",
       "    <tr>\n",
       "      <th>4</th>\n",
       "      <td>0</td>\n",
       "      <td>0</td>\n",
       "      <td>0</td>\n",
       "      <td>0</td>\n",
       "      <td>0</td>\n",
       "      <td>0</td>\n",
       "      <td>0</td>\n",
       "      <td>0</td>\n",
       "      <td>0</td>\n",
       "      <td>1</td>\n",
       "      <td>...</td>\n",
       "      <td>0</td>\n",
       "      <td>0</td>\n",
       "      <td>0</td>\n",
       "      <td>1</td>\n",
       "      <td>0</td>\n",
       "      <td>0</td>\n",
       "      <td>0</td>\n",
       "      <td>0</td>\n",
       "      <td>0</td>\n",
       "      <td>0</td>\n",
       "    </tr>\n",
       "  </tbody>\n",
       "</table>\n",
       "<p>5 rows × 165 columns</p>\n",
       "</div>"
      ],
      "text/plain": [
       "   acetyl  acid  acids  activates  activation  activity  adenosyl  adp  agent  \\\n",
       "0       0     0      0          0           0         0         0    0      0   \n",
       "1       0     0      0          0           0         0         0    0      0   \n",
       "2       0     0      0          0           0         0         0    0      0   \n",
       "3       0     0      0          0           0         0         0    0      0   \n",
       "4       0     0      0          0           0         0         0    0      0   \n",
       "\n",
       "   alpha  ...  time  tissue  transcription  transfer  transport  transported  \\\n",
       "0      0  ...     0       0              0         0          0            0   \n",
       "1      0  ...     0       0              0         0          0            0   \n",
       "2      0  ...     0       0              0         1          1            0   \n",
       "3      0  ...     0       0              0         1          1            0   \n",
       "4      1  ...     0       0              0         1          0            0   \n",
       "\n",
       "   transporter  type  udp  vesicle  \n",
       "0            0     0    0        0  \n",
       "1            0     0    0        0  \n",
       "2            1     0    0        0  \n",
       "3            1     0    0        0  \n",
       "4            0     0    0        0  \n",
       "\n",
       "[5 rows x 165 columns]"
      ]
     },
     "execution_count": 35,
     "metadata": {},
     "output_type": "execute_result"
    }
   ],
   "source": [
    "X1_df.head()"
   ]
  },
  {
   "cell_type": "code",
   "execution_count": 36,
   "metadata": {},
   "outputs": [],
   "source": [
    "X1_df_dup = X1_df.copy()\n",
    "X1_df_dup['namespace'] = df['namespace']"
   ]
  },
  {
   "cell_type": "code",
   "execution_count": 37,
   "metadata": {},
   "outputs": [
    {
     "data": {
      "text/plain": [
       "namespace\n",
       "biological_process    22624\n",
       "molecular_function    10891\n",
       "cellular_component     3633\n",
       "Name: count, dtype: int64"
      ]
     },
     "execution_count": 37,
     "metadata": {},
     "output_type": "execute_result"
    }
   ],
   "source": [
    "X1_df_dup['namespace'].value_counts()"
   ]
  },
  {
   "cell_type": "code",
   "execution_count": 38,
   "metadata": {},
   "outputs": [],
   "source": [
    "X1_biological_process_df = X1_df_dup[X1_df_dup['namespace'] == 'biological_process']\n",
    "X1_molecular_function_df = X1_df_dup[X1_df_dup['namespace'] == 'molecular_function']\n",
    "X1_cellular_component_df = X1_df_dup[X1_df_dup['namespace'] == 'cellular_component']"
   ]
  },
  {
   "cell_type": "code",
   "execution_count": 39,
   "metadata": {},
   "outputs": [
    {
     "data": {
      "text/plain": [
       "2500"
      ]
     },
     "execution_count": 39,
     "metadata": {},
     "output_type": "execute_result"
    }
   ],
   "source": [
    "X1_biological_process_downsampled = resample(X1_biological_process_df, replace = False, n_samples = 2500, random_state=42)\n",
    "len(X1_biological_process_downsampled)"
   ]
  },
  {
   "cell_type": "code",
   "execution_count": 40,
   "metadata": {},
   "outputs": [
    {
     "data": {
      "text/plain": [
       "2500"
      ]
     },
     "execution_count": 40,
     "metadata": {},
     "output_type": "execute_result"
    }
   ],
   "source": [
    "X1_molecular_function_downsampled = resample(X1_molecular_function_df, replace = False, n_samples = 2500, random_state=42)\n",
    "len(X1_molecular_function_downsampled)"
   ]
  },
  {
   "cell_type": "code",
   "execution_count": 41,
   "metadata": {},
   "outputs": [
    {
     "data": {
      "text/plain": [
       "2500"
      ]
     },
     "execution_count": 41,
     "metadata": {},
     "output_type": "execute_result"
    }
   ],
   "source": [
    "X1_cellular_component_downsampled = resample(X1_cellular_component_df, replace = False, n_samples = 2500, random_state=42)\n",
    "len(X1_cellular_component_downsampled)"
   ]
  },
  {
   "cell_type": "code",
   "execution_count": 42,
   "metadata": {},
   "outputs": [
    {
     "data": {
      "text/plain": [
       "7500"
      ]
     },
     "execution_count": 42,
     "metadata": {},
     "output_type": "execute_result"
    }
   ],
   "source": [
    "X1_df_downsampled = pd.concat([X1_biological_process_downsampled,X1_molecular_function_downsampled,X1_cellular_component_downsampled])\n",
    "len(X1_df_downsampled)"
   ]
  },
  {
   "cell_type": "markdown",
   "metadata": {},
   "source": [
    "##### Downsampled Labels for dataset exlcuding words from 1% definitions"
   ]
  },
  {
   "cell_type": "code",
   "execution_count": 43,
   "metadata": {},
   "outputs": [],
   "source": [
    "X1_downsampled_y = X1_df_downsampled['namespace']"
   ]
  },
  {
   "cell_type": "markdown",
   "metadata": {},
   "source": [
    "##### Downsampled features for dataset exlcuding words from 1% definitions"
   ]
  },
  {
   "cell_type": "code",
   "execution_count": 44,
   "metadata": {},
   "outputs": [],
   "source": [
    "X1_df_downsampled = X1_df_downsampled.drop('namespace', axis = 1)"
   ]
  },
  {
   "cell_type": "markdown",
   "metadata": {},
   "source": [
    "#### b. Dataset that excludes words that do not appear in 5% of definitions\n",
    "\n",
    "This gives 27 columns\n"
   ]
  },
  {
   "cell_type": "code",
   "execution_count": 45,
   "metadata": {},
   "outputs": [],
   "source": [
    "X5_df_dup = X5_df.copy()\n",
    "X5_df_dup['namespace'] = df['namespace']"
   ]
  },
  {
   "cell_type": "code",
   "execution_count": 46,
   "metadata": {},
   "outputs": [
    {
     "data": {
      "text/plain": [
       "namespace\n",
       "biological_process    22624\n",
       "molecular_function    10891\n",
       "cellular_component     3633\n",
       "Name: count, dtype: int64"
      ]
     },
     "execution_count": 46,
     "metadata": {},
     "output_type": "execute_result"
    }
   ],
   "source": [
    "X5_df_dup['namespace'].value_counts()"
   ]
  },
  {
   "cell_type": "code",
   "execution_count": 47,
   "metadata": {},
   "outputs": [],
   "source": [
    "X5_biological_process_df = X5_df_dup[X5_df_dup['namespace'] == 'biological_process']\n",
    "X5_molecular_function_df = X5_df_dup[X5_df_dup['namespace'] == 'molecular_function']\n",
    "X5_cellular_component_df = X5_df_dup[X5_df_dup['namespace'] == 'cellular_component']"
   ]
  },
  {
   "cell_type": "code",
   "execution_count": 48,
   "metadata": {},
   "outputs": [
    {
     "data": {
      "text/plain": [
       "2500"
      ]
     },
     "execution_count": 48,
     "metadata": {},
     "output_type": "execute_result"
    }
   ],
   "source": [
    "X5_biological_process_downsampled = resample(X5_biological_process_df, replace = False, n_samples = 2500, random_state=42)\n",
    "len(X5_biological_process_downsampled)"
   ]
  },
  {
   "cell_type": "code",
   "execution_count": 49,
   "metadata": {},
   "outputs": [
    {
     "data": {
      "text/plain": [
       "2500"
      ]
     },
     "execution_count": 49,
     "metadata": {},
     "output_type": "execute_result"
    }
   ],
   "source": [
    "X5_molecular_function_downsampled = resample(X5_molecular_function_df, replace = False, n_samples = 2500, random_state=42)\n",
    "len(X5_molecular_function_downsampled)"
   ]
  },
  {
   "cell_type": "code",
   "execution_count": 50,
   "metadata": {},
   "outputs": [
    {
     "data": {
      "text/plain": [
       "2500"
      ]
     },
     "execution_count": 50,
     "metadata": {},
     "output_type": "execute_result"
    }
   ],
   "source": [
    "X5_cellular_component_downsampled = resample(X5_cellular_component_df, replace = False, n_samples = 2500, random_state=42)\n",
    "len(X5_cellular_component_downsampled)"
   ]
  },
  {
   "cell_type": "code",
   "execution_count": 51,
   "metadata": {},
   "outputs": [
    {
     "data": {
      "text/plain": [
       "7500"
      ]
     },
     "execution_count": 51,
     "metadata": {},
     "output_type": "execute_result"
    }
   ],
   "source": [
    "X5_df_downsampled = pd.concat([X5_biological_process_downsampled,X5_molecular_function_downsampled,X5_cellular_component_downsampled])\n",
    "len(X5_df_downsampled)"
   ]
  },
  {
   "cell_type": "markdown",
   "metadata": {},
   "source": [
    "##### Downsampled Labels for dataset exlcuding words from 5% definitions"
   ]
  },
  {
   "cell_type": "code",
   "execution_count": 52,
   "metadata": {},
   "outputs": [],
   "source": [
    "X5_downsampled_y = X5_df_downsampled['namespace']"
   ]
  },
  {
   "cell_type": "markdown",
   "metadata": {},
   "source": [
    "##### Downsampled features for dataset exlcuding words from 5% definitions"
   ]
  },
  {
   "cell_type": "code",
   "execution_count": 53,
   "metadata": {},
   "outputs": [],
   "source": [
    "X5_df_downsampled = X5_df_downsampled.drop('namespace', axis = 1)"
   ]
  },
  {
   "cell_type": "markdown",
   "metadata": {},
   "source": [
    "#### Normalised Downsampled Data"
   ]
  },
  {
   "cell_type": "code",
   "execution_count": 54,
   "metadata": {},
   "outputs": [],
   "source": [
    "scaler = StandardScaler()"
   ]
  },
  {
   "cell_type": "markdown",
   "metadata": {},
   "source": [
    "1. Ignoring words that do not appear in 1% of definitions"
   ]
  },
  {
   "cell_type": "code",
   "execution_count": 55,
   "metadata": {},
   "outputs": [],
   "source": [
    "X1_normalized_downsampled = scaler.fit_transform(X1_df_downsampled)\n",
    "X1_normalized_downsampled = pd.DataFrame(X1_normalized_downsampled, columns = X1_df_downsampled.columns)"
   ]
  },
  {
   "cell_type": "code",
   "execution_count": 56,
   "metadata": {},
   "outputs": [
    {
     "data": {
      "text/html": [
       "<div>\n",
       "<style scoped>\n",
       "    .dataframe tbody tr th:only-of-type {\n",
       "        vertical-align: middle;\n",
       "    }\n",
       "\n",
       "    .dataframe tbody tr th {\n",
       "        vertical-align: top;\n",
       "    }\n",
       "\n",
       "    .dataframe thead th {\n",
       "        text-align: right;\n",
       "    }\n",
       "</style>\n",
       "<table border=\"1\" class=\"dataframe\">\n",
       "  <thead>\n",
       "    <tr style=\"text-align: right;\">\n",
       "      <th></th>\n",
       "      <th>acetyl</th>\n",
       "      <th>acid</th>\n",
       "      <th>acids</th>\n",
       "      <th>activates</th>\n",
       "      <th>activation</th>\n",
       "      <th>activity</th>\n",
       "      <th>adenosyl</th>\n",
       "      <th>adp</th>\n",
       "      <th>agent</th>\n",
       "      <th>alpha</th>\n",
       "      <th>...</th>\n",
       "      <th>time</th>\n",
       "      <th>tissue</th>\n",
       "      <th>transcription</th>\n",
       "      <th>transfer</th>\n",
       "      <th>transport</th>\n",
       "      <th>transported</th>\n",
       "      <th>transporter</th>\n",
       "      <th>type</th>\n",
       "      <th>udp</th>\n",
       "      <th>vesicle</th>\n",
       "    </tr>\n",
       "  </thead>\n",
       "  <tbody>\n",
       "    <tr>\n",
       "      <th>0</th>\n",
       "      <td>-0.095864</td>\n",
       "      <td>-0.23326</td>\n",
       "      <td>-0.084827</td>\n",
       "      <td>-0.264677</td>\n",
       "      <td>-0.094073</td>\n",
       "      <td>-0.288427</td>\n",
       "      <td>-0.097106</td>\n",
       "      <td>-0.116154</td>\n",
       "      <td>-0.107067</td>\n",
       "      <td>-0.144835</td>\n",
       "      <td>...</td>\n",
       "      <td>-0.151382</td>\n",
       "      <td>-0.097454</td>\n",
       "      <td>-0.106911</td>\n",
       "      <td>-0.176897</td>\n",
       "      <td>-0.13192</td>\n",
       "      <td>-0.111466</td>\n",
       "      <td>-0.119907</td>\n",
       "      <td>-0.123254</td>\n",
       "      <td>-0.107511</td>\n",
       "      <td>-0.089467</td>\n",
       "    </tr>\n",
       "    <tr>\n",
       "      <th>1</th>\n",
       "      <td>-0.095864</td>\n",
       "      <td>-0.23326</td>\n",
       "      <td>-0.084827</td>\n",
       "      <td>-0.264677</td>\n",
       "      <td>-0.094073</td>\n",
       "      <td>-0.288427</td>\n",
       "      <td>-0.097106</td>\n",
       "      <td>-0.116154</td>\n",
       "      <td>-0.107067</td>\n",
       "      <td>-0.144835</td>\n",
       "      <td>...</td>\n",
       "      <td>-0.151382</td>\n",
       "      <td>-0.097454</td>\n",
       "      <td>-0.106911</td>\n",
       "      <td>-0.176897</td>\n",
       "      <td>-0.13192</td>\n",
       "      <td>-0.111466</td>\n",
       "      <td>-0.119907</td>\n",
       "      <td>5.129053</td>\n",
       "      <td>-0.107511</td>\n",
       "      <td>-0.089467</td>\n",
       "    </tr>\n",
       "    <tr>\n",
       "      <th>2</th>\n",
       "      <td>-0.095864</td>\n",
       "      <td>-0.23326</td>\n",
       "      <td>-0.084827</td>\n",
       "      <td>-0.264677</td>\n",
       "      <td>9.570916</td>\n",
       "      <td>-0.288427</td>\n",
       "      <td>-0.097106</td>\n",
       "      <td>-0.116154</td>\n",
       "      <td>-0.107067</td>\n",
       "      <td>-0.144835</td>\n",
       "      <td>...</td>\n",
       "      <td>-0.151382</td>\n",
       "      <td>-0.097454</td>\n",
       "      <td>4.582183</td>\n",
       "      <td>-0.176897</td>\n",
       "      <td>-0.13192</td>\n",
       "      <td>-0.111466</td>\n",
       "      <td>-0.119907</td>\n",
       "      <td>-0.123254</td>\n",
       "      <td>-0.107511</td>\n",
       "      <td>-0.089467</td>\n",
       "    </tr>\n",
       "    <tr>\n",
       "      <th>3</th>\n",
       "      <td>-0.095864</td>\n",
       "      <td>-0.23326</td>\n",
       "      <td>-0.084827</td>\n",
       "      <td>-0.264677</td>\n",
       "      <td>-0.094073</td>\n",
       "      <td>-0.288427</td>\n",
       "      <td>-0.097106</td>\n",
       "      <td>-0.116154</td>\n",
       "      <td>-0.107067</td>\n",
       "      <td>-0.144835</td>\n",
       "      <td>...</td>\n",
       "      <td>6.527234</td>\n",
       "      <td>-0.097454</td>\n",
       "      <td>-0.106911</td>\n",
       "      <td>-0.176897</td>\n",
       "      <td>-0.13192</td>\n",
       "      <td>-0.111466</td>\n",
       "      <td>-0.119907</td>\n",
       "      <td>-0.123254</td>\n",
       "      <td>-0.107511</td>\n",
       "      <td>-0.089467</td>\n",
       "    </tr>\n",
       "    <tr>\n",
       "      <th>4</th>\n",
       "      <td>-0.095864</td>\n",
       "      <td>-0.23326</td>\n",
       "      <td>-0.084827</td>\n",
       "      <td>-0.264677</td>\n",
       "      <td>-0.094073</td>\n",
       "      <td>-0.288427</td>\n",
       "      <td>-0.097106</td>\n",
       "      <td>-0.116154</td>\n",
       "      <td>-0.107067</td>\n",
       "      <td>-0.144835</td>\n",
       "      <td>...</td>\n",
       "      <td>-0.151382</td>\n",
       "      <td>-0.097454</td>\n",
       "      <td>-0.106911</td>\n",
       "      <td>-0.176897</td>\n",
       "      <td>-0.13192</td>\n",
       "      <td>-0.111466</td>\n",
       "      <td>-0.119907</td>\n",
       "      <td>-0.123254</td>\n",
       "      <td>-0.107511</td>\n",
       "      <td>-0.089467</td>\n",
       "    </tr>\n",
       "    <tr>\n",
       "      <th>...</th>\n",
       "      <td>...</td>\n",
       "      <td>...</td>\n",
       "      <td>...</td>\n",
       "      <td>...</td>\n",
       "      <td>...</td>\n",
       "      <td>...</td>\n",
       "      <td>...</td>\n",
       "      <td>...</td>\n",
       "      <td>...</td>\n",
       "      <td>...</td>\n",
       "      <td>...</td>\n",
       "      <td>...</td>\n",
       "      <td>...</td>\n",
       "      <td>...</td>\n",
       "      <td>...</td>\n",
       "      <td>...</td>\n",
       "      <td>...</td>\n",
       "      <td>...</td>\n",
       "      <td>...</td>\n",
       "      <td>...</td>\n",
       "      <td>...</td>\n",
       "    </tr>\n",
       "    <tr>\n",
       "      <th>7495</th>\n",
       "      <td>-0.095864</td>\n",
       "      <td>-0.23326</td>\n",
       "      <td>-0.084827</td>\n",
       "      <td>-0.264677</td>\n",
       "      <td>-0.094073</td>\n",
       "      <td>-0.288427</td>\n",
       "      <td>-0.097106</td>\n",
       "      <td>-0.116154</td>\n",
       "      <td>-0.107067</td>\n",
       "      <td>-0.144835</td>\n",
       "      <td>...</td>\n",
       "      <td>-0.151382</td>\n",
       "      <td>-0.097454</td>\n",
       "      <td>-0.106911</td>\n",
       "      <td>-0.176897</td>\n",
       "      <td>-0.13192</td>\n",
       "      <td>-0.111466</td>\n",
       "      <td>-0.119907</td>\n",
       "      <td>-0.123254</td>\n",
       "      <td>-0.107511</td>\n",
       "      <td>-0.089467</td>\n",
       "    </tr>\n",
       "    <tr>\n",
       "      <th>7496</th>\n",
       "      <td>-0.095864</td>\n",
       "      <td>-0.23326</td>\n",
       "      <td>-0.084827</td>\n",
       "      <td>-0.264677</td>\n",
       "      <td>-0.094073</td>\n",
       "      <td>-0.288427</td>\n",
       "      <td>-0.097106</td>\n",
       "      <td>-0.116154</td>\n",
       "      <td>-0.107067</td>\n",
       "      <td>-0.144835</td>\n",
       "      <td>...</td>\n",
       "      <td>-0.151382</td>\n",
       "      <td>-0.097454</td>\n",
       "      <td>-0.106911</td>\n",
       "      <td>-0.176897</td>\n",
       "      <td>-0.13192</td>\n",
       "      <td>-0.111466</td>\n",
       "      <td>-0.119907</td>\n",
       "      <td>-0.123254</td>\n",
       "      <td>-0.107511</td>\n",
       "      <td>-0.089467</td>\n",
       "    </tr>\n",
       "    <tr>\n",
       "      <th>7497</th>\n",
       "      <td>-0.095864</td>\n",
       "      <td>-0.23326</td>\n",
       "      <td>-0.084827</td>\n",
       "      <td>-0.264677</td>\n",
       "      <td>-0.094073</td>\n",
       "      <td>-0.288427</td>\n",
       "      <td>-0.097106</td>\n",
       "      <td>-0.116154</td>\n",
       "      <td>-0.107067</td>\n",
       "      <td>-0.144835</td>\n",
       "      <td>...</td>\n",
       "      <td>-0.151382</td>\n",
       "      <td>-0.097454</td>\n",
       "      <td>-0.106911</td>\n",
       "      <td>-0.176897</td>\n",
       "      <td>-0.13192</td>\n",
       "      <td>-0.111466</td>\n",
       "      <td>-0.119907</td>\n",
       "      <td>-0.123254</td>\n",
       "      <td>10.034992</td>\n",
       "      <td>-0.089467</td>\n",
       "    </tr>\n",
       "    <tr>\n",
       "      <th>7498</th>\n",
       "      <td>-0.095864</td>\n",
       "      <td>-0.23326</td>\n",
       "      <td>-0.084827</td>\n",
       "      <td>-0.264677</td>\n",
       "      <td>-0.094073</td>\n",
       "      <td>-0.288427</td>\n",
       "      <td>-0.097106</td>\n",
       "      <td>-0.116154</td>\n",
       "      <td>-0.107067</td>\n",
       "      <td>-0.144835</td>\n",
       "      <td>...</td>\n",
       "      <td>-0.151382</td>\n",
       "      <td>-0.097454</td>\n",
       "      <td>-0.106911</td>\n",
       "      <td>-0.176897</td>\n",
       "      <td>-0.13192</td>\n",
       "      <td>-0.111466</td>\n",
       "      <td>-0.119907</td>\n",
       "      <td>-0.123254</td>\n",
       "      <td>-0.107511</td>\n",
       "      <td>-0.089467</td>\n",
       "    </tr>\n",
       "    <tr>\n",
       "      <th>7499</th>\n",
       "      <td>-0.095864</td>\n",
       "      <td>-0.23326</td>\n",
       "      <td>-0.084827</td>\n",
       "      <td>-0.264677</td>\n",
       "      <td>-0.094073</td>\n",
       "      <td>-0.288427</td>\n",
       "      <td>-0.097106</td>\n",
       "      <td>-0.116154</td>\n",
       "      <td>-0.107067</td>\n",
       "      <td>-0.144835</td>\n",
       "      <td>...</td>\n",
       "      <td>-0.151382</td>\n",
       "      <td>-0.097454</td>\n",
       "      <td>-0.106911</td>\n",
       "      <td>-0.176897</td>\n",
       "      <td>-0.13192</td>\n",
       "      <td>-0.111466</td>\n",
       "      <td>-0.119907</td>\n",
       "      <td>-0.123254</td>\n",
       "      <td>-0.107511</td>\n",
       "      <td>-0.089467</td>\n",
       "    </tr>\n",
       "  </tbody>\n",
       "</table>\n",
       "<p>7500 rows × 165 columns</p>\n",
       "</div>"
      ],
      "text/plain": [
       "        acetyl     acid     acids  activates  activation  activity  adenosyl  \\\n",
       "0    -0.095864 -0.23326 -0.084827  -0.264677   -0.094073 -0.288427 -0.097106   \n",
       "1    -0.095864 -0.23326 -0.084827  -0.264677   -0.094073 -0.288427 -0.097106   \n",
       "2    -0.095864 -0.23326 -0.084827  -0.264677    9.570916 -0.288427 -0.097106   \n",
       "3    -0.095864 -0.23326 -0.084827  -0.264677   -0.094073 -0.288427 -0.097106   \n",
       "4    -0.095864 -0.23326 -0.084827  -0.264677   -0.094073 -0.288427 -0.097106   \n",
       "...        ...      ...       ...        ...         ...       ...       ...   \n",
       "7495 -0.095864 -0.23326 -0.084827  -0.264677   -0.094073 -0.288427 -0.097106   \n",
       "7496 -0.095864 -0.23326 -0.084827  -0.264677   -0.094073 -0.288427 -0.097106   \n",
       "7497 -0.095864 -0.23326 -0.084827  -0.264677   -0.094073 -0.288427 -0.097106   \n",
       "7498 -0.095864 -0.23326 -0.084827  -0.264677   -0.094073 -0.288427 -0.097106   \n",
       "7499 -0.095864 -0.23326 -0.084827  -0.264677   -0.094073 -0.288427 -0.097106   \n",
       "\n",
       "           adp     agent     alpha  ...      time    tissue  transcription  \\\n",
       "0    -0.116154 -0.107067 -0.144835  ... -0.151382 -0.097454      -0.106911   \n",
       "1    -0.116154 -0.107067 -0.144835  ... -0.151382 -0.097454      -0.106911   \n",
       "2    -0.116154 -0.107067 -0.144835  ... -0.151382 -0.097454       4.582183   \n",
       "3    -0.116154 -0.107067 -0.144835  ...  6.527234 -0.097454      -0.106911   \n",
       "4    -0.116154 -0.107067 -0.144835  ... -0.151382 -0.097454      -0.106911   \n",
       "...        ...       ...       ...  ...       ...       ...            ...   \n",
       "7495 -0.116154 -0.107067 -0.144835  ... -0.151382 -0.097454      -0.106911   \n",
       "7496 -0.116154 -0.107067 -0.144835  ... -0.151382 -0.097454      -0.106911   \n",
       "7497 -0.116154 -0.107067 -0.144835  ... -0.151382 -0.097454      -0.106911   \n",
       "7498 -0.116154 -0.107067 -0.144835  ... -0.151382 -0.097454      -0.106911   \n",
       "7499 -0.116154 -0.107067 -0.144835  ... -0.151382 -0.097454      -0.106911   \n",
       "\n",
       "      transfer  transport  transported  transporter      type        udp  \\\n",
       "0    -0.176897   -0.13192    -0.111466    -0.119907 -0.123254  -0.107511   \n",
       "1    -0.176897   -0.13192    -0.111466    -0.119907  5.129053  -0.107511   \n",
       "2    -0.176897   -0.13192    -0.111466    -0.119907 -0.123254  -0.107511   \n",
       "3    -0.176897   -0.13192    -0.111466    -0.119907 -0.123254  -0.107511   \n",
       "4    -0.176897   -0.13192    -0.111466    -0.119907 -0.123254  -0.107511   \n",
       "...        ...        ...          ...          ...       ...        ...   \n",
       "7495 -0.176897   -0.13192    -0.111466    -0.119907 -0.123254  -0.107511   \n",
       "7496 -0.176897   -0.13192    -0.111466    -0.119907 -0.123254  -0.107511   \n",
       "7497 -0.176897   -0.13192    -0.111466    -0.119907 -0.123254  10.034992   \n",
       "7498 -0.176897   -0.13192    -0.111466    -0.119907 -0.123254  -0.107511   \n",
       "7499 -0.176897   -0.13192    -0.111466    -0.119907 -0.123254  -0.107511   \n",
       "\n",
       "       vesicle  \n",
       "0    -0.089467  \n",
       "1    -0.089467  \n",
       "2    -0.089467  \n",
       "3    -0.089467  \n",
       "4    -0.089467  \n",
       "...        ...  \n",
       "7495 -0.089467  \n",
       "7496 -0.089467  \n",
       "7497 -0.089467  \n",
       "7498 -0.089467  \n",
       "7499 -0.089467  \n",
       "\n",
       "[7500 rows x 165 columns]"
      ]
     },
     "execution_count": 56,
     "metadata": {},
     "output_type": "execute_result"
    }
   ],
   "source": [
    "X1_normalized_downsampled"
   ]
  },
  {
   "cell_type": "markdown",
   "metadata": {},
   "source": [
    "2. Ignoring words that do not appear in 5% of definitions"
   ]
  },
  {
   "cell_type": "code",
   "execution_count": 57,
   "metadata": {},
   "outputs": [],
   "source": [
    "X5_normalized_downsampled = scaler.fit_transform(X5_df_downsampled)\n",
    "X5_normalized_downsampled = pd.DataFrame(X5_normalized_downsampled, columns = X5_df_downsampled.columns)"
   ]
  },
  {
   "cell_type": "code",
   "execution_count": 58,
   "metadata": {},
   "outputs": [
    {
     "data": {
      "text/html": [
       "<div>\n",
       "<style scoped>\n",
       "    .dataframe tbody tr th:only-of-type {\n",
       "        vertical-align: middle;\n",
       "    }\n",
       "\n",
       "    .dataframe tbody tr th {\n",
       "        vertical-align: top;\n",
       "    }\n",
       "\n",
       "    .dataframe thead th {\n",
       "        text-align: right;\n",
       "    }\n",
       "</style>\n",
       "<table border=\"1\" class=\"dataframe\">\n",
       "  <thead>\n",
       "    <tr style=\"text-align: right;\">\n",
       "      <th></th>\n",
       "      <th>acid</th>\n",
       "      <th>activates</th>\n",
       "      <th>activity</th>\n",
       "      <th>binding</th>\n",
       "      <th>catalysis</th>\n",
       "      <th>cell</th>\n",
       "      <th>cells</th>\n",
       "      <th>chemical</th>\n",
       "      <th>complex</th>\n",
       "      <th>extent</th>\n",
       "      <th>...</th>\n",
       "      <th>pathways</th>\n",
       "      <th>prevents</th>\n",
       "      <th>process</th>\n",
       "      <th>protein</th>\n",
       "      <th>rate</th>\n",
       "      <th>reaction</th>\n",
       "      <th>reactions</th>\n",
       "      <th>reduces</th>\n",
       "      <th>resulting</th>\n",
       "      <th>stops</th>\n",
       "    </tr>\n",
       "  </thead>\n",
       "  <tbody>\n",
       "    <tr>\n",
       "      <th>0</th>\n",
       "      <td>-0.23326</td>\n",
       "      <td>-0.264677</td>\n",
       "      <td>-0.288427</td>\n",
       "      <td>-0.251929</td>\n",
       "      <td>-0.454082</td>\n",
       "      <td>1.172848</td>\n",
       "      <td>-0.215757</td>\n",
       "      <td>-0.387979</td>\n",
       "      <td>-0.231462</td>\n",
       "      <td>1.913448</td>\n",
       "      <td>...</td>\n",
       "      <td>-0.383825</td>\n",
       "      <td>-0.265539</td>\n",
       "      <td>0.955270</td>\n",
       "      <td>-0.291795</td>\n",
       "      <td>1.897690</td>\n",
       "      <td>-0.426185</td>\n",
       "      <td>-0.385338</td>\n",
       "      <td>-0.271248</td>\n",
       "      <td>-0.331608</td>\n",
       "      <td>-0.263519</td>\n",
       "    </tr>\n",
       "    <tr>\n",
       "      <th>1</th>\n",
       "      <td>-0.23326</td>\n",
       "      <td>-0.264677</td>\n",
       "      <td>-0.288427</td>\n",
       "      <td>-0.251929</td>\n",
       "      <td>-0.454082</td>\n",
       "      <td>-0.412939</td>\n",
       "      <td>-0.215757</td>\n",
       "      <td>-0.387979</td>\n",
       "      <td>5.193431</td>\n",
       "      <td>-0.521790</td>\n",
       "      <td>...</td>\n",
       "      <td>-0.383825</td>\n",
       "      <td>-0.265539</td>\n",
       "      <td>-0.753417</td>\n",
       "      <td>2.206453</td>\n",
       "      <td>-0.526131</td>\n",
       "      <td>-0.426185</td>\n",
       "      <td>-0.385338</td>\n",
       "      <td>-0.271248</td>\n",
       "      <td>-0.331608</td>\n",
       "      <td>-0.263519</td>\n",
       "    </tr>\n",
       "    <tr>\n",
       "      <th>2</th>\n",
       "      <td>-0.23326</td>\n",
       "      <td>-0.264677</td>\n",
       "      <td>-0.288427</td>\n",
       "      <td>-0.251929</td>\n",
       "      <td>-0.454082</td>\n",
       "      <td>-0.412939</td>\n",
       "      <td>-0.215757</td>\n",
       "      <td>-0.387979</td>\n",
       "      <td>-0.231462</td>\n",
       "      <td>-0.521790</td>\n",
       "      <td>...</td>\n",
       "      <td>-0.383825</td>\n",
       "      <td>-0.265539</td>\n",
       "      <td>-0.753417</td>\n",
       "      <td>-0.291795</td>\n",
       "      <td>-0.526131</td>\n",
       "      <td>-0.426185</td>\n",
       "      <td>-0.385338</td>\n",
       "      <td>-0.271248</td>\n",
       "      <td>-0.331608</td>\n",
       "      <td>-0.263519</td>\n",
       "    </tr>\n",
       "    <tr>\n",
       "      <th>3</th>\n",
       "      <td>-0.23326</td>\n",
       "      <td>-0.264677</td>\n",
       "      <td>-0.288427</td>\n",
       "      <td>-0.251929</td>\n",
       "      <td>-0.454082</td>\n",
       "      <td>-0.412939</td>\n",
       "      <td>11.467850</td>\n",
       "      <td>-0.387979</td>\n",
       "      <td>-0.231462</td>\n",
       "      <td>-0.521790</td>\n",
       "      <td>...</td>\n",
       "      <td>-0.383825</td>\n",
       "      <td>-0.265539</td>\n",
       "      <td>-0.753417</td>\n",
       "      <td>-0.291795</td>\n",
       "      <td>-0.526131</td>\n",
       "      <td>-0.426185</td>\n",
       "      <td>-0.385338</td>\n",
       "      <td>-0.271248</td>\n",
       "      <td>-0.331608</td>\n",
       "      <td>-0.263519</td>\n",
       "    </tr>\n",
       "    <tr>\n",
       "      <th>4</th>\n",
       "      <td>-0.23326</td>\n",
       "      <td>-0.264677</td>\n",
       "      <td>-0.288427</td>\n",
       "      <td>3.580666</td>\n",
       "      <td>-0.454082</td>\n",
       "      <td>-0.412939</td>\n",
       "      <td>-0.215757</td>\n",
       "      <td>-0.387979</td>\n",
       "      <td>-0.231462</td>\n",
       "      <td>-0.521790</td>\n",
       "      <td>...</td>\n",
       "      <td>-0.383825</td>\n",
       "      <td>-0.265539</td>\n",
       "      <td>-0.753417</td>\n",
       "      <td>-0.291795</td>\n",
       "      <td>-0.526131</td>\n",
       "      <td>-0.426185</td>\n",
       "      <td>-0.385338</td>\n",
       "      <td>-0.271248</td>\n",
       "      <td>-0.331608</td>\n",
       "      <td>-0.263519</td>\n",
       "    </tr>\n",
       "    <tr>\n",
       "      <th>...</th>\n",
       "      <td>...</td>\n",
       "      <td>...</td>\n",
       "      <td>...</td>\n",
       "      <td>...</td>\n",
       "      <td>...</td>\n",
       "      <td>...</td>\n",
       "      <td>...</td>\n",
       "      <td>...</td>\n",
       "      <td>...</td>\n",
       "      <td>...</td>\n",
       "      <td>...</td>\n",
       "      <td>...</td>\n",
       "      <td>...</td>\n",
       "      <td>...</td>\n",
       "      <td>...</td>\n",
       "      <td>...</td>\n",
       "      <td>...</td>\n",
       "      <td>...</td>\n",
       "      <td>...</td>\n",
       "      <td>...</td>\n",
       "      <td>...</td>\n",
       "    </tr>\n",
       "    <tr>\n",
       "      <th>7495</th>\n",
       "      <td>-0.23326</td>\n",
       "      <td>-0.264677</td>\n",
       "      <td>-0.288427</td>\n",
       "      <td>-0.251929</td>\n",
       "      <td>-0.454082</td>\n",
       "      <td>-0.412939</td>\n",
       "      <td>-0.215757</td>\n",
       "      <td>-0.387979</td>\n",
       "      <td>-0.231462</td>\n",
       "      <td>-0.521790</td>\n",
       "      <td>...</td>\n",
       "      <td>-0.383825</td>\n",
       "      <td>-0.265539</td>\n",
       "      <td>2.663958</td>\n",
       "      <td>-0.291795</td>\n",
       "      <td>-0.526131</td>\n",
       "      <td>-0.426185</td>\n",
       "      <td>-0.385338</td>\n",
       "      <td>-0.271248</td>\n",
       "      <td>-0.331608</td>\n",
       "      <td>-0.263519</td>\n",
       "    </tr>\n",
       "    <tr>\n",
       "      <th>7496</th>\n",
       "      <td>-0.23326</td>\n",
       "      <td>-0.264677</td>\n",
       "      <td>-0.288427</td>\n",
       "      <td>-0.251929</td>\n",
       "      <td>2.181843</td>\n",
       "      <td>-0.412939</td>\n",
       "      <td>-0.215757</td>\n",
       "      <td>-0.387979</td>\n",
       "      <td>-0.231462</td>\n",
       "      <td>-0.521790</td>\n",
       "      <td>...</td>\n",
       "      <td>-0.383825</td>\n",
       "      <td>-0.265539</td>\n",
       "      <td>-0.753417</td>\n",
       "      <td>-0.291795</td>\n",
       "      <td>-0.526131</td>\n",
       "      <td>-0.426185</td>\n",
       "      <td>-0.385338</td>\n",
       "      <td>-0.271248</td>\n",
       "      <td>-0.331608</td>\n",
       "      <td>-0.263519</td>\n",
       "    </tr>\n",
       "    <tr>\n",
       "      <th>7497</th>\n",
       "      <td>-0.23326</td>\n",
       "      <td>-0.264677</td>\n",
       "      <td>-0.288427</td>\n",
       "      <td>-0.251929</td>\n",
       "      <td>2.181843</td>\n",
       "      <td>-0.412939</td>\n",
       "      <td>-0.215757</td>\n",
       "      <td>-0.387979</td>\n",
       "      <td>-0.231462</td>\n",
       "      <td>-0.521790</td>\n",
       "      <td>...</td>\n",
       "      <td>-0.383825</td>\n",
       "      <td>-0.265539</td>\n",
       "      <td>-0.753417</td>\n",
       "      <td>-0.291795</td>\n",
       "      <td>-0.526131</td>\n",
       "      <td>2.161981</td>\n",
       "      <td>-0.385338</td>\n",
       "      <td>-0.271248</td>\n",
       "      <td>-0.331608</td>\n",
       "      <td>-0.263519</td>\n",
       "    </tr>\n",
       "    <tr>\n",
       "      <th>7498</th>\n",
       "      <td>-0.23326</td>\n",
       "      <td>-0.264677</td>\n",
       "      <td>-0.288427</td>\n",
       "      <td>-0.251929</td>\n",
       "      <td>-0.454082</td>\n",
       "      <td>-0.412939</td>\n",
       "      <td>-0.215757</td>\n",
       "      <td>-0.387979</td>\n",
       "      <td>-0.231462</td>\n",
       "      <td>-0.521790</td>\n",
       "      <td>...</td>\n",
       "      <td>-0.383825</td>\n",
       "      <td>-0.265539</td>\n",
       "      <td>-0.753417</td>\n",
       "      <td>-0.291795</td>\n",
       "      <td>-0.526131</td>\n",
       "      <td>-0.426185</td>\n",
       "      <td>-0.385338</td>\n",
       "      <td>-0.271248</td>\n",
       "      <td>-0.331608</td>\n",
       "      <td>-0.263519</td>\n",
       "    </tr>\n",
       "    <tr>\n",
       "      <th>7499</th>\n",
       "      <td>-0.23326</td>\n",
       "      <td>-0.264677</td>\n",
       "      <td>-0.288427</td>\n",
       "      <td>-0.251929</td>\n",
       "      <td>-0.454082</td>\n",
       "      <td>-0.412939</td>\n",
       "      <td>-0.215757</td>\n",
       "      <td>-0.387979</td>\n",
       "      <td>-0.231462</td>\n",
       "      <td>1.913448</td>\n",
       "      <td>...</td>\n",
       "      <td>-0.383825</td>\n",
       "      <td>3.765924</td>\n",
       "      <td>0.955270</td>\n",
       "      <td>-0.291795</td>\n",
       "      <td>1.897690</td>\n",
       "      <td>-0.426185</td>\n",
       "      <td>-0.385338</td>\n",
       "      <td>3.686657</td>\n",
       "      <td>-0.331608</td>\n",
       "      <td>3.794787</td>\n",
       "    </tr>\n",
       "  </tbody>\n",
       "</table>\n",
       "<p>7500 rows × 27 columns</p>\n",
       "</div>"
      ],
      "text/plain": [
       "         acid  activates  activity   binding  catalysis      cell      cells  \\\n",
       "0    -0.23326  -0.264677 -0.288427 -0.251929  -0.454082  1.172848  -0.215757   \n",
       "1    -0.23326  -0.264677 -0.288427 -0.251929  -0.454082 -0.412939  -0.215757   \n",
       "2    -0.23326  -0.264677 -0.288427 -0.251929  -0.454082 -0.412939  -0.215757   \n",
       "3    -0.23326  -0.264677 -0.288427 -0.251929  -0.454082 -0.412939  11.467850   \n",
       "4    -0.23326  -0.264677 -0.288427  3.580666  -0.454082 -0.412939  -0.215757   \n",
       "...       ...        ...       ...       ...        ...       ...        ...   \n",
       "7495 -0.23326  -0.264677 -0.288427 -0.251929  -0.454082 -0.412939  -0.215757   \n",
       "7496 -0.23326  -0.264677 -0.288427 -0.251929   2.181843 -0.412939  -0.215757   \n",
       "7497 -0.23326  -0.264677 -0.288427 -0.251929   2.181843 -0.412939  -0.215757   \n",
       "7498 -0.23326  -0.264677 -0.288427 -0.251929  -0.454082 -0.412939  -0.215757   \n",
       "7499 -0.23326  -0.264677 -0.288427 -0.251929  -0.454082 -0.412939  -0.215757   \n",
       "\n",
       "      chemical   complex    extent  ...  pathways  prevents   process  \\\n",
       "0    -0.387979 -0.231462  1.913448  ... -0.383825 -0.265539  0.955270   \n",
       "1    -0.387979  5.193431 -0.521790  ... -0.383825 -0.265539 -0.753417   \n",
       "2    -0.387979 -0.231462 -0.521790  ... -0.383825 -0.265539 -0.753417   \n",
       "3    -0.387979 -0.231462 -0.521790  ... -0.383825 -0.265539 -0.753417   \n",
       "4    -0.387979 -0.231462 -0.521790  ... -0.383825 -0.265539 -0.753417   \n",
       "...        ...       ...       ...  ...       ...       ...       ...   \n",
       "7495 -0.387979 -0.231462 -0.521790  ... -0.383825 -0.265539  2.663958   \n",
       "7496 -0.387979 -0.231462 -0.521790  ... -0.383825 -0.265539 -0.753417   \n",
       "7497 -0.387979 -0.231462 -0.521790  ... -0.383825 -0.265539 -0.753417   \n",
       "7498 -0.387979 -0.231462 -0.521790  ... -0.383825 -0.265539 -0.753417   \n",
       "7499 -0.387979 -0.231462  1.913448  ... -0.383825  3.765924  0.955270   \n",
       "\n",
       "       protein      rate  reaction  reactions   reduces  resulting     stops  \n",
       "0    -0.291795  1.897690 -0.426185  -0.385338 -0.271248  -0.331608 -0.263519  \n",
       "1     2.206453 -0.526131 -0.426185  -0.385338 -0.271248  -0.331608 -0.263519  \n",
       "2    -0.291795 -0.526131 -0.426185  -0.385338 -0.271248  -0.331608 -0.263519  \n",
       "3    -0.291795 -0.526131 -0.426185  -0.385338 -0.271248  -0.331608 -0.263519  \n",
       "4    -0.291795 -0.526131 -0.426185  -0.385338 -0.271248  -0.331608 -0.263519  \n",
       "...        ...       ...       ...        ...       ...        ...       ...  \n",
       "7495 -0.291795 -0.526131 -0.426185  -0.385338 -0.271248  -0.331608 -0.263519  \n",
       "7496 -0.291795 -0.526131 -0.426185  -0.385338 -0.271248  -0.331608 -0.263519  \n",
       "7497 -0.291795 -0.526131  2.161981  -0.385338 -0.271248  -0.331608 -0.263519  \n",
       "7498 -0.291795 -0.526131 -0.426185  -0.385338 -0.271248  -0.331608 -0.263519  \n",
       "7499 -0.291795  1.897690 -0.426185  -0.385338  3.686657  -0.331608  3.794787  \n",
       "\n",
       "[7500 rows x 27 columns]"
      ]
     },
     "execution_count": 58,
     "metadata": {},
     "output_type": "execute_result"
    }
   ],
   "source": [
    "X5_normalized_downsampled"
   ]
  },
  {
   "cell_type": "markdown",
   "metadata": {},
   "source": [
    "### Support Vector Machines"
   ]
  },
  {
   "cell_type": "markdown",
   "metadata": {},
   "source": [
    "### Non-Normalised Dataset"
   ]
  },
  {
   "cell_type": "markdown",
   "metadata": {},
   "source": [
    "#### 1. Ignoring the words that do not appear in 1% of definitions"
   ]
  },
  {
   "cell_type": "code",
   "execution_count": 93,
   "metadata": {},
   "outputs": [],
   "source": [
    "X_train, X_test, y_train, y_test = train_test_split(X1_df_downsampled, X1_downsampled_y, test_size=0.2, random_state=42)\n",
    "svm = SVC()\n",
    "svm.fit(X_train, y_train)\n",
    "y_pred = svm.predict(X_test)"
   ]
  },
  {
   "cell_type": "code",
   "execution_count": 61,
   "metadata": {},
   "outputs": [
    {
     "data": {
      "text/plain": [
       "0.42733333333333334"
      ]
     },
     "execution_count": 61,
     "metadata": {},
     "output_type": "execute_result"
    }
   ],
   "source": [
    "accuracy_score(y_test, y_pred)"
   ]
  },
  {
   "cell_type": "code",
   "execution_count": 62,
   "metadata": {},
   "outputs": [
    {
     "data": {
      "text/plain": [
       "array([[233, 124, 170],\n",
       "       [156, 197, 128],\n",
       "       [182,  99, 211]])"
      ]
     },
     "execution_count": 62,
     "metadata": {},
     "output_type": "execute_result"
    }
   ],
   "source": [
    "confusion_matrix(y_test, y_pred)"
   ]
  },
  {
   "cell_type": "markdown",
   "metadata": {},
   "source": [
    "##### Optimizing using GridSearch\n",
    "\n",
    "Optimizing using downsampled data\n"
   ]
  },
  {
   "cell_type": "code",
   "execution_count": 94,
   "metadata": {},
   "outputs": [
    {
     "data": {
      "text/html": [
       "<style>#sk-container-id-5 {color: black;}#sk-container-id-5 pre{padding: 0;}#sk-container-id-5 div.sk-toggleable {background-color: white;}#sk-container-id-5 label.sk-toggleable__label {cursor: pointer;display: block;width: 100%;margin-bottom: 0;padding: 0.3em;box-sizing: border-box;text-align: center;}#sk-container-id-5 label.sk-toggleable__label-arrow:before {content: \"▸\";float: left;margin-right: 0.25em;color: #696969;}#sk-container-id-5 label.sk-toggleable__label-arrow:hover:before {color: black;}#sk-container-id-5 div.sk-estimator:hover label.sk-toggleable__label-arrow:before {color: black;}#sk-container-id-5 div.sk-toggleable__content {max-height: 0;max-width: 0;overflow: hidden;text-align: left;background-color: #f0f8ff;}#sk-container-id-5 div.sk-toggleable__content pre {margin: 0.2em;color: black;border-radius: 0.25em;background-color: #f0f8ff;}#sk-container-id-5 input.sk-toggleable__control:checked~div.sk-toggleable__content {max-height: 200px;max-width: 100%;overflow: auto;}#sk-container-id-5 input.sk-toggleable__control:checked~label.sk-toggleable__label-arrow:before {content: \"▾\";}#sk-container-id-5 div.sk-estimator input.sk-toggleable__control:checked~label.sk-toggleable__label {background-color: #d4ebff;}#sk-container-id-5 div.sk-label input.sk-toggleable__control:checked~label.sk-toggleable__label {background-color: #d4ebff;}#sk-container-id-5 input.sk-hidden--visually {border: 0;clip: rect(1px 1px 1px 1px);clip: rect(1px, 1px, 1px, 1px);height: 1px;margin: -1px;overflow: hidden;padding: 0;position: absolute;width: 1px;}#sk-container-id-5 div.sk-estimator {font-family: monospace;background-color: #f0f8ff;border: 1px dotted black;border-radius: 0.25em;box-sizing: border-box;margin-bottom: 0.5em;}#sk-container-id-5 div.sk-estimator:hover {background-color: #d4ebff;}#sk-container-id-5 div.sk-parallel-item::after {content: \"\";width: 100%;border-bottom: 1px solid gray;flex-grow: 1;}#sk-container-id-5 div.sk-label:hover label.sk-toggleable__label {background-color: #d4ebff;}#sk-container-id-5 div.sk-serial::before {content: \"\";position: absolute;border-left: 1px solid gray;box-sizing: border-box;top: 0;bottom: 0;left: 50%;z-index: 0;}#sk-container-id-5 div.sk-serial {display: flex;flex-direction: column;align-items: center;background-color: white;padding-right: 0.2em;padding-left: 0.2em;position: relative;}#sk-container-id-5 div.sk-item {position: relative;z-index: 1;}#sk-container-id-5 div.sk-parallel {display: flex;align-items: stretch;justify-content: center;background-color: white;position: relative;}#sk-container-id-5 div.sk-item::before, #sk-container-id-5 div.sk-parallel-item::before {content: \"\";position: absolute;border-left: 1px solid gray;box-sizing: border-box;top: 0;bottom: 0;left: 50%;z-index: -1;}#sk-container-id-5 div.sk-parallel-item {display: flex;flex-direction: column;z-index: 1;position: relative;background-color: white;}#sk-container-id-5 div.sk-parallel-item:first-child::after {align-self: flex-end;width: 50%;}#sk-container-id-5 div.sk-parallel-item:last-child::after {align-self: flex-start;width: 50%;}#sk-container-id-5 div.sk-parallel-item:only-child::after {width: 0;}#sk-container-id-5 div.sk-dashed-wrapped {border: 1px dashed gray;margin: 0 0.4em 0.5em 0.4em;box-sizing: border-box;padding-bottom: 0.4em;background-color: white;}#sk-container-id-5 div.sk-label label {font-family: monospace;font-weight: bold;display: inline-block;line-height: 1.2em;}#sk-container-id-5 div.sk-label-container {text-align: center;}#sk-container-id-5 div.sk-container {/* jupyter's `normalize.less` sets `[hidden] { display: none; }` but bootstrap.min.css set `[hidden] { display: none !important; }` so we also need the `!important` here to be able to override the default hidden behavior on the sphinx rendered scikit-learn.org. See: https://github.com/scikit-learn/scikit-learn/issues/21755 */display: inline-block !important;position: relative;}#sk-container-id-5 div.sk-text-repr-fallback {display: none;}</style><div id=\"sk-container-id-5\" class=\"sk-top-container\"><div class=\"sk-text-repr-fallback\"><pre>GridSearchCV(cv=5, estimator=SVC(random_state=42),\n",
       "             param_grid={&#x27;C&#x27;: [0.001, 0.01, 0.1, 1, 10, 100],\n",
       "                         &#x27;gamma&#x27;: [&#x27;scale&#x27;, &#x27;auto&#x27;, 0.001, 0.01, 0.1],\n",
       "                         &#x27;kernel&#x27;: [&#x27;linear&#x27;, &#x27;rbf&#x27;, &#x27;poly&#x27;, &#x27;sigmoid&#x27;]},\n",
       "             scoring=&#x27;accuracy&#x27;)</pre><b>In a Jupyter environment, please rerun this cell to show the HTML representation or trust the notebook. <br />On GitHub, the HTML representation is unable to render, please try loading this page with nbviewer.org.</b></div><div class=\"sk-container\" hidden><div class=\"sk-item sk-dashed-wrapped\"><div class=\"sk-label-container\"><div class=\"sk-label sk-toggleable\"><input class=\"sk-toggleable__control sk-hidden--visually\" id=\"sk-estimator-id-9\" type=\"checkbox\" ><label for=\"sk-estimator-id-9\" class=\"sk-toggleable__label sk-toggleable__label-arrow\">GridSearchCV</label><div class=\"sk-toggleable__content\"><pre>GridSearchCV(cv=5, estimator=SVC(random_state=42),\n",
       "             param_grid={&#x27;C&#x27;: [0.001, 0.01, 0.1, 1, 10, 100],\n",
       "                         &#x27;gamma&#x27;: [&#x27;scale&#x27;, &#x27;auto&#x27;, 0.001, 0.01, 0.1],\n",
       "                         &#x27;kernel&#x27;: [&#x27;linear&#x27;, &#x27;rbf&#x27;, &#x27;poly&#x27;, &#x27;sigmoid&#x27;]},\n",
       "             scoring=&#x27;accuracy&#x27;)</pre></div></div></div><div class=\"sk-parallel\"><div class=\"sk-parallel-item\"><div class=\"sk-item\"><div class=\"sk-label-container\"><div class=\"sk-label sk-toggleable\"><input class=\"sk-toggleable__control sk-hidden--visually\" id=\"sk-estimator-id-10\" type=\"checkbox\" ><label for=\"sk-estimator-id-10\" class=\"sk-toggleable__label sk-toggleable__label-arrow\">estimator: SVC</label><div class=\"sk-toggleable__content\"><pre>SVC(random_state=42)</pre></div></div></div><div class=\"sk-serial\"><div class=\"sk-item\"><div class=\"sk-estimator sk-toggleable\"><input class=\"sk-toggleable__control sk-hidden--visually\" id=\"sk-estimator-id-11\" type=\"checkbox\" ><label for=\"sk-estimator-id-11\" class=\"sk-toggleable__label sk-toggleable__label-arrow\">SVC</label><div class=\"sk-toggleable__content\"><pre>SVC(random_state=42)</pre></div></div></div></div></div></div></div></div></div></div>"
      ],
      "text/plain": [
       "GridSearchCV(cv=5, estimator=SVC(random_state=42),\n",
       "             param_grid={'C': [0.001, 0.01, 0.1, 1, 10, 100],\n",
       "                         'gamma': ['scale', 'auto', 0.001, 0.01, 0.1],\n",
       "                         'kernel': ['linear', 'rbf', 'poly', 'sigmoid']},\n",
       "             scoring='accuracy')"
      ]
     },
     "execution_count": 94,
     "metadata": {},
     "output_type": "execute_result"
    }
   ],
   "source": [
    "param_grid = {\n",
    "    'C': [0.001, 0.01, 0.1, 1, 10, 100],\n",
    "    'kernel': ['linear', 'rbf', 'poly', 'sigmoid'],\n",
    "    'gamma': ['scale', 'auto', 0.001, 0.01, 0.1]\n",
    "}\n",
    "\n",
    "grid_search = GridSearchCV(SVC(random_state=42), param_grid, cv=5, scoring='accuracy')\n",
    "grid_search.fit(X_train, y_train)"
   ]
  },
  {
   "cell_type": "code",
   "execution_count": 95,
   "metadata": {},
   "outputs": [
    {
     "data": {
      "text/html": [
       "<style>#sk-container-id-6 {color: black;}#sk-container-id-6 pre{padding: 0;}#sk-container-id-6 div.sk-toggleable {background-color: white;}#sk-container-id-6 label.sk-toggleable__label {cursor: pointer;display: block;width: 100%;margin-bottom: 0;padding: 0.3em;box-sizing: border-box;text-align: center;}#sk-container-id-6 label.sk-toggleable__label-arrow:before {content: \"▸\";float: left;margin-right: 0.25em;color: #696969;}#sk-container-id-6 label.sk-toggleable__label-arrow:hover:before {color: black;}#sk-container-id-6 div.sk-estimator:hover label.sk-toggleable__label-arrow:before {color: black;}#sk-container-id-6 div.sk-toggleable__content {max-height: 0;max-width: 0;overflow: hidden;text-align: left;background-color: #f0f8ff;}#sk-container-id-6 div.sk-toggleable__content pre {margin: 0.2em;color: black;border-radius: 0.25em;background-color: #f0f8ff;}#sk-container-id-6 input.sk-toggleable__control:checked~div.sk-toggleable__content {max-height: 200px;max-width: 100%;overflow: auto;}#sk-container-id-6 input.sk-toggleable__control:checked~label.sk-toggleable__label-arrow:before {content: \"▾\";}#sk-container-id-6 div.sk-estimator input.sk-toggleable__control:checked~label.sk-toggleable__label {background-color: #d4ebff;}#sk-container-id-6 div.sk-label input.sk-toggleable__control:checked~label.sk-toggleable__label {background-color: #d4ebff;}#sk-container-id-6 input.sk-hidden--visually {border: 0;clip: rect(1px 1px 1px 1px);clip: rect(1px, 1px, 1px, 1px);height: 1px;margin: -1px;overflow: hidden;padding: 0;position: absolute;width: 1px;}#sk-container-id-6 div.sk-estimator {font-family: monospace;background-color: #f0f8ff;border: 1px dotted black;border-radius: 0.25em;box-sizing: border-box;margin-bottom: 0.5em;}#sk-container-id-6 div.sk-estimator:hover {background-color: #d4ebff;}#sk-container-id-6 div.sk-parallel-item::after {content: \"\";width: 100%;border-bottom: 1px solid gray;flex-grow: 1;}#sk-container-id-6 div.sk-label:hover label.sk-toggleable__label {background-color: #d4ebff;}#sk-container-id-6 div.sk-serial::before {content: \"\";position: absolute;border-left: 1px solid gray;box-sizing: border-box;top: 0;bottom: 0;left: 50%;z-index: 0;}#sk-container-id-6 div.sk-serial {display: flex;flex-direction: column;align-items: center;background-color: white;padding-right: 0.2em;padding-left: 0.2em;position: relative;}#sk-container-id-6 div.sk-item {position: relative;z-index: 1;}#sk-container-id-6 div.sk-parallel {display: flex;align-items: stretch;justify-content: center;background-color: white;position: relative;}#sk-container-id-6 div.sk-item::before, #sk-container-id-6 div.sk-parallel-item::before {content: \"\";position: absolute;border-left: 1px solid gray;box-sizing: border-box;top: 0;bottom: 0;left: 50%;z-index: -1;}#sk-container-id-6 div.sk-parallel-item {display: flex;flex-direction: column;z-index: 1;position: relative;background-color: white;}#sk-container-id-6 div.sk-parallel-item:first-child::after {align-self: flex-end;width: 50%;}#sk-container-id-6 div.sk-parallel-item:last-child::after {align-self: flex-start;width: 50%;}#sk-container-id-6 div.sk-parallel-item:only-child::after {width: 0;}#sk-container-id-6 div.sk-dashed-wrapped {border: 1px dashed gray;margin: 0 0.4em 0.5em 0.4em;box-sizing: border-box;padding-bottom: 0.4em;background-color: white;}#sk-container-id-6 div.sk-label label {font-family: monospace;font-weight: bold;display: inline-block;line-height: 1.2em;}#sk-container-id-6 div.sk-label-container {text-align: center;}#sk-container-id-6 div.sk-container {/* jupyter's `normalize.less` sets `[hidden] { display: none; }` but bootstrap.min.css set `[hidden] { display: none !important; }` so we also need the `!important` here to be able to override the default hidden behavior on the sphinx rendered scikit-learn.org. See: https://github.com/scikit-learn/scikit-learn/issues/21755 */display: inline-block !important;position: relative;}#sk-container-id-6 div.sk-text-repr-fallback {display: none;}</style><div id=\"sk-container-id-6\" class=\"sk-top-container\"><div class=\"sk-text-repr-fallback\"><pre>SVC(C=10, gamma=0.1, random_state=42)</pre><b>In a Jupyter environment, please rerun this cell to show the HTML representation or trust the notebook. <br />On GitHub, the HTML representation is unable to render, please try loading this page with nbviewer.org.</b></div><div class=\"sk-container\" hidden><div class=\"sk-item\"><div class=\"sk-estimator sk-toggleable\"><input class=\"sk-toggleable__control sk-hidden--visually\" id=\"sk-estimator-id-12\" type=\"checkbox\" checked><label for=\"sk-estimator-id-12\" class=\"sk-toggleable__label sk-toggleable__label-arrow\">SVC</label><div class=\"sk-toggleable__content\"><pre>SVC(C=10, gamma=0.1, random_state=42)</pre></div></div></div></div></div>"
      ],
      "text/plain": [
       "SVC(C=10, gamma=0.1, random_state=42)"
      ]
     },
     "execution_count": 95,
     "metadata": {},
     "output_type": "execute_result"
    }
   ],
   "source": [
    "grid_search.best_estimator_ "
   ]
  },
  {
   "cell_type": "code",
   "execution_count": 96,
   "metadata": {},
   "outputs": [
    {
     "data": {
      "text/plain": [
       "{'C': 10, 'gamma': 0.1, 'kernel': 'rbf'}"
      ]
     },
     "execution_count": 96,
     "metadata": {},
     "output_type": "execute_result"
    }
   ],
   "source": [
    "grid_search.best_params_"
   ]
  },
  {
   "cell_type": "markdown",
   "metadata": {},
   "source": [
    "#### Testing on full dataset "
   ]
  },
  {
   "cell_type": "code",
   "execution_count": 33,
   "metadata": {},
   "outputs": [],
   "source": [
    "y = df['namespace']\n",
    "X_train, X_test, y_train, y_test = train_test_split(X1_df, y, test_size=0.2, random_state=42)\n",
    "clf_svm = SVC(C=10, gamma=0.1, random_state=42)\n",
    "clf_svm.fit(X_train, y_train)\n",
    "y_pred = clf_svm.predict(X_test)"
   ]
  },
  {
   "cell_type": "code",
   "execution_count": 34,
   "metadata": {},
   "outputs": [
    {
     "data": {
      "text/plain": [
       "array([[5303,   52,   17],\n",
       "       [ 147,  657,   16],\n",
       "       [  26,   15, 2208]])"
      ]
     },
     "execution_count": 34,
     "metadata": {},
     "output_type": "execute_result"
    }
   ],
   "source": [
    "confusion_matrix(y_test, y_pred)"
   ]
  },
  {
   "cell_type": "code",
   "execution_count": 35,
   "metadata": {},
   "outputs": [
    {
     "data": {
      "text/plain": [
       "0.9676578604430754"
      ]
     },
     "execution_count": 35,
     "metadata": {},
     "output_type": "execute_result"
    }
   ],
   "source": [
    "accuracy_score(y_test, y_pred)"
   ]
  },
  {
   "cell_type": "code",
   "execution_count": 36,
   "metadata": {},
   "outputs": [
    {
     "data": {
      "text/plain": [
       "namespace\n",
       "biological_process    5372\n",
       "molecular_function    2249\n",
       "cellular_component     820\n",
       "Name: count, dtype: int64"
      ]
     },
     "execution_count": 36,
     "metadata": {},
     "output_type": "execute_result"
    }
   ],
   "source": [
    "y_test.value_counts()"
   ]
  },
  {
   "cell_type": "code",
   "execution_count": 37,
   "metadata": {},
   "outputs": [
    {
     "data": {
      "image/png": "[encoded data removed]",
      "text/plain": [
       "<Figure size 800x600 with 2 Axes>"
      ]
     },
     "metadata": {},
     "output_type": "display_data"
    }
   ],
   "source": [
    "cm = confusion_matrix(y_test, y_pred, labels=['biological_process', 'molecular_function', 'cellular_component'])\n",
    "\n",
    "# Plotting using seaborn\n",
    "plt.figure(figsize=(8, 6))\n",
    "sns.heatmap(cm, annot=True, fmt=\"d\", cmap='Blues', xticklabels=['Biological Process', 'Molecular Function', 'Cellular Component'], yticklabels=['Biological Process', 'Molecular Function', 'Cellular Component'])\n",
    "plt.xlabel('Predicted Label')\n",
    "plt.ylabel('True Label')\n",
    "plt.title('Confusion Matrix')\n",
    "plt.savefig('../images/SVM1.png')\n",
    "plt.show()"
   ]
  },
  {
   "cell_type": "markdown",
   "metadata": {},
   "source": [
    "#### 2. Ignoring the words that do not appear in 5% of definitions"
   ]
  },
  {
   "cell_type": "code",
   "execution_count": 55,
   "metadata": {},
   "outputs": [],
   "source": [
    "X_train, X_test, y_train, y_test = train_test_split(X5_df_downsampled, X5_downsampled_y, test_size=0.2, random_state=42)\n",
    "svm = SVC()\n",
    "svm.fit(X_train, y_train)\n",
    "y_pred = svm.predict(X_test)"
   ]
  },
  {
   "cell_type": "code",
   "execution_count": 103,
   "metadata": {},
   "outputs": [
    {
     "data": {
      "text/plain": [
       "0.37533333333333335"
      ]
     },
     "execution_count": 103,
     "metadata": {},
     "output_type": "execute_result"
    }
   ],
   "source": [
    "accuracy_score(y_test, y_pred)\n"
   ]
  },
  {
   "cell_type": "code",
   "execution_count": 104,
   "metadata": {},
   "outputs": [
    {
     "data": {
      "text/plain": [
       "array([[237,  98, 192],\n",
       "       [205, 137, 139],\n",
       "       [204,  99, 189]])"
      ]
     },
     "execution_count": 104,
     "metadata": {},
     "output_type": "execute_result"
    }
   ],
   "source": [
    "confusion_matrix(y_test, y_pred)"
   ]
  },
  {
   "cell_type": "markdown",
   "metadata": {},
   "source": [
    "Optimizing using GridSearch"
   ]
  },
  {
   "cell_type": "code",
   "execution_count": 56,
   "metadata": {},
   "outputs": [
    {
     "data": {
      "text/html": [
       "<style>#sk-container-id-1 {color: black;}#sk-container-id-1 pre{padding: 0;}#sk-container-id-1 div.sk-toggleable {background-color: white;}#sk-container-id-1 label.sk-toggleable__label {cursor: pointer;display: block;width: 100%;margin-bottom: 0;padding: 0.3em;box-sizing: border-box;text-align: center;}#sk-container-id-1 label.sk-toggleable__label-arrow:before {content: \"▸\";float: left;margin-right: 0.25em;color: #696969;}#sk-container-id-1 label.sk-toggleable__label-arrow:hover:before {color: black;}#sk-container-id-1 div.sk-estimator:hover label.sk-toggleable__label-arrow:before {color: black;}#sk-container-id-1 div.sk-toggleable__content {max-height: 0;max-width: 0;overflow: hidden;text-align: left;background-color: #f0f8ff;}#sk-container-id-1 div.sk-toggleable__content pre {margin: 0.2em;color: black;border-radius: 0.25em;background-color: #f0f8ff;}#sk-container-id-1 input.sk-toggleable__control:checked~div.sk-toggleable__content {max-height: 200px;max-width: 100%;overflow: auto;}#sk-container-id-1 input.sk-toggleable__control:checked~label.sk-toggleable__label-arrow:before {content: \"▾\";}#sk-container-id-1 div.sk-estimator input.sk-toggleable__control:checked~label.sk-toggleable__label {background-color: #d4ebff;}#sk-container-id-1 div.sk-label input.sk-toggleable__control:checked~label.sk-toggleable__label {background-color: #d4ebff;}#sk-container-id-1 input.sk-hidden--visually {border: 0;clip: rect(1px 1px 1px 1px);clip: rect(1px, 1px, 1px, 1px);height: 1px;margin: -1px;overflow: hidden;padding: 0;position: absolute;width: 1px;}#sk-container-id-1 div.sk-estimator {font-family: monospace;background-color: #f0f8ff;border: 1px dotted black;border-radius: 0.25em;box-sizing: border-box;margin-bottom: 0.5em;}#sk-container-id-1 div.sk-estimator:hover {background-color: #d4ebff;}#sk-container-id-1 div.sk-parallel-item::after {content: \"\";width: 100%;border-bottom: 1px solid gray;flex-grow: 1;}#sk-container-id-1 div.sk-label:hover label.sk-toggleable__label {background-color: #d4ebff;}#sk-container-id-1 div.sk-serial::before {content: \"\";position: absolute;border-left: 1px solid gray;box-sizing: border-box;top: 0;bottom: 0;left: 50%;z-index: 0;}#sk-container-id-1 div.sk-serial {display: flex;flex-direction: column;align-items: center;background-color: white;padding-right: 0.2em;padding-left: 0.2em;position: relative;}#sk-container-id-1 div.sk-item {position: relative;z-index: 1;}#sk-container-id-1 div.sk-parallel {display: flex;align-items: stretch;justify-content: center;background-color: white;position: relative;}#sk-container-id-1 div.sk-item::before, #sk-container-id-1 div.sk-parallel-item::before {content: \"\";position: absolute;border-left: 1px solid gray;box-sizing: border-box;top: 0;bottom: 0;left: 50%;z-index: -1;}#sk-container-id-1 div.sk-parallel-item {display: flex;flex-direction: column;z-index: 1;position: relative;background-color: white;}#sk-container-id-1 div.sk-parallel-item:first-child::after {align-self: flex-end;width: 50%;}#sk-container-id-1 div.sk-parallel-item:last-child::after {align-self: flex-start;width: 50%;}#sk-container-id-1 div.sk-parallel-item:only-child::after {width: 0;}#sk-container-id-1 div.sk-dashed-wrapped {border: 1px dashed gray;margin: 0 0.4em 0.5em 0.4em;box-sizing: border-box;padding-bottom: 0.4em;background-color: white;}#sk-container-id-1 div.sk-label label {font-family: monospace;font-weight: bold;display: inline-block;line-height: 1.2em;}#sk-container-id-1 div.sk-label-container {text-align: center;}#sk-container-id-1 div.sk-container {/* jupyter's `normalize.less` sets `[hidden] { display: none; }` but bootstrap.min.css set `[hidden] { display: none !important; }` so we also need the `!important` here to be able to override the default hidden behavior on the sphinx rendered scikit-learn.org. See: https://github.com/scikit-learn/scikit-learn/issues/21755 */display: inline-block !important;position: relative;}#sk-container-id-1 div.sk-text-repr-fallback {display: none;}</style><div id=\"sk-container-id-1\" class=\"sk-top-container\"><div class=\"sk-text-repr-fallback\"><pre>GridSearchCV(cv=5, estimator=SVC(random_state=42),\n",
       "             param_grid={&#x27;C&#x27;: [0.1, 1, 10, 100],\n",
       "                         &#x27;gamma&#x27;: [&#x27;scale&#x27;, &#x27;auto&#x27;, 0.001, 0.01, 0.1],\n",
       "                         &#x27;kernel&#x27;: [&#x27;linear&#x27;, &#x27;rbf&#x27;, &#x27;poly&#x27;, &#x27;sigmoid&#x27;]},\n",
       "             scoring=&#x27;accuracy&#x27;)</pre><b>In a Jupyter environment, please rerun this cell to show the HTML representation or trust the notebook. <br />On GitHub, the HTML representation is unable to render, please try loading this page with nbviewer.org.</b></div><div class=\"sk-container\" hidden><div class=\"sk-item sk-dashed-wrapped\"><div class=\"sk-label-container\"><div class=\"sk-label sk-toggleable\"><input class=\"sk-toggleable__control sk-hidden--visually\" id=\"sk-estimator-id-1\" type=\"checkbox\" ><label for=\"sk-estimator-id-1\" class=\"sk-toggleable__label sk-toggleable__label-arrow\">GridSearchCV</label><div class=\"sk-toggleable__content\"><pre>GridSearchCV(cv=5, estimator=SVC(random_state=42),\n",
       "             param_grid={&#x27;C&#x27;: [0.1, 1, 10, 100],\n",
       "                         &#x27;gamma&#x27;: [&#x27;scale&#x27;, &#x27;auto&#x27;, 0.001, 0.01, 0.1],\n",
       "                         &#x27;kernel&#x27;: [&#x27;linear&#x27;, &#x27;rbf&#x27;, &#x27;poly&#x27;, &#x27;sigmoid&#x27;]},\n",
       "             scoring=&#x27;accuracy&#x27;)</pre></div></div></div><div class=\"sk-parallel\"><div class=\"sk-parallel-item\"><div class=\"sk-item\"><div class=\"sk-label-container\"><div class=\"sk-label sk-toggleable\"><input class=\"sk-toggleable__control sk-hidden--visually\" id=\"sk-estimator-id-2\" type=\"checkbox\" ><label for=\"sk-estimator-id-2\" class=\"sk-toggleable__label sk-toggleable__label-arrow\">estimator: SVC</label><div class=\"sk-toggleable__content\"><pre>SVC(random_state=42)</pre></div></div></div><div class=\"sk-serial\"><div class=\"sk-item\"><div class=\"sk-estimator sk-toggleable\"><input class=\"sk-toggleable__control sk-hidden--visually\" id=\"sk-estimator-id-3\" type=\"checkbox\" ><label for=\"sk-estimator-id-3\" class=\"sk-toggleable__label sk-toggleable__label-arrow\">SVC</label><div class=\"sk-toggleable__content\"><pre>SVC(random_state=42)</pre></div></div></div></div></div></div></div></div></div></div>"
      ],
      "text/plain": [
       "GridSearchCV(cv=5, estimator=SVC(random_state=42),\n",
       "             param_grid={'C': [0.1, 1, 10, 100],\n",
       "                         'gamma': ['scale', 'auto', 0.001, 0.01, 0.1],\n",
       "                         'kernel': ['linear', 'rbf', 'poly', 'sigmoid']},\n",
       "             scoring='accuracy')"
      ]
     },
     "execution_count": 56,
     "metadata": {},
     "output_type": "execute_result"
    }
   ],
   "source": [
    "param_grid = {\n",
    "    'C': [0.1, 1, 10, 100],\n",
    "    'kernel': ['linear', 'rbf', 'poly', 'sigmoid'],\n",
    "    'gamma': ['scale', 'auto', 0.001, 0.01, 0.1]\n",
    "}\n",
    "\n",
    "grid_search = GridSearchCV(SVC(random_state=42), param_grid, cv=5, scoring='accuracy')\n",
    "grid_search.fit(X_train, y_train)"
   ]
  },
  {
   "cell_type": "code",
   "execution_count": 57,
   "metadata": {},
   "outputs": [
    {
     "data": {
      "text/html": [
       "<style>#sk-container-id-2 {color: black;}#sk-container-id-2 pre{padding: 0;}#sk-container-id-2 div.sk-toggleable {background-color: white;}#sk-container-id-2 label.sk-toggleable__label {cursor: pointer;display: block;width: 100%;margin-bottom: 0;padding: 0.3em;box-sizing: border-box;text-align: center;}#sk-container-id-2 label.sk-toggleable__label-arrow:before {content: \"▸\";float: left;margin-right: 0.25em;color: #696969;}#sk-container-id-2 label.sk-toggleable__label-arrow:hover:before {color: black;}#sk-container-id-2 div.sk-estimator:hover label.sk-toggleable__label-arrow:before {color: black;}#sk-container-id-2 div.sk-toggleable__content {max-height: 0;max-width: 0;overflow: hidden;text-align: left;background-color: #f0f8ff;}#sk-container-id-2 div.sk-toggleable__content pre {margin: 0.2em;color: black;border-radius: 0.25em;background-color: #f0f8ff;}#sk-container-id-2 input.sk-toggleable__control:checked~div.sk-toggleable__content {max-height: 200px;max-width: 100%;overflow: auto;}#sk-container-id-2 input.sk-toggleable__control:checked~label.sk-toggleable__label-arrow:before {content: \"▾\";}#sk-container-id-2 div.sk-estimator input.sk-toggleable__control:checked~label.sk-toggleable__label {background-color: #d4ebff;}#sk-container-id-2 div.sk-label input.sk-toggleable__control:checked~label.sk-toggleable__label {background-color: #d4ebff;}#sk-container-id-2 input.sk-hidden--visually {border: 0;clip: rect(1px 1px 1px 1px);clip: rect(1px, 1px, 1px, 1px);height: 1px;margin: -1px;overflow: hidden;padding: 0;position: absolute;width: 1px;}#sk-container-id-2 div.sk-estimator {font-family: monospace;background-color: #f0f8ff;border: 1px dotted black;border-radius: 0.25em;box-sizing: border-box;margin-bottom: 0.5em;}#sk-container-id-2 div.sk-estimator:hover {background-color: #d4ebff;}#sk-container-id-2 div.sk-parallel-item::after {content: \"\";width: 100%;border-bottom: 1px solid gray;flex-grow: 1;}#sk-container-id-2 div.sk-label:hover label.sk-toggleable__label {background-color: #d4ebff;}#sk-container-id-2 div.sk-serial::before {content: \"\";position: absolute;border-left: 1px solid gray;box-sizing: border-box;top: 0;bottom: 0;left: 50%;z-index: 0;}#sk-container-id-2 div.sk-serial {display: flex;flex-direction: column;align-items: center;background-color: white;padding-right: 0.2em;padding-left: 0.2em;position: relative;}#sk-container-id-2 div.sk-item {position: relative;z-index: 1;}#sk-container-id-2 div.sk-parallel {display: flex;align-items: stretch;justify-content: center;background-color: white;position: relative;}#sk-container-id-2 div.sk-item::before, #sk-container-id-2 div.sk-parallel-item::before {content: \"\";position: absolute;border-left: 1px solid gray;box-sizing: border-box;top: 0;bottom: 0;left: 50%;z-index: -1;}#sk-container-id-2 div.sk-parallel-item {display: flex;flex-direction: column;z-index: 1;position: relative;background-color: white;}#sk-container-id-2 div.sk-parallel-item:first-child::after {align-self: flex-end;width: 50%;}#sk-container-id-2 div.sk-parallel-item:last-child::after {align-self: flex-start;width: 50%;}#sk-container-id-2 div.sk-parallel-item:only-child::after {width: 0;}#sk-container-id-2 div.sk-dashed-wrapped {border: 1px dashed gray;margin: 0 0.4em 0.5em 0.4em;box-sizing: border-box;padding-bottom: 0.4em;background-color: white;}#sk-container-id-2 div.sk-label label {font-family: monospace;font-weight: bold;display: inline-block;line-height: 1.2em;}#sk-container-id-2 div.sk-label-container {text-align: center;}#sk-container-id-2 div.sk-container {/* jupyter's `normalize.less` sets `[hidden] { display: none; }` but bootstrap.min.css set `[hidden] { display: none !important; }` so we also need the `!important` here to be able to override the default hidden behavior on the sphinx rendered scikit-learn.org. See: https://github.com/scikit-learn/scikit-learn/issues/21755 */display: inline-block !important;position: relative;}#sk-container-id-2 div.sk-text-repr-fallback {display: none;}</style><div id=\"sk-container-id-2\" class=\"sk-top-container\"><div class=\"sk-text-repr-fallback\"><pre>SVC(C=10, gamma=0.1, random_state=42)</pre><b>In a Jupyter environment, please rerun this cell to show the HTML representation or trust the notebook. <br />On GitHub, the HTML representation is unable to render, please try loading this page with nbviewer.org.</b></div><div class=\"sk-container\" hidden><div class=\"sk-item\"><div class=\"sk-estimator sk-toggleable\"><input class=\"sk-toggleable__control sk-hidden--visually\" id=\"sk-estimator-id-4\" type=\"checkbox\" checked><label for=\"sk-estimator-id-4\" class=\"sk-toggleable__label sk-toggleable__label-arrow\">SVC</label><div class=\"sk-toggleable__content\"><pre>SVC(C=10, gamma=0.1, random_state=42)</pre></div></div></div></div></div>"
      ],
      "text/plain": [
       "SVC(C=10, gamma=0.1, random_state=42)"
      ]
     },
     "execution_count": 57,
     "metadata": {},
     "output_type": "execute_result"
    }
   ],
   "source": [
    "grid_search.best_estimator_"
   ]
  },
  {
   "cell_type": "code",
   "execution_count": 58,
   "metadata": {},
   "outputs": [
    {
     "name": "stdout",
     "output_type": "stream",
     "text": [
      "{'C': 10, 'gamma': 0.1, 'kernel': 'rbf'}\n"
     ]
    }
   ],
   "source": [
    "print(grid_search.best_params_)"
   ]
  },
  {
   "cell_type": "markdown",
   "metadata": {},
   "source": [
    "#### Testing on full dataset "
   ]
  },
  {
   "cell_type": "code",
   "execution_count": 108,
   "metadata": {},
   "outputs": [],
   "source": [
    "y = df['namespace']\n",
    "X_train, X_test, y_train, y_test = train_test_split(X5_df, y, test_size=0.2, random_state=42)\n",
    "clf_svm = SVC(C=10, gamma=0.1, random_state=42)\n",
    "clf_svm.fit(X_train, y_train)\n",
    "y_pred = clf_svm.predict(X_test)"
   ]
  },
  {
   "cell_type": "code",
   "execution_count": 109,
   "metadata": {},
   "outputs": [
    {
     "data": {
      "text/plain": [
       "array([[5246,   88,   38],\n",
       "       [ 292,  510,   18],\n",
       "       [  77,  123, 2049]])"
      ]
     },
     "execution_count": 109,
     "metadata": {},
     "output_type": "execute_result"
    }
   ],
   "source": [
    "confusion_matrix(y_test, y_pred)"
   ]
  },
  {
   "cell_type": "code",
   "execution_count": 110,
   "metadata": {},
   "outputs": [
    {
     "data": {
      "text/plain": [
       "0.9246534770761758"
      ]
     },
     "execution_count": 110,
     "metadata": {},
     "output_type": "execute_result"
    }
   ],
   "source": [
    "accuracy_score(y_test, y_pred)"
   ]
  },
  {
   "cell_type": "markdown",
   "metadata": {},
   "source": [
    "### Normalised Dataset"
   ]
  },
  {
   "cell_type": "markdown",
   "metadata": {},
   "source": [
    "#### 1. Ignoring the words that do not appear in 1% of definitions"
   ]
  },
  {
   "cell_type": "code",
   "execution_count": 59,
   "metadata": {},
   "outputs": [],
   "source": [
    "X_train, X_test, y_train, y_test = train_test_split(X1_normalized_downsampled, X1_downsampled_y, test_size=0.2, random_state=42)\n",
    "svm = SVC()\n",
    "svm.fit(X_train, y_train)\n",
    "y_pred = svm.predict(X_test)"
   ]
  },
  {
   "cell_type": "code",
   "execution_count": 60,
   "metadata": {},
   "outputs": [
    {
     "data": {
      "text/plain": [
       "0.412"
      ]
     },
     "execution_count": 60,
     "metadata": {},
     "output_type": "execute_result"
    }
   ],
   "source": [
    "accuracy_score(y_test, y_pred)"
   ]
  },
  {
   "cell_type": "code",
   "execution_count": 61,
   "metadata": {},
   "outputs": [
    {
     "data": {
      "text/plain": [
       "array([[236, 131, 160],\n",
       "       [175, 184, 122],\n",
       "       [197,  97, 198]])"
      ]
     },
     "execution_count": 61,
     "metadata": {},
     "output_type": "execute_result"
    }
   ],
   "source": [
    "confusion_matrix(y_test, y_pred)"
   ]
  },
  {
   "cell_type": "markdown",
   "metadata": {},
   "source": [
    "Optimizing using grid search"
   ]
  },
  {
   "cell_type": "code",
   "execution_count": 114,
   "metadata": {},
   "outputs": [
    {
     "data": {
      "text/html": [
       "<style>#sk-container-id-9 {color: black;}#sk-container-id-9 pre{padding: 0;}#sk-container-id-9 div.sk-toggleable {background-color: white;}#sk-container-id-9 label.sk-toggleable__label {cursor: pointer;display: block;width: 100%;margin-bottom: 0;padding: 0.3em;box-sizing: border-box;text-align: center;}#sk-container-id-9 label.sk-toggleable__label-arrow:before {content: \"▸\";float: left;margin-right: 0.25em;color: #696969;}#sk-container-id-9 label.sk-toggleable__label-arrow:hover:before {color: black;}#sk-container-id-9 div.sk-estimator:hover label.sk-toggleable__label-arrow:before {color: black;}#sk-container-id-9 div.sk-toggleable__content {max-height: 0;max-width: 0;overflow: hidden;text-align: left;background-color: #f0f8ff;}#sk-container-id-9 div.sk-toggleable__content pre {margin: 0.2em;color: black;border-radius: 0.25em;background-color: #f0f8ff;}#sk-container-id-9 input.sk-toggleable__control:checked~div.sk-toggleable__content {max-height: 200px;max-width: 100%;overflow: auto;}#sk-container-id-9 input.sk-toggleable__control:checked~label.sk-toggleable__label-arrow:before {content: \"▾\";}#sk-container-id-9 div.sk-estimator input.sk-toggleable__control:checked~label.sk-toggleable__label {background-color: #d4ebff;}#sk-container-id-9 div.sk-label input.sk-toggleable__control:checked~label.sk-toggleable__label {background-color: #d4ebff;}#sk-container-id-9 input.sk-hidden--visually {border: 0;clip: rect(1px 1px 1px 1px);clip: rect(1px, 1px, 1px, 1px);height: 1px;margin: -1px;overflow: hidden;padding: 0;position: absolute;width: 1px;}#sk-container-id-9 div.sk-estimator {font-family: monospace;background-color: #f0f8ff;border: 1px dotted black;border-radius: 0.25em;box-sizing: border-box;margin-bottom: 0.5em;}#sk-container-id-9 div.sk-estimator:hover {background-color: #d4ebff;}#sk-container-id-9 div.sk-parallel-item::after {content: \"\";width: 100%;border-bottom: 1px solid gray;flex-grow: 1;}#sk-container-id-9 div.sk-label:hover label.sk-toggleable__label {background-color: #d4ebff;}#sk-container-id-9 div.sk-serial::before {content: \"\";position: absolute;border-left: 1px solid gray;box-sizing: border-box;top: 0;bottom: 0;left: 50%;z-index: 0;}#sk-container-id-9 div.sk-serial {display: flex;flex-direction: column;align-items: center;background-color: white;padding-right: 0.2em;padding-left: 0.2em;position: relative;}#sk-container-id-9 div.sk-item {position: relative;z-index: 1;}#sk-container-id-9 div.sk-parallel {display: flex;align-items: stretch;justify-content: center;background-color: white;position: relative;}#sk-container-id-9 div.sk-item::before, #sk-container-id-9 div.sk-parallel-item::before {content: \"\";position: absolute;border-left: 1px solid gray;box-sizing: border-box;top: 0;bottom: 0;left: 50%;z-index: -1;}#sk-container-id-9 div.sk-parallel-item {display: flex;flex-direction: column;z-index: 1;position: relative;background-color: white;}#sk-container-id-9 div.sk-parallel-item:first-child::after {align-self: flex-end;width: 50%;}#sk-container-id-9 div.sk-parallel-item:last-child::after {align-self: flex-start;width: 50%;}#sk-container-id-9 div.sk-parallel-item:only-child::after {width: 0;}#sk-container-id-9 div.sk-dashed-wrapped {border: 1px dashed gray;margin: 0 0.4em 0.5em 0.4em;box-sizing: border-box;padding-bottom: 0.4em;background-color: white;}#sk-container-id-9 div.sk-label label {font-family: monospace;font-weight: bold;display: inline-block;line-height: 1.2em;}#sk-container-id-9 div.sk-label-container {text-align: center;}#sk-container-id-9 div.sk-container {/* jupyter's `normalize.less` sets `[hidden] { display: none; }` but bootstrap.min.css set `[hidden] { display: none !important; }` so we also need the `!important` here to be able to override the default hidden behavior on the sphinx rendered scikit-learn.org. See: https://github.com/scikit-learn/scikit-learn/issues/21755 */display: inline-block !important;position: relative;}#sk-container-id-9 div.sk-text-repr-fallback {display: none;}</style><div id=\"sk-container-id-9\" class=\"sk-top-container\"><div class=\"sk-text-repr-fallback\"><pre>GridSearchCV(cv=5, estimator=SVC(random_state=42), n_jobs=-1,\n",
       "             param_grid={&#x27;C&#x27;: [0.1, 1, 10, 100],\n",
       "                         &#x27;gamma&#x27;: [&#x27;scale&#x27;, &#x27;auto&#x27;, 0.001, 0.01, 0.1],\n",
       "                         &#x27;kernel&#x27;: [&#x27;linear&#x27;, &#x27;rbf&#x27;, &#x27;poly&#x27;]},\n",
       "             scoring=&#x27;accuracy&#x27;)</pre><b>In a Jupyter environment, please rerun this cell to show the HTML representation or trust the notebook. <br />On GitHub, the HTML representation is unable to render, please try loading this page with nbviewer.org.</b></div><div class=\"sk-container\" hidden><div class=\"sk-item sk-dashed-wrapped\"><div class=\"sk-label-container\"><div class=\"sk-label sk-toggleable\"><input class=\"sk-toggleable__control sk-hidden--visually\" id=\"sk-estimator-id-17\" type=\"checkbox\" ><label for=\"sk-estimator-id-17\" class=\"sk-toggleable__label sk-toggleable__label-arrow\">GridSearchCV</label><div class=\"sk-toggleable__content\"><pre>GridSearchCV(cv=5, estimator=SVC(random_state=42), n_jobs=-1,\n",
       "             param_grid={&#x27;C&#x27;: [0.1, 1, 10, 100],\n",
       "                         &#x27;gamma&#x27;: [&#x27;scale&#x27;, &#x27;auto&#x27;, 0.001, 0.01, 0.1],\n",
       "                         &#x27;kernel&#x27;: [&#x27;linear&#x27;, &#x27;rbf&#x27;, &#x27;poly&#x27;]},\n",
       "             scoring=&#x27;accuracy&#x27;)</pre></div></div></div><div class=\"sk-parallel\"><div class=\"sk-parallel-item\"><div class=\"sk-item\"><div class=\"sk-label-container\"><div class=\"sk-label sk-toggleable\"><input class=\"sk-toggleable__control sk-hidden--visually\" id=\"sk-estimator-id-18\" type=\"checkbox\" ><label for=\"sk-estimator-id-18\" class=\"sk-toggleable__label sk-toggleable__label-arrow\">estimator: SVC</label><div class=\"sk-toggleable__content\"><pre>SVC(random_state=42)</pre></div></div></div><div class=\"sk-serial\"><div class=\"sk-item\"><div class=\"sk-estimator sk-toggleable\"><input class=\"sk-toggleable__control sk-hidden--visually\" id=\"sk-estimator-id-19\" type=\"checkbox\" ><label for=\"sk-estimator-id-19\" class=\"sk-toggleable__label sk-toggleable__label-arrow\">SVC</label><div class=\"sk-toggleable__content\"><pre>SVC(random_state=42)</pre></div></div></div></div></div></div></div></div></div></div>"
      ],
      "text/plain": [
       "GridSearchCV(cv=5, estimator=SVC(random_state=42), n_jobs=-1,\n",
       "             param_grid={'C': [0.1, 1, 10, 100],\n",
       "                         'gamma': ['scale', 'auto', 0.001, 0.01, 0.1],\n",
       "                         'kernel': ['linear', 'rbf', 'poly']},\n",
       "             scoring='accuracy')"
      ]
     },
     "execution_count": 114,
     "metadata": {},
     "output_type": "execute_result"
    }
   ],
   "source": [
    "param_grid = {\n",
    "    'C': [0.1, 1, 10, 100],\n",
    "    'kernel': ['linear', 'rbf', 'poly'],\n",
    "    'gamma': ['scale', 'auto', 0.001, 0.01, 0.1]\n",
    "}\n",
    "grid_search = GridSearchCV(SVC(random_state=42), param_grid, cv=5, scoring='accuracy', n_jobs= -1)\n",
    "grid_search.fit(X_train, y_train)     \n",
    "\n",
    "###took 180 minutes to run"
   ]
  },
  {
   "cell_type": "code",
   "execution_count": 115,
   "metadata": {},
   "outputs": [
    {
     "data": {
      "text/html": [
       "<style>#sk-container-id-10 {color: black;}#sk-container-id-10 pre{padding: 0;}#sk-container-id-10 div.sk-toggleable {background-color: white;}#sk-container-id-10 label.sk-toggleable__label {cursor: pointer;display: block;width: 100%;margin-bottom: 0;padding: 0.3em;box-sizing: border-box;text-align: center;}#sk-container-id-10 label.sk-toggleable__label-arrow:before {content: \"▸\";float: left;margin-right: 0.25em;color: #696969;}#sk-container-id-10 label.sk-toggleable__label-arrow:hover:before {color: black;}#sk-container-id-10 div.sk-estimator:hover label.sk-toggleable__label-arrow:before {color: black;}#sk-container-id-10 div.sk-toggleable__content {max-height: 0;max-width: 0;overflow: hidden;text-align: left;background-color: #f0f8ff;}#sk-container-id-10 div.sk-toggleable__content pre {margin: 0.2em;color: black;border-radius: 0.25em;background-color: #f0f8ff;}#sk-container-id-10 input.sk-toggleable__control:checked~div.sk-toggleable__content {max-height: 200px;max-width: 100%;overflow: auto;}#sk-container-id-10 input.sk-toggleable__control:checked~label.sk-toggleable__label-arrow:before {content: \"▾\";}#sk-container-id-10 div.sk-estimator input.sk-toggleable__control:checked~label.sk-toggleable__label {background-color: #d4ebff;}#sk-container-id-10 div.sk-label input.sk-toggleable__control:checked~label.sk-toggleable__label {background-color: #d4ebff;}#sk-container-id-10 input.sk-hidden--visually {border: 0;clip: rect(1px 1px 1px 1px);clip: rect(1px, 1px, 1px, 1px);height: 1px;margin: -1px;overflow: hidden;padding: 0;position: absolute;width: 1px;}#sk-container-id-10 div.sk-estimator {font-family: monospace;background-color: #f0f8ff;border: 1px dotted black;border-radius: 0.25em;box-sizing: border-box;margin-bottom: 0.5em;}#sk-container-id-10 div.sk-estimator:hover {background-color: #d4ebff;}#sk-container-id-10 div.sk-parallel-item::after {content: \"\";width: 100%;border-bottom: 1px solid gray;flex-grow: 1;}#sk-container-id-10 div.sk-label:hover label.sk-toggleable__label {background-color: #d4ebff;}#sk-container-id-10 div.sk-serial::before {content: \"\";position: absolute;border-left: 1px solid gray;box-sizing: border-box;top: 0;bottom: 0;left: 50%;z-index: 0;}#sk-container-id-10 div.sk-serial {display: flex;flex-direction: column;align-items: center;background-color: white;padding-right: 0.2em;padding-left: 0.2em;position: relative;}#sk-container-id-10 div.sk-item {position: relative;z-index: 1;}#sk-container-id-10 div.sk-parallel {display: flex;align-items: stretch;justify-content: center;background-color: white;position: relative;}#sk-container-id-10 div.sk-item::before, #sk-container-id-10 div.sk-parallel-item::before {content: \"\";position: absolute;border-left: 1px solid gray;box-sizing: border-box;top: 0;bottom: 0;left: 50%;z-index: -1;}#sk-container-id-10 div.sk-parallel-item {display: flex;flex-direction: column;z-index: 1;position: relative;background-color: white;}#sk-container-id-10 div.sk-parallel-item:first-child::after {align-self: flex-end;width: 50%;}#sk-container-id-10 div.sk-parallel-item:last-child::after {align-self: flex-start;width: 50%;}#sk-container-id-10 div.sk-parallel-item:only-child::after {width: 0;}#sk-container-id-10 div.sk-dashed-wrapped {border: 1px dashed gray;margin: 0 0.4em 0.5em 0.4em;box-sizing: border-box;padding-bottom: 0.4em;background-color: white;}#sk-container-id-10 div.sk-label label {font-family: monospace;font-weight: bold;display: inline-block;line-height: 1.2em;}#sk-container-id-10 div.sk-label-container {text-align: center;}#sk-container-id-10 div.sk-container {/* jupyter's `normalize.less` sets `[hidden] { display: none; }` but bootstrap.min.css set `[hidden] { display: none !important; }` so we also need the `!important` here to be able to override the default hidden behavior on the sphinx rendered scikit-learn.org. See: https://github.com/scikit-learn/scikit-learn/issues/21755 */display: inline-block !important;position: relative;}#sk-container-id-10 div.sk-text-repr-fallback {display: none;}</style><div id=\"sk-container-id-10\" class=\"sk-top-container\"><div class=\"sk-text-repr-fallback\"><pre>SVC(C=1, gamma=0.01, random_state=42)</pre><b>In a Jupyter environment, please rerun this cell to show the HTML representation or trust the notebook. <br />On GitHub, the HTML representation is unable to render, please try loading this page with nbviewer.org.</b></div><div class=\"sk-container\" hidden><div class=\"sk-item\"><div class=\"sk-estimator sk-toggleable\"><input class=\"sk-toggleable__control sk-hidden--visually\" id=\"sk-estimator-id-20\" type=\"checkbox\" checked><label for=\"sk-estimator-id-20\" class=\"sk-toggleable__label sk-toggleable__label-arrow\">SVC</label><div class=\"sk-toggleable__content\"><pre>SVC(C=1, gamma=0.01, random_state=42)</pre></div></div></div></div></div>"
      ],
      "text/plain": [
       "SVC(C=1, gamma=0.01, random_state=42)"
      ]
     },
     "execution_count": 115,
     "metadata": {},
     "output_type": "execute_result"
    }
   ],
   "source": [
    "grid_search.best_estimator_"
   ]
  },
  {
   "cell_type": "code",
   "execution_count": 116,
   "metadata": {},
   "outputs": [
    {
     "name": "stdout",
     "output_type": "stream",
     "text": [
      "{'C': 1, 'gamma': 0.01, 'kernel': 'rbf'}\n"
     ]
    }
   ],
   "source": [
    "print(grid_search.best_params_)"
   ]
  },
  {
   "cell_type": "code",
   "execution_count": 63,
   "metadata": {},
   "outputs": [],
   "source": [
    "y = df['namespace']\n",
    "X_train, X_test, y_train, y_test = train_test_split(X1_normalized, y, test_size=0.2, random_state=42)\n",
    "clf_svm = SVC(C=1, gamma=0.01, random_state=42)\n",
    "clf_svm.fit(X_train, y_train)\n",
    "y_pred = clf_svm.predict(X_test)"
   ]
  },
  {
   "cell_type": "code",
   "execution_count": 64,
   "metadata": {},
   "outputs": [
    {
     "data": {
      "text/plain": [
       "array([[5315,   43,   14],\n",
       "       [ 217,  597,    6],\n",
       "       [  69,   12, 2168]])"
      ]
     },
     "execution_count": 64,
     "metadata": {},
     "output_type": "execute_result"
    }
   ],
   "source": [
    "confusion_matrix(y_test, y_pred)"
   ]
  },
  {
   "cell_type": "code",
   "execution_count": 65,
   "metadata": {},
   "outputs": [
    {
     "data": {
      "text/plain": [
       "0.9572325553844331"
      ]
     },
     "execution_count": 65,
     "metadata": {},
     "output_type": "execute_result"
    }
   ],
   "source": [
    "accuracy_score(y_test, y_pred)"
   ]
  },
  {
   "cell_type": "markdown",
   "metadata": {},
   "source": [
    "#### 2. Ignoring the words that do not appear in 5% of definitions"
   ]
  },
  {
   "cell_type": "code",
   "execution_count": 66,
   "metadata": {},
   "outputs": [],
   "source": [
    "X_train, X_test, y_train, y_test = train_test_split(X5_normalized_downsampled, X5_downsampled_y, test_size=0.2, random_state=42)\n",
    "svm = SVC()\n",
    "svm.fit(X_train, y_train)\n",
    "y_pred = svm.predict(X_test)"
   ]
  },
  {
   "cell_type": "code",
   "execution_count": 67,
   "metadata": {},
   "outputs": [
    {
     "data": {
      "text/plain": [
       "0.38333333333333336"
      ]
     },
     "execution_count": 67,
     "metadata": {},
     "output_type": "execute_result"
    }
   ],
   "source": [
    "accuracy_score(y_test, y_pred)"
   ]
  },
  {
   "cell_type": "code",
   "execution_count": 68,
   "metadata": {},
   "outputs": [
    {
     "data": {
      "text/plain": [
       "array([[261,  97, 169],\n",
       "       [214, 139, 128],\n",
       "       [221,  96, 175]])"
      ]
     },
     "execution_count": 68,
     "metadata": {},
     "output_type": "execute_result"
    }
   ],
   "source": [
    "confusion_matrix(y_test, y_pred)"
   ]
  },
  {
   "cell_type": "code",
   "execution_count": 69,
   "metadata": {},
   "outputs": [
    {
     "data": {
      "text/html": [
       "<style>#sk-container-id-3 {color: black;}#sk-container-id-3 pre{padding: 0;}#sk-container-id-3 div.sk-toggleable {background-color: white;}#sk-container-id-3 label.sk-toggleable__label {cursor: pointer;display: block;width: 100%;margin-bottom: 0;padding: 0.3em;box-sizing: border-box;text-align: center;}#sk-container-id-3 label.sk-toggleable__label-arrow:before {content: \"▸\";float: left;margin-right: 0.25em;color: #696969;}#sk-container-id-3 label.sk-toggleable__label-arrow:hover:before {color: black;}#sk-container-id-3 div.sk-estimator:hover label.sk-toggleable__label-arrow:before {color: black;}#sk-container-id-3 div.sk-toggleable__content {max-height: 0;max-width: 0;overflow: hidden;text-align: left;background-color: #f0f8ff;}#sk-container-id-3 div.sk-toggleable__content pre {margin: 0.2em;color: black;border-radius: 0.25em;background-color: #f0f8ff;}#sk-container-id-3 input.sk-toggleable__control:checked~div.sk-toggleable__content {max-height: 200px;max-width: 100%;overflow: auto;}#sk-container-id-3 input.sk-toggleable__control:checked~label.sk-toggleable__label-arrow:before {content: \"▾\";}#sk-container-id-3 div.sk-estimator input.sk-toggleable__control:checked~label.sk-toggleable__label {background-color: #d4ebff;}#sk-container-id-3 div.sk-label input.sk-toggleable__control:checked~label.sk-toggleable__label {background-color: #d4ebff;}#sk-container-id-3 input.sk-hidden--visually {border: 0;clip: rect(1px 1px 1px 1px);clip: rect(1px, 1px, 1px, 1px);height: 1px;margin: -1px;overflow: hidden;padding: 0;position: absolute;width: 1px;}#sk-container-id-3 div.sk-estimator {font-family: monospace;background-color: #f0f8ff;border: 1px dotted black;border-radius: 0.25em;box-sizing: border-box;margin-bottom: 0.5em;}#sk-container-id-3 div.sk-estimator:hover {background-color: #d4ebff;}#sk-container-id-3 div.sk-parallel-item::after {content: \"\";width: 100%;border-bottom: 1px solid gray;flex-grow: 1;}#sk-container-id-3 div.sk-label:hover label.sk-toggleable__label {background-color: #d4ebff;}#sk-container-id-3 div.sk-serial::before {content: \"\";position: absolute;border-left: 1px solid gray;box-sizing: border-box;top: 0;bottom: 0;left: 50%;z-index: 0;}#sk-container-id-3 div.sk-serial {display: flex;flex-direction: column;align-items: center;background-color: white;padding-right: 0.2em;padding-left: 0.2em;position: relative;}#sk-container-id-3 div.sk-item {position: relative;z-index: 1;}#sk-container-id-3 div.sk-parallel {display: flex;align-items: stretch;justify-content: center;background-color: white;position: relative;}#sk-container-id-3 div.sk-item::before, #sk-container-id-3 div.sk-parallel-item::before {content: \"\";position: absolute;border-left: 1px solid gray;box-sizing: border-box;top: 0;bottom: 0;left: 50%;z-index: -1;}#sk-container-id-3 div.sk-parallel-item {display: flex;flex-direction: column;z-index: 1;position: relative;background-color: white;}#sk-container-id-3 div.sk-parallel-item:first-child::after {align-self: flex-end;width: 50%;}#sk-container-id-3 div.sk-parallel-item:last-child::after {align-self: flex-start;width: 50%;}#sk-container-id-3 div.sk-parallel-item:only-child::after {width: 0;}#sk-container-id-3 div.sk-dashed-wrapped {border: 1px dashed gray;margin: 0 0.4em 0.5em 0.4em;box-sizing: border-box;padding-bottom: 0.4em;background-color: white;}#sk-container-id-3 div.sk-label label {font-family: monospace;font-weight: bold;display: inline-block;line-height: 1.2em;}#sk-container-id-3 div.sk-label-container {text-align: center;}#sk-container-id-3 div.sk-container {/* jupyter's `normalize.less` sets `[hidden] { display: none; }` but bootstrap.min.css set `[hidden] { display: none !important; }` so we also need the `!important` here to be able to override the default hidden behavior on the sphinx rendered scikit-learn.org. See: https://github.com/scikit-learn/scikit-learn/issues/21755 */display: inline-block !important;position: relative;}#sk-container-id-3 div.sk-text-repr-fallback {display: none;}</style><div id=\"sk-container-id-3\" class=\"sk-top-container\"><div class=\"sk-text-repr-fallback\"><pre>GridSearchCV(cv=5, estimator=SVC(random_state=42),\n",
       "             param_grid={&#x27;C&#x27;: [0.1, 1, 10, 100],\n",
       "                         &#x27;gamma&#x27;: [&#x27;scale&#x27;, &#x27;auto&#x27;, 0.001, 0.01, 0.1],\n",
       "                         &#x27;kernel&#x27;: [&#x27;linear&#x27;, &#x27;rbf&#x27;, &#x27;poly&#x27;, &#x27;sigmoid&#x27;]},\n",
       "             scoring=&#x27;accuracy&#x27;)</pre><b>In a Jupyter environment, please rerun this cell to show the HTML representation or trust the notebook. <br />On GitHub, the HTML representation is unable to render, please try loading this page with nbviewer.org.</b></div><div class=\"sk-container\" hidden><div class=\"sk-item sk-dashed-wrapped\"><div class=\"sk-label-container\"><div class=\"sk-label sk-toggleable\"><input class=\"sk-toggleable__control sk-hidden--visually\" id=\"sk-estimator-id-5\" type=\"checkbox\" ><label for=\"sk-estimator-id-5\" class=\"sk-toggleable__label sk-toggleable__label-arrow\">GridSearchCV</label><div class=\"sk-toggleable__content\"><pre>GridSearchCV(cv=5, estimator=SVC(random_state=42),\n",
       "             param_grid={&#x27;C&#x27;: [0.1, 1, 10, 100],\n",
       "                         &#x27;gamma&#x27;: [&#x27;scale&#x27;, &#x27;auto&#x27;, 0.001, 0.01, 0.1],\n",
       "                         &#x27;kernel&#x27;: [&#x27;linear&#x27;, &#x27;rbf&#x27;, &#x27;poly&#x27;, &#x27;sigmoid&#x27;]},\n",
       "             scoring=&#x27;accuracy&#x27;)</pre></div></div></div><div class=\"sk-parallel\"><div class=\"sk-parallel-item\"><div class=\"sk-item\"><div class=\"sk-label-container\"><div class=\"sk-label sk-toggleable\"><input class=\"sk-toggleable__control sk-hidden--visually\" id=\"sk-estimator-id-6\" type=\"checkbox\" ><label for=\"sk-estimator-id-6\" class=\"sk-toggleable__label sk-toggleable__label-arrow\">estimator: SVC</label><div class=\"sk-toggleable__content\"><pre>SVC(random_state=42)</pre></div></div></div><div class=\"sk-serial\"><div class=\"sk-item\"><div class=\"sk-estimator sk-toggleable\"><input class=\"sk-toggleable__control sk-hidden--visually\" id=\"sk-estimator-id-7\" type=\"checkbox\" ><label for=\"sk-estimator-id-7\" class=\"sk-toggleable__label sk-toggleable__label-arrow\">SVC</label><div class=\"sk-toggleable__content\"><pre>SVC(random_state=42)</pre></div></div></div></div></div></div></div></div></div></div>"
      ],
      "text/plain": [
       "GridSearchCV(cv=5, estimator=SVC(random_state=42),\n",
       "             param_grid={'C': [0.1, 1, 10, 100],\n",
       "                         'gamma': ['scale', 'auto', 0.001, 0.01, 0.1],\n",
       "                         'kernel': ['linear', 'rbf', 'poly', 'sigmoid']},\n",
       "             scoring='accuracy')"
      ]
     },
     "execution_count": 69,
     "metadata": {},
     "output_type": "execute_result"
    }
   ],
   "source": [
    "param_grid = {\n",
    "    'C': [0.1, 1, 10, 100],\n",
    "    'kernel': ['linear', 'rbf', 'poly', 'sigmoid'],\n",
    "    'gamma': ['scale', 'auto', 0.001, 0.01, 0.1]\n",
    "}\n",
    "\n",
    "grid_search = GridSearchCV(SVC(random_state=42), param_grid, cv=5, scoring='accuracy')\n",
    "grid_search.fit(X_train, y_train)"
   ]
  },
  {
   "cell_type": "code",
   "execution_count": 70,
   "metadata": {},
   "outputs": [
    {
     "data": {
      "text/plain": [
       "{'C': 1, 'gamma': 0.1, 'kernel': 'poly'}"
      ]
     },
     "execution_count": 70,
     "metadata": {},
     "output_type": "execute_result"
    }
   ],
   "source": [
    "grid_search.best_params_"
   ]
  },
  {
   "cell_type": "code",
   "execution_count": 71,
   "metadata": {},
   "outputs": [
    {
     "data": {
      "text/html": [
       "<style>#sk-container-id-4 {color: black;}#sk-container-id-4 pre{padding: 0;}#sk-container-id-4 div.sk-toggleable {background-color: white;}#sk-container-id-4 label.sk-toggleable__label {cursor: pointer;display: block;width: 100%;margin-bottom: 0;padding: 0.3em;box-sizing: border-box;text-align: center;}#sk-container-id-4 label.sk-toggleable__label-arrow:before {content: \"▸\";float: left;margin-right: 0.25em;color: #696969;}#sk-container-id-4 label.sk-toggleable__label-arrow:hover:before {color: black;}#sk-container-id-4 div.sk-estimator:hover label.sk-toggleable__label-arrow:before {color: black;}#sk-container-id-4 div.sk-toggleable__content {max-height: 0;max-width: 0;overflow: hidden;text-align: left;background-color: #f0f8ff;}#sk-container-id-4 div.sk-toggleable__content pre {margin: 0.2em;color: black;border-radius: 0.25em;background-color: #f0f8ff;}#sk-container-id-4 input.sk-toggleable__control:checked~div.sk-toggleable__content {max-height: 200px;max-width: 100%;overflow: auto;}#sk-container-id-4 input.sk-toggleable__control:checked~label.sk-toggleable__label-arrow:before {content: \"▾\";}#sk-container-id-4 div.sk-estimator input.sk-toggleable__control:checked~label.sk-toggleable__label {background-color: #d4ebff;}#sk-container-id-4 div.sk-label input.sk-toggleable__control:checked~label.sk-toggleable__label {background-color: #d4ebff;}#sk-container-id-4 input.sk-hidden--visually {border: 0;clip: rect(1px 1px 1px 1px);clip: rect(1px, 1px, 1px, 1px);height: 1px;margin: -1px;overflow: hidden;padding: 0;position: absolute;width: 1px;}#sk-container-id-4 div.sk-estimator {font-family: monospace;background-color: #f0f8ff;border: 1px dotted black;border-radius: 0.25em;box-sizing: border-box;margin-bottom: 0.5em;}#sk-container-id-4 div.sk-estimator:hover {background-color: #d4ebff;}#sk-container-id-4 div.sk-parallel-item::after {content: \"\";width: 100%;border-bottom: 1px solid gray;flex-grow: 1;}#sk-container-id-4 div.sk-label:hover label.sk-toggleable__label {background-color: #d4ebff;}#sk-container-id-4 div.sk-serial::before {content: \"\";position: absolute;border-left: 1px solid gray;box-sizing: border-box;top: 0;bottom: 0;left: 50%;z-index: 0;}#sk-container-id-4 div.sk-serial {display: flex;flex-direction: column;align-items: center;background-color: white;padding-right: 0.2em;padding-left: 0.2em;position: relative;}#sk-container-id-4 div.sk-item {position: relative;z-index: 1;}#sk-container-id-4 div.sk-parallel {display: flex;align-items: stretch;justify-content: center;background-color: white;position: relative;}#sk-container-id-4 div.sk-item::before, #sk-container-id-4 div.sk-parallel-item::before {content: \"\";position: absolute;border-left: 1px solid gray;box-sizing: border-box;top: 0;bottom: 0;left: 50%;z-index: -1;}#sk-container-id-4 div.sk-parallel-item {display: flex;flex-direction: column;z-index: 1;position: relative;background-color: white;}#sk-container-id-4 div.sk-parallel-item:first-child::after {align-self: flex-end;width: 50%;}#sk-container-id-4 div.sk-parallel-item:last-child::after {align-self: flex-start;width: 50%;}#sk-container-id-4 div.sk-parallel-item:only-child::after {width: 0;}#sk-container-id-4 div.sk-dashed-wrapped {border: 1px dashed gray;margin: 0 0.4em 0.5em 0.4em;box-sizing: border-box;padding-bottom: 0.4em;background-color: white;}#sk-container-id-4 div.sk-label label {font-family: monospace;font-weight: bold;display: inline-block;line-height: 1.2em;}#sk-container-id-4 div.sk-label-container {text-align: center;}#sk-container-id-4 div.sk-container {/* jupyter's `normalize.less` sets `[hidden] { display: none; }` but bootstrap.min.css set `[hidden] { display: none !important; }` so we also need the `!important` here to be able to override the default hidden behavior on the sphinx rendered scikit-learn.org. See: https://github.com/scikit-learn/scikit-learn/issues/21755 */display: inline-block !important;position: relative;}#sk-container-id-4 div.sk-text-repr-fallback {display: none;}</style><div id=\"sk-container-id-4\" class=\"sk-top-container\"><div class=\"sk-text-repr-fallback\"><pre>SVC(C=1, gamma=0.1, kernel=&#x27;poly&#x27;, random_state=42)</pre><b>In a Jupyter environment, please rerun this cell to show the HTML representation or trust the notebook. <br />On GitHub, the HTML representation is unable to render, please try loading this page with nbviewer.org.</b></div><div class=\"sk-container\" hidden><div class=\"sk-item\"><div class=\"sk-estimator sk-toggleable\"><input class=\"sk-toggleable__control sk-hidden--visually\" id=\"sk-estimator-id-8\" type=\"checkbox\" checked><label for=\"sk-estimator-id-8\" class=\"sk-toggleable__label sk-toggleable__label-arrow\">SVC</label><div class=\"sk-toggleable__content\"><pre>SVC(C=1, gamma=0.1, kernel=&#x27;poly&#x27;, random_state=42)</pre></div></div></div></div></div>"
      ],
      "text/plain": [
       "SVC(C=1, gamma=0.1, kernel='poly', random_state=42)"
      ]
     },
     "execution_count": 71,
     "metadata": {},
     "output_type": "execute_result"
    }
   ],
   "source": [
    "grid_search.best_estimator_"
   ]
  },
  {
   "cell_type": "code",
   "execution_count": 72,
   "metadata": {},
   "outputs": [],
   "source": [
    "y = df['namespace']\n",
    "X_train, X_test, y_train, y_test = train_test_split(X5_normalized, y, test_size=0.2, random_state=42)\n",
    "clf_svm = SVC(C=1, gamma=0.1, kernel='poly', random_state=42)\n",
    "clf_svm.fit(X_train, y_train)\n",
    "y_pred = clf_svm.predict(X_test)"
   ]
  },
  {
   "cell_type": "code",
   "execution_count": 73,
   "metadata": {},
   "outputs": [
    {
     "data": {
      "text/plain": [
       "array([[5240,   88,   44],\n",
       "       [ 297,  508,   15],\n",
       "       [  79,  120, 2050]])"
      ]
     },
     "execution_count": 73,
     "metadata": {},
     "output_type": "execute_result"
    }
   ],
   "source": [
    "confusion_matrix(y_test, y_pred)"
   ]
  },
  {
   "cell_type": "code",
   "execution_count": 74,
   "metadata": {},
   "outputs": [
    {
     "data": {
      "text/plain": [
       "0.9238241914465111"
      ]
     },
     "execution_count": 74,
     "metadata": {},
     "output_type": "execute_result"
    }
   ],
   "source": [
    "accuracy_score(y_test, y_pred)"
   ]
  },
  {
   "cell_type": "markdown",
   "metadata": {},
   "source": [
    "## Random Forests"
   ]
  },
  {
   "cell_type": "markdown",
   "metadata": {},
   "source": [
    "### Non Normalised Dataset"
   ]
  },
  {
   "cell_type": "markdown",
   "metadata": {},
   "source": [
    "#### 1.ignoring words not appearing in 1% defs\n"
   ]
  },
  {
   "cell_type": "code",
   "execution_count": 75,
   "metadata": {},
   "outputs": [
    {
     "data": {
      "text/html": [
       "<style>#sk-container-id-5 {color: black;}#sk-container-id-5 pre{padding: 0;}#sk-container-id-5 div.sk-toggleable {background-color: white;}#sk-container-id-5 label.sk-toggleable__label {cursor: pointer;display: block;width: 100%;margin-bottom: 0;padding: 0.3em;box-sizing: border-box;text-align: center;}#sk-container-id-5 label.sk-toggleable__label-arrow:before {content: \"▸\";float: left;margin-right: 0.25em;color: #696969;}#sk-container-id-5 label.sk-toggleable__label-arrow:hover:before {color: black;}#sk-container-id-5 div.sk-estimator:hover label.sk-toggleable__label-arrow:before {color: black;}#sk-container-id-5 div.sk-toggleable__content {max-height: 0;max-width: 0;overflow: hidden;text-align: left;background-color: #f0f8ff;}#sk-container-id-5 div.sk-toggleable__content pre {margin: 0.2em;color: black;border-radius: 0.25em;background-color: #f0f8ff;}#sk-container-id-5 input.sk-toggleable__control:checked~div.sk-toggleable__content {max-height: 200px;max-width: 100%;overflow: auto;}#sk-container-id-5 input.sk-toggleable__control:checked~label.sk-toggleable__label-arrow:before {content: \"▾\";}#sk-container-id-5 div.sk-estimator input.sk-toggleable__control:checked~label.sk-toggleable__label {background-color: #d4ebff;}#sk-container-id-5 div.sk-label input.sk-toggleable__control:checked~label.sk-toggleable__label {background-color: #d4ebff;}#sk-container-id-5 input.sk-hidden--visually {border: 0;clip: rect(1px 1px 1px 1px);clip: rect(1px, 1px, 1px, 1px);height: 1px;margin: -1px;overflow: hidden;padding: 0;position: absolute;width: 1px;}#sk-container-id-5 div.sk-estimator {font-family: monospace;background-color: #f0f8ff;border: 1px dotted black;border-radius: 0.25em;box-sizing: border-box;margin-bottom: 0.5em;}#sk-container-id-5 div.sk-estimator:hover {background-color: #d4ebff;}#sk-container-id-5 div.sk-parallel-item::after {content: \"\";width: 100%;border-bottom: 1px solid gray;flex-grow: 1;}#sk-container-id-5 div.sk-label:hover label.sk-toggleable__label {background-color: #d4ebff;}#sk-container-id-5 div.sk-serial::before {content: \"\";position: absolute;border-left: 1px solid gray;box-sizing: border-box;top: 0;bottom: 0;left: 50%;z-index: 0;}#sk-container-id-5 div.sk-serial {display: flex;flex-direction: column;align-items: center;background-color: white;padding-right: 0.2em;padding-left: 0.2em;position: relative;}#sk-container-id-5 div.sk-item {position: relative;z-index: 1;}#sk-container-id-5 div.sk-parallel {display: flex;align-items: stretch;justify-content: center;background-color: white;position: relative;}#sk-container-id-5 div.sk-item::before, #sk-container-id-5 div.sk-parallel-item::before {content: \"\";position: absolute;border-left: 1px solid gray;box-sizing: border-box;top: 0;bottom: 0;left: 50%;z-index: -1;}#sk-container-id-5 div.sk-parallel-item {display: flex;flex-direction: column;z-index: 1;position: relative;background-color: white;}#sk-container-id-5 div.sk-parallel-item:first-child::after {align-self: flex-end;width: 50%;}#sk-container-id-5 div.sk-parallel-item:last-child::after {align-self: flex-start;width: 50%;}#sk-container-id-5 div.sk-parallel-item:only-child::after {width: 0;}#sk-container-id-5 div.sk-dashed-wrapped {border: 1px dashed gray;margin: 0 0.4em 0.5em 0.4em;box-sizing: border-box;padding-bottom: 0.4em;background-color: white;}#sk-container-id-5 div.sk-label label {font-family: monospace;font-weight: bold;display: inline-block;line-height: 1.2em;}#sk-container-id-5 div.sk-label-container {text-align: center;}#sk-container-id-5 div.sk-container {/* jupyter's `normalize.less` sets `[hidden] { display: none; }` but bootstrap.min.css set `[hidden] { display: none !important; }` so we also need the `!important` here to be able to override the default hidden behavior on the sphinx rendered scikit-learn.org. See: https://github.com/scikit-learn/scikit-learn/issues/21755 */display: inline-block !important;position: relative;}#sk-container-id-5 div.sk-text-repr-fallback {display: none;}</style><div id=\"sk-container-id-5\" class=\"sk-top-container\"><div class=\"sk-text-repr-fallback\"><pre>GridSearchCV(cv=5, estimator=RandomForestClassifier(random_state=42), n_jobs=-1,\n",
       "             param_grid={&#x27;bootstrap&#x27;: [True, False],\n",
       "                         &#x27;max_depth&#x27;: [10, 20, 30, None],\n",
       "                         &#x27;min_samples_leaf&#x27;: [1, 2, 4],\n",
       "                         &#x27;min_samples_split&#x27;: [2, 5, 10],\n",
       "                         &#x27;n_estimators&#x27;: [30, 60, 100, 200, 300]},\n",
       "             scoring=&#x27;accuracy&#x27;)</pre><b>In a Jupyter environment, please rerun this cell to show the HTML representation or trust the notebook. <br />On GitHub, the HTML representation is unable to render, please try loading this page with nbviewer.org.</b></div><div class=\"sk-container\" hidden><div class=\"sk-item sk-dashed-wrapped\"><div class=\"sk-label-container\"><div class=\"sk-label sk-toggleable\"><input class=\"sk-toggleable__control sk-hidden--visually\" id=\"sk-estimator-id-9\" type=\"checkbox\" ><label for=\"sk-estimator-id-9\" class=\"sk-toggleable__label sk-toggleable__label-arrow\">GridSearchCV</label><div class=\"sk-toggleable__content\"><pre>GridSearchCV(cv=5, estimator=RandomForestClassifier(random_state=42), n_jobs=-1,\n",
       "             param_grid={&#x27;bootstrap&#x27;: [True, False],\n",
       "                         &#x27;max_depth&#x27;: [10, 20, 30, None],\n",
       "                         &#x27;min_samples_leaf&#x27;: [1, 2, 4],\n",
       "                         &#x27;min_samples_split&#x27;: [2, 5, 10],\n",
       "                         &#x27;n_estimators&#x27;: [30, 60, 100, 200, 300]},\n",
       "             scoring=&#x27;accuracy&#x27;)</pre></div></div></div><div class=\"sk-parallel\"><div class=\"sk-parallel-item\"><div class=\"sk-item\"><div class=\"sk-label-container\"><div class=\"sk-label sk-toggleable\"><input class=\"sk-toggleable__control sk-hidden--visually\" id=\"sk-estimator-id-10\" type=\"checkbox\" ><label for=\"sk-estimator-id-10\" class=\"sk-toggleable__label sk-toggleable__label-arrow\">estimator: RandomForestClassifier</label><div class=\"sk-toggleable__content\"><pre>RandomForestClassifier(random_state=42)</pre></div></div></div><div class=\"sk-serial\"><div class=\"sk-item\"><div class=\"sk-estimator sk-toggleable\"><input class=\"sk-toggleable__control sk-hidden--visually\" id=\"sk-estimator-id-11\" type=\"checkbox\" ><label for=\"sk-estimator-id-11\" class=\"sk-toggleable__label sk-toggleable__label-arrow\">RandomForestClassifier</label><div class=\"sk-toggleable__content\"><pre>RandomForestClassifier(random_state=42)</pre></div></div></div></div></div></div></div></div></div></div>"
      ],
      "text/plain": [
       "GridSearchCV(cv=5, estimator=RandomForestClassifier(random_state=42), n_jobs=-1,\n",
       "             param_grid={'bootstrap': [True, False],\n",
       "                         'max_depth': [10, 20, 30, None],\n",
       "                         'min_samples_leaf': [1, 2, 4],\n",
       "                         'min_samples_split': [2, 5, 10],\n",
       "                         'n_estimators': [30, 60, 100, 200, 300]},\n",
       "             scoring='accuracy')"
      ]
     },
     "execution_count": 75,
     "metadata": {},
     "output_type": "execute_result"
    }
   ],
   "source": [
    "X_train, X_test, y_train, y_test = train_test_split(X1_df_downsampled,X1_downsampled_y, test_size=0.2, random_state=42)\n",
    "\n",
    "param_distributions = {\n",
    "    'n_estimators': [30,60, 100, 200, 300],\n",
    "    'max_depth': [10, 20, 30, None],\n",
    "    'min_samples_split': [2, 5, 10],\n",
    "    'min_samples_leaf': [1, 2, 4],\n",
    "    'bootstrap': [True, False]\n",
    "}\n",
    "\n",
    "grid_search = GridSearchCV(RandomForestClassifier(random_state = 42), param_distributions, cv=5, scoring='accuracy', n_jobs=-1)\n",
    "grid_search.fit(X_train, y_train)"
   ]
  },
  {
   "cell_type": "code",
   "execution_count": 78,
   "metadata": {},
   "outputs": [
    {
     "data": {
      "text/html": [
       "<style>#sk-container-id-7 {color: black;}#sk-container-id-7 pre{padding: 0;}#sk-container-id-7 div.sk-toggleable {background-color: white;}#sk-container-id-7 label.sk-toggleable__label {cursor: pointer;display: block;width: 100%;margin-bottom: 0;padding: 0.3em;box-sizing: border-box;text-align: center;}#sk-container-id-7 label.sk-toggleable__label-arrow:before {content: \"▸\";float: left;margin-right: 0.25em;color: #696969;}#sk-container-id-7 label.sk-toggleable__label-arrow:hover:before {color: black;}#sk-container-id-7 div.sk-estimator:hover label.sk-toggleable__label-arrow:before {color: black;}#sk-container-id-7 div.sk-toggleable__content {max-height: 0;max-width: 0;overflow: hidden;text-align: left;background-color: #f0f8ff;}#sk-container-id-7 div.sk-toggleable__content pre {margin: 0.2em;color: black;border-radius: 0.25em;background-color: #f0f8ff;}#sk-container-id-7 input.sk-toggleable__control:checked~div.sk-toggleable__content {max-height: 200px;max-width: 100%;overflow: auto;}#sk-container-id-7 input.sk-toggleable__control:checked~label.sk-toggleable__label-arrow:before {content: \"▾\";}#sk-container-id-7 div.sk-estimator input.sk-toggleable__control:checked~label.sk-toggleable__label {background-color: #d4ebff;}#sk-container-id-7 div.sk-label input.sk-toggleable__control:checked~label.sk-toggleable__label {background-color: #d4ebff;}#sk-container-id-7 input.sk-hidden--visually {border: 0;clip: rect(1px 1px 1px 1px);clip: rect(1px, 1px, 1px, 1px);height: 1px;margin: -1px;overflow: hidden;padding: 0;position: absolute;width: 1px;}#sk-container-id-7 div.sk-estimator {font-family: monospace;background-color: #f0f8ff;border: 1px dotted black;border-radius: 0.25em;box-sizing: border-box;margin-bottom: 0.5em;}#sk-container-id-7 div.sk-estimator:hover {background-color: #d4ebff;}#sk-container-id-7 div.sk-parallel-item::after {content: \"\";width: 100%;border-bottom: 1px solid gray;flex-grow: 1;}#sk-container-id-7 div.sk-label:hover label.sk-toggleable__label {background-color: #d4ebff;}#sk-container-id-7 div.sk-serial::before {content: \"\";position: absolute;border-left: 1px solid gray;box-sizing: border-box;top: 0;bottom: 0;left: 50%;z-index: 0;}#sk-container-id-7 div.sk-serial {display: flex;flex-direction: column;align-items: center;background-color: white;padding-right: 0.2em;padding-left: 0.2em;position: relative;}#sk-container-id-7 div.sk-item {position: relative;z-index: 1;}#sk-container-id-7 div.sk-parallel {display: flex;align-items: stretch;justify-content: center;background-color: white;position: relative;}#sk-container-id-7 div.sk-item::before, #sk-container-id-7 div.sk-parallel-item::before {content: \"\";position: absolute;border-left: 1px solid gray;box-sizing: border-box;top: 0;bottom: 0;left: 50%;z-index: -1;}#sk-container-id-7 div.sk-parallel-item {display: flex;flex-direction: column;z-index: 1;position: relative;background-color: white;}#sk-container-id-7 div.sk-parallel-item:first-child::after {align-self: flex-end;width: 50%;}#sk-container-id-7 div.sk-parallel-item:last-child::after {align-self: flex-start;width: 50%;}#sk-container-id-7 div.sk-parallel-item:only-child::after {width: 0;}#sk-container-id-7 div.sk-dashed-wrapped {border: 1px dashed gray;margin: 0 0.4em 0.5em 0.4em;box-sizing: border-box;padding-bottom: 0.4em;background-color: white;}#sk-container-id-7 div.sk-label label {font-family: monospace;font-weight: bold;display: inline-block;line-height: 1.2em;}#sk-container-id-7 div.sk-label-container {text-align: center;}#sk-container-id-7 div.sk-container {/* jupyter's `normalize.less` sets `[hidden] { display: none; }` but bootstrap.min.css set `[hidden] { display: none !important; }` so we also need the `!important` here to be able to override the default hidden behavior on the sphinx rendered scikit-learn.org. See: https://github.com/scikit-learn/scikit-learn/issues/21755 */display: inline-block !important;position: relative;}#sk-container-id-7 div.sk-text-repr-fallback {display: none;}</style><div id=\"sk-container-id-7\" class=\"sk-top-container\"><div class=\"sk-text-repr-fallback\"><pre>RandomForestClassifier(min_samples_split=5, n_estimators=30, random_state=42)</pre><b>In a Jupyter environment, please rerun this cell to show the HTML representation or trust the notebook. <br />On GitHub, the HTML representation is unable to render, please try loading this page with nbviewer.org.</b></div><div class=\"sk-container\" hidden><div class=\"sk-item\"><div class=\"sk-estimator sk-toggleable\"><input class=\"sk-toggleable__control sk-hidden--visually\" id=\"sk-estimator-id-13\" type=\"checkbox\" checked><label for=\"sk-estimator-id-13\" class=\"sk-toggleable__label sk-toggleable__label-arrow\">RandomForestClassifier</label><div class=\"sk-toggleable__content\"><pre>RandomForestClassifier(min_samples_split=5, n_estimators=30, random_state=42)</pre></div></div></div></div></div>"
      ],
      "text/plain": [
       "RandomForestClassifier(min_samples_split=5, n_estimators=30, random_state=42)"
      ]
     },
     "execution_count": 78,
     "metadata": {},
     "output_type": "execute_result"
    }
   ],
   "source": [
    "grid_search.best_estimator_"
   ]
  },
  {
   "cell_type": "code",
   "execution_count": 79,
   "metadata": {},
   "outputs": [
    {
     "data": {
      "text/plain": [
       "{'bootstrap': True,\n",
       " 'max_depth': None,\n",
       " 'min_samples_leaf': 1,\n",
       " 'min_samples_split': 5,\n",
       " 'n_estimators': 30}"
      ]
     },
     "execution_count": 79,
     "metadata": {},
     "output_type": "execute_result"
    }
   ],
   "source": [
    "grid_search.best_params_"
   ]
  },
  {
   "cell_type": "code",
   "execution_count": 32,
   "metadata": {},
   "outputs": [],
   "source": [
    "y  = df['namespace']\n",
    "X_train, X_test, y_train, y_test = train_test_split(X1_df,y, test_size=0.2, random_state=42)\n",
    "best_rf = RandomForestClassifier(min_samples_split=5, n_estimators=30, random_state=42)\n",
    "best_rf.fit(X_train, y_train)\n",
    "y_pred = best_rf.predict(X_test)\n",
    "\n"
   ]
  },
  {
   "cell_type": "code",
   "execution_count": 33,
   "metadata": {},
   "outputs": [
    {
     "data": {
      "text/plain": [
       "0.9702641867077361"
      ]
     },
     "execution_count": 33,
     "metadata": {},
     "output_type": "execute_result"
    }
   ],
   "source": [
    "accuracy_score(y_test, y_pred)"
   ]
  },
  {
   "cell_type": "markdown",
   "metadata": {},
   "source": [
    "#### 2.ignoring words not appearing in 5% defs\n"
   ]
  },
  {
   "cell_type": "code",
   "execution_count": 59,
   "metadata": {},
   "outputs": [],
   "source": [
    "X_train, X_test, y_train, y_test = train_test_split(X5_df_downsampled, X5_downsampled_y, test_size=0.2, random_state=42)"
   ]
  },
  {
   "cell_type": "code",
   "execution_count": 60,
   "metadata": {},
   "outputs": [
    {
     "data": {
      "text/html": [
       "<style>#sk-container-id-1 {color: black;}#sk-container-id-1 pre{padding: 0;}#sk-container-id-1 div.sk-toggleable {background-color: white;}#sk-container-id-1 label.sk-toggleable__label {cursor: pointer;display: block;width: 100%;margin-bottom: 0;padding: 0.3em;box-sizing: border-box;text-align: center;}#sk-container-id-1 label.sk-toggleable__label-arrow:before {content: \"▸\";float: left;margin-right: 0.25em;color: #696969;}#sk-container-id-1 label.sk-toggleable__label-arrow:hover:before {color: black;}#sk-container-id-1 div.sk-estimator:hover label.sk-toggleable__label-arrow:before {color: black;}#sk-container-id-1 div.sk-toggleable__content {max-height: 0;max-width: 0;overflow: hidden;text-align: left;background-color: #f0f8ff;}#sk-container-id-1 div.sk-toggleable__content pre {margin: 0.2em;color: black;border-radius: 0.25em;background-color: #f0f8ff;}#sk-container-id-1 input.sk-toggleable__control:checked~div.sk-toggleable__content {max-height: 200px;max-width: 100%;overflow: auto;}#sk-container-id-1 input.sk-toggleable__control:checked~label.sk-toggleable__label-arrow:before {content: \"▾\";}#sk-container-id-1 div.sk-estimator input.sk-toggleable__control:checked~label.sk-toggleable__label {background-color: #d4ebff;}#sk-container-id-1 div.sk-label input.sk-toggleable__control:checked~label.sk-toggleable__label {background-color: #d4ebff;}#sk-container-id-1 input.sk-hidden--visually {border: 0;clip: rect(1px 1px 1px 1px);clip: rect(1px, 1px, 1px, 1px);height: 1px;margin: -1px;overflow: hidden;padding: 0;position: absolute;width: 1px;}#sk-container-id-1 div.sk-estimator {font-family: monospace;background-color: #f0f8ff;border: 1px dotted black;border-radius: 0.25em;box-sizing: border-box;margin-bottom: 0.5em;}#sk-container-id-1 div.sk-estimator:hover {background-color: #d4ebff;}#sk-container-id-1 div.sk-parallel-item::after {content: \"\";width: 100%;border-bottom: 1px solid gray;flex-grow: 1;}#sk-container-id-1 div.sk-label:hover label.sk-toggleable__label {background-color: #d4ebff;}#sk-container-id-1 div.sk-serial::before {content: \"\";position: absolute;border-left: 1px solid gray;box-sizing: border-box;top: 0;bottom: 0;left: 50%;z-index: 0;}#sk-container-id-1 div.sk-serial {display: flex;flex-direction: column;align-items: center;background-color: white;padding-right: 0.2em;padding-left: 0.2em;position: relative;}#sk-container-id-1 div.sk-item {position: relative;z-index: 1;}#sk-container-id-1 div.sk-parallel {display: flex;align-items: stretch;justify-content: center;background-color: white;position: relative;}#sk-container-id-1 div.sk-item::before, #sk-container-id-1 div.sk-parallel-item::before {content: \"\";position: absolute;border-left: 1px solid gray;box-sizing: border-box;top: 0;bottom: 0;left: 50%;z-index: -1;}#sk-container-id-1 div.sk-parallel-item {display: flex;flex-direction: column;z-index: 1;position: relative;background-color: white;}#sk-container-id-1 div.sk-parallel-item:first-child::after {align-self: flex-end;width: 50%;}#sk-container-id-1 div.sk-parallel-item:last-child::after {align-self: flex-start;width: 50%;}#sk-container-id-1 div.sk-parallel-item:only-child::after {width: 0;}#sk-container-id-1 div.sk-dashed-wrapped {border: 1px dashed gray;margin: 0 0.4em 0.5em 0.4em;box-sizing: border-box;padding-bottom: 0.4em;background-color: white;}#sk-container-id-1 div.sk-label label {font-family: monospace;font-weight: bold;display: inline-block;line-height: 1.2em;}#sk-container-id-1 div.sk-label-container {text-align: center;}#sk-container-id-1 div.sk-container {/* jupyter's `normalize.less` sets `[hidden] { display: none; }` but bootstrap.min.css set `[hidden] { display: none !important; }` so we also need the `!important` here to be able to override the default hidden behavior on the sphinx rendered scikit-learn.org. See: https://github.com/scikit-learn/scikit-learn/issues/21755 */display: inline-block !important;position: relative;}#sk-container-id-1 div.sk-text-repr-fallback {display: none;}</style><div id=\"sk-container-id-1\" class=\"sk-top-container\"><div class=\"sk-text-repr-fallback\"><pre>GridSearchCV(cv=5, estimator=RandomForestClassifier(random_state=42), n_jobs=-1,\n",
       "             param_grid={&#x27;bootstrap&#x27;: [True, False],\n",
       "                         &#x27;max_depth&#x27;: [10, 20, 30, 50, 10, 300, None],\n",
       "                         &#x27;min_samples_leaf&#x27;: [1, 2, 4],\n",
       "                         &#x27;min_samples_split&#x27;: [2, 5, 10],\n",
       "                         &#x27;n_estimators&#x27;: [10, 30, 60, 100, 200, 300]},\n",
       "             scoring=&#x27;accuracy&#x27;)</pre><b>In a Jupyter environment, please rerun this cell to show the HTML representation or trust the notebook. <br />On GitHub, the HTML representation is unable to render, please try loading this page with nbviewer.org.</b></div><div class=\"sk-container\" hidden><div class=\"sk-item sk-dashed-wrapped\"><div class=\"sk-label-container\"><div class=\"sk-label sk-toggleable\"><input class=\"sk-toggleable__control sk-hidden--visually\" id=\"sk-estimator-id-1\" type=\"checkbox\" ><label for=\"sk-estimator-id-1\" class=\"sk-toggleable__label sk-toggleable__label-arrow\">GridSearchCV</label><div class=\"sk-toggleable__content\"><pre>GridSearchCV(cv=5, estimator=RandomForestClassifier(random_state=42), n_jobs=-1,\n",
       "             param_grid={&#x27;bootstrap&#x27;: [True, False],\n",
       "                         &#x27;max_depth&#x27;: [10, 20, 30, 50, 10, 300, None],\n",
       "                         &#x27;min_samples_leaf&#x27;: [1, 2, 4],\n",
       "                         &#x27;min_samples_split&#x27;: [2, 5, 10],\n",
       "                         &#x27;n_estimators&#x27;: [10, 30, 60, 100, 200, 300]},\n",
       "             scoring=&#x27;accuracy&#x27;)</pre></div></div></div><div class=\"sk-parallel\"><div class=\"sk-parallel-item\"><div class=\"sk-item\"><div class=\"sk-label-container\"><div class=\"sk-label sk-toggleable\"><input class=\"sk-toggleable__control sk-hidden--visually\" id=\"sk-estimator-id-2\" type=\"checkbox\" ><label for=\"sk-estimator-id-2\" class=\"sk-toggleable__label sk-toggleable__label-arrow\">estimator: RandomForestClassifier</label><div class=\"sk-toggleable__content\"><pre>RandomForestClassifier(random_state=42)</pre></div></div></div><div class=\"sk-serial\"><div class=\"sk-item\"><div class=\"sk-estimator sk-toggleable\"><input class=\"sk-toggleable__control sk-hidden--visually\" id=\"sk-estimator-id-3\" type=\"checkbox\" ><label for=\"sk-estimator-id-3\" class=\"sk-toggleable__label sk-toggleable__label-arrow\">RandomForestClassifier</label><div class=\"sk-toggleable__content\"><pre>RandomForestClassifier(random_state=42)</pre></div></div></div></div></div></div></div></div></div></div>"
      ],
      "text/plain": [
       "GridSearchCV(cv=5, estimator=RandomForestClassifier(random_state=42), n_jobs=-1,\n",
       "             param_grid={'bootstrap': [True, False],\n",
       "                         'max_depth': [10, 20, 30, 50, 10, 300, None],\n",
       "                         'min_samples_leaf': [1, 2, 4],\n",
       "                         'min_samples_split': [2, 5, 10],\n",
       "                         'n_estimators': [10, 30, 60, 100, 200, 300]},\n",
       "             scoring='accuracy')"
      ]
     },
     "execution_count": 60,
     "metadata": {},
     "output_type": "execute_result"
    }
   ],
   "source": [
    "param_distributions = {\n",
    "    'n_estimators': [10, 30,60, 100, 200, 300],\n",
    "    'max_depth': [10, 20, 30, 50, 10, 300, None],\n",
    "    'min_samples_split': [2, 5, 10],\n",
    "    'min_samples_leaf': [1, 2, 4],\n",
    "    'bootstrap': [True, False]\n",
    "}\n",
    "\n",
    "grid_search = GridSearchCV(RandomForestClassifier(random_state=42), param_distributions, cv=5, scoring='accuracy', n_jobs=-1)\n",
    "grid_search.fit(X_train, y_train)"
   ]
  },
  {
   "cell_type": "code",
   "execution_count": 62,
   "metadata": {},
   "outputs": [
    {
     "data": {
      "text/html": [
       "<style>#sk-container-id-2 {color: black;}#sk-container-id-2 pre{padding: 0;}#sk-container-id-2 div.sk-toggleable {background-color: white;}#sk-container-id-2 label.sk-toggleable__label {cursor: pointer;display: block;width: 100%;margin-bottom: 0;padding: 0.3em;box-sizing: border-box;text-align: center;}#sk-container-id-2 label.sk-toggleable__label-arrow:before {content: \"▸\";float: left;margin-right: 0.25em;color: #696969;}#sk-container-id-2 label.sk-toggleable__label-arrow:hover:before {color: black;}#sk-container-id-2 div.sk-estimator:hover label.sk-toggleable__label-arrow:before {color: black;}#sk-container-id-2 div.sk-toggleable__content {max-height: 0;max-width: 0;overflow: hidden;text-align: left;background-color: #f0f8ff;}#sk-container-id-2 div.sk-toggleable__content pre {margin: 0.2em;color: black;border-radius: 0.25em;background-color: #f0f8ff;}#sk-container-id-2 input.sk-toggleable__control:checked~div.sk-toggleable__content {max-height: 200px;max-width: 100%;overflow: auto;}#sk-container-id-2 input.sk-toggleable__control:checked~label.sk-toggleable__label-arrow:before {content: \"▾\";}#sk-container-id-2 div.sk-estimator input.sk-toggleable__control:checked~label.sk-toggleable__label {background-color: #d4ebff;}#sk-container-id-2 div.sk-label input.sk-toggleable__control:checked~label.sk-toggleable__label {background-color: #d4ebff;}#sk-container-id-2 input.sk-hidden--visually {border: 0;clip: rect(1px 1px 1px 1px);clip: rect(1px, 1px, 1px, 1px);height: 1px;margin: -1px;overflow: hidden;padding: 0;position: absolute;width: 1px;}#sk-container-id-2 div.sk-estimator {font-family: monospace;background-color: #f0f8ff;border: 1px dotted black;border-radius: 0.25em;box-sizing: border-box;margin-bottom: 0.5em;}#sk-container-id-2 div.sk-estimator:hover {background-color: #d4ebff;}#sk-container-id-2 div.sk-parallel-item::after {content: \"\";width: 100%;border-bottom: 1px solid gray;flex-grow: 1;}#sk-container-id-2 div.sk-label:hover label.sk-toggleable__label {background-color: #d4ebff;}#sk-container-id-2 div.sk-serial::before {content: \"\";position: absolute;border-left: 1px solid gray;box-sizing: border-box;top: 0;bottom: 0;left: 50%;z-index: 0;}#sk-container-id-2 div.sk-serial {display: flex;flex-direction: column;align-items: center;background-color: white;padding-right: 0.2em;padding-left: 0.2em;position: relative;}#sk-container-id-2 div.sk-item {position: relative;z-index: 1;}#sk-container-id-2 div.sk-parallel {display: flex;align-items: stretch;justify-content: center;background-color: white;position: relative;}#sk-container-id-2 div.sk-item::before, #sk-container-id-2 div.sk-parallel-item::before {content: \"\";position: absolute;border-left: 1px solid gray;box-sizing: border-box;top: 0;bottom: 0;left: 50%;z-index: -1;}#sk-container-id-2 div.sk-parallel-item {display: flex;flex-direction: column;z-index: 1;position: relative;background-color: white;}#sk-container-id-2 div.sk-parallel-item:first-child::after {align-self: flex-end;width: 50%;}#sk-container-id-2 div.sk-parallel-item:last-child::after {align-self: flex-start;width: 50%;}#sk-container-id-2 div.sk-parallel-item:only-child::after {width: 0;}#sk-container-id-2 div.sk-dashed-wrapped {border: 1px dashed gray;margin: 0 0.4em 0.5em 0.4em;box-sizing: border-box;padding-bottom: 0.4em;background-color: white;}#sk-container-id-2 div.sk-label label {font-family: monospace;font-weight: bold;display: inline-block;line-height: 1.2em;}#sk-container-id-2 div.sk-label-container {text-align: center;}#sk-container-id-2 div.sk-container {/* jupyter's `normalize.less` sets `[hidden] { display: none; }` but bootstrap.min.css set `[hidden] { display: none !important; }` so we also need the `!important` here to be able to override the default hidden behavior on the sphinx rendered scikit-learn.org. See: https://github.com/scikit-learn/scikit-learn/issues/21755 */display: inline-block !important;position: relative;}#sk-container-id-2 div.sk-text-repr-fallback {display: none;}</style><div id=\"sk-container-id-2\" class=\"sk-top-container\"><div class=\"sk-text-repr-fallback\"><pre>RandomForestClassifier(bootstrap=False, max_depth=50, min_samples_leaf=4,\n",
       "                       min_samples_split=10, n_estimators=30, random_state=42)</pre><b>In a Jupyter environment, please rerun this cell to show the HTML representation or trust the notebook. <br />On GitHub, the HTML representation is unable to render, please try loading this page with nbviewer.org.</b></div><div class=\"sk-container\" hidden><div class=\"sk-item\"><div class=\"sk-estimator sk-toggleable\"><input class=\"sk-toggleable__control sk-hidden--visually\" id=\"sk-estimator-id-4\" type=\"checkbox\" checked><label for=\"sk-estimator-id-4\" class=\"sk-toggleable__label sk-toggleable__label-arrow\">RandomForestClassifier</label><div class=\"sk-toggleable__content\"><pre>RandomForestClassifier(bootstrap=False, max_depth=50, min_samples_leaf=4,\n",
       "                       min_samples_split=10, n_estimators=30, random_state=42)</pre></div></div></div></div></div>"
      ],
      "text/plain": [
       "RandomForestClassifier(bootstrap=False, max_depth=50, min_samples_leaf=4,\n",
       "                       min_samples_split=10, n_estimators=30, random_state=42)"
      ]
     },
     "execution_count": 62,
     "metadata": {},
     "output_type": "execute_result"
    }
   ],
   "source": [
    "grid_search.best_estimator_"
   ]
  },
  {
   "cell_type": "code",
   "execution_count": 61,
   "metadata": {},
   "outputs": [
    {
     "data": {
      "text/plain": [
       "{'bootstrap': False,\n",
       " 'max_depth': 50,\n",
       " 'min_samples_leaf': 4,\n",
       " 'min_samples_split': 10,\n",
       " 'n_estimators': 30}"
      ]
     },
     "execution_count": 61,
     "metadata": {},
     "output_type": "execute_result"
    }
   ],
   "source": [
    "grid_search.best_params_"
   ]
  },
  {
   "cell_type": "code",
   "execution_count": 63,
   "metadata": {},
   "outputs": [],
   "source": [
    "y  = df['namespace']\n",
    "X_train, X_test, y_train, y_test = train_test_split(X5_df,y, test_size=0.2, random_state=42)"
   ]
  },
  {
   "cell_type": "code",
   "execution_count": 64,
   "metadata": {},
   "outputs": [],
   "source": [
    "best_rf = grid_search.best_estimator_\n",
    "best_rf.fit(X_train, y_train)\n",
    "y_pred = best_rf.predict(X_test)"
   ]
  },
  {
   "cell_type": "code",
   "execution_count": 65,
   "metadata": {},
   "outputs": [
    {
     "data": {
      "text/plain": [
       "0.9246534770761758"
      ]
     },
     "execution_count": 65,
     "metadata": {},
     "output_type": "execute_result"
    }
   ],
   "source": [
    "accuracy_score(y_test, y_pred)"
   ]
  },
  {
   "cell_type": "markdown",
   "metadata": {},
   "source": [
    "#### Normalised Dataset"
   ]
  },
  {
   "cell_type": "markdown",
   "metadata": {},
   "source": [
    "#### 1. ignoring words not appearing in 1% defs\n"
   ]
  },
  {
   "cell_type": "code",
   "execution_count": 66,
   "metadata": {},
   "outputs": [],
   "source": [
    "X_train, X_test, y_train, y_test = train_test_split(X1_normalized_downsampled, X1_downsampled_y, test_size=0.2, random_state=42)"
   ]
  },
  {
   "cell_type": "code",
   "execution_count": 67,
   "metadata": {},
   "outputs": [
    {
     "data": {
      "text/html": [
       "<style>#sk-container-id-3 {color: black;}#sk-container-id-3 pre{padding: 0;}#sk-container-id-3 div.sk-toggleable {background-color: white;}#sk-container-id-3 label.sk-toggleable__label {cursor: pointer;display: block;width: 100%;margin-bottom: 0;padding: 0.3em;box-sizing: border-box;text-align: center;}#sk-container-id-3 label.sk-toggleable__label-arrow:before {content: \"▸\";float: left;margin-right: 0.25em;color: #696969;}#sk-container-id-3 label.sk-toggleable__label-arrow:hover:before {color: black;}#sk-container-id-3 div.sk-estimator:hover label.sk-toggleable__label-arrow:before {color: black;}#sk-container-id-3 div.sk-toggleable__content {max-height: 0;max-width: 0;overflow: hidden;text-align: left;background-color: #f0f8ff;}#sk-container-id-3 div.sk-toggleable__content pre {margin: 0.2em;color: black;border-radius: 0.25em;background-color: #f0f8ff;}#sk-container-id-3 input.sk-toggleable__control:checked~div.sk-toggleable__content {max-height: 200px;max-width: 100%;overflow: auto;}#sk-container-id-3 input.sk-toggleable__control:checked~label.sk-toggleable__label-arrow:before {content: \"▾\";}#sk-container-id-3 div.sk-estimator input.sk-toggleable__control:checked~label.sk-toggleable__label {background-color: #d4ebff;}#sk-container-id-3 div.sk-label input.sk-toggleable__control:checked~label.sk-toggleable__label {background-color: #d4ebff;}#sk-container-id-3 input.sk-hidden--visually {border: 0;clip: rect(1px 1px 1px 1px);clip: rect(1px, 1px, 1px, 1px);height: 1px;margin: -1px;overflow: hidden;padding: 0;position: absolute;width: 1px;}#sk-container-id-3 div.sk-estimator {font-family: monospace;background-color: #f0f8ff;border: 1px dotted black;border-radius: 0.25em;box-sizing: border-box;margin-bottom: 0.5em;}#sk-container-id-3 div.sk-estimator:hover {background-color: #d4ebff;}#sk-container-id-3 div.sk-parallel-item::after {content: \"\";width: 100%;border-bottom: 1px solid gray;flex-grow: 1;}#sk-container-id-3 div.sk-label:hover label.sk-toggleable__label {background-color: #d4ebff;}#sk-container-id-3 div.sk-serial::before {content: \"\";position: absolute;border-left: 1px solid gray;box-sizing: border-box;top: 0;bottom: 0;left: 50%;z-index: 0;}#sk-container-id-3 div.sk-serial {display: flex;flex-direction: column;align-items: center;background-color: white;padding-right: 0.2em;padding-left: 0.2em;position: relative;}#sk-container-id-3 div.sk-item {position: relative;z-index: 1;}#sk-container-id-3 div.sk-parallel {display: flex;align-items: stretch;justify-content: center;background-color: white;position: relative;}#sk-container-id-3 div.sk-item::before, #sk-container-id-3 div.sk-parallel-item::before {content: \"\";position: absolute;border-left: 1px solid gray;box-sizing: border-box;top: 0;bottom: 0;left: 50%;z-index: -1;}#sk-container-id-3 div.sk-parallel-item {display: flex;flex-direction: column;z-index: 1;position: relative;background-color: white;}#sk-container-id-3 div.sk-parallel-item:first-child::after {align-self: flex-end;width: 50%;}#sk-container-id-3 div.sk-parallel-item:last-child::after {align-self: flex-start;width: 50%;}#sk-container-id-3 div.sk-parallel-item:only-child::after {width: 0;}#sk-container-id-3 div.sk-dashed-wrapped {border: 1px dashed gray;margin: 0 0.4em 0.5em 0.4em;box-sizing: border-box;padding-bottom: 0.4em;background-color: white;}#sk-container-id-3 div.sk-label label {font-family: monospace;font-weight: bold;display: inline-block;line-height: 1.2em;}#sk-container-id-3 div.sk-label-container {text-align: center;}#sk-container-id-3 div.sk-container {/* jupyter's `normalize.less` sets `[hidden] { display: none; }` but bootstrap.min.css set `[hidden] { display: none !important; }` so we also need the `!important` here to be able to override the default hidden behavior on the sphinx rendered scikit-learn.org. See: https://github.com/scikit-learn/scikit-learn/issues/21755 */display: inline-block !important;position: relative;}#sk-container-id-3 div.sk-text-repr-fallback {display: none;}</style><div id=\"sk-container-id-3\" class=\"sk-top-container\"><div class=\"sk-text-repr-fallback\"><pre>GridSearchCV(cv=5, estimator=RandomForestClassifier(random_state=42), n_jobs=-1,\n",
       "             param_grid={&#x27;bootstrap&#x27;: [True, False],\n",
       "                         &#x27;max_depth&#x27;: [10, 20, 30, None],\n",
       "                         &#x27;min_samples_leaf&#x27;: [1, 2, 4],\n",
       "                         &#x27;min_samples_split&#x27;: [2, 5, 10],\n",
       "                         &#x27;n_estimators&#x27;: [30, 60, 100, 200, 300]},\n",
       "             scoring=&#x27;accuracy&#x27;)</pre><b>In a Jupyter environment, please rerun this cell to show the HTML representation or trust the notebook. <br />On GitHub, the HTML representation is unable to render, please try loading this page with nbviewer.org.</b></div><div class=\"sk-container\" hidden><div class=\"sk-item sk-dashed-wrapped\"><div class=\"sk-label-container\"><div class=\"sk-label sk-toggleable\"><input class=\"sk-toggleable__control sk-hidden--visually\" id=\"sk-estimator-id-5\" type=\"checkbox\" ><label for=\"sk-estimator-id-5\" class=\"sk-toggleable__label sk-toggleable__label-arrow\">GridSearchCV</label><div class=\"sk-toggleable__content\"><pre>GridSearchCV(cv=5, estimator=RandomForestClassifier(random_state=42), n_jobs=-1,\n",
       "             param_grid={&#x27;bootstrap&#x27;: [True, False],\n",
       "                         &#x27;max_depth&#x27;: [10, 20, 30, None],\n",
       "                         &#x27;min_samples_leaf&#x27;: [1, 2, 4],\n",
       "                         &#x27;min_samples_split&#x27;: [2, 5, 10],\n",
       "                         &#x27;n_estimators&#x27;: [30, 60, 100, 200, 300]},\n",
       "             scoring=&#x27;accuracy&#x27;)</pre></div></div></div><div class=\"sk-parallel\"><div class=\"sk-parallel-item\"><div class=\"sk-item\"><div class=\"sk-label-container\"><div class=\"sk-label sk-toggleable\"><input class=\"sk-toggleable__control sk-hidden--visually\" id=\"sk-estimator-id-6\" type=\"checkbox\" ><label for=\"sk-estimator-id-6\" class=\"sk-toggleable__label sk-toggleable__label-arrow\">estimator: RandomForestClassifier</label><div class=\"sk-toggleable__content\"><pre>RandomForestClassifier(random_state=42)</pre></div></div></div><div class=\"sk-serial\"><div class=\"sk-item\"><div class=\"sk-estimator sk-toggleable\"><input class=\"sk-toggleable__control sk-hidden--visually\" id=\"sk-estimator-id-7\" type=\"checkbox\" ><label for=\"sk-estimator-id-7\" class=\"sk-toggleable__label sk-toggleable__label-arrow\">RandomForestClassifier</label><div class=\"sk-toggleable__content\"><pre>RandomForestClassifier(random_state=42)</pre></div></div></div></div></div></div></div></div></div></div>"
      ],
      "text/plain": [
       "GridSearchCV(cv=5, estimator=RandomForestClassifier(random_state=42), n_jobs=-1,\n",
       "             param_grid={'bootstrap': [True, False],\n",
       "                         'max_depth': [10, 20, 30, None],\n",
       "                         'min_samples_leaf': [1, 2, 4],\n",
       "                         'min_samples_split': [2, 5, 10],\n",
       "                         'n_estimators': [30, 60, 100, 200, 300]},\n",
       "             scoring='accuracy')"
      ]
     },
     "execution_count": 67,
     "metadata": {},
     "output_type": "execute_result"
    }
   ],
   "source": [
    "param_distributions = {\n",
    "    'n_estimators': [30,60, 100, 200, 300],\n",
    "    'max_depth': [10, 20, 30, None],\n",
    "    'min_samples_split': [2, 5, 10],\n",
    "    'min_samples_leaf': [1, 2, 4],\n",
    "    'bootstrap': [True, False]\n",
    "}\n",
    "\n",
    "grid_search = GridSearchCV(RandomForestClassifier(random_state=42), param_distributions, cv=5, scoring='accuracy', n_jobs=-1)\n",
    "grid_search.fit(X_train, y_train) "
   ]
  },
  {
   "cell_type": "code",
   "execution_count": 68,
   "metadata": {},
   "outputs": [
    {
     "data": {
      "text/plain": [
       "{'bootstrap': True,\n",
       " 'max_depth': None,\n",
       " 'min_samples_leaf': 2,\n",
       " 'min_samples_split': 5,\n",
       " 'n_estimators': 60}"
      ]
     },
     "execution_count": 68,
     "metadata": {},
     "output_type": "execute_result"
    }
   ],
   "source": [
    "grid_search.best_params_"
   ]
  },
  {
   "cell_type": "code",
   "execution_count": 69,
   "metadata": {},
   "outputs": [],
   "source": [
    "y  = df['namespace']\n",
    "X_train, X_test, y_train, y_test = train_test_split(X1_normalized,y, test_size=0.2, random_state=42)\n",
    "best_rf = RandomForestClassifier(bootstrap=True, max_depth=None, min_samples_leaf=2,\n",
    "                       min_samples_split=5, n_estimators=60, random_state=42)\n",
    "best_rf.fit(X_train, y_train)\n",
    "y_pred = best_rf.predict(X_test)"
   ]
  },
  {
   "cell_type": "code",
   "execution_count": 70,
   "metadata": {},
   "outputs": [
    {
     "data": {
      "text/plain": [
       "0.968131737945741"
      ]
     },
     "execution_count": 70,
     "metadata": {},
     "output_type": "execute_result"
    }
   ],
   "source": [
    "accuracy_score(y_test, y_pred)"
   ]
  },
  {
   "cell_type": "markdown",
   "metadata": {},
   "source": [
    "#### 2. ignoring words not appearing in 5% defs\n"
   ]
  },
  {
   "cell_type": "code",
   "execution_count": 71,
   "metadata": {},
   "outputs": [],
   "source": [
    "X_train, X_test, y_train, y_test = train_test_split(X5_normalized_downsampled, X5_downsampled_y, test_size=0.2, random_state=42)"
   ]
  },
  {
   "cell_type": "code",
   "execution_count": 72,
   "metadata": {},
   "outputs": [
    {
     "data": {
      "text/html": [
       "<style>#sk-container-id-4 {color: black;}#sk-container-id-4 pre{padding: 0;}#sk-container-id-4 div.sk-toggleable {background-color: white;}#sk-container-id-4 label.sk-toggleable__label {cursor: pointer;display: block;width: 100%;margin-bottom: 0;padding: 0.3em;box-sizing: border-box;text-align: center;}#sk-container-id-4 label.sk-toggleable__label-arrow:before {content: \"▸\";float: left;margin-right: 0.25em;color: #696969;}#sk-container-id-4 label.sk-toggleable__label-arrow:hover:before {color: black;}#sk-container-id-4 div.sk-estimator:hover label.sk-toggleable__label-arrow:before {color: black;}#sk-container-id-4 div.sk-toggleable__content {max-height: 0;max-width: 0;overflow: hidden;text-align: left;background-color: #f0f8ff;}#sk-container-id-4 div.sk-toggleable__content pre {margin: 0.2em;color: black;border-radius: 0.25em;background-color: #f0f8ff;}#sk-container-id-4 input.sk-toggleable__control:checked~div.sk-toggleable__content {max-height: 200px;max-width: 100%;overflow: auto;}#sk-container-id-4 input.sk-toggleable__control:checked~label.sk-toggleable__label-arrow:before {content: \"▾\";}#sk-container-id-4 div.sk-estimator input.sk-toggleable__control:checked~label.sk-toggleable__label {background-color: #d4ebff;}#sk-container-id-4 div.sk-label input.sk-toggleable__control:checked~label.sk-toggleable__label {background-color: #d4ebff;}#sk-container-id-4 input.sk-hidden--visually {border: 0;clip: rect(1px 1px 1px 1px);clip: rect(1px, 1px, 1px, 1px);height: 1px;margin: -1px;overflow: hidden;padding: 0;position: absolute;width: 1px;}#sk-container-id-4 div.sk-estimator {font-family: monospace;background-color: #f0f8ff;border: 1px dotted black;border-radius: 0.25em;box-sizing: border-box;margin-bottom: 0.5em;}#sk-container-id-4 div.sk-estimator:hover {background-color: #d4ebff;}#sk-container-id-4 div.sk-parallel-item::after {content: \"\";width: 100%;border-bottom: 1px solid gray;flex-grow: 1;}#sk-container-id-4 div.sk-label:hover label.sk-toggleable__label {background-color: #d4ebff;}#sk-container-id-4 div.sk-serial::before {content: \"\";position: absolute;border-left: 1px solid gray;box-sizing: border-box;top: 0;bottom: 0;left: 50%;z-index: 0;}#sk-container-id-4 div.sk-serial {display: flex;flex-direction: column;align-items: center;background-color: white;padding-right: 0.2em;padding-left: 0.2em;position: relative;}#sk-container-id-4 div.sk-item {position: relative;z-index: 1;}#sk-container-id-4 div.sk-parallel {display: flex;align-items: stretch;justify-content: center;background-color: white;position: relative;}#sk-container-id-4 div.sk-item::before, #sk-container-id-4 div.sk-parallel-item::before {content: \"\";position: absolute;border-left: 1px solid gray;box-sizing: border-box;top: 0;bottom: 0;left: 50%;z-index: -1;}#sk-container-id-4 div.sk-parallel-item {display: flex;flex-direction: column;z-index: 1;position: relative;background-color: white;}#sk-container-id-4 div.sk-parallel-item:first-child::after {align-self: flex-end;width: 50%;}#sk-container-id-4 div.sk-parallel-item:last-child::after {align-self: flex-start;width: 50%;}#sk-container-id-4 div.sk-parallel-item:only-child::after {width: 0;}#sk-container-id-4 div.sk-dashed-wrapped {border: 1px dashed gray;margin: 0 0.4em 0.5em 0.4em;box-sizing: border-box;padding-bottom: 0.4em;background-color: white;}#sk-container-id-4 div.sk-label label {font-family: monospace;font-weight: bold;display: inline-block;line-height: 1.2em;}#sk-container-id-4 div.sk-label-container {text-align: center;}#sk-container-id-4 div.sk-container {/* jupyter's `normalize.less` sets `[hidden] { display: none; }` but bootstrap.min.css set `[hidden] { display: none !important; }` so we also need the `!important` here to be able to override the default hidden behavior on the sphinx rendered scikit-learn.org. See: https://github.com/scikit-learn/scikit-learn/issues/21755 */display: inline-block !important;position: relative;}#sk-container-id-4 div.sk-text-repr-fallback {display: none;}</style><div id=\"sk-container-id-4\" class=\"sk-top-container\"><div class=\"sk-text-repr-fallback\"><pre>GridSearchCV(cv=5, estimator=RandomForestClassifier(random_state=42), n_jobs=-1,\n",
       "             param_grid={&#x27;bootstrap&#x27;: [True, False],\n",
       "                         &#x27;max_depth&#x27;: [10, 20, 30, None],\n",
       "                         &#x27;min_samples_leaf&#x27;: [1, 2, 4],\n",
       "                         &#x27;min_samples_split&#x27;: [2, 5, 10],\n",
       "                         &#x27;n_estimators&#x27;: [30, 60, 100, 200, 300]},\n",
       "             scoring=&#x27;accuracy&#x27;)</pre><b>In a Jupyter environment, please rerun this cell to show the HTML representation or trust the notebook. <br />On GitHub, the HTML representation is unable to render, please try loading this page with nbviewer.org.</b></div><div class=\"sk-container\" hidden><div class=\"sk-item sk-dashed-wrapped\"><div class=\"sk-label-container\"><div class=\"sk-label sk-toggleable\"><input class=\"sk-toggleable__control sk-hidden--visually\" id=\"sk-estimator-id-8\" type=\"checkbox\" ><label for=\"sk-estimator-id-8\" class=\"sk-toggleable__label sk-toggleable__label-arrow\">GridSearchCV</label><div class=\"sk-toggleable__content\"><pre>GridSearchCV(cv=5, estimator=RandomForestClassifier(random_state=42), n_jobs=-1,\n",
       "             param_grid={&#x27;bootstrap&#x27;: [True, False],\n",
       "                         &#x27;max_depth&#x27;: [10, 20, 30, None],\n",
       "                         &#x27;min_samples_leaf&#x27;: [1, 2, 4],\n",
       "                         &#x27;min_samples_split&#x27;: [2, 5, 10],\n",
       "                         &#x27;n_estimators&#x27;: [30, 60, 100, 200, 300]},\n",
       "             scoring=&#x27;accuracy&#x27;)</pre></div></div></div><div class=\"sk-parallel\"><div class=\"sk-parallel-item\"><div class=\"sk-item\"><div class=\"sk-label-container\"><div class=\"sk-label sk-toggleable\"><input class=\"sk-toggleable__control sk-hidden--visually\" id=\"sk-estimator-id-9\" type=\"checkbox\" ><label for=\"sk-estimator-id-9\" class=\"sk-toggleable__label sk-toggleable__label-arrow\">estimator: RandomForestClassifier</label><div class=\"sk-toggleable__content\"><pre>RandomForestClassifier(random_state=42)</pre></div></div></div><div class=\"sk-serial\"><div class=\"sk-item\"><div class=\"sk-estimator sk-toggleable\"><input class=\"sk-toggleable__control sk-hidden--visually\" id=\"sk-estimator-id-10\" type=\"checkbox\" ><label for=\"sk-estimator-id-10\" class=\"sk-toggleable__label sk-toggleable__label-arrow\">RandomForestClassifier</label><div class=\"sk-toggleable__content\"><pre>RandomForestClassifier(random_state=42)</pre></div></div></div></div></div></div></div></div></div></div>"
      ],
      "text/plain": [
       "GridSearchCV(cv=5, estimator=RandomForestClassifier(random_state=42), n_jobs=-1,\n",
       "             param_grid={'bootstrap': [True, False],\n",
       "                         'max_depth': [10, 20, 30, None],\n",
       "                         'min_samples_leaf': [1, 2, 4],\n",
       "                         'min_samples_split': [2, 5, 10],\n",
       "                         'n_estimators': [30, 60, 100, 200, 300]},\n",
       "             scoring='accuracy')"
      ]
     },
     "execution_count": 72,
     "metadata": {},
     "output_type": "execute_result"
    }
   ],
   "source": [
    "param_distributions = {\n",
    "    'n_estimators': [30,60, 100, 200, 300],\n",
    "    'max_depth': [10, 20, 30, None],\n",
    "    'min_samples_split': [2, 5, 10],\n",
    "    'min_samples_leaf': [1, 2, 4],\n",
    "    'bootstrap': [True, False]\n",
    "}\n",
    "\n",
    "grid_search = GridSearchCV(RandomForestClassifier(random_state=42), param_distributions, cv=5, scoring='accuracy', n_jobs=-1)\n",
    "grid_search.fit(X_train, y_train)"
   ]
  },
  {
   "cell_type": "code",
   "execution_count": 99,
   "metadata": {},
   "outputs": [
    {
     "data": {
      "text/plain": [
       "{'bootstrap': False,\n",
       " 'max_depth': None,\n",
       " 'min_samples_leaf': 4,\n",
       " 'min_samples_split': 10,\n",
       " 'n_estimators': 30}"
      ]
     },
     "execution_count": 99,
     "metadata": {},
     "output_type": "execute_result"
    }
   ],
   "source": [
    "grid_search.best_params_"
   ]
  },
  {
   "cell_type": "markdown",
   "metadata": {},
   "source": [
    "Training on full dataset"
   ]
  },
  {
   "cell_type": "code",
   "execution_count": 123,
   "metadata": {},
   "outputs": [],
   "source": [
    "y  = df['namespace']\n",
    "X_train, X_test, y_train, y_test = train_test_split(X5_normalized,y, test_size=0.2, random_state=42)\n",
    "best_rf = RandomForestClassifier(bootstrap=False, max_depth=None, min_samples_leaf=4,\n",
    "                       min_samples_split=10, n_estimators=30, random_state=42)\n",
    "best_rf.fit(X_train, y_train)\n",
    "y_pred = best_rf.predict(X_test)"
   ]
  },
  {
   "cell_type": "code",
   "execution_count": 124,
   "metadata": {},
   "outputs": [
    {
     "data": {
      "text/plain": [
       "0.9246534770761758"
      ]
     },
     "execution_count": 124,
     "metadata": {},
     "output_type": "execute_result"
    }
   ],
   "source": [
    "accuracy_score(y_test, y_pred)"
   ]
  }
 ],
 "metadata": {
  "kernelspec": {
   "display_name": "Python 3",
   "language": "python",
   "name": "python3"
  },
  "language_info": {
   "codemirror_mode": {
    "name": "ipython",
    "version": 3
   },
   "file_extension": ".py",
   "mimetype": "text/x-python",
   "name": "python",
   "nbconvert_exporter": "python",
   "pygments_lexer": "ipython3",
   "version": "3.11.1"
  },
  "orig_nbformat": 4
 },
 "nbformat": 4,
 "nbformat_minor": 2
}
